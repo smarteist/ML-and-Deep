{
 "cells": [
  {
   "cell_type": "code",
   "execution_count": 1,
   "id": "69780de6-7a11-4bd7-af56-d0a5cedf1616",
   "metadata": {},
   "outputs": [
    {
     "name": "stderr",
     "output_type": "stream",
     "text": [
      "2024-01-14 20:03:14.305757: I external/local_tsl/tsl/cuda/cudart_stub.cc:31] Could not find cuda drivers on your machine, GPU will not be used.\n",
      "2024-01-14 20:03:14.343324: E external/local_xla/xla/stream_executor/cuda/cuda_dnn.cc:9261] Unable to register cuDNN factory: Attempting to register factory for plugin cuDNN when one has already been registered\n",
      "2024-01-14 20:03:14.343362: E external/local_xla/xla/stream_executor/cuda/cuda_fft.cc:607] Unable to register cuFFT factory: Attempting to register factory for plugin cuFFT when one has already been registered\n",
      "2024-01-14 20:03:14.344534: E external/local_xla/xla/stream_executor/cuda/cuda_blas.cc:1515] Unable to register cuBLAS factory: Attempting to register factory for plugin cuBLAS when one has already been registered\n",
      "2024-01-14 20:03:14.350718: I external/local_tsl/tsl/cuda/cudart_stub.cc:31] Could not find cuda drivers on your machine, GPU will not be used.\n",
      "2024-01-14 20:03:14.351350: I tensorflow/core/platform/cpu_feature_guard.cc:182] This TensorFlow binary is optimized to use available CPU instructions in performance-critical operations.\n",
      "To enable the following instructions: AVX2 FMA, in other operations, rebuild TensorFlow with the appropriate compiler flags.\n",
      "2024-01-14 20:03:15.205014: W tensorflow/compiler/tf2tensorrt/utils/py_utils.cc:38] TF-TRT Warning: Could not find TensorRT\n"
     ]
    }
   ],
   "source": [
    "import os, re, random\n",
    "import pandas as np\n",
    "from nltk.corpus import stopwords\n",
    "from tensorflow.keras.preprocessing.text import Tokenizer\n",
    "from tensorflow.keras.preprocessing.sequence import pad_sequences\n",
    "from tensorflow.keras.utils import plot_model\n",
    "from tensorflow.keras.models import Sequential, Model\n",
    "from tensorflow.keras.layers import Input, Dense, Flatten, Embedding, Conv1D, MaxPool1D, Dropout, concatenate\n"
   ]
  },
  {
   "cell_type": "code",
   "execution_count": 2,
   "id": "007b2d03-ef14-4856-aa04-cd4b497bb74d",
   "metadata": {},
   "outputs": [],
   "source": [
    "neg_docs = [\n",
    "    re.sub(r\"[^a-zA-Z\\s]\",\"\",open(f\"./txt_sentoken/neg/{file}\").read())\n",
    "    for file in os.listdir('./txt_sentoken/neg/')\n",
    "]\n",
    "pos_docs = [\n",
    "    re.sub(r\"[^a-zA-Z\\s]\",\"\",open(f\"./txt_sentoken/pos/{file}\").read())\n",
    "    for file in os.listdir('./txt_sentoken/pos/')\n",
    "]"
   ]
  },
  {
   "cell_type": "code",
   "execution_count": 3,
   "id": "68474f8c-94d1-44e3-815f-7dc076ff92ef",
   "metadata": {},
   "outputs": [],
   "source": [
    "stop_words = [\n",
    "    re.sub(r\"[^a-zA-Z\\s]\",\"\",word) \n",
    "    for word in stopwords.words('english')\n",
    "]"
   ]
  },
  {
   "cell_type": "code",
   "execution_count": 4,
   "id": "f83d7514-a7b3-4fff-a6b0-f18325a94641",
   "metadata": {},
   "outputs": [],
   "source": [
    "neg_words = [\n",
    "    list(filter(\n",
    "        lambda x: (x not in stop_words and len(x) > 1),\n",
    "        re.findall(r'\\S+', doc)\n",
    "    ))\n",
    "    for doc in neg_docs\n",
    "]\n",
    "pos_words = [\n",
    "    list(filter(\n",
    "        lambda x: (x not in stop_words and len(x) > 1),\n",
    "        re.findall(r'\\S+', doc)\n",
    "    ))\n",
    "    for doc in pos_docs\n",
    "]"
   ]
  },
  {
   "cell_type": "code",
   "execution_count": 5,
   "id": "f6ee3657-c094-4e88-9b05-a477b70e1277",
   "metadata": {},
   "outputs": [
    {
     "data": {
      "text/plain": [
       "1000"
      ]
     },
     "execution_count": 5,
     "metadata": {},
     "output_type": "execute_result"
    }
   ],
   "source": [
    "#random.shuffle(neg_words)\n",
    "#random.shuffle(pos_words)\n",
    "len(neg_words)"
   ]
  },
  {
   "cell_type": "code",
   "execution_count": 6,
   "id": "859fbc0d-ddaf-4dcd-89dc-b0306e41c51b",
   "metadata": {},
   "outputs": [],
   "source": [
    "split_point = 800\n",
    "neg_len = len(neg_words)\n",
    "pos_len = len(pos_words)\n",
    "train_x = pos_words[:split_point] + neg_words[:split_point]\n",
    "train_y = [1 for _ in range(split_point)] + [0 for _ in range(split_point)]\n",
    "test_x = pos_words[split_point:] + neg_words[split_point:]\n",
    "test_y = [1 for _ in range(pos_len-split_point)] + [0 for _ in range(neg_len-split_point)]"
   ]
  },
  {
   "cell_type": "code",
   "execution_count": 7,
   "id": "68e75254-203e-421c-a563-b9a9aaf1d68d",
   "metadata": {},
   "outputs": [],
   "source": [
    "tokenizer_train = Tokenizer()\n",
    "tokenizer_train.fit_on_texts(train_x)\n",
    "encoded_train = tokenizer_train.texts_to_sequences(train_x)\n",
    "tokenizer_test = Tokenizer()\n",
    "tokenizer_test.fit_on_texts(test_x)\n",
    "encoded_test = tokenizer_test.texts_to_sequences(test_x)"
   ]
  },
  {
   "cell_type": "code",
   "execution_count": 8,
   "id": "fe27fd78-c9e5-4bc0-be21-4866812888e4",
   "metadata": {},
   "outputs": [],
   "source": [
    "import pickle\n",
    "with open('tokenizer_train.h5', 'wb') as f:\n",
    "    pickle.dump(tokenizer_train, f)\n",
    "with open('tokenizer_test.h5', 'wb') as f:\n",
    "    pickle.dump(tokenizer_test, f)"
   ]
  },
  {
   "cell_type": "code",
   "execution_count": 9,
   "id": "395cd366-3d94-435b-99c3-8734ce54b1d8",
   "metadata": {},
   "outputs": [],
   "source": [
    "dataset_maxlen = 0\n",
    "for sen in pos_words + neg_words:\n",
    "    if len(sen) > dataset_maxlen:\n",
    "        dataset_maxlen = len(sen)\n",
    "padded_train = pad_sequences(encoded_train, maxlen=dataset_maxlen, padding='post')\n",
    "padded_test = pad_sequences(encoded_test, maxlen=dataset_maxlen, padding='post')"
   ]
  },
  {
   "cell_type": "code",
   "execution_count": 10,
   "id": "a829108c-48a5-4fc1-8e50-96e76a5c860d",
   "metadata": {},
   "outputs": [
    {
     "data": {
      "text/plain": [
       "42053"
      ]
     },
     "execution_count": 10,
     "metadata": {},
     "output_type": "execute_result"
    }
   ],
   "source": [
    "vocab_len = len(tokenizer_train.word_index)+1\n",
    "vocab_len"
   ]
  },
  {
   "cell_type": "code",
   "execution_count": 11,
   "id": "c094adb2-e186-441c-bb6a-54cfbc881fef",
   "metadata": {},
   "outputs": [
    {
     "name": "stderr",
     "output_type": "stream",
     "text": [
      "2024-01-14 20:03:20.736024: I external/local_xla/xla/stream_executor/cuda/cuda_executor.cc:901] successful NUMA node read from SysFS had negative value (-1), but there must be at least one NUMA node, so returning NUMA node zero. See more at https://github.com/torvalds/linux/blob/v6.0/Documentation/ABI/testing/sysfs-bus-pci#L344-L355\n",
      "2024-01-14 20:03:20.738258: W tensorflow/core/common_runtime/gpu/gpu_device.cc:2256] Cannot dlopen some GPU libraries. Please make sure the missing libraries mentioned above are installed properly if you would like to use GPU. Follow the guide at https://www.tensorflow.org/install/gpu for how to download and setup the required libraries for your platform.\n",
      "Skipping registering GPU devices...\n"
     ]
    }
   ],
   "source": [
    "\n",
    "def create_layers(input_layer, kernel_size):\n",
    "   embedding_layer = Embedding(vocab_len, 100)(input_layer)\n",
    "   conv_layer = Conv1D(filters=32, kernel_size=kernel_size, activation='relu')(embedding_layer)\n",
    "   drop_layer = Dropout(0.5)(conv_layer)\n",
    "   pool_layer = MaxPool1D(pool_size=2)(drop_layer)\n",
    "   flat_layer = Flatten()(pool_layer)\n",
    "   return flat_layer\n",
    "\n",
    "# Create inputs and flattened layers using list comprehension\n",
    "input1 = Input(shape=(dataset_maxlen,))\n",
    "flat1 = create_layers(input1, 4)\n",
    "\n",
    "input2 = Input(shape=(dataset_maxlen,))\n",
    "flat2 = create_layers(input2, 6)\n",
    "\n",
    "input3 = Input(shape=(dataset_maxlen,))\n",
    "flat3 = create_layers(input3, 8)\n",
    "\n",
    "input4 = Input(shape=(dataset_maxlen,))\n",
    "flat4 = create_layers(input4, 10)\n",
    "\n",
    "conc = concatenate([flat1, flat2, flat3, flat4])\n",
    "\n",
    "# Create dense layers\n",
    "dense1 = Dense(10, activation='relu')(conc)\n",
    "output = Dense(1, activation='sigmoid')(dense1)\n",
    "\n",
    "# Create model\n",
    "model = Model(inputs=[input1, input2, input3, input4], outputs=[output])"
   ]
  },
  {
   "cell_type": "code",
   "execution_count": 12,
   "id": "405cf7a8-f4b4-4813-bec7-050120a176df",
   "metadata": {},
   "outputs": [],
   "source": [
    "model.compile(loss='binary_crossentropy', optimizer='adam', metrics=['accuracy'])"
   ]
  },
  {
   "cell_type": "code",
   "execution_count": 13,
   "id": "9e713473-b839-4557-919c-01b092c24c50",
   "metadata": {},
   "outputs": [
    {
     "name": "stdout",
     "output_type": "stream",
     "text": [
      "You must install pydot (`pip install pydot`) and install graphviz (see instructions at https://graphviz.gitlab.io/download/) for plot_model to work.\n"
     ]
    }
   ],
   "source": [
    "plot_model(model, show_shapes=True)"
   ]
  },
  {
   "cell_type": "code",
   "execution_count": 14,
   "id": "1ffa1ff5-ae29-4e9e-8b49-c413ad79f0ab",
   "metadata": {},
   "outputs": [
    {
     "data": {
      "text/plain": [
       "(1600, 1374)"
      ]
     },
     "execution_count": 14,
     "metadata": {},
     "output_type": "execute_result"
    }
   ],
   "source": [
    "padded_train.shape"
   ]
  },
  {
   "cell_type": "code",
   "execution_count": 15,
   "id": "99ee6c60-6b55-417f-acfe-ae6ae4462694",
   "metadata": {},
   "outputs": [
    {
     "data": {
      "text/plain": [
       "1600"
      ]
     },
     "execution_count": 15,
     "metadata": {},
     "output_type": "execute_result"
    }
   ],
   "source": [
    "len(padded_train)"
   ]
  },
  {
   "cell_type": "code",
   "execution_count": 16,
   "id": "1ffacd4e-23cd-424e-81bd-c42019536a65",
   "metadata": {},
   "outputs": [],
   "source": [
    "import tensorflow as tf"
   ]
  },
  {
   "cell_type": "code",
   "execution_count": 17,
   "id": "6088c45b-cb45-4cda-a6b0-7d495970a51f",
   "metadata": {},
   "outputs": [
    {
     "name": "stdout",
     "output_type": "stream",
     "text": [
      "Epoch 1/4\n",
      "80/80 [==============================] - 31s 371ms/step - loss: 0.6933 - accuracy: 0.5306 - val_loss: 0.6807 - val_accuracy: 0.5750\n",
      "Epoch 2/4\n",
      "80/80 [==============================] - 27s 338ms/step - loss: 0.5839 - accuracy: 0.6850 - val_loss: 0.6979 - val_accuracy: 0.5125\n",
      "Epoch 3/4\n",
      "80/80 [==============================] - 28s 344ms/step - loss: 0.1032 - accuracy: 0.9744 - val_loss: 0.8211 - val_accuracy: 0.5400\n",
      "Epoch 4/4\n",
      "80/80 [==============================] - 29s 357ms/step - loss: 0.0043 - accuracy: 1.0000 - val_loss: 0.8331 - val_accuracy: 0.5325\n"
     ]
    },
    {
     "data": {
      "text/plain": [
       "<keras.src.callbacks.History at 0x7fbed9b36590>"
      ]
     },
     "execution_count": 17,
     "metadata": {},
     "output_type": "execute_result"
    }
   ],
   "source": [
    "model.fit(\n",
    "    [\n",
    "        tf.convert_to_tensor(padded_train),\n",
    "        tf.convert_to_tensor(padded_train),\n",
    "        tf.convert_to_tensor(padded_train),\n",
    "        tf.convert_to_tensor(padded_train)\n",
    "    ], \n",
    "    tf.convert_to_tensor(train_y), \n",
    "    epochs=4, \n",
    "    batch_size=20, \n",
    "    validation_data=(\n",
    "        [\n",
    "            tf.convert_to_tensor(padded_test),\n",
    "            tf.convert_to_tensor(padded_test),\n",
    "            tf.convert_to_tensor(padded_test),\n",
    "            tf.convert_to_tensor(padded_test)\n",
    "        ],\n",
    "        tf.convert_to_tensor(test_y)\n",
    "    )\n",
    ")"
   ]
  },
  {
   "cell_type": "code",
   "execution_count": 18,
   "id": "bbc14fbc-e347-4139-8838-13d121a062ad",
   "metadata": {},
   "outputs": [
    {
     "name": "stderr",
     "output_type": "stream",
     "text": [
      "/home/ali/.local/lib/python3.11/site-packages/keras/src/engine/training.py:3103: UserWarning: You are saving your model as an HDF5 file via `model.save()`. This file format is considered legacy. We recommend using instead the native Keras format, e.g. `model.save('my_model.keras')`.\n",
      "  saving_api.save_model(\n"
     ]
    }
   ],
   "source": [
    "model.save('textcnn.h5')"
   ]
  },
  {
   "cell_type": "code",
   "execution_count": 19,
   "id": "e6f8b5dc-6ce4-4007-b16c-098750e29985",
   "metadata": {},
   "outputs": [],
   "source": [
    "from tensorflow.keras.models import load_model"
   ]
  },
  {
   "cell_type": "code",
   "execution_count": 20,
   "id": "91ba84d1-9d3e-4587-a60d-eca70615138c",
   "metadata": {},
   "outputs": [],
   "source": [
    "model = load_model('textcnn.h5')"
   ]
  },
  {
   "cell_type": "code",
   "execution_count": null,
   "id": "cd6ad171-ec9f-41c5-b3df-e3669d3db5a9",
   "metadata": {},
   "outputs": [],
   "source": []
  }
 ],
 "metadata": {
  "kernelspec": {
   "display_name": "Python 3 (ipykernel)",
   "language": "python",
   "name": "python3"
  },
  "language_info": {
   "codemirror_mode": {
    "name": "ipython",
    "version": 3
   },
   "file_extension": ".py",
   "mimetype": "text/x-python",
   "name": "python",
   "nbconvert_exporter": "python",
   "pygments_lexer": "ipython3",
   "version": "3.12.4"
  }
 },
 "nbformat": 4,
 "nbformat_minor": 5
}
