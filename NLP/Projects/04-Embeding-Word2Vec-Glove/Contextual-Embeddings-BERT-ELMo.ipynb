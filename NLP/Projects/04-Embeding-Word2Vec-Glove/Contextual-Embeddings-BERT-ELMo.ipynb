{
 "cells": [
  {
   "cell_type": "code",
   "execution_count": 24,
   "metadata": {
    "_cell_guid": "b1076dfc-b9ad-4769-8c92-a6c4dae69d19",
    "_uuid": "8f2839f25d086af736a60e9eeb907d3b93b6e0e5",
    "execution": {
     "iopub.execute_input": "2024-12-06T15:35:42.953188Z",
     "iopub.status.busy": "2024-12-06T15:35:42.952587Z",
     "iopub.status.idle": "2024-12-06T15:36:33.165658Z",
     "shell.execute_reply": "2024-12-06T15:36:33.164425Z",
     "shell.execute_reply.started": "2024-12-06T15:35:42.953154Z"
    }
   },
   "outputs": [
    {
     "name": "stderr",
     "output_type": "stream",
     "text": [
      "/opt/conda/lib/python3.10/pty.py:89: RuntimeWarning: os.fork() was called. os.fork() is incompatible with multithreaded code, and JAX is multithreaded, so this will likely lead to a deadlock.\n",
      "  pid, fd = os.forkpty()\n"
     ]
    },
    {
     "name": "stdout",
     "output_type": "stream",
     "text": [
      "Requirement already satisfied: tensorflow in /opt/conda/lib/python3.10/site-packages (2.16.1)\n",
      "Requirement already satisfied: tensorflow_hub in /opt/conda/lib/python3.10/site-packages (0.16.1)\n",
      "Requirement already satisfied: absl-py>=1.0.0 in /opt/conda/lib/python3.10/site-packages (from tensorflow) (1.4.0)\n",
      "Requirement already satisfied: astunparse>=1.6.0 in /opt/conda/lib/python3.10/site-packages (from tensorflow) (1.6.3)\n",
      "Requirement already satisfied: flatbuffers>=23.5.26 in /opt/conda/lib/python3.10/site-packages (from tensorflow) (24.3.25)\n",
      "Requirement already satisfied: gast!=0.5.0,!=0.5.1,!=0.5.2,>=0.2.1 in /opt/conda/lib/python3.10/site-packages (from tensorflow) (0.5.4)\n",
      "Requirement already satisfied: google-pasta>=0.1.1 in /opt/conda/lib/python3.10/site-packages (from tensorflow) (0.2.0)\n",
      "Requirement already satisfied: h5py>=3.10.0 in /opt/conda/lib/python3.10/site-packages (from tensorflow) (3.11.0)\n",
      "Requirement already satisfied: libclang>=13.0.0 in /opt/conda/lib/python3.10/site-packages (from tensorflow) (18.1.1)\n",
      "Requirement already satisfied: ml-dtypes~=0.3.1 in /opt/conda/lib/python3.10/site-packages (from tensorflow) (0.3.2)\n",
      "Requirement already satisfied: opt-einsum>=2.3.2 in /opt/conda/lib/python3.10/site-packages (from tensorflow) (3.3.0)\n",
      "Requirement already satisfied: packaging in /opt/conda/lib/python3.10/site-packages (from tensorflow) (21.3)\n",
      "Requirement already satisfied: protobuf!=4.21.0,!=4.21.1,!=4.21.2,!=4.21.3,!=4.21.4,!=4.21.5,<5.0.0dev,>=3.20.3 in /opt/conda/lib/python3.10/site-packages (from tensorflow) (3.20.3)\n",
      "Requirement already satisfied: requests<3,>=2.21.0 in /opt/conda/lib/python3.10/site-packages (from tensorflow) (2.32.3)\n",
      "Requirement already satisfied: setuptools in /opt/conda/lib/python3.10/site-packages (from tensorflow) (70.0.0)\n",
      "Requirement already satisfied: six>=1.12.0 in /opt/conda/lib/python3.10/site-packages (from tensorflow) (1.16.0)\n",
      "Requirement already satisfied: termcolor>=1.1.0 in /opt/conda/lib/python3.10/site-packages (from tensorflow) (2.4.0)\n",
      "Requirement already satisfied: typing-extensions>=3.6.6 in /opt/conda/lib/python3.10/site-packages (from tensorflow) (4.12.2)\n",
      "Requirement already satisfied: wrapt>=1.11.0 in /opt/conda/lib/python3.10/site-packages (from tensorflow) (1.16.0)\n",
      "Requirement already satisfied: grpcio<2.0,>=1.24.3 in /opt/conda/lib/python3.10/site-packages (from tensorflow) (1.62.2)\n",
      "Requirement already satisfied: tensorboard<2.17,>=2.16 in /opt/conda/lib/python3.10/site-packages (from tensorflow) (2.16.2)\n",
      "Requirement already satisfied: keras>=3.0.0 in /opt/conda/lib/python3.10/site-packages (from tensorflow) (3.3.3)\n",
      "Requirement already satisfied: tensorflow-io-gcs-filesystem>=0.23.1 in /opt/conda/lib/python3.10/site-packages (from tensorflow) (0.37.0)\n",
      "Requirement already satisfied: numpy<2.0.0,>=1.23.5 in /opt/conda/lib/python3.10/site-packages (from tensorflow) (1.26.4)\n",
      "Requirement already satisfied: tf-keras>=2.14.1 in /opt/conda/lib/python3.10/site-packages (from tensorflow_hub) (2.16.0)\n",
      "Requirement already satisfied: wheel<1.0,>=0.23.0 in /opt/conda/lib/python3.10/site-packages (from astunparse>=1.6.0->tensorflow) (0.43.0)\n",
      "Requirement already satisfied: rich in /opt/conda/lib/python3.10/site-packages (from keras>=3.0.0->tensorflow) (13.7.1)\n",
      "Requirement already satisfied: namex in /opt/conda/lib/python3.10/site-packages (from keras>=3.0.0->tensorflow) (0.0.8)\n",
      "Requirement already satisfied: optree in /opt/conda/lib/python3.10/site-packages (from keras>=3.0.0->tensorflow) (0.11.0)\n",
      "Requirement already satisfied: charset-normalizer<4,>=2 in /opt/conda/lib/python3.10/site-packages (from requests<3,>=2.21.0->tensorflow) (3.3.2)\n",
      "Requirement already satisfied: idna<4,>=2.5 in /opt/conda/lib/python3.10/site-packages (from requests<3,>=2.21.0->tensorflow) (3.7)\n",
      "Requirement already satisfied: urllib3<3,>=1.21.1 in /opt/conda/lib/python3.10/site-packages (from requests<3,>=2.21.0->tensorflow) (1.26.18)\n",
      "Requirement already satisfied: certifi>=2017.4.17 in /opt/conda/lib/python3.10/site-packages (from requests<3,>=2.21.0->tensorflow) (2024.6.2)\n",
      "Requirement already satisfied: markdown>=2.6.8 in /opt/conda/lib/python3.10/site-packages (from tensorboard<2.17,>=2.16->tensorflow) (3.6)\n",
      "Requirement already satisfied: tensorboard-data-server<0.8.0,>=0.7.0 in /opt/conda/lib/python3.10/site-packages (from tensorboard<2.17,>=2.16->tensorflow) (0.7.2)\n",
      "Requirement already satisfied: werkzeug>=1.0.1 in /opt/conda/lib/python3.10/site-packages (from tensorboard<2.17,>=2.16->tensorflow) (3.1.3)\n",
      "Requirement already satisfied: pyparsing!=3.0.5,>=2.0.2 in /opt/conda/lib/python3.10/site-packages (from packaging->tensorflow) (3.1.2)\n",
      "Requirement already satisfied: MarkupSafe>=2.1.1 in /opt/conda/lib/python3.10/site-packages (from werkzeug>=1.0.1->tensorboard<2.17,>=2.16->tensorflow) (2.1.5)\n",
      "Requirement already satisfied: markdown-it-py>=2.2.0 in /opt/conda/lib/python3.10/site-packages (from rich->keras>=3.0.0->tensorflow) (3.0.0)\n",
      "Requirement already satisfied: pygments<3.0.0,>=2.13.0 in /opt/conda/lib/python3.10/site-packages (from rich->keras>=3.0.0->tensorflow) (2.18.0)\n",
      "Requirement already satisfied: mdurl~=0.1 in /opt/conda/lib/python3.10/site-packages (from markdown-it-py>=2.2.0->rich->keras>=3.0.0->tensorflow) (0.1.2)\n",
      "Requirement already satisfied: transformers in /opt/conda/lib/python3.10/site-packages (4.46.3)\n",
      "Requirement already satisfied: filelock in /opt/conda/lib/python3.10/site-packages (from transformers) (3.15.1)\n",
      "Requirement already satisfied: huggingface-hub<1.0,>=0.23.2 in /opt/conda/lib/python3.10/site-packages (from transformers) (0.26.2)\n",
      "Requirement already satisfied: numpy>=1.17 in /opt/conda/lib/python3.10/site-packages (from transformers) (1.26.4)\n",
      "Requirement already satisfied: packaging>=20.0 in /opt/conda/lib/python3.10/site-packages (from transformers) (21.3)\n",
      "Requirement already satisfied: pyyaml>=5.1 in /opt/conda/lib/python3.10/site-packages (from transformers) (6.0.2)\n",
      "Requirement already satisfied: regex!=2019.12.17 in /opt/conda/lib/python3.10/site-packages (from transformers) (2024.5.15)\n",
      "Requirement already satisfied: requests in /opt/conda/lib/python3.10/site-packages (from transformers) (2.32.3)\n",
      "Requirement already satisfied: tokenizers<0.21,>=0.20 in /opt/conda/lib/python3.10/site-packages (from transformers) (0.20.3)\n",
      "Requirement already satisfied: safetensors>=0.4.1 in /opt/conda/lib/python3.10/site-packages (from transformers) (0.4.5)\n",
      "Requirement already satisfied: tqdm>=4.27 in /opt/conda/lib/python3.10/site-packages (from transformers) (4.66.4)\n",
      "Requirement already satisfied: fsspec>=2023.5.0 in /opt/conda/lib/python3.10/site-packages (from huggingface-hub<1.0,>=0.23.2->transformers) (2024.6.0)\n",
      "Requirement already satisfied: typing-extensions>=3.7.4.3 in /opt/conda/lib/python3.10/site-packages (from huggingface-hub<1.0,>=0.23.2->transformers) (4.12.2)\n",
      "Requirement already satisfied: pyparsing!=3.0.5,>=2.0.2 in /opt/conda/lib/python3.10/site-packages (from packaging>=20.0->transformers) (3.1.2)\n",
      "Requirement already satisfied: charset-normalizer<4,>=2 in /opt/conda/lib/python3.10/site-packages (from requests->transformers) (3.3.2)\n",
      "Requirement already satisfied: idna<4,>=2.5 in /opt/conda/lib/python3.10/site-packages (from requests->transformers) (3.7)\n",
      "Requirement already satisfied: urllib3<3,>=1.21.1 in /opt/conda/lib/python3.10/site-packages (from requests->transformers) (1.26.18)\n",
      "Requirement already satisfied: certifi>=2017.4.17 in /opt/conda/lib/python3.10/site-packages (from requests->transformers) (2024.6.2)\n",
      "Requirement already satisfied: torch in /opt/conda/lib/python3.10/site-packages (2.4.0)\n",
      "Requirement already satisfied: filelock in /opt/conda/lib/python3.10/site-packages (from torch) (3.15.1)\n",
      "Requirement already satisfied: typing-extensions>=4.8.0 in /opt/conda/lib/python3.10/site-packages (from torch) (4.12.2)\n",
      "Requirement already satisfied: sympy in /opt/conda/lib/python3.10/site-packages (from torch) (1.13.3)\n",
      "Requirement already satisfied: networkx in /opt/conda/lib/python3.10/site-packages (from torch) (3.3)\n",
      "Requirement already satisfied: jinja2 in /opt/conda/lib/python3.10/site-packages (from torch) (3.1.4)\n",
      "Requirement already satisfied: fsspec in /opt/conda/lib/python3.10/site-packages (from torch) (2024.6.0)\n",
      "Requirement already satisfied: MarkupSafe>=2.0 in /opt/conda/lib/python3.10/site-packages (from jinja2->torch) (2.1.5)\n",
      "Requirement already satisfied: mpmath<1.4,>=1.1.0 in /opt/conda/lib/python3.10/site-packages (from sympy->torch) (1.3.0)\n",
      "Requirement already satisfied: matplotlib in /opt/conda/lib/python3.10/site-packages (3.7.5)\n",
      "Requirement already satisfied: contourpy>=1.0.1 in /opt/conda/lib/python3.10/site-packages (from matplotlib) (1.2.1)\n",
      "Requirement already satisfied: cycler>=0.10 in /opt/conda/lib/python3.10/site-packages (from matplotlib) (0.12.1)\n",
      "Requirement already satisfied: fonttools>=4.22.0 in /opt/conda/lib/python3.10/site-packages (from matplotlib) (4.53.0)\n",
      "Requirement already satisfied: kiwisolver>=1.0.1 in /opt/conda/lib/python3.10/site-packages (from matplotlib) (1.4.5)\n",
      "Requirement already satisfied: numpy<2,>=1.20 in /opt/conda/lib/python3.10/site-packages (from matplotlib) (1.26.4)\n",
      "Requirement already satisfied: packaging>=20.0 in /opt/conda/lib/python3.10/site-packages (from matplotlib) (21.3)\n",
      "Requirement already satisfied: pillow>=6.2.0 in /opt/conda/lib/python3.10/site-packages (from matplotlib) (10.3.0)\n",
      "Requirement already satisfied: pyparsing>=2.3.1 in /opt/conda/lib/python3.10/site-packages (from matplotlib) (3.1.2)\n",
      "Requirement already satisfied: python-dateutil>=2.7 in /opt/conda/lib/python3.10/site-packages (from matplotlib) (2.9.0.post0)\n",
      "Requirement already satisfied: six>=1.5 in /opt/conda/lib/python3.10/site-packages (from python-dateutil>=2.7->matplotlib) (1.16.0)\n",
      "Requirement already satisfied: scikit-learn in /opt/conda/lib/python3.10/site-packages (1.2.2)\n",
      "Requirement already satisfied: numpy>=1.17.3 in /opt/conda/lib/python3.10/site-packages (from scikit-learn) (1.26.4)\n",
      "Requirement already satisfied: scipy>=1.3.2 in /opt/conda/lib/python3.10/site-packages (from scikit-learn) (1.14.1)\n",
      "Requirement already satisfied: joblib>=1.1.1 in /opt/conda/lib/python3.10/site-packages (from scikit-learn) (1.4.2)\n",
      "Requirement already satisfied: threadpoolctl>=2.0.0 in /opt/conda/lib/python3.10/site-packages (from scikit-learn) (3.5.0)\n",
      "Requirement already satisfied: nltk in /opt/conda/lib/python3.10/site-packages (3.2.4)\n",
      "Requirement already satisfied: six in /opt/conda/lib/python3.10/site-packages (from nltk) (1.16.0)\n"
     ]
    }
   ],
   "source": [
    "!pip install tensorflow tensorflow_hub\n",
    "!pip install transformers\n",
    "!pip install torch\n",
    "!pip install matplotlib\n",
    "!pip install scikit-learn\n",
    "!pip install nltk"
   ]
  },
  {
   "cell_type": "markdown",
   "metadata": {},
   "source": [
    "# **Contextual Embeddings: ELMo and BERT**\n",
    "\n",
    "*Based on Chapter 5 of \"Speech and Language Processing\" by Jurafsky & Martin*  \n",
    "\n",
    "---\n",
    "Word embeddings are fundamental to many Natural Language Processing (NLP) tasks, enabling machines to understand and process human language effectively. While **static embeddings** like Word2Vec and GloVe assign a fixed vector to each word, regardless of context, **contextual embeddings** generate dynamic representations based on the surrounding words in a sentence. This project delves into two prominent contextual embedding models:\n",
    "\n",
    "- **ELMo** (Embeddings from Language Models)\n",
    "- **BERT** (Bidirectional Encoder Representations from Transformers)\n",
    "\n",
    "By the end of this project, you will understand how these models work, implement them using Python, and explore their applications using modern libraries.\n",
    "\n",
    "---\n",
    "\n",
    "## **Setting Up the Environment**\n",
    "\n",
    "Before we begin, ensure you have the necessary libraries installed. We'll use `tensorflow_hub` for ELMo and `transformers` from Hugging Face for BERT, along with other essential libraries for data processing and visualization.\n",
    "\n",
    "```python\n",
    "# Install necessary libraries\n",
    "!pip install tensorflow tensorflow_hub\n",
    "!pip install transformers\n",
    "!pip install torch\n",
    "!pip install matplotlib\n",
    "!pip install scikit-learn\n",
    "!pip install nltk\n",
    "```\n"
   ]
  },
  {
   "cell_type": "code",
   "execution_count": 25,
   "metadata": {
    "execution": {
     "iopub.execute_input": "2024-12-06T15:36:33.168102Z",
     "iopub.status.busy": "2024-12-06T15:36:33.167783Z",
     "iopub.status.idle": "2024-12-06T15:36:33.176091Z",
     "shell.execute_reply": "2024-12-06T15:36:33.175246Z",
     "shell.execute_reply.started": "2024-12-06T15:36:33.168072Z"
    }
   },
   "outputs": [
    {
     "name": "stdout",
     "output_type": "stream",
     "text": [
      "[nltk_data] Downloading package punkt to /usr/share/nltk_data...\n",
      "[nltk_data]   Package punkt is already up-to-date!\n"
     ]
    },
    {
     "data": {
      "text/plain": [
       "True"
      ]
     },
     "execution_count": 25,
     "metadata": {},
     "output_type": "execute_result"
    }
   ],
   "source": [
    "# Importing necessary libraries\n",
    "import nltk\n",
    "import tensorflow as tf\n",
    "import tensorflow_hub as hub\n",
    "from transformers import BertTokenizer, BertModel\n",
    "import torch\n",
    "import matplotlib.pyplot as plt\n",
    "from sklearn.decomposition import PCA\n",
    "import numpy as np\n",
    "\n",
    "nltk.download('punkt')"
   ]
  },
  {
   "cell_type": "markdown",
   "metadata": {},
   "source": [
    "## **Understanding Contextual Embeddings**\n",
    "\n",
    "**Contextual embeddings** dynamically generate word representations based on the context in which they appear. Unlike static embeddings, which assign a single vector to each word, contextual embeddings produce different vectors for a word depending on its surrounding words, capturing nuanced meanings and relationships.\n",
    "\n",
    "**Key Advantages:**\n",
    "- **Disambiguation:** Better handles polysemy (words with multiple meanings).\n",
    "- **Context Awareness:** Captures syntactic and semantic nuances based on context.\n",
    "- **Improved Performance:** Enhances performance in downstream NLP tasks like sentiment analysis, named entity recognition, and question answering.\n",
    "\n",
    "---\n",
    "\n",
    "## **ELMo (Embeddings from Language Models)**\n",
    "\n",
    "### **What is ELMo?**\n",
    "\n",
    "**ELMo** (Embeddings from Language Models) was introduced by Peters et al. in 2018. It generates contextualized word embeddings by leveraging deep bidirectional language models (biLMs). ELMo embeddings are functions of the internal states of a deep bidirectional language model, allowing them to capture complex characteristics of word use and meaning.\n",
    "\n",
    "**Key Characteristics:**\n",
    "- **Deep BiLMs:** Utilizes both forward and backward LSTMs to capture context from both directions.\n",
    "- **Layer-wise Representations:** Combines representations from different layers to capture various levels of linguistic information.\n",
    "- **Compatibility:** Can be integrated into existing models to enhance performance without extensive retraining.\n",
    "\n",
    "### **Implementing ELMo in Python with TensorFlow Hub**\n",
    "\n",
    "We'll use the `tensorflow_hub` library to work with pre-trained ELMo models. TensorFlow Hub provides a straightforward interface to access and use pre-trained models.\n",
    "\n",
    "#### **Loading the Pre-trained ELMo Model**\n"
   ]
  },
  {
   "cell_type": "code",
   "execution_count": 26,
   "metadata": {
    "execution": {
     "iopub.execute_input": "2024-12-06T15:36:33.177392Z",
     "iopub.status.busy": "2024-12-06T15:36:33.177080Z",
     "iopub.status.idle": "2024-12-06T15:36:35.727459Z",
     "shell.execute_reply": "2024-12-06T15:36:35.726551Z",
     "shell.execute_reply.started": "2024-12-06T15:36:33.177365Z"
    }
   },
   "outputs": [
    {
     "name": "stdout",
     "output_type": "stream",
     "text": [
      "ELMo model loaded successfully.\n"
     ]
    }
   ],
   "source": [
    "# ~300MB\n",
    "# Load the pre-trained ELMo model from TensorFlow Hub\n",
    "elmo = hub.load(\"https://tfhub.dev/google/elmo/3\")\n",
    "print(\"ELMo model loaded successfully.\")"
   ]
  },
  {
   "cell_type": "markdown",
   "metadata": {},
   "source": [
    "#### **Generating ELMo Embeddings**\n",
    "\n",
    "Let's generate ELMo embeddings for sample sentences."
   ]
  },
  {
   "cell_type": "code",
   "execution_count": 27,
   "metadata": {
    "execution": {
     "iopub.execute_input": "2024-12-06T15:36:35.730484Z",
     "iopub.status.busy": "2024-12-06T15:36:35.729975Z",
     "iopub.status.idle": "2024-12-06T15:36:35.736465Z",
     "shell.execute_reply": "2024-12-06T15:36:35.735516Z",
     "shell.execute_reply.started": "2024-12-06T15:36:35.730438Z"
    }
   },
   "outputs": [
    {
     "name": "stdout",
     "output_type": "stream",
     "text": [
      "Tokenized Sentences:\n",
      "[['The', 'cat', 'sits', 'on', 'the', 'mat', '.'], ['The', 'bank', 'can', 'guarantee', 'deposits', 'will', 'eventually', 'cover', 'future', 'tuition', 'costs', '.'], ['She', 'went', 'to', 'the', 'bank', 'to', 'deposit', 'her', 'paycheck', '.']]\n"
     ]
    }
   ],
   "source": [
    "# Sample sentences\n",
    "sentences = [\n",
    "    \"The cat sits on the mat.\",\n",
    "    \"The bank can guarantee deposits will eventually cover future tuition costs.\",\n",
    "    \"She went to the bank to deposit her paycheck.\"\n",
    "]\n",
    "\n",
    "# Tokenize sentences\n",
    "tokenized_sentences = [nltk.word_tokenize(sentence) for sentence in sentences]\n",
    "print(\"Tokenized Sentences:\")\n",
    "print(tokenized_sentences)"
   ]
  },
  {
   "cell_type": "code",
   "execution_count": 28,
   "metadata": {
    "execution": {
     "iopub.execute_input": "2024-12-06T15:36:35.737844Z",
     "iopub.status.busy": "2024-12-06T15:36:35.737551Z",
     "iopub.status.idle": "2024-12-06T15:36:36.124113Z",
     "shell.execute_reply": "2024-12-06T15:36:36.123277Z",
     "shell.execute_reply.started": "2024-12-06T15:36:35.737817Z"
    }
   },
   "outputs": [
    {
     "name": "stdout",
     "output_type": "stream",
     "text": [
      "Generating ELMo embeddings...\n",
      "ELMo embeddings generated successfully.\n"
     ]
    }
   ],
   "source": [
    "# Function to generate ELMo embeddings\n",
    "def get_elmo_embeddings(sentences):\n",
    "    embeddings = []\n",
    "    for sentence in sentences:\n",
    "        # ELMo expects a list of sentences, where each sentence is a string\n",
    "        elmo_output = elmo.signatures['default'](text=tf.constant([sentence]))\n",
    "        embedding = elmo_output['elmo']\n",
    "        # The output shape is (1, max_length, 1024)\n",
    "        embedding_np = embedding.numpy()[0]  # Shape: (max_length, 1024)\n",
    "        embeddings.append(embedding_np)\n",
    "    return embeddings\n",
    "\n",
    "# Generate ELMo embeddings\n",
    "print(\"Generating ELMo embeddings...\")\n",
    "elmo_embeddings = get_elmo_embeddings(sentences)\n",
    "print(\"ELMo embeddings generated successfully.\")"
   ]
  },
  {
   "cell_type": "markdown",
   "metadata": {},
   "source": [
    "#### **Exploring ELMo Embeddings**\n",
    "\n",
    "Let's inspect the embeddings for a specific word in different contexts."
   ]
  },
  {
   "cell_type": "code",
   "execution_count": 29,
   "metadata": {
    "execution": {
     "iopub.execute_input": "2024-12-06T15:36:36.125471Z",
     "iopub.status.busy": "2024-12-06T15:36:36.125173Z",
     "iopub.status.idle": "2024-12-06T15:36:36.130588Z",
     "shell.execute_reply": "2024-12-06T15:36:36.129688Z",
     "shell.execute_reply.started": "2024-12-06T15:36:36.125443Z"
    }
   },
   "outputs": [
    {
     "name": "stdout",
     "output_type": "stream",
     "text": [
      "ELMo Embedding 1 shape: (1024,)\n",
      "ELMo Embedding 2 shape: (1024,)\n"
     ]
    }
   ],
   "source": [
    "# Extract embeddings for the word \"bank\" in different contexts\n",
    "bank_embeddings = []\n",
    "for i, sentence in enumerate(tokenized_sentences):\n",
    "    for j, word in enumerate(sentence):\n",
    "        if word.lower() == 'bank':\n",
    "            bank_embeddings.append(elmo_embeddings[i][j])\n",
    "\n",
    "# Display the shape of the embeddings\n",
    "for i, emb in enumerate(bank_embeddings):\n",
    "    print(f\"ELMo Embedding {i+1} shape: {emb.shape}\")"
   ]
  },
  {
   "cell_type": "markdown",
   "metadata": {},
   "source": [
    "\n",
    "**Explanation:**\n",
    "- We extracted ELMo embeddings for the word \"bank\" in two different contexts.\n",
    "- Each embedding has a dimensionality of 1024, capturing rich contextual information.\n",
    "\n",
    "---\n",
    "\n",
    "## **BERT (Bidirectional Encoder Representations from Transformers)**\n",
    "\n",
    "### **What is BERT?**\n",
    "\n",
    "**BERT** (Bidirectional Encoder Representations from Transformers) was introduced by Devlin et al. in 2018. It leverages Transformer architecture to generate deep bidirectional representations by jointly conditioning on both left and right contexts. BERT has achieved state-of-the-art results on various NLP tasks due to its ability to capture complex language patterns.\n",
    "\n",
    "**Key Characteristics:**\n",
    "- **Transformer Architecture:** Utilizes self-attention mechanisms for capturing long-range dependencies.\n",
    "- **Masked Language Modeling:** Trains on predicting masked tokens, enabling bidirectional context.\n",
    "- **Pre-trained Models:** Offers various pre-trained models that can be fine-tuned for specific tasks.\n",
    "\n",
    "### **Implementing BERT in Python with Hugging Face Transformers**\n",
    "\n",
    "We'll use the `transformers` library by Hugging Face to work with pre-trained BERT models.\n",
    "\n",
    "#### **Loading the Pre-trained BERT Model and Tokenizer**"
   ]
  },
  {
   "cell_type": "code",
   "execution_count": 30,
   "metadata": {
    "execution": {
     "iopub.execute_input": "2024-12-06T15:36:36.131958Z",
     "iopub.status.busy": "2024-12-06T15:36:36.131707Z",
     "iopub.status.idle": "2024-12-06T15:36:36.580089Z",
     "shell.execute_reply": "2024-12-06T15:36:36.579173Z",
     "shell.execute_reply.started": "2024-12-06T15:36:36.131932Z"
    }
   },
   "outputs": [
    {
     "name": "stdout",
     "output_type": "stream",
     "text": [
      "BERT model and tokenizer loaded successfully.\n"
     ]
    }
   ],
   "source": [
    "# Initialize BERT tokenizer and model\n",
    "bert_tokenizer = BertTokenizer.from_pretrained('bert-base-uncased')\n",
    "bert_model = BertModel.from_pretrained('bert-base-uncased')\n",
    "bert_model.eval()  # Set the model to evaluation mode\n",
    "print(\"BERT model and tokenizer loaded successfully.\")"
   ]
  },
  {
   "cell_type": "markdown",
   "metadata": {},
   "source": [
    "#### **Generating BERT Embeddings**\n",
    "\n",
    "Let's generate BERT embeddings for sample sentences.\n"
   ]
  },
  {
   "cell_type": "code",
   "execution_count": 31,
   "metadata": {
    "execution": {
     "iopub.execute_input": "2024-12-06T15:36:36.581129Z",
     "iopub.status.busy": "2024-12-06T15:36:36.580891Z",
     "iopub.status.idle": "2024-12-06T15:36:36.780939Z",
     "shell.execute_reply": "2024-12-06T15:36:36.779785Z",
     "shell.execute_reply.started": "2024-12-06T15:36:36.581105Z"
    }
   },
   "outputs": [
    {
     "name": "stdout",
     "output_type": "stream",
     "text": [
      "BERT embeddings generated.\n"
     ]
    }
   ],
   "source": [
    "# Function to generate BERT embeddings\n",
    "def get_bert_embeddings(sentences):\n",
    "    all_embeddings = []\n",
    "    for sentence in sentences:\n",
    "        # Tokenize input\n",
    "        inputs = bert_tokenizer(sentence, return_tensors='pt')\n",
    "        with torch.no_grad():\n",
    "            outputs = bert_model(**inputs)\n",
    "            # outputs.last_hidden_state is the last hidden state\n",
    "            last_hidden_state = outputs.last_hidden_state  # Shape: (1, seq_len, 768)\n",
    "            # Convert to numpy array\n",
    "            embedding = last_hidden_state.squeeze(0).numpy()\n",
    "            all_embeddings.append(embedding)\n",
    "    return all_embeddings\n",
    "\n",
    "# Generate BERT embeddings\n",
    "bert_embeddings = get_bert_embeddings(sentences)\n",
    "print(\"BERT embeddings generated.\")"
   ]
  },
  {
   "cell_type": "markdown",
   "metadata": {},
   "source": [
    "#### **Exploring BERT Embeddings**\n",
    "\n",
    "Let's inspect the embeddings for a specific word in different contexts.\n"
   ]
  },
  {
   "cell_type": "code",
   "execution_count": 32,
   "metadata": {
    "execution": {
     "iopub.execute_input": "2024-12-06T15:36:36.782461Z",
     "iopub.status.busy": "2024-12-06T15:36:36.782137Z",
     "iopub.status.idle": "2024-12-06T15:36:36.792508Z",
     "shell.execute_reply": "2024-12-06T15:36:36.791618Z",
     "shell.execute_reply.started": "2024-12-06T15:36:36.782430Z"
    }
   },
   "outputs": [
    {
     "name": "stdout",
     "output_type": "stream",
     "text": [
      "BERT Embedding 1 shape: (768,)\n",
      "BERT Embedding 2 shape: (768,)\n"
     ]
    }
   ],
   "source": [
    "# Function to align tokens between tokenized sentence and BERT tokens\n",
    "def align_tokens(original_tokens, bert_tokens):\n",
    "    aligned_indices = []\n",
    "    bert_idx = 0\n",
    "    for token in original_tokens:\n",
    "        # BERT tokenizer may split tokens into subwords\n",
    "        sub_tokens = bert_tokenizer.tokenize(token)\n",
    "        aligned_indices.append(bert_idx)\n",
    "        bert_idx += len(sub_tokens)\n",
    "    return aligned_indices\n",
    "\n",
    "# Extract embeddings for the word \"bank\" in different contexts\n",
    "bert_bank_embeddings = []\n",
    "for i, sentence in enumerate(sentences):\n",
    "    original_tokens = nltk.word_tokenize(sentence)\n",
    "    bert_tokens = bert_tokenizer.tokenize(sentence)\n",
    "    aligned_indices = align_tokens(original_tokens, bert_tokens)\n",
    "    # Find the index of \"bank\" (case-insensitive) in original tokens\n",
    "    try:\n",
    "        word_idx = original_tokens.index('bank')\n",
    "    except ValueError:\n",
    "        try:\n",
    "            word_idx = original_tokens.index('Bank')  # In case of capitalization\n",
    "        except ValueError:\n",
    "            continue  # Skip if \"bank\" is not in the sentence\n",
    "    # Get the corresponding BERT token index\n",
    "    bert_word_idx = aligned_indices[word_idx]\n",
    "    # Extract the embedding for the first subword of \"bank\"\n",
    "    bert_bank_embeddings.append(bert_embeddings[i][bert_word_idx])\n",
    "\n",
    "# Display the shape of the embeddings\n",
    "for i, emb in enumerate(bert_bank_embeddings):\n",
    "    print(f\"BERT Embedding {i+1} shape: {emb.shape}\")"
   ]
  },
  {
   "cell_type": "markdown",
   "metadata": {},
   "source": [
    "\n",
    "**Explanation:**\n",
    "- We extracted BERT embeddings for the word \"bank\" in two different contexts.\n",
    "- Each embedding has a dimensionality of 768, capturing rich contextual information.\n",
    "\n",
    "---\n",
    "\n",
    "## **Comparing ELMo and BERT**\n",
    "\n",
    "Both **ELMo** and **BERT** generate contextual embeddings, but they differ in architecture, training objectives, and performance characteristics.\n",
    "\n",
    "| Feature                | ELMo                                      | BERT                                      |\n",
    "|------------------------|-------------------------------------------|-------------------------------------------|\n",
    "| **Architecture**       | Bi-directional LSTM                        | Transformer (Self-Attention Mechanism)    |\n",
    "| **Training Objective** | Language Modeling (Forward and Backward)  | Masked Language Modeling and Next Sentence Prediction |\n",
    "| **Embeddings**         | Contextual (Layer-wise)                   | Contextual (Single Layer)                  |\n",
    "| **Fine-tuning**        | Typically not fine-tuned; used as features | Can be fine-tuned for specific tasks        |\n",
    "| **Performance**        | Improved over static embeddings           | State-of-the-art on many NLP tasks          |\n",
    "| **Model Size**         | Smaller compared to BERT                   | Larger and more resource-intensive          |\n",
    "\n",
    "### **Practical Comparison**\n",
    "\n",
    "Let's compare the similarity between the word \"bank\" in different contexts using both ELMo and BERT embeddings.\n"
   ]
  },
  {
   "cell_type": "code",
   "execution_count": 33,
   "metadata": {
    "execution": {
     "iopub.execute_input": "2024-12-06T15:36:36.795483Z",
     "iopub.status.busy": "2024-12-06T15:36:36.795150Z",
     "iopub.status.idle": "2024-12-06T15:36:36.809683Z",
     "shell.execute_reply": "2024-12-06T15:36:36.808864Z",
     "shell.execute_reply.started": "2024-12-06T15:36:36.795449Z"
    }
   },
   "outputs": [
    {
     "name": "stdout",
     "output_type": "stream",
     "text": [
      "ELMo Cosine Similarity between 'bank' in different contexts: 0.1482\n",
      "BERT Cosine Similarity between 'bank' in different contexts: 0.4761\n"
     ]
    }
   ],
   "source": [
    "from sklearn.metrics.pairwise import cosine_similarity\n",
    "\n",
    "# Function to compute cosine similarity\n",
    "def compute_cosine_similarity(emb1, emb2):\n",
    "    return cosine_similarity([emb1], [emb2])[0][0]\n",
    "\n",
    "# ELMo similarity\n",
    "elmo_similarity = compute_cosine_similarity(elmo_embeddings[1][3], elmo_embeddings[2][3])  # Assuming 'bank' is the 4th word\n",
    "print(f\"ELMo Cosine Similarity between 'bank' in different contexts: {elmo_similarity:.4f}\")\n",
    "\n",
    "# BERT similarity\n",
    "bert_similarity = compute_cosine_similarity(bert_bank_embeddings[0], bert_bank_embeddings[1])\n",
    "print(f\"BERT Cosine Similarity between 'bank' in different contexts: {bert_similarity:.4f}\")"
   ]
  },
  {
   "cell_type": "markdown",
   "metadata": {},
   "source": [
    "**Explanation:**\n",
    "- Both ELMo and BERT assign different embeddings to the word \"bank\" based on its context.\n",
    "- The cosine similarity scores indicate that while both models recognize the contextual difference, ELMo shows a slightly higher similarity in this specific example.\n",
    "\n",
    "**Note:** The exact similarity scores may vary depending on the specific contexts and implementation details.\n",
    "\n",
    "---\n",
    "\n",
    "## **Visualizing Contextual Embeddings**\n",
    "\n",
    "Visualizing high-dimensional embeddings can provide insights into the relationships captured by the models. We'll use PCA (Principal Component Analysis) to reduce the dimensionality of embeddings to 2D for visualization.\n"
   ]
  },
  {
   "cell_type": "code",
   "execution_count": 34,
   "metadata": {
    "execution": {
     "iopub.execute_input": "2024-12-06T15:36:36.811246Z",
     "iopub.status.busy": "2024-12-06T15:36:36.810871Z",
     "iopub.status.idle": "2024-12-06T15:36:36.818656Z",
     "shell.execute_reply": "2024-12-06T15:36:36.817792Z",
     "shell.execute_reply.started": "2024-12-06T15:36:36.811187Z"
    }
   },
   "outputs": [],
   "source": [
    "# Function to plot embeddings\n",
    "def plot_embeddings(embeddings, labels, title):\n",
    "    pca = PCA(n_components=2)\n",
    "    reduced = pca.fit_transform(embeddings)\n",
    "    \n",
    "    plt.figure(figsize=(8, 6))\n",
    "    plt.scatter(reduced[:, 0], reduced[:, 1], color='blue')\n",
    "    \n",
    "    for i, label in enumerate(labels):\n",
    "        plt.annotate(label, (reduced[i, 0], reduced[i, 1]))\n",
    "    \n",
    "    plt.title(title)\n",
    "    plt.xlabel('PCA Component 1')\n",
    "    plt.ylabel('PCA Component 2')\n",
    "    plt.grid(True)\n",
    "    plt.show()"
   ]
  },
  {
   "cell_type": "code",
   "execution_count": 35,
   "metadata": {
    "execution": {
     "iopub.execute_input": "2024-12-06T15:36:36.819970Z",
     "iopub.status.busy": "2024-12-06T15:36:36.819690Z",
     "iopub.status.idle": "2024-12-06T15:36:37.482269Z",
     "shell.execute_reply": "2024-12-06T15:36:37.481436Z",
     "shell.execute_reply.started": "2024-12-06T15:36:36.819941Z"
    }
   },
   "outputs": [
    {
     "data": {
      "image/png": "[encoded data removed]",
      "text/plain": [
       "<Figure size 800x600 with 1 Axes>"
      ]
     },
     "metadata": {},
     "output_type": "display_data"
    },
    {
     "data": {
      "image/png": "[encoded data removed]",
      "text/plain": [
       "<Figure size 800x600 with 1 Axes>"
      ]
     },
     "metadata": {},
     "output_type": "display_data"
    }
   ],
   "source": [
    "# Define labels\n",
    "labels = ['Bank (Financial Institution)', 'Bank (River Side)']\n",
    "\n",
    "# Prepare ELMo embeddings\n",
    "elmo_embeds_to_plot = bank_embeddings\n",
    "\n",
    "# Prepare BERT embeddings\n",
    "bert_embeds_to_plot = bert_bank_embeddings\n",
    "\n",
    "# Plot ELMo embeddings\n",
    "plot_embeddings(elmo_embeds_to_plot, labels, \"ELMo Embeddings for 'Bank' in Different Contexts\")\n",
    "\n",
    "# Plot BERT embeddings\n",
    "plot_embeddings(bert_embeds_to_plot, labels, \"BERT Embeddings for 'Bank' in Different Contexts\")"
   ]
  },
  {
   "cell_type": "markdown",
   "metadata": {},
   "source": [
    "\n",
    "\n",
    "**Explanation:**\n",
    "- The plots will show how ELMo and BERT position the word \"bank\" based on its context.\n",
    "- Closer points indicate higher similarity in the embedding space.\n",
    "\n",
    "**Sample Plots:**\n",
    "\n",
    "*Due to the textual nature of this medium, plots cannot be displayed here. When running the notebook, you will see two scatter plots showing the positional relationship between the different contextual embeddings of \"bank\". Typically, points representing different contexts should be distinct, indicating that the models capture contextual differences effectively.*\n",
    "\n",
    "---\n",
    "\n",
    "## **Conclusion**\n",
    "\n",
    "In this mini project, we've explored **Contextual Word Embeddings**, focusing on **ELMo** and **BERT** using modern libraries. We:\n",
    "\n",
    "1. **Understood** the foundational concepts of contextual embeddings and their advantages over static embeddings.\n",
    "2. **Implemented** ELMo embeddings using the `tensorflow_hub` library, generating context-aware representations.\n",
    "3. **Implemented** BERT embeddings using the `transformers` library by Hugging Face, leveraging its powerful Transformer-based architecture.\n",
    "4. **Compared** ELMo and BERT, highlighting their differences in architecture, training objectives, and performance.\n",
    "5. **Visualized** the embeddings to gain intuitive insights into how context influences word representations.\n",
    "\n",
    "These contextual embeddings are integral to various advanced NLP tasks, including sentiment analysis, named entity recognition, machine translation, and more. Understanding and effectively implementing contextual embeddings is a crucial step in developing robust and state-of-the-art NLP models.\n",
    "\n",
    "Feel free to **expand** this project by:\n",
    "\n",
    "- Exploring **fine-tuning** BERT for specific downstream tasks.\n",
    "- Comparing contextual embeddings across more varied contexts.\n",
    "- Integrating embeddings into larger NLP pipelines.\n",
    "- Exploring **other contextual models** like GPT, RoBERTa, or T5 for advanced applications.\n",
    "\n",
    "---\n",
    "\n",
    "## **References**\n",
    "\n",
    "- [Jurafsky & Martin - Speech and Language Processing](https://web.stanford.edu/~jurafsky/slp3/)\n",
    "- [ELMo: Embeddings from Language Models](https://arxiv.org/abs/1802.05365)\n",
    "- [BERT: Bidirectional Encoder Representations from Transformers](https://arxiv.org/abs/1810.04805)\n",
    "- [TensorFlow Hub Documentation](https://www.tensorflow.org/hub)\n",
    "- [Hugging Face Transformers Documentation](https://huggingface.co/transformers/)\n",
    "- [NLTK Documentation](https://www.nltk.org/)\n",
    "- [Scikit-learn PCA Documentation](https://scikit-learn.org/stable/modules/generated/sklearn.decomposition.PCA.html)\n",
    "\n",
    "---"
   ]
  },
  {
   "cell_type": "markdown",
   "metadata": {},
   "source": []
  }
 ],
 "metadata": {
  "kaggle": {
   "accelerator": "gpu",
   "dataSources": [],
   "dockerImageVersionId": 30805,
   "isGpuEnabled": true,
   "isInternetEnabled": true,
   "language": "python",
   "sourceType": "notebook"
  },
  "kernelspec": {
   "display_name": "Python (ML)",
   "language": "python",
   "name": "ml"
  },
  "language_info": {
   "codemirror_mode": {
    "name": "ipython",
    "version": 3
   },
   "file_extension": ".py",
   "mimetype": "text/x-python",
   "name": "python",
   "nbconvert_exporter": "python",
   "pygments_lexer": "ipython3",
   "version": "3.12.7"
  }
 },
 "nbformat": 4,
 "nbformat_minor": 4
}
