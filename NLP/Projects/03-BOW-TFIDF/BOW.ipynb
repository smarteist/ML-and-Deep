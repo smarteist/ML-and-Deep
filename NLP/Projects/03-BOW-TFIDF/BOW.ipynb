{
 "cells": [
  {
   "cell_type": "code",
   "execution_count": 1,
   "id": "cb4a86c8-8910-427e-8842-141a39de4b6d",
   "metadata": {},
   "outputs": [],
   "source": [
    "import numpy as np\n",
    "import pandas as pd\n",
    "from sklearn.feature_extraction.text import ENGLISH_STOP_WORDS\n",
    "from sklearn.feature_extraction.text import CountVectorizer"
   ]
  },
  {
   "cell_type": "code",
   "execution_count": 2,
   "id": "2c4a670d-b587-40aa-b1cc-1f6948135351",
   "metadata": {},
   "outputs": [
    {
     "name": "stdout",
     "output_type": "stream",
     "text": [
      "Clean Corpus:\n",
      "love machine learning deep learning\n",
      "Machine learning fascinating powerful\n",
      "Deep learning subset machine learning\n"
     ]
    }
   ],
   "source": [
    "# Sample text data (small corpus)\n",
    "corpus = [\n",
    "    \"I love machine learning and deep learning\",\n",
    "    \"Machine learning is fascinating and powerful\",\n",
    "    \"Deep learning is a subset of machine learning\",\n",
    "]\n",
    "\n",
    "texts = [' '.join([word for word in text.split() if word.lower() not in ENGLISH_STOP_WORDS]) for text in corpus]\n",
    "\n",
    "print(\"Clean Corpus:\")\n",
    "print(\"\\n\".join(texts))\n"
   ]
  },
  {
   "cell_type": "code",
   "execution_count": 3,
   "id": "a5d0056a-226e-4b33-aac8-767ced3c8a99",
   "metadata": {},
   "outputs": [],
   "source": [
    "vectorizer = CountVectorizer()\n",
    "X = vectorizer.fit_transform(texts)"
   ]
  },
  {
   "cell_type": "code",
   "execution_count": 4,
   "id": "5910aaaf-7e7a-4d0d-bb59-c1a4ab6b39c2",
   "metadata": {},
   "outputs": [
    {
     "name": "stdout",
     "output_type": "stream",
     "text": [
      "0: deep\n",
      "1: fascinating\n",
      "2: learning\n",
      "3: love\n",
      "4: machine\n",
      "5: powerful\n",
      "6: subset\n"
     ]
    }
   ],
   "source": [
    "vocabulary = sorted(vectorizer.vocabulary_.items(), key=lambda item: item[1])\n",
    "for index, word in sorted(vocabulary, key=lambda item: item[1]):\n",
    "    print(f\"{word}: {index}\")"
   ]
  },
  {
   "cell_type": "code",
   "execution_count": 5,
   "id": "c64b942f-e9ca-41be-b79a-57b7ad2bcfa4",
   "metadata": {},
   "outputs": [
    {
     "name": "stdout",
     "output_type": "stream",
     "text": [
      "Tokenized Sequences:\n",
      "[[3, 4, 2, 0, 2], [4, 2, 1, 5], [0, 2, 6, 4, 2]]\n"
     ]
    }
   ],
   "source": [
    "sequences = [([vectorizer.vocabulary_[word.lower()] for word in text.split()]) for text in texts]\n",
    "print(\"Tokenized Sequences:\")\n",
    "print(sequences)"
   ]
  },
  {
   "cell_type": "code",
   "execution_count": 6,
   "id": "cd756f65-fc15-42d5-bffe-d373ce87e7c4",
   "metadata": {},
   "outputs": [
    {
     "data": {
      "text/html": [
       "<div>\n",
       "<style scoped>\n",
       "    .dataframe tbody tr th:only-of-type {\n",
       "        vertical-align: middle;\n",
       "    }\n",
       "\n",
       "    .dataframe tbody tr th {\n",
       "        vertical-align: top;\n",
       "    }\n",
       "\n",
       "    .dataframe thead th {\n",
       "        text-align: right;\n",
       "    }\n",
       "</style>\n",
       "<table border=\"1\" class=\"dataframe\">\n",
       "  <thead>\n",
       "    <tr style=\"text-align: right;\">\n",
       "      <th></th>\n",
       "      <th>deep</th>\n",
       "      <th>fascinating</th>\n",
       "      <th>learning</th>\n",
       "      <th>love</th>\n",
       "      <th>machine</th>\n",
       "      <th>powerful</th>\n",
       "      <th>subset</th>\n",
       "    </tr>\n",
       "  </thead>\n",
       "  <tbody>\n",
       "    <tr>\n",
       "      <th>0</th>\n",
       "      <td>1</td>\n",
       "      <td>0</td>\n",
       "      <td>2</td>\n",
       "      <td>1</td>\n",
       "      <td>1</td>\n",
       "      <td>0</td>\n",
       "      <td>0</td>\n",
       "    </tr>\n",
       "    <tr>\n",
       "      <th>1</th>\n",
       "      <td>0</td>\n",
       "      <td>1</td>\n",
       "      <td>1</td>\n",
       "      <td>0</td>\n",
       "      <td>1</td>\n",
       "      <td>1</td>\n",
       "      <td>0</td>\n",
       "    </tr>\n",
       "    <tr>\n",
       "      <th>2</th>\n",
       "      <td>1</td>\n",
       "      <td>0</td>\n",
       "      <td>2</td>\n",
       "      <td>0</td>\n",
       "      <td>1</td>\n",
       "      <td>0</td>\n",
       "      <td>1</td>\n",
       "    </tr>\n",
       "  </tbody>\n",
       "</table>\n",
       "</div>"
      ],
      "text/plain": [
       "   deep  fascinating  learning  love  machine  powerful  subset\n",
       "0     1            0         2     1        1         0       0\n",
       "1     0            1         1     0        1         1       0\n",
       "2     1            0         2     0        1         0       1"
      ]
     },
     "execution_count": 6,
     "metadata": {},
     "output_type": "execute_result"
    }
   ],
   "source": [
    "pd.DataFrame(\n",
    "    X.toarray(),\n",
    "    columns=[word for word, index in vocabulary],\n",
    "    index=None\n",
    ")"
   ]
  }
 ],
 "metadata": {
  "kernelspec": {
   "display_name": "Python 3 (ipykernel)",
   "language": "python",
   "name": "python3"
  },
  "language_info": {
   "codemirror_mode": {
    "name": "ipython",
    "version": 3
   },
   "file_extension": ".py",
   "mimetype": "text/x-python",
   "name": "python",
   "nbconvert_exporter": "python",
   "pygments_lexer": "ipython3",
   "version": "3.12.5"
  }
 },
 "nbformat": 4,
 "nbformat_minor": 5
}
