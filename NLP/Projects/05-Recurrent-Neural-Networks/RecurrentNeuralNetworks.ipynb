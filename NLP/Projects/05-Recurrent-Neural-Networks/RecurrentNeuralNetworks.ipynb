{
 "cells": [
  {
   "cell_type": "markdown",
   "metadata": {
    "_cell_guid": "b1076dfc-b9ad-4769-8c92-a6c4dae69d19",
    "_uuid": "8f2839f25d086af736a60e9eeb907d3b93b6e0e5"
   },
   "source": [
    "# **Recurrent Neural Networks (RNNs)**\n",
    "\n",
    "*Based on Chapter X of \"Speech and Language Processing\" by Jurafsky & Martin*  \n",
    "\n",
    "## **1. Introduction to Recurrent Neural Networks (RNNs)**\n",
    "\n",
    "Recurrent Neural Networks (RNNs) are a class of neural networks designed to recognize patterns in sequences of data, such as time series, natural language, or video frames. Unlike traditional feedforward neural networks, RNNs have connections that form directed cycles, allowing them to maintain a hidden state that captures information from previous inputs in the sequence.\n",
    "\n",
    "---\n",
    "\n",
    "## **2. Understanding RNNs**\n",
    "\n",
    "### **Basic RNN Architecture**\n",
    "\n",
    "An RNN processes sequences by iterating through the input tokens and maintaining a hidden state that captures information about previous tokens. The basic architecture can be visualized as follows:\n",
    "\n",
    "![Basic RNN Architecture](https://upload.wikimedia.org/wikipedia/commons/b/b5/Recurrent_neural_network_unfold.svg)\n",
    "\n",
    "*Figure: Basic RNN Architecture*\n",
    "\n",
    "**Mathematical Formulation:**\n",
    "\n",
    "At each time step \\( t \\), the RNN updates its hidden state \\( h_t \\) and produces an output \\( o_t \\):\n",
    "\n",
    "$$\n",
    "h_t = \\tanh(W_{ih}x_t + W_{hh}h_{t-1} + b_h)\n",
    "$$\n",
    "\n",
    "$$\n",
    "o_t = W_{ho}h_t + b_o\n",
    "$$\n",
    "\n",
    "Where:\n",
    "- \\( x_t \\) is the input at time \\( t \\).\n",
    "- \\( h_{t-1} \\) is the hidden state from the previous time step.\n",
    "- \\( W_{ih} \\), \\( W_{hh} \\), and \\( W_{ho} \\) are weight matrices.\n",
    "- \\( b_h \\) and \\( b_o \\) are bias vectors.\n",
    "- \\( \\tanh \\) is the activation function.\n",
    "\n",
    "### **Applications of RNNs**\n",
    "\n",
    "RNNs are widely used in various applications, including:\n",
    "\n",
    "- **Natural Language Processing (NLP):** Language modeling, machine translation, sentiment analysis.\n",
    "- **Speech Recognition:** Transcribing spoken language into text.\n",
    "- **Time Series Prediction:** Forecasting stock prices, weather conditions.\n",
    "- **Music Generation:** Composing melodies and harmonies.\n",
    "\n",
    "---\n",
    "\n",
    "## **3. Challenges in Training RNNs**\n",
    "\n",
    "While RNNs are powerful for sequence modeling, they face significant challenges during training, primarily due to gradient-related issues.\n",
    "\n",
    "### **Vanishing Gradients**\n",
    "\n",
    "**Problem:**\n",
    "During backpropagation through time (BPTT), gradients can become extremely small, effectively preventing the network from learning long-range dependencies in the data.\n",
    "\n",
    "**Impact:**\n",
    "- Difficulty in capturing dependencies that are far apart in the sequence.\n",
    "- Slow convergence or failure to train effectively.\n",
    "\n",
    "**Visualization:**\n",
    "\n",
    "![Vanishing Gradients](https://miro.medium.com/v2/resize:fit:716/1*-rPcuafUSo-SwZF121y_rQ.png)\n",
    "\n",
    "*Figure: Illustration of Vanishing Gradients*\n",
    "\n",
    "### **Exploding Gradients**\n",
    "\n",
    "**Problem:**\n",
    "Gradients can also become excessively large during training, leading to numerical instability.\n",
    "\n",
    "**Impact:**\n",
    "- Parameters can grow exponentially, causing the model to diverge.\n",
    "- Training becomes unstable and may fail to converge.\n",
    "\n",
    "**Visualization:**\n",
    "\n",
    "![Exploding Gradients](https://miro.medium.com/v2/resize:fit:700/1*AOwXWfBegd-qlr2RV_YmDg.png)\n",
    "\n",
    "*Figure: Illustration of Exploding Gradients*\n",
    "\n",
    "---\n",
    "\n",
    "## **4. Advanced RNN Architectures**\n",
    "\n",
    "To address the challenges of vanishing and exploding gradients, more sophisticated RNN architectures have been developed.\n",
    "\n",
    "### **Long Short-Term Memory (LSTM)**\n",
    "\n",
    "**Overview:**\n",
    "Introduced by Hochreiter and Schmidhuber in 1997, LSTM networks are a type of RNN capable of learning long-term dependencies. They mitigate the vanishing gradient problem through a more complex architecture that includes memory cells and gating mechanisms.\n",
    "\n",
    "**Key Components:**\n",
    "- **Cell State (\\( C_t \\)):** Carries information across time steps with minimal modification.\n",
    "- **Gates:** Control the flow of information.\n",
    "    - **Forget Gate (\\( f_t \\))**: Decides what information to discard from the cell state.\n",
    "    - **Input Gate (\\( i_t \\))**: Decides which new information to add to the cell state.\n",
    "    - **Output Gate (\\( o_t \\))**: Decides what information to output based on the cell state.\n",
    "\n",
    "**Mathematical Formulation:**\n",
    "\n",
    "$$\n",
    "f_t = \\sigma(W_f \\cdot [h_{t-1}, x_t] + b_f)\n",
    "$$\n",
    "\n",
    "$$\n",
    "i_t = \\sigma(W_i \\cdot [h_{t-1}, x_t] + b_i)\n",
    "$$\n",
    "\n",
    "$$\n",
    "\\tilde{C}_t = \\tanh(W_C \\cdot [h_{t-1}, x_t] + b_C)\n",
    "$$\n",
    "\n",
    "$$\n",
    "C_t = f_t * C_{t-1} + i_t * \\tilde{C}_t\n",
    "$$\n",
    "\n",
    "$$\n",
    "o_t = \\sigma(W_o \\cdot [h_{t-1}, x_t] + b_o)\n",
    "$$\n",
    "\n",
    "$$\n",
    "h_t = o_t * \\tanh(C_t)\n",
    "$$\n",
    "\n",
    "### **Gated Recurrent Unit (GRU)**\n",
    "\n",
    "**Overview:**\n",
    "Proposed by Cho et al. in 2014, GRUs are a simpler variant of LSTMs that also aim to solve the vanishing gradient problem. They combine the forget and input gates into a single update gate and merge the cell state and hidden state.\n",
    "\n",
    "**Key Components:**\n",
    "- **Update Gate (\\( z_t \\))**: Determines how much of the past information needs to be passed along to the future.\n",
    "- **Reset Gate (\\( r_t \\))**: Determines how to combine the new input with the previous memory.\n",
    "\n",
    "**Mathematical Formulation:**\n",
    "\n",
    "$$\n",
    "z_t = \\sigma(W_z \\cdot [h_{t-1}, x_t] + b_z)\n",
    "$$\n",
    "\n",
    "$$\n",
    "r_t = \\sigma(W_r \\cdot [h_{t-1}, x_t] + b_r)\n",
    "$$\n",
    "\n",
    "$$\n",
    "\\tilde{h}_t = \\tanh(W \\cdot [r_t * h_{t-1}, x_t] + b)\n",
    "$$\n",
    "\n",
    "$$\n",
    "h_t = (1 - z_t) * h_{t-1} + z_t * \\tilde{h}_t\n",
    "$$\n",
    "\n",
    "**Advantages:**\n",
    "- Fewer parameters than LSTM.\n",
    "- Faster to train while maintaining similar performance.\n",
    "\n",
    "---\n",
    "\n",
    "## **5. Practical Implementation with PyTorch**\n",
    "\n",
    "In this section, we'll implement RNNs, LSTMs, and GRUs using **PyTorch**, demonstrate how to handle vanishing and exploding gradients, and visualize the effects.\n",
    "\n",
    "### **Building a Simple RNN**\n",
    "\n",
    "We'll start by building a simple RNN from scratch to understand its workings."
   ]
  },
  {
   "cell_type": "code",
   "execution_count": 1,
   "metadata": {
    "ExecuteTime": {
     "end_time": "2024-12-17T06:38:27.420176Z",
     "start_time": "2024-12-17T06:38:27.327364Z"
    },
    "execution": {
     "iopub.execute_input": "2024-12-18T18:24:46.187960Z",
     "iopub.status.busy": "2024-12-18T18:24:46.187469Z",
     "iopub.status.idle": "2024-12-18T18:24:49.413886Z",
     "shell.execute_reply": "2024-12-18T18:24:49.412446Z",
     "shell.execute_reply.started": "2024-12-18T18:24:46.187911Z"
    }
   },
   "outputs": [],
   "source": [
    "import torch\n",
    "import torch.nn as nn\n",
    "import torch.optim as optim\n",
    "from torch.utils.data import Dataset, DataLoader\n",
    "import numpy as np\n",
    "import matplotlib.pyplot as plt"
   ]
  },
  {
   "cell_type": "markdown",
   "metadata": {},
   "source": [
    "#### **RNN Cell Implementation**"
   ]
  },
  {
   "cell_type": "code",
   "execution_count": 2,
   "metadata": {
    "execution": {
     "iopub.execute_input": "2024-12-18T18:24:49.416830Z",
     "iopub.status.busy": "2024-12-18T18:24:49.416180Z",
     "iopub.status.idle": "2024-12-18T18:24:49.426300Z",
     "shell.execute_reply": "2024-12-18T18:24:49.424848Z",
     "shell.execute_reply.started": "2024-12-18T18:24:49.416779Z"
    }
   },
   "outputs": [],
   "source": [
    "class SimpleRNN(nn.Module):\n",
    "    def __init__(self, input_size, hidden_size, output_size):\n",
    "        super(SimpleRNN, self).__init__()\n",
    "        self.hidden_size = hidden_size\n",
    "        \n",
    "        # Define layers\n",
    "        self.i2h = nn.Linear(input_size + hidden_size, hidden_size)\n",
    "        self.i2o = nn.Linear(input_size + hidden_size, output_size)\n",
    "        self.softmax = nn.LogSoftmax(dim=1)\n",
    "    \n",
    "    def forward(self, input, hidden):\n",
    "        combined = torch.cat((input, hidden), 1)  # Concatenate input and hidden state\n",
    "        hidden = torch.tanh(self.i2h(combined))\n",
    "        output = self.softmax(self.i2o(combined))\n",
    "        return output, hidden\n",
    "    \n",
    "    def initHidden(self):\n",
    "        return torch.zeros(1, self.hidden_size)"
   ]
  },
  {
   "cell_type": "markdown",
   "metadata": {},
   "source": [
    "\n",
    "#### **Dataset Preparation**\n",
    "\n",
    "For demonstration, we'll create a toy dataset for a simple classification task.\n"
   ]
  },
  {
   "cell_type": "code",
   "execution_count": 3,
   "metadata": {
    "execution": {
     "iopub.execute_input": "2024-12-18T18:24:49.429395Z",
     "iopub.status.busy": "2024-12-18T18:24:49.428079Z",
     "iopub.status.idle": "2024-12-18T18:24:49.486469Z",
     "shell.execute_reply": "2024-12-18T18:24:49.485276Z",
     "shell.execute_reply.started": "2024-12-18T18:24:49.429338Z"
    }
   },
   "outputs": [],
   "source": [
    "# Toy dataset: binary classification based on sum of input vector\n",
    "np.random.seed(0)\n",
    "torch.manual_seed(0)\n",
    "\n",
    "# Generate random data\n",
    "data_size = 1000\n",
    "input_size = 10\n",
    "hidden_size = 20\n",
    "output_size = 2  # Binary classification\n",
    "\n",
    "# Inputs\n",
    "X = np.random.randn(data_size, input_size)\n",
    "\n",
    "# Labels: if sum > 0, class 1 else class 0\n",
    "y = (X.sum(axis=1) > 0).astype(int)\n",
    "y = torch.tensor(y, dtype=torch.long).view(-1, 1)"
   ]
  },
  {
   "cell_type": "markdown",
   "metadata": {},
   "source": [
    "\n",
    "#### **Training the Simple RNN**\n"
   ]
  },
  {
   "cell_type": "code",
   "execution_count": 4,
   "metadata": {
    "ExecuteTime": {
     "end_time": "2024-12-17T06:38:27.649372Z",
     "start_time": "2024-12-17T06:38:27.627417Z"
    },
    "execution": {
     "iopub.execute_input": "2024-12-18T18:24:49.488386Z",
     "iopub.status.busy": "2024-12-18T18:24:49.487918Z",
     "iopub.status.idle": "2024-12-18T18:25:35.314912Z",
     "shell.execute_reply": "2024-12-18T18:25:35.313618Z",
     "shell.execute_reply.started": "2024-12-18T18:24:49.488339Z"
    }
   },
   "outputs": [
    {
     "name": "stdout",
     "output_type": "stream",
     "text": [
      "Epoch 10/100, Loss: 0.1195\n",
      "Epoch 20/100, Loss: 0.0909\n",
      "Epoch 30/100, Loss: 0.0777\n",
      "Epoch 40/100, Loss: 0.0697\n",
      "Epoch 50/100, Loss: 0.0641\n",
      "Epoch 60/100, Loss: 0.0598\n",
      "Epoch 70/100, Loss: 0.0565\n",
      "Epoch 80/100, Loss: 0.0537\n",
      "Epoch 90/100, Loss: 0.0514\n",
      "Epoch 100/100, Loss: 0.0495\n"
     ]
    }
   ],
   "source": [
    "# Instantiate the model, define loss and optimizer\n",
    "model = SimpleRNN(input_size, hidden_size, output_size)\n",
    "criterion = nn.NLLLoss()\n",
    "optimizer = optim.SGD(model.parameters(), lr=0.005)\n",
    "\n",
    "# Training loop\n",
    "num_epochs = 100\n",
    "loss_history = []\n",
    "\n",
    "for epoch in range(num_epochs):\n",
    "    total_loss = 0\n",
    "    for i in range(data_size):\n",
    "        input_tensor = torch.tensor(X[i], dtype=torch.float).view(1, -1)\n",
    "        target = y[i]\n",
    "        \n",
    "        hidden = model.initHidden()\n",
    "        \n",
    "        model.zero_grad()\n",
    "        \n",
    "        output, hidden = model(input_tensor, hidden)\n",
    "        loss = criterion(output, target)\n",
    "        loss.backward()\n",
    "        \n",
    "        optimizer.step()\n",
    "        \n",
    "        total_loss += loss.item()\n",
    "    \n",
    "    average_loss = total_loss / data_size\n",
    "    loss_history.append(average_loss)\n",
    "    \n",
    "    if (epoch+1) % 10 == 0:\n",
    "        print(f'Epoch {epoch+1}/{num_epochs}, Loss: {average_loss:.4f}')"
   ]
  },
  {
   "cell_type": "code",
   "execution_count": 5,
   "metadata": {
    "execution": {
     "iopub.execute_input": "2024-12-18T18:25:35.319140Z",
     "iopub.status.busy": "2024-12-18T18:25:35.318658Z",
     "iopub.status.idle": "2024-12-18T18:25:35.635062Z",
     "shell.execute_reply": "2024-12-18T18:25:35.633824Z",
     "shell.execute_reply.started": "2024-12-18T18:25:35.319105Z"
    }
   },
   "outputs": [
    {
     "data": {
      "image/png": "[encoded data removed]",
      "text/plain": [
       "<Figure size 1000x500 with 1 Axes>"
      ]
     },
     "metadata": {},
     "output_type": "display_data"
    }
   ],
   "source": [
    "plt.figure(figsize=(10,5))\n",
    "plt.plot(loss_history, label='Training Loss')\n",
    "plt.xlabel('Epoch')\n",
    "plt.ylabel('Loss')\n",
    "plt.title('Loss Curve for Simple RNN')\n",
    "plt.legend()\n",
    "plt.show()"
   ]
  },
  {
   "cell_type": "markdown",
   "metadata": {},
   "source": [
    "### **Implementing LSTM and GRU**\n",
    "\n",
    "PyTorch provides built-in modules for LSTM and GRU, simplifying their implementation.\n",
    "\n",
    "#### **LSTM Implementation**"
   ]
  },
  {
   "cell_type": "code",
   "execution_count": 6,
   "metadata": {
    "execution": {
     "iopub.execute_input": "2024-12-18T18:25:35.636637Z",
     "iopub.status.busy": "2024-12-18T18:25:35.636286Z",
     "iopub.status.idle": "2024-12-18T18:25:35.644682Z",
     "shell.execute_reply": "2024-12-18T18:25:35.643425Z",
     "shell.execute_reply.started": "2024-12-18T18:25:35.636605Z"
    }
   },
   "outputs": [],
   "source": [
    "class LSTMClassifier(nn.Module):\n",
    "    def __init__(self, input_size, hidden_size, output_size):\n",
    "        super(LSTMClassifier, self).__init__()\n",
    "        self.hidden_size = hidden_size\n",
    "        \n",
    "        # Define LSTM layer\n",
    "        self.lstm = nn.LSTM(input_size, hidden_size, batch_first=True)\n",
    "        \n",
    "        # Define output layer\n",
    "        self.fc = nn.Linear(hidden_size, output_size)\n",
    "        self.softmax = nn.LogSoftmax(dim=1)\n",
    "    \n",
    "    def forward(self, x):\n",
    "        # Initialize hidden and cell states\n",
    "        h0 = torch.zeros(1, x.size(0), self.hidden_size)\n",
    "        c0 = torch.zeros(1, x.size(0), self.hidden_size)\n",
    "        \n",
    "        # Forward propagate LSTM\n",
    "        out, _ = self.lstm(x, (h0, c0))  # out: tensor of shape (batch_size, seq_length, hidden_size)\n",
    "        \n",
    "        # Decode the last time step\n",
    "        out = self.fc(out[:, -1, :])\n",
    "        out = self.softmax(out)\n",
    "        return out"
   ]
  },
  {
   "cell_type": "markdown",
   "metadata": {},
   "source": [
    "#### **GRU Implementation**"
   ]
  },
  {
   "cell_type": "code",
   "execution_count": 7,
   "metadata": {
    "execution": {
     "iopub.execute_input": "2024-12-18T18:25:35.646751Z",
     "iopub.status.busy": "2024-12-18T18:25:35.646289Z",
     "iopub.status.idle": "2024-12-18T18:25:35.659041Z",
     "shell.execute_reply": "2024-12-18T18:25:35.657783Z",
     "shell.execute_reply.started": "2024-12-18T18:25:35.646704Z"
    }
   },
   "outputs": [],
   "source": [
    "class GRUClassifier(nn.Module):\n",
    "    def __init__(self, input_size, hidden_size, output_size):\n",
    "        super(GRUClassifier, self).__init__()\n",
    "        self.hidden_size = hidden_size\n",
    "        \n",
    "        # Define GRU layer\n",
    "        self.gru = nn.GRU(input_size, hidden_size, batch_first=True)\n",
    "        \n",
    "        # Define output layer\n",
    "        self.fc = nn.Linear(hidden_size, output_size)\n",
    "        self.softmax = nn.LogSoftmax(dim=1)\n",
    "    \n",
    "    def forward(self, x):\n",
    "        # Initialize hidden state\n",
    "        h0 = torch.zeros(1, x.size(0), self.hidden_size)\n",
    "        \n",
    "        # Forward propagate GRU\n",
    "        out, _ = self.gru(x, h0)  # out: tensor of shape (batch_size, seq_length, hidden_size)\n",
    "        \n",
    "        # Decode the last time step\n",
    "        out = self.fc(out[:, -1, :])\n",
    "        out = self.softmax(out)\n",
    "        return out"
   ]
  },
  {
   "cell_type": "markdown",
   "metadata": {},
   "source": [
    "#### **Preparing Data for LSTM and GRU**"
   ]
  },
  {
   "cell_type": "code",
   "execution_count": 8,
   "metadata": {
    "execution": {
     "iopub.execute_input": "2024-12-18T18:25:35.660901Z",
     "iopub.status.busy": "2024-12-18T18:25:35.660541Z",
     "iopub.status.idle": "2024-12-18T18:25:35.673819Z",
     "shell.execute_reply": "2024-12-18T18:25:35.672658Z",
     "shell.execute_reply.started": "2024-12-18T18:25:35.660868Z"
    }
   },
   "outputs": [],
   "source": [
    "# Reshape data for LSTM and GRU\n",
    "# LSTM expects input of shape (batch_size, seq_length, input_size)\n",
    "# We'll treat each input vector as a sequence of length 1\n",
    "X_lstm = torch.tensor(X, dtype=torch.float).view(data_size, 1, input_size)\n",
    "y_lstm = y.squeeze()\n",
    "\n",
    "# Create TensorDataset and DataLoader\n",
    "from torch.utils.data import TensorDataset, DataLoader\n",
    "\n",
    "dataset = TensorDataset(X_lstm, y_lstm)\n",
    "batch_size = 32\n",
    "dataloader = DataLoader(dataset, batch_size=batch_size, shuffle=True)"
   ]
  },
  {
   "cell_type": "markdown",
   "metadata": {},
   "source": [
    "#### **Training the LSTM Classifier**"
   ]
  },
  {
   "cell_type": "code",
   "execution_count": 9,
   "metadata": {
    "execution": {
     "iopub.execute_input": "2024-12-18T18:25:35.675538Z",
     "iopub.status.busy": "2024-12-18T18:25:35.675161Z",
     "iopub.status.idle": "2024-12-18T18:25:43.413100Z",
     "shell.execute_reply": "2024-12-18T18:25:43.411627Z",
     "shell.execute_reply.started": "2024-12-18T18:25:35.675490Z"
    }
   },
   "outputs": [
    {
     "name": "stdout",
     "output_type": "stream",
     "text": [
      "Epoch 5/100, Loss: 0.2766\n",
      "Epoch 10/100, Loss: 0.1093\n",
      "Epoch 15/100, Loss: 0.0684\n",
      "Epoch 20/100, Loss: 0.0515\n",
      "Epoch 25/100, Loss: 0.0384\n",
      "Epoch 30/100, Loss: 0.0323\n",
      "Epoch 35/100, Loss: 0.0289\n",
      "Epoch 40/100, Loss: 0.0234\n",
      "Epoch 45/100, Loss: 0.0194\n",
      "Epoch 50/100, Loss: 0.0172\n",
      "Epoch 55/100, Loss: 0.0152\n",
      "Epoch 60/100, Loss: 0.0136\n",
      "Epoch 65/100, Loss: 0.0121\n",
      "Epoch 70/100, Loss: 0.0108\n",
      "Epoch 75/100, Loss: 0.0095\n",
      "Epoch 80/100, Loss: 0.0084\n",
      "Epoch 85/100, Loss: 0.0077\n",
      "Epoch 90/100, Loss: 0.0070\n",
      "Epoch 95/100, Loss: 0.0067\n",
      "Epoch 100/100, Loss: 0.0055\n"
     ]
    }
   ],
   "source": [
    "# Instantiate the model, define loss and optimizer\n",
    "hidden_size = 50\n",
    "model_lstm = LSTMClassifier(input_size, hidden_size, output_size)\n",
    "criterion = nn.NLLLoss()\n",
    "optimizer = optim.Adam(model_lstm.parameters(), lr=0.001)\n",
    "\n",
    "# Training loop\n",
    "num_epochs = 100\n",
    "loss_history_lstm = []\n",
    "\n",
    "for epoch in range(num_epochs):\n",
    "    total_loss = 0\n",
    "    for inputs, targets in dataloader:\n",
    "        optimizer.zero_grad()\n",
    "        outputs = model_lstm(inputs)\n",
    "        loss = criterion(outputs, targets)\n",
    "        loss.backward()\n",
    "        optimizer.step()\n",
    "        total_loss += loss.item()\n",
    "    \n",
    "    average_loss = total_loss / len(dataloader)\n",
    "    loss_history_lstm.append(average_loss)\n",
    "    \n",
    "    if (epoch+1) % 5 == 0:\n",
    "        print(f'Epoch {epoch+1}/{num_epochs}, Loss: {average_loss:.4f}')"
   ]
  },
  {
   "cell_type": "markdown",
   "metadata": {},
   "source": [
    "#### **Training the GRU Classifier**"
   ]
  },
  {
   "cell_type": "code",
   "execution_count": 10,
   "metadata": {
    "execution": {
     "iopub.execute_input": "2024-12-18T18:25:43.415546Z",
     "iopub.status.busy": "2024-12-18T18:25:43.415057Z",
     "iopub.status.idle": "2024-12-18T18:25:49.937287Z",
     "shell.execute_reply": "2024-12-18T18:25:49.936235Z",
     "shell.execute_reply.started": "2024-12-18T18:25:43.415496Z"
    }
   },
   "outputs": [
    {
     "name": "stdout",
     "output_type": "stream",
     "text": [
      "Epoch 5/100, Loss: 0.2086\n",
      "Epoch 10/100, Loss: 0.0944\n",
      "Epoch 15/100, Loss: 0.0655\n",
      "Epoch 20/100, Loss: 0.0492\n",
      "Epoch 25/100, Loss: 0.0385\n",
      "Epoch 30/100, Loss: 0.0324\n",
      "Epoch 35/100, Loss: 0.0302\n",
      "Epoch 40/100, Loss: 0.0264\n",
      "Epoch 45/100, Loss: 0.0209\n",
      "Epoch 50/100, Loss: 0.0193\n",
      "Epoch 55/100, Loss: 0.0165\n",
      "Epoch 60/100, Loss: 0.0147\n",
      "Epoch 65/100, Loss: 0.0128\n",
      "Epoch 70/100, Loss: 0.0122\n",
      "Epoch 75/100, Loss: 0.0109\n",
      "Epoch 80/100, Loss: 0.0096\n",
      "Epoch 85/100, Loss: 0.0087\n",
      "Epoch 90/100, Loss: 0.0079\n",
      "Epoch 95/100, Loss: 0.0071\n",
      "Epoch 100/100, Loss: 0.0063\n"
     ]
    }
   ],
   "source": [
    "# Instantiate the model, define loss and optimizer\n",
    "model_gru = GRUClassifier(input_size, hidden_size, output_size)\n",
    "criterion = nn.NLLLoss()\n",
    "optimizer = optim.Adam(model_gru.parameters(), lr=0.001)\n",
    "\n",
    "# Training loop\n",
    "num_epochs = 100\n",
    "loss_history_gru = []\n",
    "\n",
    "for epoch in range(num_epochs):\n",
    "    total_loss = 0\n",
    "    for inputs, targets in dataloader:\n",
    "        optimizer.zero_grad()\n",
    "        outputs = model_gru(inputs)\n",
    "        loss = criterion(outputs, targets)\n",
    "        loss.backward()\n",
    "        optimizer.step()\n",
    "        total_loss += loss.item()\n",
    "    \n",
    "    average_loss = total_loss / len(dataloader)\n",
    "    loss_history_gru.append(average_loss)\n",
    "    \n",
    "    if (epoch+1) % 5 == 0:\n",
    "        print(f'Epoch {epoch+1}/{num_epochs}, Loss: {average_loss:.4f}')"
   ]
  },
  {
   "cell_type": "markdown",
   "metadata": {},
   "source": [
    "#### **Plotting the Loss Curves**"
   ]
  },
  {
   "cell_type": "code",
   "execution_count": 11,
   "metadata": {
    "execution": {
     "iopub.execute_input": "2024-12-18T18:25:49.939282Z",
     "iopub.status.busy": "2024-12-18T18:25:49.938844Z",
     "iopub.status.idle": "2024-12-18T18:25:50.258225Z",
     "shell.execute_reply": "2024-12-18T18:25:50.256917Z",
     "shell.execute_reply.started": "2024-12-18T18:25:49.939235Z"
    }
   },
   "outputs": [
    {
     "data": {
      "image/png": "[encoded data removed]",
      "text/plain": [
       "<Figure size 1000x500 with 1 Axes>"
      ]
     },
     "metadata": {},
     "output_type": "display_data"
    }
   ],
   "source": [
    "plt.figure(figsize=(10,5))\n",
    "plt.plot(loss_history, label='Simple RNN')\n",
    "plt.plot(loss_history_lstm, label='LSTM')\n",
    "plt.plot(loss_history_gru, label='GRU')\n",
    "plt.xlabel('Epoch')\n",
    "plt.ylabel('Loss')\n",
    "plt.title('Loss Curves for RNN, LSTM, and GRU')\n",
    "plt.legend()\n",
    "plt.show()"
   ]
  },
  {
   "cell_type": "markdown",
   "metadata": {},
   "source": [
    "### **Handling Vanishing and Exploding Gradients**\n",
    "\n",
    "PyTorch provides utilities to manage exploding gradients, primarily through gradient clipping.\n",
    "\n",
    "#### **Gradient Clipping**\n",
    "\n",
    "Gradient clipping prevents the gradients from becoming too large, addressing the exploding gradient problem.\n"
   ]
  },
  {
   "cell_type": "code",
   "execution_count": 12,
   "metadata": {
    "execution": {
     "iopub.execute_input": "2024-12-18T18:25:50.260272Z",
     "iopub.status.busy": "2024-12-18T18:25:50.259828Z",
     "iopub.status.idle": "2024-12-18T18:25:50.268620Z",
     "shell.execute_reply": "2024-12-18T18:25:50.267220Z",
     "shell.execute_reply.started": "2024-12-18T18:25:50.260225Z"
    }
   },
   "outputs": [],
   "source": [
    "class SyntheticDataset(Dataset):\n",
    "    def __init__(self, num_samples=500, input_size=10, output_size=5, seq_length=15):\n",
    "        super(SyntheticDataset, self).__init__()\n",
    "        self.num_samples = num_samples\n",
    "        self.input_size = input_size\n",
    "        self.output_size = output_size\n",
    "        self.seq_length = seq_length\n",
    "        \n",
    "        # Generate random input data\n",
    "        self.data = torch.randn(num_samples, seq_length, input_size) * 5.0  # Scale to increase gradient magnitudes\n",
    "        \n",
    "        # Generate random labels\n",
    "        self.labels = torch.randint(0, output_size, (num_samples,))\n",
    "    \n",
    "    def __len__(self):\n",
    "        return self.num_samples\n",
    "    \n",
    "    def __getitem__(self, idx):\n",
    "        return self.data[idx], self.labels[idx]"
   ]
  },
  {
   "cell_type": "code",
   "execution_count": 13,
   "metadata": {
    "execution": {
     "iopub.execute_input": "2024-12-18T18:25:50.270875Z",
     "iopub.status.busy": "2024-12-18T18:25:50.270401Z",
     "iopub.status.idle": "2024-12-18T18:25:57.800666Z",
     "shell.execute_reply": "2024-12-18T18:25:57.799587Z",
     "shell.execute_reply.started": "2024-12-18T18:25:50.270829Z"
    }
   },
   "outputs": [
    {
     "name": "stdout",
     "output_type": "stream",
     "text": [
      "Epoch 5/100, Loss: 0.2250\n",
      "Epoch 10/100, Loss: 0.0990\n",
      "Epoch 15/100, Loss: 0.0657\n",
      "Epoch 20/100, Loss: 0.0483\n",
      "Epoch 25/100, Loss: 0.0394\n",
      "Epoch 30/100, Loss: 0.0340\n",
      "Epoch 35/100, Loss: 0.0298\n",
      "Epoch 40/100, Loss: 0.0268\n",
      "Epoch 45/100, Loss: 0.0214\n",
      "Epoch 50/100, Loss: 0.0186\n",
      "Epoch 55/100, Loss: 0.0167\n",
      "Epoch 60/100, Loss: 0.0155\n",
      "Epoch 65/100, Loss: 0.0132\n",
      "Epoch 70/100, Loss: 0.0122\n",
      "Epoch 75/100, Loss: 0.0119\n",
      "Epoch 80/100, Loss: 0.0116\n",
      "Epoch 85/100, Loss: 0.0090\n",
      "Epoch 90/100, Loss: 0.0082\n",
      "Epoch 95/100, Loss: 0.0081\n",
      "Epoch 100/100, Loss: 0.0067\n"
     ]
    }
   ],
   "source": [
    "# Example of gradient clipping in training loop\n",
    "\n",
    "# Define a new training loop with gradient clipping for the GRU model\n",
    "model_gru = GRUClassifier(input_size, hidden_size, output_size)\n",
    "criterion = nn.NLLLoss()\n",
    "optimizer = optim.Adam(model_gru.parameters(), lr=0.001)\n",
    "\n",
    "num_epochs = 100\n",
    "loss_history_gru_clip = []\n",
    "\n",
    "for epoch in range(num_epochs):\n",
    "    total_loss = 0\n",
    "    for inputs, targets in dataloader:\n",
    "        optimizer.zero_grad()\n",
    "        outputs = model_gru(inputs)\n",
    "        loss = criterion(outputs, targets)\n",
    "        loss.backward()\n",
    "        \n",
    "        # Gradient clipping\n",
    "        torch.nn.utils.clip_grad_norm_(model_gru.parameters(), max_norm=1.0)\n",
    "        \n",
    "        optimizer.step()\n",
    "        total_loss += loss.item()\n",
    "    \n",
    "    average_loss = total_loss / len(dataloader)\n",
    "    loss_history_gru_clip.append(average_loss)\n",
    "    \n",
    "    if (epoch+1) % 5 == 0:\n",
    "        print(f'Epoch {epoch+1}/{num_epochs}, Loss: {average_loss:.4f}')"
   ]
  },
  {
   "cell_type": "markdown",
   "metadata": {},
   "source": [
    "\n",
    "#### **Visualization of Gradients**\n",
    "\n",
    "To visualize the effect of vanishing and exploding gradients, we can monitor the norm of gradients during training.\n"
   ]
  },
  {
   "cell_type": "code",
   "execution_count": 14,
   "metadata": {
    "execution": {
     "iopub.execute_input": "2024-12-18T18:25:57.804488Z",
     "iopub.status.busy": "2024-12-18T18:25:57.804103Z",
     "iopub.status.idle": "2024-12-18T18:25:57.814595Z",
     "shell.execute_reply": "2024-12-18T18:25:57.813425Z",
     "shell.execute_reply.started": "2024-12-18T18:25:57.804454Z"
    }
   },
   "outputs": [],
   "source": [
    "def compute_total_grad_norm(model):\n",
    "    total_norm = 0.0\n",
    "    for param in model.parameters():\n",
    "        if param.grad is not None:\n",
    "            param_norm = param.grad.data.norm(2)\n",
    "            total_norm += param_norm.item() ** 2\n",
    "    total_norm = total_norm ** 0.5\n",
    "    return total_norm\n",
    "\n",
    "def monitor_gradients(model, dataloader, criterion, optimizer, max_norm=1.0):\n",
    "    grad_norms_before = []\n",
    "    grad_norms_after = []\n",
    "    \n",
    "    model.train()  # Ensure the model is in training mode\n",
    "    \n",
    "    for batch_idx, (inputs, targets) in enumerate(dataloader):\n",
    "        optimizer.zero_grad()  # Reset gradients\n",
    "        \n",
    "        outputs = model(inputs)  # Forward pass\n",
    "        loss = criterion(outputs, targets)  # Compute loss\n",
    "        loss.backward()  # Backward pass\n",
    "        \n",
    "        # Compute gradient norm before clipping\n",
    "        total_norm_before = compute_total_grad_norm(model)\n",
    "        grad_norms_before.append(total_norm_before)\n",
    "        \n",
    "        # Apply gradient clipping\n",
    "        torch.nn.utils.clip_grad_norm_(model.parameters(), max_norm)\n",
    "        \n",
    "        # Compute gradient norm after clipping\n",
    "        total_norm_after = compute_total_grad_norm(model)\n",
    "        grad_norms_after.append(total_norm_after)\n",
    "        \n",
    "        optimizer.step()  # Update parameters\n",
    "        \n",
    "        # Optional: Print progress\n",
    "        if (batch_idx + 1) % 50 == 0:\n",
    "            print(f\"Processed {batch_idx + 1}/{len(dataloader)} batches\")\n",
    "    \n",
    "    return grad_norms_before, grad_norms_after\n"
   ]
  },
  {
   "cell_type": "code",
   "execution_count": 15,
   "metadata": {
    "execution": {
     "iopub.execute_input": "2024-12-18T18:25:57.816688Z",
     "iopub.status.busy": "2024-12-18T18:25:57.816198Z",
     "iopub.status.idle": "2024-12-18T18:25:57.947372Z",
     "shell.execute_reply": "2024-12-18T18:25:57.946172Z",
     "shell.execute_reply.started": "2024-12-18T18:25:57.816640Z"
    }
   },
   "outputs": [],
   "source": [
    "# Hyperparameters\n",
    "input_size = 10\n",
    "hidden_size = 20\n",
    "output_size = 5\n",
    "seq_length = 15\n",
    "batch_size = 32\n",
    "learning_rate = 0.1  # Increased to produce larger gradients\n",
    "num_samples = 500\n",
    "max_norm = 1.0  # Threshold for gradient clipping\n",
    "\n",
    "# Create dataset and dataloader\n",
    "dataset = SyntheticDataset(num_samples=num_samples, input_size=input_size, output_size=output_size, seq_length=seq_length)\n",
    "dataloader = DataLoader(dataset, batch_size=batch_size, shuffle=True)\n",
    "\n",
    "# Initialize model, loss function, optimizer\n",
    "model_gru = GRUClassifier(input_size, hidden_size, output_size)\n",
    "criterion = nn.NLLLoss()\n",
    "optimizer = optim.Adam(model_gru.parameters(), lr=learning_rate)\n",
    "\n",
    "# Monitor gradients before and after clipping\n",
    "grad_norms_before, grad_norms_after = monitor_gradients(\n",
    "    model_gru, dataloader, criterion, optimizer, max_norm=max_norm\n",
    ")"
   ]
  },
  {
   "cell_type": "code",
   "execution_count": 16,
   "metadata": {
    "execution": {
     "iopub.execute_input": "2024-12-18T18:25:57.949249Z",
     "iopub.status.busy": "2024-12-18T18:25:57.948886Z",
     "iopub.status.idle": "2024-12-18T18:25:58.294532Z",
     "shell.execute_reply": "2024-12-18T18:25:58.293283Z",
     "shell.execute_reply.started": "2024-12-18T18:25:57.949214Z"
    }
   },
   "outputs": [
    {
     "data": {
      "image/png": "[encoded data removed]",
      "text/plain": [
       "<Figure size 1200x600 with 1 Axes>"
      ]
     },
     "metadata": {},
     "output_type": "display_data"
    },
    {
     "name": "stdout",
     "output_type": "stream",
     "text": [
      "Sample Gradient Norms:\n",
      "Batch 1: Before = 0.8419, After = 0.8419\n",
      "Batch 2: Before = 0.8501, After = 0.8501\n",
      "Batch 3: Before = 0.9289, After = 0.9289\n",
      "Batch 4: Before = 1.1732, After = 1.0000\n",
      "Batch 5: Before = 1.0787, After = 1.0000\n"
     ]
    }
   ],
   "source": [
    "# Plotting gradient norms\n",
    "plt.figure(figsize=(12,6))\n",
    "plt.plot(grad_norms_before, label='Before Clipping', alpha=0.7)\n",
    "plt.plot(grad_norms_after, label='After Clipping', alpha=0.7)\n",
    "plt.axhline(y=max_norm, color='r', linestyle='--', label='Max Norm Threshold')\n",
    "plt.xlabel('Batch Number')\n",
    "plt.ylabel('Gradient Norm')\n",
    "plt.title('Gradient Norms Before and After Clipping')\n",
    "plt.legend()\n",
    "plt.grid(True)\n",
    "plt.show()\n",
    "\n",
    "# Print sample gradient norms for inspection\n",
    "print(\"Sample Gradient Norms:\")\n",
    "for i in range(5):\n",
    "    print(f\"Batch {i+1}: Before = {grad_norms_before[i]:.4f}, After = {grad_norms_after[i]:.4f}\")\n"
   ]
  },
  {
   "cell_type": "markdown",
   "metadata": {},
   "source": [
    "\n",
    "**Interpretation:**\n",
    "\n",
    "- **Before Clipping:** The gradient norms are significantly higher than `max_norm = 1.0`.\n",
    "- **After Clipping:** All gradient norms are reduced to `1.0`, ensuring stable training.\n",
    "\n",
    "### **a. Importance of Gradient Clipping**\n",
    "\n",
    "**Gradient Clipping** is essential for:\n",
    "\n",
    "- **Preventing Exploding Gradients:** Especially in deep networks or RNNs like GRUs and LSTMs, gradients can grow exponentially, destabilizing training.\n",
    "- **Ensuring Stable Training:** By capping gradients, we maintain consistent updates, leading to smoother convergence.\n",
    "\n",
    "### **b. Choosing Appropriate Hyperparameters**\n",
    "\n",
    "- **Learning Rate:** A higher learning rate can lead to larger gradients but may cause instability. Balancing the learning rate is crucial.\n",
    "- **Clipping Threshold (`max_norm`):** Setting this value requires experimentation. A common starting point is between `1.0` and `5.0`.\n",
    "\n",
    "### **c. Monitoring Gradient Norms in Practice**\n",
    "\n",
    "Regularly monitoring gradient norms during training helps:\n",
    "\n",
    "- **Diagnose Training Issues:** Extremely high or low gradient norms can indicate problems like vanishing or exploding gradients.\n",
    "- **Adjust Hyperparameters:** Based on gradient behavior, you can fine-tune learning rates, clipping thresholds, or model architecture.\n"
   ]
  },
  {
   "cell_type": "markdown",
   "metadata": {},
   "source": [
    "## **6. Conclusion**\n",
    "\n",
    "In this notebook, we've delved into the fundamentals of **Recurrent Neural Networks (RNNs)**, explored the challenges of **vanishing and exploding gradients**, and examined advanced architectures like **LSTM** and **GRU**. Through practical implementations using **PyTorch**, we've seen how these models can be built, trained, and optimized for sequence modeling tasks.\n",
    "\n",
    "**Key Takeaways:**\n",
    "\n",
    "1. **RNNs** are powerful for modeling sequential data but suffer from gradient-related challenges.\n",
    "2. **Vanishing Gradients** hinder learning long-term dependencies, while **Exploding Gradients** can destabilize training.\n",
    "3. **LSTM** and **GRU** architectures effectively address these challenges through gating mechanisms.\n",
    "4. **PyTorch** provides robust tools and modules to implement and train these models efficiently.\n",
    "5. **Gradient Clipping** is a practical technique to prevent exploding gradients and stabilize training.\n",
    "\n",
    "---\n",
    "\n",
    "## **7. References**\n",
    "\n",
    "- [Jurafsky & Martin - Speech and Language Processing](https://web.stanford.edu/~jurafsky/slp3/)\n",
    "- [Elman, J. L. (1990). Finding structure in time](https://doi.org/10.1515/9781400833599-002)\n",
    "- [Hochreiter, S., & Schmidhuber, J. (1997). Long Short-Term Memory](https://www.bioinf.jku.at/publications/older/2604.pdf)\n",
    "- [Cho, K., et al. (2014). Learning Phrase Representations using RNN Encoder-Decoder for Statistical Machine Translation](https://arxiv.org/abs/1406.1078)\n",
    "- [PyTorch Documentation](https://pytorch.org/docs/stable/index.html)\n",
    "- [Understanding the difficulty of training deep feedforward neural networks](https://proceedings.neurips.cc/paper/2010/file/0c1d2ce14a0c5fb6c1246f5c6d2f3d1f-Paper.pdf)\n",
    "- [Exploding Gradients in RNNs](https://towardsdatascience.com/exploding-gradients-in-neural-networks-89f76620a9fc)\n",
    "- [Vanishing Gradients in Neural Networks](https://towardsdatascience.com/vanishing-gradients-in-neural-networks-8f04f34c3a5d)\n"
   ]
  }
 ],
 "metadata": {
  "kaggle": {
   "accelerator": "none",
   "dataSources": [],
   "dockerImageVersionId": 30804,
   "isGpuEnabled": false,
   "isInternetEnabled": true,
   "language": "python",
   "sourceType": "notebook"
  },
  "kernelspec": {
   "display_name": "Python 3 (ipykernel)",
   "language": "python",
   "name": "python3"
  },
  "language_info": {
   "codemirror_mode": {
    "name": "ipython",
    "version": 3
   },
   "file_extension": ".py",
   "mimetype": "text/x-python",
   "name": "python",
   "nbconvert_exporter": "python",
   "pygments_lexer": "ipython3",
   "version": "3.12.7"
  }
 },
 "nbformat": 4,
 "nbformat_minor": 4
}
