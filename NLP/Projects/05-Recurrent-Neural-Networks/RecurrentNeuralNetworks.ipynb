{
 "cells": [
  {
   "cell_type": "markdown",
   "metadata": {
    "_cell_guid": "b1076dfc-b9ad-4769-8c92-a6c4dae69d19",
    "_uuid": "8f2839f25d086af736a60e9eeb907d3b93b6e0e5"
   },
   "source": [
    "# **Recurrent Neural Networks (RNNs)**\n",
    "\n",
    "*Based on Chapter X of \"Speech and Language Processing\" by Jurafsky & Martin*  \n",
    "\n",
    "## **1. Introduction to Recurrent Neural Networks (RNNs)**\n",
    "\n",
    "Recurrent Neural Networks (RNNs) are a class of neural networks designed to recognize patterns in sequences of data, such as time series, natural language, or video frames. Unlike traditional feedforward neural networks, RNNs have connections that form directed cycles, allowing them to maintain a hidden state that captures information from previous inputs in the sequence.\n",
    "\n",
    "---\n",
    "\n",
    "## **2. Understanding RNNs**\n",
    "\n",
    "### **Basic RNN Architecture**\n",
    "\n",
    "An RNN processes sequences by iterating through the input tokens and maintaining a hidden state that captures information about previous tokens. The basic architecture can be visualized as follows:\n",
    "\n",
    "![Basic RNN Architecture](https://upload.wikimedia.org/wikipedia/commons/b/b5/Recurrent_neural_network_unfold.svg)\n",
    "\n",
    "*Figure: Basic RNN Architecture*\n",
    "\n",
    "**Mathematical Formulation:**\n",
    "\n",
    "At each time step \\( t \\), the RNN updates its hidden state \\( h_t \\) and produces an output \\( o_t \\):\n",
    "\n",
    "$$\n",
    "h_t = \\tanh(W_{ih}x_t + W_{hh}h_{t-1} + b_h)\n",
    "$$\n",
    "\n",
    "$$\n",
    "o_t = W_{ho}h_t + b_o\n",
    "$$\n",
    "\n",
    "Where:\n",
    "- \\( x_t \\) is the input at time \\( t \\).\n",
    "- \\( h_{t-1} \\) is the hidden state from the previous time step.\n",
    "- \\( W_{ih} \\), \\( W_{hh} \\), and \\( W_{ho} \\) are weight matrices.\n",
    "- \\( b_h \\) and \\( b_o \\) are bias vectors.\n",
    "- \\( \\tanh \\) is the activation function.\n",
    "\n",
    "### **Applications of RNNs**\n",
    "\n",
    "RNNs are widely used in various applications, including:\n",
    "\n",
    "- **Natural Language Processing (NLP):** Language modeling, machine translation, sentiment analysis.\n",
    "- **Speech Recognition:** Transcribing spoken language into text.\n",
    "- **Time Series Prediction:** Forecasting stock prices, weather conditions.\n",
    "- **Music Generation:** Composing melodies and harmonies.\n",
    "\n",
    "---\n",
    "\n",
    "## **3. Challenges in Training RNNs**\n",
    "\n",
    "While RNNs are powerful for sequence modeling, they face significant challenges during training, primarily due to gradient-related issues.\n",
    "\n",
    "### **Vanishing Gradients**\n",
    "\n",
    "**Problem:**\n",
    "During backpropagation through time (BPTT), gradients can become extremely small, effectively preventing the network from learning long-range dependencies in the data.\n",
    "\n",
    "**Impact:**\n",
    "- Difficulty in capturing dependencies that are far apart in the sequence.\n",
    "- Slow convergence or failure to train effectively.\n",
    "\n",
    "**Visualization:**\n",
    "\n",
    "![Vanishing Gradients](https://miro.medium.com/v2/resize:fit:716/1*-rPcuafUSo-SwZF121y_rQ.png)\n",
    "\n",
    "*Figure: Illustration of Vanishing Gradients*\n",
    "\n",
    "### **Exploding Gradients**\n",
    "\n",
    "**Problem:**\n",
    "Gradients can also become excessively large during training, leading to numerical instability.\n",
    "\n",
    "**Impact:**\n",
    "- Parameters can grow exponentially, causing the model to diverge.\n",
    "- Training becomes unstable and may fail to converge.\n",
    "\n",
    "**Visualization:**\n",
    "\n",
    "![Exploding Gradients](https://miro.medium.com/v2/resize:fit:700/1*AOwXWfBegd-qlr2RV_YmDg.png)\n",
    "\n",
    "*Figure: Illustration of Exploding Gradients*\n",
    "\n",
    "---\n",
    "\n",
    "## **4. Advanced RNN Architectures**\n",
    "\n",
    "To address the challenges of vanishing and exploding gradients, more sophisticated RNN architectures have been developed.\n",
    "\n",
    "### **Long Short-Term Memory (LSTM)**\n",
    "\n",
    "**Overview:**\n",
    "Introduced by Hochreiter and Schmidhuber in 1997, LSTM networks are a type of RNN capable of learning long-term dependencies. They mitigate the vanishing gradient problem through a more complex architecture that includes memory cells and gating mechanisms.\n",
    "\n",
    "**Key Components:**\n",
    "- **Cell State (\\( C_t \\)):** Carries information across time steps with minimal modification.\n",
    "- **Gates:** Control the flow of information.\n",
    "    - **Forget Gate (\\( f_t \\))**: Decides what information to discard from the cell state.\n",
    "    - **Input Gate (\\( i_t \\))**: Decides which new information to add to the cell state.\n",
    "    - **Output Gate (\\( o_t \\))**: Decides what information to output based on the cell state.\n",
    "\n",
    "**Mathematical Formulation:**\n",
    "\n",
    "$$\n",
    "f_t = \\sigma(W_f \\cdot [h_{t-1}, x_t] + b_f)\n",
    "$$\n",
    "\n",
    "$$\n",
    "i_t = \\sigma(W_i \\cdot [h_{t-1}, x_t] + b_i)\n",
    "$$\n",
    "\n",
    "$$\n",
    "\\tilde{C}_t = \\tanh(W_C \\cdot [h_{t-1}, x_t] + b_C)\n",
    "$$\n",
    "\n",
    "$$\n",
    "C_t = f_t * C_{t-1} + i_t * \\tilde{C}_t\n",
    "$$\n",
    "\n",
    "$$\n",
    "o_t = \\sigma(W_o \\cdot [h_{t-1}, x_t] + b_o)\n",
    "$$\n",
    "\n",
    "$$\n",
    "h_t = o_t * \\tanh(C_t)\n",
    "$$\n",
    "\n",
    "### **Gated Recurrent Unit (GRU)**\n",
    "\n",
    "**Overview:**\n",
    "Proposed by Cho et al. in 2014, GRUs are a simpler variant of LSTMs that also aim to solve the vanishing gradient problem. They combine the forget and input gates into a single update gate and merge the cell state and hidden state.\n",
    "\n",
    "**Key Components:**\n",
    "- **Update Gate (\\( z_t \\))**: Determines how much of the past information needs to be passed along to the future.\n",
    "- **Reset Gate (\\( r_t \\))**: Determines how to combine the new input with the previous memory.\n",
    "\n",
    "**Mathematical Formulation:**\n",
    "\n",
    "$$\n",
    "z_t = \\sigma(W_z \\cdot [h_{t-1}, x_t] + b_z)\n",
    "$$\n",
    "\n",
    "$$\n",
    "r_t = \\sigma(W_r \\cdot [h_{t-1}, x_t] + b_r)\n",
    "$$\n",
    "\n",
    "$$\n",
    "\\tilde{h}_t = \\tanh(W \\cdot [r_t * h_{t-1}, x_t] + b)\n",
    "$$\n",
    "\n",
    "$$\n",
    "h_t = (1 - z_t) * h_{t-1} + z_t * \\tilde{h}_t\n",
    "$$\n",
    "\n",
    "**Advantages:**\n",
    "- Fewer parameters than LSTM.\n",
    "- Faster to train while maintaining similar performance.\n",
    "\n",
    "---\n",
    "\n",
    "## **5. Practical Implementation with PyTorch**\n",
    "\n",
    "In this section, we'll implement RNNs, LSTMs, and GRUs using **PyTorch**, demonstrate how to handle vanishing and exploding gradients, and visualize the effects.\n",
    "\n",
    "### **Building a Simple RNN**\n",
    "\n",
    "We'll start by building a simple RNN from scratch to understand its workings."
   ]
  },
  {
   "cell_type": "code",
   "execution_count": 1,
   "metadata": {
    "execution": {
     "iopub.execute_input": "2024-12-06T15:52:34.665092Z",
     "iopub.status.busy": "2024-12-06T15:52:34.664654Z",
     "iopub.status.idle": "2024-12-06T15:52:37.845516Z",
     "shell.execute_reply": "2024-12-06T15:52:37.844288Z",
     "shell.execute_reply.started": "2024-12-06T15:52:34.665046Z"
    }
   },
   "outputs": [],
   "source": [
    "import torch\n",
    "import torch.nn as nn\n",
    "import torch.optim as optim\n",
    "import numpy as np\n",
    "import matplotlib.pyplot as plt"
   ]
  },
  {
   "cell_type": "markdown",
   "metadata": {},
   "source": [
    "#### **RNN Cell Implementation**"
   ]
  },
  {
   "cell_type": "code",
   "execution_count": 2,
   "metadata": {
    "execution": {
     "iopub.execute_input": "2024-12-06T15:53:01.952389Z",
     "iopub.status.busy": "2024-12-06T15:53:01.951833Z",
     "iopub.status.idle": "2024-12-06T15:53:01.960492Z",
     "shell.execute_reply": "2024-12-06T15:53:01.959267Z",
     "shell.execute_reply.started": "2024-12-06T15:53:01.952347Z"
    }
   },
   "outputs": [],
   "source": [
    "class SimpleRNN(nn.Module):\n",
    "    def __init__(self, input_size, hidden_size, output_size):\n",
    "        super(SimpleRNN, self).__init__()\n",
    "        self.hidden_size = hidden_size\n",
    "        \n",
    "        # Define layers\n",
    "        self.i2h = nn.Linear(input_size + hidden_size, hidden_size)\n",
    "        self.i2o = nn.Linear(input_size + hidden_size, output_size)\n",
    "        self.softmax = nn.LogSoftmax(dim=1)\n",
    "    \n",
    "    def forward(self, input, hidden):\n",
    "        combined = torch.cat((input, hidden), 1)  # Concatenate input and hidden state\n",
    "        hidden = torch.tanh(self.i2h(combined))\n",
    "        output = self.softmax(self.i2o(combined))\n",
    "        return output, hidden\n",
    "    \n",
    "    def initHidden(self):\n",
    "        return torch.zeros(1, self.hidden_size)"
   ]
  },
  {
   "cell_type": "markdown",
   "metadata": {},
   "source": [
    "\n",
    "#### **Dataset Preparation**\n",
    "\n",
    "For demonstration, we'll create a toy dataset for a simple classification task.\n"
   ]
  },
  {
   "cell_type": "code",
   "execution_count": 3,
   "metadata": {
    "execution": {
     "iopub.execute_input": "2024-12-06T15:53:57.065960Z",
     "iopub.status.busy": "2024-12-06T15:53:57.065575Z",
     "iopub.status.idle": "2024-12-06T15:53:57.121308Z",
     "shell.execute_reply": "2024-12-06T15:53:57.120268Z",
     "shell.execute_reply.started": "2024-12-06T15:53:57.065924Z"
    }
   },
   "outputs": [],
   "source": [
    "# Toy dataset: binary classification based on sum of input vector\n",
    "np.random.seed(0)\n",
    "torch.manual_seed(0)\n",
    "\n",
    "# Generate random data\n",
    "data_size = 1000\n",
    "input_size = 10\n",
    "hidden_size = 20\n",
    "output_size = 2  # Binary classification\n",
    "\n",
    "# Inputs\n",
    "X = np.random.randn(data_size, input_size)\n",
    "\n",
    "# Labels: if sum > 0, class 1 else class 0\n",
    "y = (X.sum(axis=1) > 0).astype(int)\n",
    "y = torch.tensor(y, dtype=torch.long).view(-1, 1)"
   ]
  },
  {
   "cell_type": "markdown",
   "metadata": {},
   "source": [
    "\n",
    "#### **Training the Simple RNN**\n"
   ]
  },
  {
   "cell_type": "code",
   "execution_count": 4,
   "metadata": {
    "execution": {
     "iopub.execute_input": "2024-12-06T15:54:25.332028Z",
     "iopub.status.busy": "2024-12-06T15:54:25.331631Z",
     "iopub.status.idle": "2024-12-06T15:55:12.711408Z",
     "shell.execute_reply": "2024-12-06T15:55:12.710283Z",
     "shell.execute_reply.started": "2024-12-06T15:54:25.331993Z"
    }
   },
   "outputs": [
    {
     "name": "stdout",
     "output_type": "stream",
     "text": [
      "Epoch 10/100, Loss: 0.1195\n",
      "Epoch 20/100, Loss: 0.0909\n",
      "Epoch 30/100, Loss: 0.0777\n",
      "Epoch 40/100, Loss: 0.0697\n",
      "Epoch 50/100, Loss: 0.0641\n",
      "Epoch 60/100, Loss: 0.0598\n",
      "Epoch 70/100, Loss: 0.0565\n",
      "Epoch 80/100, Loss: 0.0537\n",
      "Epoch 90/100, Loss: 0.0514\n",
      "Epoch 100/100, Loss: 0.0495\n"
     ]
    }
   ],
   "source": [
    "# Instantiate the model, define loss and optimizer\n",
    "model = SimpleRNN(input_size, hidden_size, output_size)\n",
    "criterion = nn.NLLLoss()\n",
    "optimizer = optim.SGD(model.parameters(), lr=0.005)\n",
    "\n",
    "# Training loop\n",
    "num_epochs = 100\n",
    "loss_history = []\n",
    "\n",
    "for epoch in range(num_epochs):\n",
    "    total_loss = 0\n",
    "    for i in range(data_size):\n",
    "        input_tensor = torch.tensor(X[i], dtype=torch.float).view(1, -1)\n",
    "        target = y[i]\n",
    "        \n",
    "        hidden = model.initHidden()\n",
    "        \n",
    "        model.zero_grad()\n",
    "        \n",
    "        output, hidden = model(input_tensor, hidden)\n",
    "        loss = criterion(output, target)\n",
    "        loss.backward()\n",
    "        \n",
    "        optimizer.step()\n",
    "        \n",
    "        total_loss += loss.item()\n",
    "    \n",
    "    average_loss = total_loss / data_size\n",
    "    loss_history.append(average_loss)\n",
    "    \n",
    "    if (epoch+1) % 10 == 0:\n",
    "        print(f'Epoch {epoch+1}/{num_epochs}, Loss: {average_loss:.4f}')"
   ]
  },
  {
   "cell_type": "code",
   "execution_count": 5,
   "metadata": {
    "execution": {
     "iopub.execute_input": "2024-12-06T15:55:16.085344Z",
     "iopub.status.busy": "2024-12-06T15:55:16.084795Z",
     "iopub.status.idle": "2024-12-06T15:55:16.458683Z",
     "shell.execute_reply": "2024-12-06T15:55:16.457287Z",
     "shell.execute_reply.started": "2024-12-06T15:55:16.085298Z"
    }
   },
   "outputs": [
    {
     "data": {
      "image/png": "[encoded data removed]",
      "text/plain": [
       "<Figure size 1000x500 with 1 Axes>"
      ]
     },
     "metadata": {},
     "output_type": "display_data"
    }
   ],
   "source": [
    "plt.figure(figsize=(10,5))\n",
    "plt.plot(loss_history, label='Training Loss')\n",
    "plt.xlabel('Epoch')\n",
    "plt.ylabel('Loss')\n",
    "plt.title('Loss Curve for Simple RNN')\n",
    "plt.legend()\n",
    "plt.show()"
   ]
  },
  {
   "cell_type": "markdown",
   "metadata": {},
   "source": [
    "### **Implementing LSTM and GRU**\n",
    "\n",
    "PyTorch provides built-in modules for LSTM and GRU, simplifying their implementation.\n",
    "\n",
    "#### **LSTM Implementation**"
   ]
  },
  {
   "cell_type": "code",
   "execution_count": 6,
   "metadata": {
    "execution": {
     "iopub.execute_input": "2024-12-06T15:55:57.696719Z",
     "iopub.status.busy": "2024-12-06T15:55:57.696315Z",
     "iopub.status.idle": "2024-12-06T15:55:57.710442Z",
     "shell.execute_reply": "2024-12-06T15:55:57.708473Z",
     "shell.execute_reply.started": "2024-12-06T15:55:57.696683Z"
    }
   },
   "outputs": [],
   "source": [
    "class LSTMClassifier(nn.Module):\n",
    "    def __init__(self, input_size, hidden_size, output_size):\n",
    "        super(LSTMClassifier, self).__init__()\n",
    "        self.hidden_size = hidden_size\n",
    "        \n",
    "        # Define LSTM layer\n",
    "        self.lstm = nn.LSTM(input_size, hidden_size, batch_first=True)\n",
    "        \n",
    "        # Define output layer\n",
    "        self.fc = nn.Linear(hidden_size, output_size)\n",
    "        self.softmax = nn.LogSoftmax(dim=1)\n",
    "    \n",
    "    def forward(self, x):\n",
    "        # Initialize hidden and cell states\n",
    "        h0 = torch.zeros(1, x.size(0), self.hidden_size)\n",
    "        c0 = torch.zeros(1, x.size(0), self.hidden_size)\n",
    "        \n",
    "        # Forward propagate LSTM\n",
    "        out, _ = self.lstm(x, (h0, c0))  # out: tensor of shape (batch_size, seq_length, hidden_size)\n",
    "        \n",
    "        # Decode the last time step\n",
    "        out = self.fc(out[:, -1, :])\n",
    "        out = self.softmax(out)\n",
    "        return out"
   ]
  },
  {
   "cell_type": "markdown",
   "metadata": {},
   "source": [
    "#### **GRU Implementation**"
   ]
  },
  {
   "cell_type": "code",
   "execution_count": 11,
   "metadata": {
    "execution": {
     "iopub.execute_input": "2024-12-06T16:00:08.097444Z",
     "iopub.status.busy": "2024-12-06T16:00:08.097046Z",
     "iopub.status.idle": "2024-12-06T16:00:08.105301Z",
     "shell.execute_reply": "2024-12-06T16:00:08.103899Z",
     "shell.execute_reply.started": "2024-12-06T16:00:08.097410Z"
    }
   },
   "outputs": [],
   "source": [
    "class GRUClassifier(nn.Module):\n",
    "    def __init__(self, input_size, hidden_size, output_size):\n",
    "        super(GRUClassifier, self).__init__()\n",
    "        self.hidden_size = hidden_size\n",
    "        \n",
    "        # Define GRU layer\n",
    "        self.gru = nn.GRU(input_size, hidden_size, batch_first=True)\n",
    "        \n",
    "        # Define output layer\n",
    "        self.fc = nn.Linear(hidden_size, output_size)\n",
    "        self.softmax = nn.LogSoftmax(dim=1)\n",
    "    \n",
    "    def forward(self, x):\n",
    "        # Initialize hidden state\n",
    "        h0 = torch.zeros(1, x.size(0), self.hidden_size)\n",
    "        \n",
    "        # Forward propagate GRU\n",
    "        out, _ = self.gru(x, h0)  # out: tensor of shape (batch_size, seq_length, hidden_size)\n",
    "        \n",
    "        # Decode the last time step\n",
    "        out = self.fc(out[:, -1, :])\n",
    "        out = self.softmax(out)\n",
    "        return out"
   ]
  },
  {
   "cell_type": "markdown",
   "metadata": {},
   "source": [
    "#### **Preparing Data for LSTM and GRU**"
   ]
  },
  {
   "cell_type": "code",
   "execution_count": 8,
   "metadata": {
    "execution": {
     "iopub.execute_input": "2024-12-06T15:58:48.084814Z",
     "iopub.status.busy": "2024-12-06T15:58:48.084387Z",
     "iopub.status.idle": "2024-12-06T15:58:48.092537Z",
     "shell.execute_reply": "2024-12-06T15:58:48.091150Z",
     "shell.execute_reply.started": "2024-12-06T15:58:48.084776Z"
    }
   },
   "outputs": [],
   "source": [
    "# Reshape data for LSTM and GRU\n",
    "# LSTM expects input of shape (batch_size, seq_length, input_size)\n",
    "# We'll treat each input vector as a sequence of length 1\n",
    "X_lstm = torch.tensor(X, dtype=torch.float).view(data_size, 1, input_size)\n",
    "y_lstm = y.squeeze()\n",
    "\n",
    "# Create TensorDataset and DataLoader\n",
    "from torch.utils.data import TensorDataset, DataLoader\n",
    "\n",
    "dataset = TensorDataset(X_lstm, y_lstm)\n",
    "batch_size = 32\n",
    "dataloader = DataLoader(dataset, batch_size=batch_size, shuffle=True)"
   ]
  },
  {
   "cell_type": "markdown",
   "metadata": {},
   "source": [
    "#### **Training the LSTM Classifier**"
   ]
  },
  {
   "cell_type": "code",
   "execution_count": 9,
   "metadata": {
    "execution": {
     "iopub.execute_input": "2024-12-06T15:58:50.684905Z",
     "iopub.status.busy": "2024-12-06T15:58:50.684509Z",
     "iopub.status.idle": "2024-12-06T15:58:52.481796Z",
     "shell.execute_reply": "2024-12-06T15:58:52.480682Z",
     "shell.execute_reply.started": "2024-12-06T15:58:50.684867Z"
    }
   },
   "outputs": [
    {
     "name": "stdout",
     "output_type": "stream",
     "text": [
      "Epoch 5/20, Loss: 0.2654\n",
      "Epoch 10/20, Loss: 0.1032\n",
      "Epoch 15/20, Loss: 0.0644\n",
      "Epoch 20/20, Loss: 0.0479\n"
     ]
    }
   ],
   "source": [
    "# Instantiate the model, define loss and optimizer\n",
    "hidden_size = 50\n",
    "model_lstm = LSTMClassifier(input_size, hidden_size, output_size)\n",
    "criterion = nn.NLLLoss()\n",
    "optimizer = optim.Adam(model_lstm.parameters(), lr=0.001)\n",
    "\n",
    "# Training loop\n",
    "num_epochs = 20\n",
    "loss_history_lstm = []\n",
    "\n",
    "for epoch in range(num_epochs):\n",
    "    total_loss = 0\n",
    "    for inputs, targets in dataloader:\n",
    "        optimizer.zero_grad()\n",
    "        outputs = model_lstm(inputs)\n",
    "        loss = criterion(outputs, targets)\n",
    "        loss.backward()\n",
    "        optimizer.step()\n",
    "        total_loss += loss.item()\n",
    "    \n",
    "    average_loss = total_loss / len(dataloader)\n",
    "    loss_history_lstm.append(average_loss)\n",
    "    \n",
    "    if (epoch+1) % 5 == 0:\n",
    "        print(f'Epoch {epoch+1}/{num_epochs}, Loss: {average_loss:.4f}')"
   ]
  },
  {
   "cell_type": "markdown",
   "metadata": {},
   "source": [
    "#### **Training the GRU Classifier**"
   ]
  },
  {
   "cell_type": "code",
   "execution_count": 12,
   "metadata": {
    "execution": {
     "iopub.execute_input": "2024-12-06T16:00:15.397776Z",
     "iopub.status.busy": "2024-12-06T16:00:15.397224Z",
     "iopub.status.idle": "2024-12-06T16:00:17.443829Z",
     "shell.execute_reply": "2024-12-06T16:00:17.442300Z",
     "shell.execute_reply.started": "2024-12-06T16:00:15.397732Z"
    }
   },
   "outputs": [
    {
     "name": "stdout",
     "output_type": "stream",
     "text": [
      "Epoch 5/20, Loss: 0.2030\n",
      "Epoch 10/20, Loss: 0.0931\n",
      "Epoch 15/20, Loss: 0.0658\n",
      "Epoch 20/20, Loss: 0.0490\n"
     ]
    }
   ],
   "source": [
    "# Instantiate the model, define loss and optimizer\n",
    "model_gru = GRUClassifier(input_size, hidden_size, output_size)\n",
    "criterion = nn.NLLLoss()\n",
    "optimizer = optim.Adam(model_gru.parameters(), lr=0.001)\n",
    "\n",
    "# Training loop\n",
    "num_epochs = 20\n",
    "loss_history_gru = []\n",
    "\n",
    "for epoch in range(num_epochs):\n",
    "    total_loss = 0\n",
    "    for inputs, targets in dataloader:\n",
    "        optimizer.zero_grad()\n",
    "        outputs = model_gru(inputs)\n",
    "        loss = criterion(outputs, targets)\n",
    "        loss.backward()\n",
    "        optimizer.step()\n",
    "        total_loss += loss.item()\n",
    "    \n",
    "    average_loss = total_loss / len(dataloader)\n",
    "    loss_history_gru.append(average_loss)\n",
    "    \n",
    "    if (epoch+1) % 5 == 0:\n",
    "        print(f'Epoch {epoch+1}/{num_epochs}, Loss: {average_loss:.4f}')"
   ]
  },
  {
   "cell_type": "markdown",
   "metadata": {},
   "source": [
    "#### **Plotting the Loss Curves**"
   ]
  },
  {
   "cell_type": "code",
   "execution_count": 13,
   "metadata": {
    "execution": {
     "iopub.execute_input": "2024-12-06T16:00:42.881680Z",
     "iopub.status.busy": "2024-12-06T16:00:42.881285Z",
     "iopub.status.idle": "2024-12-06T16:00:43.127534Z",
     "shell.execute_reply": "2024-12-06T16:00:43.126338Z",
     "shell.execute_reply.started": "2024-12-06T16:00:42.881647Z"
    }
   },
   "outputs": [
    {
     "data": {
      "image/png": "[encoded data removed]",
      "text/plain": [
       "<Figure size 1000x500 with 1 Axes>"
      ]
     },
     "metadata": {},
     "output_type": "display_data"
    }
   ],
   "source": [
    "plt.figure(figsize=(10,5))\n",
    "plt.plot(loss_history, label='Simple RNN')\n",
    "plt.plot(loss_history_lstm, label='LSTM')\n",
    "plt.plot(loss_history_gru, label='GRU')\n",
    "plt.xlabel('Epoch')\n",
    "plt.ylabel('Loss')\n",
    "plt.title('Loss Curves for RNN, LSTM, and GRU')\n",
    "plt.legend()\n",
    "plt.show()"
   ]
  },
  {
   "cell_type": "markdown",
   "metadata": {},
   "source": [
    "### **Handling Vanishing and Exploding Gradients**\n",
    "\n",
    "PyTorch provides utilities to manage exploding gradients, primarily through gradient clipping.\n",
    "\n",
    "#### **Gradient Clipping**\n",
    "\n",
    "Gradient clipping prevents the gradients from becoming too large, addressing the exploding gradient problem.\n"
   ]
  },
  {
   "cell_type": "code",
   "execution_count": 14,
   "metadata": {
    "execution": {
     "iopub.execute_input": "2024-12-06T16:01:50.410397Z",
     "iopub.status.busy": "2024-12-06T16:01:50.409812Z",
     "iopub.status.idle": "2024-12-06T16:01:52.406456Z",
     "shell.execute_reply": "2024-12-06T16:01:52.404885Z",
     "shell.execute_reply.started": "2024-12-06T16:01:50.410336Z"
    }
   },
   "outputs": [
    {
     "name": "stdout",
     "output_type": "stream",
     "text": [
      "Epoch 5/20, Loss: 0.2103\n",
      "Epoch 10/20, Loss: 0.0953\n",
      "Epoch 15/20, Loss: 0.0628\n",
      "Epoch 20/20, Loss: 0.0487\n"
     ]
    }
   ],
   "source": [
    "# Example of gradient clipping in training loop\n",
    "\n",
    "# Define a new training loop with gradient clipping for the GRU model\n",
    "model_gru = GRUClassifier(input_size, hidden_size, output_size)\n",
    "criterion = nn.NLLLoss()\n",
    "optimizer = optim.Adam(model_gru.parameters(), lr=0.001)\n",
    "\n",
    "num_epochs = 20\n",
    "loss_history_gru_clip = []\n",
    "\n",
    "for epoch in range(num_epochs):\n",
    "    total_loss = 0\n",
    "    for inputs, targets in dataloader:\n",
    "        optimizer.zero_grad()\n",
    "        outputs = model_gru(inputs)\n",
    "        loss = criterion(outputs, targets)\n",
    "        loss.backward()\n",
    "        \n",
    "        # Gradient clipping\n",
    "        torch.nn.utils.clip_grad_norm_(model_gru.parameters(), max_norm=1.0)\n",
    "        \n",
    "        optimizer.step()\n",
    "        total_loss += loss.item()\n",
    "    \n",
    "    average_loss = total_loss / len(dataloader)\n",
    "    loss_history_gru_clip.append(average_loss)\n",
    "    \n",
    "    if (epoch+1) % 5 == 0:\n",
    "        print(f'Epoch {epoch+1}/{num_epochs}, Loss: {average_loss:.4f}')"
   ]
  },
  {
   "cell_type": "markdown",
   "metadata": {},
   "source": [
    "\n",
    "#### **Visualization of Gradients**\n",
    "\n",
    "To visualize the effect of vanishing and exploding gradients, we can monitor the norm of gradients during training.\n"
   ]
  },
  {
   "cell_type": "code",
   "execution_count": 18,
   "metadata": {
    "execution": {
     "iopub.execute_input": "2024-12-06T16:08:40.903209Z",
     "iopub.status.busy": "2024-12-06T16:08:40.902727Z",
     "iopub.status.idle": "2024-12-06T16:08:41.508602Z",
     "shell.execute_reply": "2024-12-06T16:08:41.506687Z",
     "shell.execute_reply.started": "2024-12-06T16:08:40.903132Z"
    }
   },
   "outputs": [
    {
     "ename": "RuntimeError",
     "evalue": "0D or 1D target tensor expected, multi-target not supported",
     "output_type": "error",
     "traceback": [
      "\u001b[0;31m---------------------------------------------------------------------------\u001b[0m",
      "\u001b[0;31mRuntimeError\u001b[0m                              Traceback (most recent call last)",
      "Cell \u001b[0;32mIn[18], line 66\u001b[0m\n\u001b[1;32m     63\u001b[0m     \u001b[38;5;28;01mreturn\u001b[39;00m grad_norms_before, grad_norms_after\n\u001b[1;32m     65\u001b[0m \u001b[38;5;66;03m# Monitor gradients with clipping\u001b[39;00m\n\u001b[0;32m---> 66\u001b[0m grad_norms_before, grad_norms_after \u001b[38;5;241m=\u001b[39m \u001b[43mmonitor_gradients_with_clipping\u001b[49m\u001b[43m(\u001b[49m\u001b[43mmodel_gru\u001b[49m\u001b[43m,\u001b[49m\u001b[43m \u001b[49m\u001b[43mdataloader\u001b[49m\u001b[43m,\u001b[49m\u001b[43m \u001b[49m\u001b[43moptimizer\u001b[49m\u001b[43m,\u001b[49m\u001b[43m \u001b[49m\u001b[43mcriterion\u001b[49m\u001b[43m,\u001b[49m\u001b[43m \u001b[49m\u001b[43mmax_norm\u001b[49m\u001b[38;5;241;43m=\u001b[39;49m\u001b[38;5;241;43m1.0\u001b[39;49m\u001b[43m)\u001b[49m\n\u001b[1;32m     68\u001b[0m \u001b[38;5;66;03m# Plotting gradient norms\u001b[39;00m\n\u001b[1;32m     69\u001b[0m plt\u001b[38;5;241m.\u001b[39mfigure(figsize\u001b[38;5;241m=\u001b[39m(\u001b[38;5;241m12\u001b[39m,\u001b[38;5;241m6\u001b[39m))\n",
      "Cell \u001b[0;32mIn[18], line 38\u001b[0m, in \u001b[0;36mmonitor_gradients_with_clipping\u001b[0;34m(model, dataloader, optimizer, criterion, max_norm)\u001b[0m\n\u001b[1;32m     36\u001b[0m optimizer\u001b[38;5;241m.\u001b[39mzero_grad()            \u001b[38;5;66;03m# Zero the gradients\u001b[39;00m\n\u001b[1;32m     37\u001b[0m outputs \u001b[38;5;241m=\u001b[39m model(inputs)          \u001b[38;5;66;03m# Forward pass\u001b[39;00m\n\u001b[0;32m---> 38\u001b[0m loss \u001b[38;5;241m=\u001b[39m \u001b[43mcriterion\u001b[49m\u001b[43m(\u001b[49m\u001b[43moutputs\u001b[49m\u001b[43m,\u001b[49m\u001b[43m \u001b[49m\u001b[43mtargets\u001b[49m\u001b[43m)\u001b[49m  \u001b[38;5;66;03m# Compute loss\u001b[39;00m\n\u001b[1;32m     39\u001b[0m loss\u001b[38;5;241m.\u001b[39mbackward()                  \u001b[38;5;66;03m# Backward pass\u001b[39;00m\n\u001b[1;32m     41\u001b[0m \u001b[38;5;66;03m# Compute gradient norm before clipping\u001b[39;00m\n",
      "File \u001b[0;32m/opt/conda/lib/python3.10/site-packages/torch/nn/modules/module.py:1553\u001b[0m, in \u001b[0;36mModule._wrapped_call_impl\u001b[0;34m(self, *args, **kwargs)\u001b[0m\n\u001b[1;32m   1551\u001b[0m     \u001b[38;5;28;01mreturn\u001b[39;00m \u001b[38;5;28mself\u001b[39m\u001b[38;5;241m.\u001b[39m_compiled_call_impl(\u001b[38;5;241m*\u001b[39margs, \u001b[38;5;241m*\u001b[39m\u001b[38;5;241m*\u001b[39mkwargs)  \u001b[38;5;66;03m# type: ignore[misc]\u001b[39;00m\n\u001b[1;32m   1552\u001b[0m \u001b[38;5;28;01melse\u001b[39;00m:\n\u001b[0;32m-> 1553\u001b[0m     \u001b[38;5;28;01mreturn\u001b[39;00m \u001b[38;5;28;43mself\u001b[39;49m\u001b[38;5;241;43m.\u001b[39;49m\u001b[43m_call_impl\u001b[49m\u001b[43m(\u001b[49m\u001b[38;5;241;43m*\u001b[39;49m\u001b[43margs\u001b[49m\u001b[43m,\u001b[49m\u001b[43m \u001b[49m\u001b[38;5;241;43m*\u001b[39;49m\u001b[38;5;241;43m*\u001b[39;49m\u001b[43mkwargs\u001b[49m\u001b[43m)\u001b[49m\n",
      "File \u001b[0;32m/opt/conda/lib/python3.10/site-packages/torch/nn/modules/module.py:1562\u001b[0m, in \u001b[0;36mModule._call_impl\u001b[0;34m(self, *args, **kwargs)\u001b[0m\n\u001b[1;32m   1557\u001b[0m \u001b[38;5;66;03m# If we don't have any hooks, we want to skip the rest of the logic in\u001b[39;00m\n\u001b[1;32m   1558\u001b[0m \u001b[38;5;66;03m# this function, and just call forward.\u001b[39;00m\n\u001b[1;32m   1559\u001b[0m \u001b[38;5;28;01mif\u001b[39;00m \u001b[38;5;129;01mnot\u001b[39;00m (\u001b[38;5;28mself\u001b[39m\u001b[38;5;241m.\u001b[39m_backward_hooks \u001b[38;5;129;01mor\u001b[39;00m \u001b[38;5;28mself\u001b[39m\u001b[38;5;241m.\u001b[39m_backward_pre_hooks \u001b[38;5;129;01mor\u001b[39;00m \u001b[38;5;28mself\u001b[39m\u001b[38;5;241m.\u001b[39m_forward_hooks \u001b[38;5;129;01mor\u001b[39;00m \u001b[38;5;28mself\u001b[39m\u001b[38;5;241m.\u001b[39m_forward_pre_hooks\n\u001b[1;32m   1560\u001b[0m         \u001b[38;5;129;01mor\u001b[39;00m _global_backward_pre_hooks \u001b[38;5;129;01mor\u001b[39;00m _global_backward_hooks\n\u001b[1;32m   1561\u001b[0m         \u001b[38;5;129;01mor\u001b[39;00m _global_forward_hooks \u001b[38;5;129;01mor\u001b[39;00m _global_forward_pre_hooks):\n\u001b[0;32m-> 1562\u001b[0m     \u001b[38;5;28;01mreturn\u001b[39;00m \u001b[43mforward_call\u001b[49m\u001b[43m(\u001b[49m\u001b[38;5;241;43m*\u001b[39;49m\u001b[43margs\u001b[49m\u001b[43m,\u001b[49m\u001b[43m \u001b[49m\u001b[38;5;241;43m*\u001b[39;49m\u001b[38;5;241;43m*\u001b[39;49m\u001b[43mkwargs\u001b[49m\u001b[43m)\u001b[49m\n\u001b[1;32m   1564\u001b[0m \u001b[38;5;28;01mtry\u001b[39;00m:\n\u001b[1;32m   1565\u001b[0m     result \u001b[38;5;241m=\u001b[39m \u001b[38;5;28;01mNone\u001b[39;00m\n",
      "File \u001b[0;32m/opt/conda/lib/python3.10/site-packages/torch/nn/modules/loss.py:218\u001b[0m, in \u001b[0;36mNLLLoss.forward\u001b[0;34m(self, input, target)\u001b[0m\n\u001b[1;32m    217\u001b[0m \u001b[38;5;28;01mdef\u001b[39;00m \u001b[38;5;21mforward\u001b[39m(\u001b[38;5;28mself\u001b[39m, \u001b[38;5;28minput\u001b[39m: Tensor, target: Tensor) \u001b[38;5;241m-\u001b[39m\u001b[38;5;241m>\u001b[39m Tensor:\n\u001b[0;32m--> 218\u001b[0m     \u001b[38;5;28;01mreturn\u001b[39;00m \u001b[43mF\u001b[49m\u001b[38;5;241;43m.\u001b[39;49m\u001b[43mnll_loss\u001b[49m\u001b[43m(\u001b[49m\u001b[38;5;28;43minput\u001b[39;49m\u001b[43m,\u001b[49m\u001b[43m \u001b[49m\u001b[43mtarget\u001b[49m\u001b[43m,\u001b[49m\u001b[43m \u001b[49m\u001b[43mweight\u001b[49m\u001b[38;5;241;43m=\u001b[39;49m\u001b[38;5;28;43mself\u001b[39;49m\u001b[38;5;241;43m.\u001b[39;49m\u001b[43mweight\u001b[49m\u001b[43m,\u001b[49m\u001b[43m \u001b[49m\u001b[43mignore_index\u001b[49m\u001b[38;5;241;43m=\u001b[39;49m\u001b[38;5;28;43mself\u001b[39;49m\u001b[38;5;241;43m.\u001b[39;49m\u001b[43mignore_index\u001b[49m\u001b[43m,\u001b[49m\u001b[43m \u001b[49m\u001b[43mreduction\u001b[49m\u001b[38;5;241;43m=\u001b[39;49m\u001b[38;5;28;43mself\u001b[39;49m\u001b[38;5;241;43m.\u001b[39;49m\u001b[43mreduction\u001b[49m\u001b[43m)\u001b[49m\n",
      "File \u001b[0;32m/opt/conda/lib/python3.10/site-packages/torch/nn/functional.py:2778\u001b[0m, in \u001b[0;36mnll_loss\u001b[0;34m(input, target, weight, size_average, ignore_index, reduce, reduction)\u001b[0m\n\u001b[1;32m   2776\u001b[0m \u001b[38;5;28;01mif\u001b[39;00m size_average \u001b[38;5;129;01mis\u001b[39;00m \u001b[38;5;129;01mnot\u001b[39;00m \u001b[38;5;28;01mNone\u001b[39;00m \u001b[38;5;129;01mor\u001b[39;00m reduce \u001b[38;5;129;01mis\u001b[39;00m \u001b[38;5;129;01mnot\u001b[39;00m \u001b[38;5;28;01mNone\u001b[39;00m:\n\u001b[1;32m   2777\u001b[0m     reduction \u001b[38;5;241m=\u001b[39m _Reduction\u001b[38;5;241m.\u001b[39mlegacy_get_string(size_average, reduce)\n\u001b[0;32m-> 2778\u001b[0m \u001b[38;5;28;01mreturn\u001b[39;00m \u001b[43mtorch\u001b[49m\u001b[38;5;241;43m.\u001b[39;49m\u001b[43m_C\u001b[49m\u001b[38;5;241;43m.\u001b[39;49m\u001b[43m_nn\u001b[49m\u001b[38;5;241;43m.\u001b[39;49m\u001b[43mnll_loss_nd\u001b[49m\u001b[43m(\u001b[49m\u001b[38;5;28;43minput\u001b[39;49m\u001b[43m,\u001b[49m\u001b[43m \u001b[49m\u001b[43mtarget\u001b[49m\u001b[43m,\u001b[49m\u001b[43m \u001b[49m\u001b[43mweight\u001b[49m\u001b[43m,\u001b[49m\u001b[43m \u001b[49m\u001b[43m_Reduction\u001b[49m\u001b[38;5;241;43m.\u001b[39;49m\u001b[43mget_enum\u001b[49m\u001b[43m(\u001b[49m\u001b[43mreduction\u001b[49m\u001b[43m)\u001b[49m\u001b[43m,\u001b[49m\u001b[43m \u001b[49m\u001b[43mignore_index\u001b[49m\u001b[43m)\u001b[49m\n",
      "\u001b[0;31mRuntimeError\u001b[0m: 0D or 1D target tensor expected, multi-target not supported"
     ]
    }
   ],
   "source": [
    "# Function to monitor gradient norms\n",
    "def monitor_gradients(model, dataloader):\n",
    "    grad_norms = []\n",
    "    for inputs, targets in dataloader:\n",
    "        optimizer.zero_grad()\n",
    "        outputs = model(inputs)\n",
    "        loss = criterion(outputs, targets)\n",
    "        loss.backward()\n",
    "        grad_norm = 0\n",
    "        for param in model.parameters():\n",
    "            if param.grad is not None:\n",
    "                grad_norm += param.grad.norm().item()\n",
    "        grad_norms.append(grad_norm)\n",
    "    return grad_norms\n",
    "\n",
    "# Monitor gradients before and after clipping\n",
    "model_gru = GRUClassifier(input_size, hidden_size, output_size)\n",
    "criterion = nn.NLLLoss()\n",
    "optimizer = optim.Adam(model_gru.parameters(), lr=0.001)\n",
    "\n",
    "# Before clipping\n",
    "grad_norms_before = monitor_gradients(model_gru, dataloader)\n",
    "\n",
    "# Apply gradient clipping and monitor\n",
    "grad_norms_after = []\n",
    "for epoch in range(1):\n",
    "    for inputs, targets in dataloader:\n",
    "        optimizer.zero_grad()\n",
    "        outputs = model_gru(inputs)\n",
    "        loss = criterion(outputs, targets)\n",
    "        loss.backward()\n",
    "        \n",
    "        # Without clipping\n",
    "        grad_norm = 0\n",
    "        for param in model_gru.parameters():\n",
    "            if param.grad is not None:\n",
    "                grad_norm += param.grad.norm().item()\n",
    "        grad_norms_after.append(grad_norm)\n",
    "        \n",
    "        # With clipping\n",
    "        torch.nn.utils.clip_grad_norm_(model_gru.parameters(), max_norm=1.0)\n",
    "        loss.backward()\n",
    "        grad_norm_clipped = 0\n",
    "        for param in model_gru.parameters():\n",
    "            if param.grad is not None:\n",
    "                grad_norm_clipped += param.grad.norm().item()\n",
    "        grad_norms_after.append(grad_norm_clipped)\n",
    "\n",
    "# Plotting gradient norms\n",
    "plt.figure(figsize=(10,5))\n",
    "plt.plot(grad_norms_before, label='Before Clipping')\n",
    "plt.plot(grad_norms_after, label='After Clipping')\n",
    "plt.xlabel('Batch')\n",
    "plt.ylabel('Gradient Norm')\n",
    "plt.title('Gradient Norms Before and After Clipping')\n",
    "plt.legend()\n",
    "plt.show()"
   ]
  },
  {
   "cell_type": "markdown",
   "metadata": {},
   "source": [
    "\n",
    "## **6. Conclusion**\n",
    "\n",
    "In this notebook, we've delved into the fundamentals of **Recurrent Neural Networks (RNNs)**, explored the challenges of **vanishing and exploding gradients**, and examined advanced architectures like **LSTM** and **GRU**. Through practical implementations using **PyTorch**, we've seen how these models can be built, trained, and optimized for sequence modeling tasks.\n",
    "\n",
    "**Key Takeaways:**\n",
    "\n",
    "1. **RNNs** are powerful for modeling sequential data but suffer from gradient-related challenges.\n",
    "2. **Vanishing Gradients** hinder learning long-term dependencies, while **Exploding Gradients** can destabilize training.\n",
    "3. **LSTM** and **GRU** architectures effectively address these challenges through gating mechanisms.\n",
    "4. **PyTorch** provides robust tools and modules to implement and train these models efficiently.\n",
    "5. **Gradient Clipping** is a practical technique to prevent exploding gradients and stabilize training.\n",
    "\n",
    "---\n",
    "\n",
    "## **7. References**\n",
    "\n",
    "- [Jurafsky & Martin - Speech and Language Processing](https://web.stanford.edu/~jurafsky/slp3/)\n",
    "- [Elman, J. L. (1990). Finding structure in time](https://doi.org/10.1515/9781400833599-002)\n",
    "- [Hochreiter, S., & Schmidhuber, J. (1997). Long Short-Term Memory](https://www.bioinf.jku.at/publications/older/2604.pdf)\n",
    "- [Cho, K., et al. (2014). Learning Phrase Representations using RNN Encoder-Decoder for Statistical Machine Translation](https://arxiv.org/abs/1406.1078)\n",
    "- [PyTorch Documentation](https://pytorch.org/docs/stable/index.html)\n",
    "- [Understanding the difficulty of training deep feedforward neural networks](https://proceedings.neurips.cc/paper/2010/file/0c1d2ce14a0c5fb6c1246f5c6d2f3d1f-Paper.pdf)\n",
    "- [Exploding Gradients in RNNs](https://towardsdatascience.com/exploding-gradients-in-neural-networks-89f76620a9fc)\n",
    "- [Vanishing Gradients in Neural Networks](https://towardsdatascience.com/vanishing-gradients-in-neural-networks-8f04f34c3a5d)\n",
    "\n",
    "---\n",
    "\n",
    "**Happy Learning!**\n",
    "\n",
    "---"
   ]
  }
 ],
 "metadata": {
  "kaggle": {
   "accelerator": "none",
   "dataSources": [],
   "dockerImageVersionId": 30804,
   "isGpuEnabled": false,
   "isInternetEnabled": true,
   "language": "python",
   "sourceType": "notebook"
  },
  "kernelspec": {
   "display_name": "Python 3 (ipykernel)",
   "language": "python",
   "name": "python3"
  },
  "language_info": {
   "codemirror_mode": {
    "name": "ipython",
    "version": 3
   },
   "file_extension": ".py",
   "mimetype": "text/x-python",
   "name": "python",
   "nbconvert_exporter": "python",
   "pygments_lexer": "ipython3",
   "version": "3.12.7"
  }
 },
 "nbformat": 4,
 "nbformat_minor": 4
}
