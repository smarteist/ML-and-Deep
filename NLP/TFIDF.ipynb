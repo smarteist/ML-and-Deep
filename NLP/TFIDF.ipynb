{
 "cells": [
  {
   "cell_type": "code",
   "execution_count": 1,
   "id": "fb16975a-3628-4ec5-8161-6d22eba7d287",
   "metadata": {},
   "outputs": [],
   "source": [
    "from sklearn.feature_extraction.text import TfidfVectorizer\n",
    "from sklearn.feature_extraction.text import ENGLISH_STOP_WORDS\n",
    "import pandas as pd"
   ]
  },
  {
   "cell_type": "code",
   "execution_count": 2,
   "id": "1c10eb2d-2dec-4f09-825e-c5a2e9f72618",
   "metadata": {},
   "outputs": [
    {
     "name": "stdout",
     "output_type": "stream",
     "text": [
      "Clean Corpus:\n"
     ]
    },
    {
     "data": {
      "text/plain": [
       "['love machine learning deep learning',\n",
       " 'Machine learning fascinating powerful',\n",
       " 'Deep learning subset machine learning']"
      ]
     },
     "execution_count": 2,
     "metadata": {},
     "output_type": "execute_result"
    }
   ],
   "source": [
    "# Sample text data (small corpus)\n",
    "corpus = [\n",
    "    \"I love machine learning and deep learning\",\n",
    "    \"Machine learning is fascinating and powerful\",\n",
    "    \"Deep learning is a subset of machine learning\",\n",
    "]\n",
    "texts = [' '.join([word for word in text.split() if word.lower() not in ENGLISH_STOP_WORDS]) for text in corpus]\n",
    "\n",
    "print(\"Clean Corpus:\")\n",
    "texts"
   ]
  },
  {
   "cell_type": "code",
   "execution_count": 3,
   "id": "adc64348-3e64-4e51-823a-e52803824186",
   "metadata": {},
   "outputs": [],
   "source": [
    "tfidf_vectorizer = TfidfVectorizer()\n",
    "\n",
    "# Fit and transform the documents into a TF-IDF matrix\n",
    "tfidf_matrix = tfidf_vectorizer.fit_transform(texts)\n",
    "\n",
    "# Get the feature names (terms) from the vectorizer\n",
    "feature_names = tfidf_vectorizer.get_feature_names_out()\n",
    "\n",
    "# Convert the TF-IDF matrix to a dense array\n",
    "tfidf_dense = tfidf_matrix.todense()"
   ]
  },
  {
   "cell_type": "code",
   "execution_count": 4,
   "id": "f6bfad2f-cbf2-4156-a586-85725a6f6fb0",
   "metadata": {},
   "outputs": [
    {
     "name": "stdout",
     "output_type": "stream",
     "text": [
      "\n",
      "Vocabulary:\n",
      "0: deep\n",
      "1: fascinating\n",
      "2: learning\n",
      "3: love\n",
      "4: machine\n",
      "5: powerful\n",
      "6: subset\n"
     ]
    }
   ],
   "source": [
    "# 2. Displaying the results\n",
    "\n",
    "# Vocabulary - this shows the index of each word in the TF-IDF matrix\n",
    "print(\"\\nVocabulary:\")\n",
    "for index, word in sorted(tfidf_vectorizer.vocabulary_.items(), key=lambda item: item[1]):\n",
    "    print(f\"{word}: {index}\")"
   ]
  },
  {
   "cell_type": "code",
   "execution_count": 5,
   "id": "cd2292b1-6398-4ae3-ba7f-94a77713d177",
   "metadata": {},
   "outputs": [
    {
     "name": "stdout",
     "output_type": "stream",
     "text": [
      "\n",
      "Feature Names:\n",
      "['deep' 'fascinating' 'learning' 'love' 'machine' 'powerful' 'subset']\n"
     ]
    }
   ],
   "source": [
    "# Feature names - the actual words corresponding to the columns in the matrix\n",
    "print(\"\\nFeature Names:\")\n",
    "print(feature_names)"
   ]
  },
  {
   "cell_type": "code",
   "execution_count": 6,
   "id": "c783d1be-3523-4d7c-8e79-e8c2a6b6c937",
   "metadata": {},
   "outputs": [
    {
     "data": {
      "text/plain": [
       "['love machine learning deep learning',\n",
       " 'Machine learning fascinating powerful',\n",
       " 'Deep learning subset machine learning']"
      ]
     },
     "execution_count": 6,
     "metadata": {},
     "output_type": "execute_result"
    }
   ],
   "source": [
    "texts"
   ]
  },
  {
   "cell_type": "code",
   "execution_count": 7,
   "id": "f7060c0c-7da9-4f68-a2ab-1cd95988e8b6",
   "metadata": {},
   "outputs": [
    {
     "data": {
      "text/html": [
       "<div>\n",
       "<style scoped>\n",
       "    .dataframe tbody tr th:only-of-type {\n",
       "        vertical-align: middle;\n",
       "    }\n",
       "\n",
       "    .dataframe tbody tr th {\n",
       "        vertical-align: top;\n",
       "    }\n",
       "\n",
       "    .dataframe thead th {\n",
       "        text-align: right;\n",
       "    }\n",
       "</style>\n",
       "<table border=\"1\" class=\"dataframe\">\n",
       "  <thead>\n",
       "    <tr style=\"text-align: right;\">\n",
       "      <th></th>\n",
       "      <th>deep</th>\n",
       "      <th>fascinating</th>\n",
       "      <th>learning</th>\n",
       "      <th>love</th>\n",
       "      <th>machine</th>\n",
       "      <th>powerful</th>\n",
       "      <th>subset</th>\n",
       "    </tr>\n",
       "  </thead>\n",
       "  <tbody>\n",
       "    <tr>\n",
       "      <th>0</th>\n",
       "      <td>0.417233</td>\n",
       "      <td>0.000000</td>\n",
       "      <td>0.648038</td>\n",
       "      <td>0.548612</td>\n",
       "      <td>0.324019</td>\n",
       "      <td>0.000000</td>\n",
       "      <td>0.000000</td>\n",
       "    </tr>\n",
       "    <tr>\n",
       "      <th>1</th>\n",
       "      <td>0.000000</td>\n",
       "      <td>0.608845</td>\n",
       "      <td>0.359594</td>\n",
       "      <td>0.000000</td>\n",
       "      <td>0.359594</td>\n",
       "      <td>0.608845</td>\n",
       "      <td>0.000000</td>\n",
       "    </tr>\n",
       "    <tr>\n",
       "      <th>2</th>\n",
       "      <td>0.417233</td>\n",
       "      <td>0.000000</td>\n",
       "      <td>0.648038</td>\n",
       "      <td>0.000000</td>\n",
       "      <td>0.324019</td>\n",
       "      <td>0.000000</td>\n",
       "      <td>0.548612</td>\n",
       "    </tr>\n",
       "  </tbody>\n",
       "</table>\n",
       "</div>"
      ],
      "text/plain": [
       "       deep  fascinating  learning      love   machine  powerful    subset\n",
       "0  0.417233     0.000000  0.648038  0.548612  0.324019  0.000000  0.000000\n",
       "1  0.000000     0.608845  0.359594  0.000000  0.359594  0.608845  0.000000\n",
       "2  0.417233     0.000000  0.648038  0.000000  0.324019  0.000000  0.548612"
      ]
     },
     "execution_count": 7,
     "metadata": {},
     "output_type": "execute_result"
    }
   ],
   "source": [
    "# TF-IDF Matrix - dense representation of the TF-IDF weights for each word in the documents\n",
    "pd.DataFrame(tfidf_dense, columns=feature_names)"
   ]
  }
 ],
 "metadata": {
  "kernelspec": {
   "display_name": "Python 3 (ipykernel)",
   "language": "python",
   "name": "python3"
  },
  "language_info": {
   "codemirror_mode": {
    "name": "ipython",
    "version": 3
   },
   "file_extension": ".py",
   "mimetype": "text/x-python",
   "name": "python",
   "nbconvert_exporter": "python",
   "pygments_lexer": "ipython3",
   "version": "3.12.5"
  }
 },
 "nbformat": 4,
 "nbformat_minor": 5
}
