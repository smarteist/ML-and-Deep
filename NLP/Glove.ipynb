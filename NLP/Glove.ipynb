{
 "cells": [
  {
   "cell_type": "code",
   "execution_count": 11,
   "id": "50626007-481b-4fca-b9a4-a306c31a4f18",
   "metadata": {},
   "outputs": [],
   "source": [
    "import numpy as np\n",
    "from gensim.models import KeyedVectors"
   ]
  },
  {
   "cell_type": "code",
   "execution_count": 13,
   "id": "eb356b8e-7d93-4455-98d9-9fa08f99f870",
   "metadata": {},
   "outputs": [],
   "source": [
    "# Load the GloVe vectors directly\n",
    "glove_file = 'glove.6B.100d.txt'\n",
    "model = KeyedVectors.load_word2vec_format(glove_file, binary=False, no_header=True)"
   ]
  },
  {
   "cell_type": "code",
   "execution_count": 14,
   "id": "2cdf85dd-49fe-4cf2-8e8b-6da8f08f311f",
   "metadata": {},
   "outputs": [
    {
     "name": "stdout",
     "output_type": "stream",
     "text": [
      "Vector for 'learning': [ 73.25002  101.048134  54.90684   29.410252  96.98271   45.447105\n",
      "  63.165253  63.097664  66.371765  27.393814  49.33223  121.94084\n",
      "  69.92151   53.78839   94.77553   84.0328    79.07254  100.07702\n",
      "  29.98503  136.38908   99.94898   73.57511  108.54325   75.98183\n",
      "  74.068436  71.02803   61.39424  102.99732   71.40602  111.05082\n",
      "  62.7896   109.05374   30.526587 106.77574   49.531914  90.24095\n",
      "  76.65502  101.788635  61.18764   94.9099   111.19577   47.572163\n",
      " 107.65285   83.063934  28.435495  35.472027  95.68548   89.10055\n",
      "  88.27714   73.812614 123.46367   81.151596  79.85046   57.855686\n",
      " 101.318214 101.16797   59.755207  61.69256  105.49834   88.63616\n",
      " 101.94604  125.66478   63.31627   68.49097   50.080776  39.8954\n",
      " 117.416695  71.44963   39.028137 115.44693   76.705864  72.68155\n",
      "  98.978485 107.60427   49.048313  46.767334  59.764072 107.81959\n",
      "  68.94914   74.39984   55.94484   88.45082   93.37123   94.823\n",
      "  81.41796   59.069927 102.86814   55.549076  87.735664  44.859882\n",
      "  78.494545  64.09791   44.068207  73.97914   63.61013   55.087143\n",
      "  91.87191   77.55726  108.65916   60.282864]\n"
     ]
    }
   ],
   "source": [
    "# Get the vector for the word 'learning'\n",
    "vector = model['learning']\n",
    "print(f\"Vector for 'learning': {vector}\")"
   ]
  }
 ],
 "metadata": {
  "kernelspec": {
   "display_name": "Python 3 (ipykernel)",
   "language": "python",
   "name": "python3"
  },
  "language_info": {
   "codemirror_mode": {
    "name": "ipython",
    "version": 3
   },
   "file_extension": ".py",
   "mimetype": "text/x-python",
   "name": "python",
   "nbconvert_exporter": "python",
   "pygments_lexer": "ipython3",
   "version": "3.12.5"
  }
 },
 "nbformat": 4,
 "nbformat_minor": 5
}
