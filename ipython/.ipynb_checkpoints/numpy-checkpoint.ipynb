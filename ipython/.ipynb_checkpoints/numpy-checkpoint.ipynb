{
 "cells": [
  {
   "cell_type": "code",
   "execution_count": 2,
   "id": "fbde47f5-d6be-472a-b5e8-5fb434248f88",
   "metadata": {},
   "outputs": [],
   "source": [
    "import numpy as np\n"
   ]
  },
  {
   "cell_type": "code",
   "execution_count": 5,
   "id": "74727088-0b54-45a7-804e-8d293b650ee1",
   "metadata": {},
   "outputs": [],
   "source": [
    "vector = [1,2,3]"
   ]
  },
  {
   "cell_type": "raw",
   "id": "126030ca-f39e-4d9d-a04e-1434bbc7cd0c",
   "metadata": {},
   "source": [
    "print(vector)\n"
   ]
  },
  {
   "cell_type": "code",
   "execution_count": 9,
   "id": "2dab1478-b729-4a38-a8d2-2eb287f416a0",
   "metadata": {},
   "outputs": [
    {
     "name": "stdout",
     "output_type": "stream",
     "text": [
      "<class 'list'>\n"
     ]
    }
   ],
   "source": [
    "print(type(vector))\n"
   ]
  },
  {
   "cell_type": "code",
   "execution_count": 12,
   "id": "3b6788e0-c3d3-4039-b7de-cb8965836f96",
   "metadata": {},
   "outputs": [],
   "source": [
    "npvector = np.array(vector)"
   ]
  },
  {
   "cell_type": "code",
   "execution_count": 13,
   "id": "c19b483c-1970-4ba8-811a-aad2989e0038",
   "metadata": {},
   "outputs": [
    {
     "name": "stdout",
     "output_type": "stream",
     "text": [
      "<class 'numpy.ndarray'>\n"
     ]
    }
   ],
   "source": [
    "print(type(npvector))"
   ]
  },
  {
   "cell_type": "code",
   "execution_count": 2,
   "id": "d164132f-4041-4ea7-9810-2c1263c4d0a7",
   "metadata": {},
   "outputs": [],
   "source": [
    "t1 = (12, (\"A\",\"b\"), True)\n"
   ]
  },
  {
   "cell_type": "code",
   "execution_count": 4,
   "id": "c506758c-0f53-4adc-872e-772be44457f2",
   "metadata": {},
   "outputs": [
    {
     "name": "stdout",
     "output_type": "stream",
     "text": [
      "(12, ('A', 'b'), True)\n"
     ]
    }
   ],
   "source": [
    "print(t1)\n"
   ]
  },
  {
   "cell_type": "code",
   "execution_count": null,
   "id": "1b598524-b0cd-442f-a18b-662bcf50e63b",
   "metadata": {},
   "outputs": [],
   "source": []
  }
 ],
 "metadata": {
  "kernelspec": {
   "display_name": "condakernel",
   "language": "python",
   "name": "condakernel"
  },
  "language_info": {
   "codemirror_mode": {
    "name": "ipython",
    "version": 3
   },
   "file_extension": ".py",
   "mimetype": "text/x-python",
   "name": "python",
   "nbconvert_exporter": "python",
   "pygments_lexer": "ipython3",
   "version": "3.11.4"
  }
 },
 "nbformat": 4,
 "nbformat_minor": 5
}
