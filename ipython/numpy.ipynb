{
 "cells": [
  {
   "cell_type": "code",
   "execution_count": 2,
   "id": "fbde47f5-d6be-472a-b5e8-5fb434248f88",
   "metadata": {},
   "outputs": [],
   "source": [
    "import numpy as np\n"
   ]
  },
  {
   "cell_type": "code",
   "execution_count": 5,
   "id": "74727088-0b54-45a7-804e-8d293b650ee1",
   "metadata": {},
   "outputs": [],
   "source": [
    "vector = [1,2,3]"
   ]
  },
  {
   "cell_type": "raw",
   "id": "126030ca-f39e-4d9d-a04e-1434bbc7cd0c",
   "metadata": {},
   "source": [
    "print(vector)\n"
   ]
  },
  {
   "cell_type": "code",
   "execution_count": 9,
   "id": "2dab1478-b729-4a38-a8d2-2eb287f416a0",
   "metadata": {},
   "outputs": [
    {
     "name": "stdout",
     "output_type": "stream",
     "text": [
      "<class 'list'>\n"
     ]
    }
   ],
   "source": [
    "print(type(vector))\n"
   ]
  },
  {
   "cell_type": "code",
   "execution_count": 12,
   "id": "3b6788e0-c3d3-4039-b7de-cb8965836f96",
   "metadata": {},
   "outputs": [],
   "source": [
    "npvector = np.array(vector)"
   ]
  },
  {
   "cell_type": "code",
   "execution_count": 13,
   "id": "c19b483c-1970-4ba8-811a-aad2989e0038",
   "metadata": {},
   "outputs": [
    {
     "name": "stdout",
     "output_type": "stream",
     "text": [
      "<class 'numpy.ndarray'>\n"
     ]
    }
   ],
   "source": [
    "print(type(npvector))"
   ]
  },
  {
   "cell_type": "code",
   "execution_count": 2,
   "id": "d164132f-4041-4ea7-9810-2c1263c4d0a7",
   "metadata": {},
   "outputs": [],
   "source": [
    "t1 = (12, (\"A\",\"b\"), True)\n"
   ]
  },
  {
   "cell_type": "code",
   "execution_count": 4,
   "id": "c506758c-0f53-4adc-872e-772be44457f2",
   "metadata": {},
   "outputs": [
    {
     "name": "stdout",
     "output_type": "stream",
     "text": [
      "(12, ('A', 'b'), True)\n"
     ]
    }
   ],
   "source": [
    "print(t1)\n"
   ]
  },
  {
   "cell_type": "code",
   "execution_count": 2,
   "id": "1b598524-b0cd-442f-a18b-662bcf50e63b",
   "metadata": {},
   "outputs": [],
   "source": [
    "import pandas as pd\n"
   ]
  },
  {
   "cell_type": "code",
   "execution_count": 7,
   "id": "8417bb1b-f3fe-4014-bf94-f613ac9d11f4",
   "metadata": {},
   "outputs": [],
   "source": [
    "myserie = pd.Series({\n",
    "    'n1':'val1',\n",
    "    'n2':None\n",
    "})"
   ]
  },
  {
   "cell_type": "code",
   "execution_count": 8,
   "id": "becfa1c9-a943-4f0f-9b95-d29e4b09f91c",
   "metadata": {},
   "outputs": [
    {
     "data": {
      "text/plain": [
       "'val1'"
      ]
     },
     "execution_count": 8,
     "metadata": {},
     "output_type": "execute_result"
    }
   ],
   "source": [
    "myserie['n1']"
   ]
  },
  {
   "cell_type": "code",
   "execution_count": 10,
   "id": "eb8ae259-b903-4c64-92d6-b9f21cef076d",
   "metadata": {},
   "outputs": [],
   "source": [
    "myserie2 = pd.Series(['val1', None], index=['n1','n2'])"
   ]
  },
  {
   "cell_type": "code",
   "execution_count": 13,
   "id": "83034aba-6402-47a2-b1dd-947227f9f882",
   "metadata": {},
   "outputs": [
    {
     "data": {
      "text/plain": [
       "'val1'"
      ]
     },
     "execution_count": 13,
     "metadata": {},
     "output_type": "execute_result"
    }
   ],
   "source": [
    "myserie2['n1']"
   ]
  },
  {
   "cell_type": "code",
   "execution_count": 15,
   "id": "bb0c67de-baa6-464e-b0b9-7a270b4922e1",
   "metadata": {},
   "outputs": [
    {
     "data": {
      "text/plain": [
       "'val1'"
      ]
     },
     "execution_count": 15,
     "metadata": {},
     "output_type": "execute_result"
    }
   ],
   "source": [
    "myserie2.iloc[0]"
   ]
  },
  {
   "cell_type": "code",
   "execution_count": 23,
   "id": "05cfc2ce-e985-4e54-9700-957b02f1ec4c",
   "metadata": {},
   "outputs": [],
   "source": [
    "df1 = pd.DataFrame({'col1':pd.Series({\n",
    "    'n1':'val1',\n",
    "    'n2':None\n",
    "}),'col2':pd.Series({\n",
    "    'n1':'val2',\n",
    "    'n2':'val3'\n",
    "    \n",
    "})})"
   ]
  },
  {
   "cell_type": "code",
   "execution_count": 25,
   "id": "4d8547e6-af87-47ff-bf50-4abf37e39b88",
   "metadata": {},
   "outputs": [
    {
     "data": {
      "text/html": [
       "<div>\n",
       "<style scoped>\n",
       "    .dataframe tbody tr th:only-of-type {\n",
       "        vertical-align: middle;\n",
       "    }\n",
       "\n",
       "    .dataframe tbody tr th {\n",
       "        vertical-align: top;\n",
       "    }\n",
       "\n",
       "    .dataframe thead th {\n",
       "        text-align: right;\n",
       "    }\n",
       "</style>\n",
       "<table border=\"1\" class=\"dataframe\">\n",
       "  <thead>\n",
       "    <tr style=\"text-align: right;\">\n",
       "      <th></th>\n",
       "      <th>col1</th>\n",
       "      <th>col2</th>\n",
       "    </tr>\n",
       "  </thead>\n",
       "  <tbody>\n",
       "    <tr>\n",
       "      <th>n1</th>\n",
       "      <td>val1</td>\n",
       "      <td>val2</td>\n",
       "    </tr>\n",
       "    <tr>\n",
       "      <th>n2</th>\n",
       "      <td>None</td>\n",
       "      <td>val3</td>\n",
       "    </tr>\n",
       "  </tbody>\n",
       "</table>\n",
       "</div>"
      ],
      "text/plain": [
       "    col1  col2\n",
       "n1  val1  val2\n",
       "n2  None  val3"
      ]
     },
     "execution_count": 25,
     "metadata": {},
     "output_type": "execute_result"
    }
   ],
   "source": [
    "df1"
   ]
  },
  {
   "cell_type": "code",
   "execution_count": 28,
   "id": "a3d5e69e-e2a5-4766-ba05-adae39266a38",
   "metadata": {},
   "outputs": [],
   "source": [
    "df1 = pd.DataFrame([pd.Series({\n",
    "    'n1':2,\n",
    "    'n2':None\n",
    "}),pd.Series({\n",
    "    'n1':3,\n",
    "    'n2':'val3'\n",
    "    \n",
    "})])"
   ]
  },
  {
   "cell_type": "code",
   "execution_count": 30,
   "id": "32905a6f-49e0-4b75-803a-847fa8ad8329",
   "metadata": {},
   "outputs": [
    {
     "data": {
      "text/html": [
       "<div>\n",
       "<style scoped>\n",
       "    .dataframe tbody tr th:only-of-type {\n",
       "        vertical-align: middle;\n",
       "    }\n",
       "\n",
       "    .dataframe tbody tr th {\n",
       "        vertical-align: top;\n",
       "    }\n",
       "\n",
       "    .dataframe thead th {\n",
       "        text-align: right;\n",
       "    }\n",
       "</style>\n",
       "<table border=\"1\" class=\"dataframe\">\n",
       "  <thead>\n",
       "    <tr style=\"text-align: right;\">\n",
       "      <th></th>\n",
       "      <th>n1</th>\n",
       "      <th>n2</th>\n",
       "    </tr>\n",
       "  </thead>\n",
       "  <tbody>\n",
       "    <tr>\n",
       "      <th>0</th>\n",
       "      <td>2.0</td>\n",
       "      <td>NaN</td>\n",
       "    </tr>\n",
       "    <tr>\n",
       "      <th>1</th>\n",
       "      <td>3.0</td>\n",
       "      <td>val3</td>\n",
       "    </tr>\n",
       "  </tbody>\n",
       "</table>\n",
       "</div>"
      ],
      "text/plain": [
       "    n1    n2\n",
       "0  2.0   NaN\n",
       "1  3.0  val3"
      ]
     },
     "execution_count": 30,
     "metadata": {},
     "output_type": "execute_result"
    }
   ],
   "source": [
    "df1\n"
   ]
  },
  {
   "cell_type": "code",
   "execution_count": 55,
   "id": "c1d2ffc9-f1d2-41f6-a5ce-5546f3507b10",
   "metadata": {},
   "outputs": [],
   "source": [
    "df1['n1']*=2"
   ]
  },
  {
   "cell_type": "code",
   "execution_count": 56,
   "id": "85506e23-67cf-4a3b-982e-952047dda72c",
   "metadata": {},
   "outputs": [
    {
     "data": {
      "text/html": [
       "<div>\n",
       "<style scoped>\n",
       "    .dataframe tbody tr th:only-of-type {\n",
       "        vertical-align: middle;\n",
       "    }\n",
       "\n",
       "    .dataframe tbody tr th {\n",
       "        vertical-align: top;\n",
       "    }\n",
       "\n",
       "    .dataframe thead th {\n",
       "        text-align: right;\n",
       "    }\n",
       "</style>\n",
       "<table border=\"1\" class=\"dataframe\">\n",
       "  <thead>\n",
       "    <tr style=\"text-align: right;\">\n",
       "      <th></th>\n",
       "      <th>n1</th>\n",
       "      <th>n2</th>\n",
       "    </tr>\n",
       "  </thead>\n",
       "  <tbody>\n",
       "    <tr>\n",
       "      <th>0</th>\n",
       "      <td>2.0</td>\n",
       "      <td>NaN</td>\n",
       "    </tr>\n",
       "    <tr>\n",
       "      <th>1</th>\n",
       "      <td>3.0</td>\n",
       "      <td>val3</td>\n",
       "    </tr>\n",
       "  </tbody>\n",
       "</table>\n",
       "</div>"
      ],
      "text/plain": [
       "    n1    n2\n",
       "0  2.0   NaN\n",
       "1  3.0  val3"
      ]
     },
     "execution_count": 56,
     "metadata": {},
     "output_type": "execute_result"
    }
   ],
   "source": [
    "df1\n"
   ]
  },
  {
   "cell_type": "code",
   "execution_count": 65,
   "id": "56717870-7e58-4eb8-a8bf-9096c9936a0b",
   "metadata": {},
   "outputs": [
    {
     "data": {
      "text/html": [
       "<div>\n",
       "<style scoped>\n",
       "    .dataframe tbody tr th:only-of-type {\n",
       "        vertical-align: middle;\n",
       "    }\n",
       "\n",
       "    .dataframe tbody tr th {\n",
       "        vertical-align: top;\n",
       "    }\n",
       "\n",
       "    .dataframe thead th {\n",
       "        text-align: right;\n",
       "    }\n",
       "</style>\n",
       "<table border=\"1\" class=\"dataframe\">\n",
       "  <thead>\n",
       "    <tr style=\"text-align: right;\">\n",
       "      <th></th>\n",
       "      <th>n1</th>\n",
       "      <th>n2</th>\n",
       "    </tr>\n",
       "  </thead>\n",
       "  <tbody>\n",
       "    <tr>\n",
       "      <th>1</th>\n",
       "      <td>3.0</td>\n",
       "      <td>val3</td>\n",
       "    </tr>\n",
       "  </tbody>\n",
       "</table>\n",
       "</div>"
      ],
      "text/plain": [
       "    n1    n2\n",
       "1  3.0  val3"
      ]
     },
     "execution_count": 65,
     "metadata": {},
     "output_type": "execute_result"
    }
   ],
   "source": [
    "df1[(df1['n1']>2) & (df1['n2']!=None)]"
   ]
  },
  {
   "cell_type": "code",
   "execution_count": 67,
   "id": "03d02c93-ee88-4018-a5d0-75e53287078a",
   "metadata": {},
   "outputs": [],
   "source": [
    "a = 10"
   ]
  },
  {
   "cell_type": "code",
   "execution_count": 68,
   "id": "0d8ec065-4312-4be8-882a-b953b3019be6",
   "metadata": {},
   "outputs": [],
   "source": [
    "b = 20"
   ]
  },
  {
   "cell_type": "code",
   "execution_count": 75,
   "id": "144bfcd4-fb52-4f76-a3dc-b06f88358bf4",
   "metadata": {},
   "outputs": [
    {
     "name": "stdout",
     "output_type": "stream",
     "text": [
      "OK\n"
     ]
    }
   ],
   "source": [
    "if a>5 and b>11:\n",
    "    print(\"OK\")\n",
    "    "
   ]
  },
  {
   "cell_type": "code",
   "execution_count": null,
   "id": "d4347545-c988-4183-98a1-835de4e352ae",
   "metadata": {},
   "outputs": [],
   "source": []
  }
 ],
 "metadata": {
  "kernelspec": {
   "display_name": "condakernel",
   "language": "python",
   "name": "condakernel"
  },
  "language_info": {
   "codemirror_mode": {
    "name": "ipython",
    "version": 3
   },
   "file_extension": ".py",
   "mimetype": "text/x-python",
   "name": "python",
   "nbconvert_exporter": "python",
   "pygments_lexer": "ipython3",
   "version": "3.11.4"
  }
 },
 "nbformat": 4,
 "nbformat_minor": 5
}
