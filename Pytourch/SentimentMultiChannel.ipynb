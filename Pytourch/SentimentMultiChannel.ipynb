{
 "cells": [
  {
   "cell_type": "code",
   "id": "67cc1acae8e48474",
   "metadata": {
    "ExecuteTime": {
     "end_time": "2024-09-10T20:07:17.488496Z",
     "start_time": "2024-09-10T20:07:17.479725Z"
    }
   },
   "source": [
    "import os\n",
    "import re\n",
    "from collections import defaultdict\n",
    "import nltk\n",
    "import pandas as pd\n",
    "import torch\n",
    "import torch.nn as nn\n",
    "import torch.nn.functional as F\n",
    "from nltk.corpus import stopwords\n",
    "from sklearn.metrics import accuracy_score, precision_|score, recall_score, f1_score\n",
    "from sklearn.model_selection import train_test_split\n",
    "from torch.utils.data import DataLoader\n",
    "from IPython.display import display, SVG\n"
   ],
   "outputs": [
    {
     "ename": "SyntaxError",
     "evalue": "invalid syntax (2348714504.py, line 10)",
     "output_type": "error",
     "traceback": [
      "\u001B[0;36m  Cell \u001B[0;32mIn[2], line 10\u001B[0;36m\u001B[0m\n\u001B[0;31m    from sklearn.metrics import accuracy_score, precision_|score, recall_score, f1_score\u001B[0m\n\u001B[0m                                                          ^\u001B[0m\n\u001B[0;31mSyntaxError\u001B[0m\u001B[0;31m:\u001B[0m invalid syntax\n"
     ]
    }
   ],
   "execution_count": 2
  },
  {
   "cell_type": "code",
   "id": "initial_id",
   "metadata": {
    "collapsed": true,
    "jupyter": {
     "outputs_hidden": true
    },
    "ExecuteTime": {
     "end_time": "2024-09-10T20:07:18.742016Z",
     "start_time": "2024-09-10T20:07:18.506260Z"
    }
   },
   "source": [
    "def load_docs(directory):\n",
    "    docs = []\n",
    "    for filename in os.listdir(directory):\n",
    "        filepath = os.path.join(directory, filename)\n",
    "        with open(filepath, 'r', encoding='utf-8') as file:\n",
    "            text = file.read()\n",
    "            cleaned_text = re.sub(r\"[^a-zA-Z\\s']\", \"\", text)  # Remove non-alphabetic characters\n",
    "            filtered_text = re.sub(r\"\\b[a-zA-Z']\\b\", \"\", cleaned_text)  # Remove single characters\n",
    "            cleaned_text = re.sub(r\"\\n\", \" \", filtered_text)  # Replace new lines with space\n",
    "            cleaned_text = re.sub(r\"\\s+\", \" \", cleaned_text)  # Replace multiple spaces with single space\n",
    "            docs.append(cleaned_text)\n",
    "    return docs\n",
    "\n",
    "neg_dir = '../NLP/TEXT/txt_sentoken/neg/'\n",
    "pos_dir = '../NLP/TEXT/txt_sentoken/pos/'\n",
    "\n",
    "# Load negative and positive documents\n",
    "neg_docs = load_docs(neg_dir)\n",
    "pos_docs = load_docs(pos_dir)"
   ],
   "outputs": [
    {
     "ename": "NameError",
     "evalue": "name 'os' is not defined",
     "output_type": "error",
     "traceback": [
      "\u001B[0;31m---------------------------------------------------------------------------\u001B[0m",
      "\u001B[0;31mNameError\u001B[0m                                 Traceback (most recent call last)",
      "Cell \u001B[0;32mIn[3], line 18\u001B[0m\n\u001B[1;32m     15\u001B[0m pos_dir \u001B[38;5;241m=\u001B[39m \u001B[38;5;124m'\u001B[39m\u001B[38;5;124m../NLP/TEXT/txt_sentoken/pos/\u001B[39m\u001B[38;5;124m'\u001B[39m\n\u001B[1;32m     17\u001B[0m \u001B[38;5;66;03m# Load negative and positive documents\u001B[39;00m\n\u001B[0;32m---> 18\u001B[0m neg_docs \u001B[38;5;241m=\u001B[39m \u001B[43mload_docs\u001B[49m\u001B[43m(\u001B[49m\u001B[43mneg_dir\u001B[49m\u001B[43m)\u001B[49m\n\u001B[1;32m     19\u001B[0m pos_docs \u001B[38;5;241m=\u001B[39m load_docs(pos_dir)\n",
      "Cell \u001B[0;32mIn[3], line 3\u001B[0m, in \u001B[0;36mload_docs\u001B[0;34m(directory)\u001B[0m\n\u001B[1;32m      1\u001B[0m \u001B[38;5;28;01mdef\u001B[39;00m \u001B[38;5;21mload_docs\u001B[39m(directory):\n\u001B[1;32m      2\u001B[0m     docs \u001B[38;5;241m=\u001B[39m []\n\u001B[0;32m----> 3\u001B[0m     \u001B[38;5;28;01mfor\u001B[39;00m filename \u001B[38;5;129;01min\u001B[39;00m \u001B[43mos\u001B[49m\u001B[38;5;241m.\u001B[39mlistdir(directory):\n\u001B[1;32m      4\u001B[0m         filepath \u001B[38;5;241m=\u001B[39m os\u001B[38;5;241m.\u001B[39mpath\u001B[38;5;241m.\u001B[39mjoin(directory, filename)\n\u001B[1;32m      5\u001B[0m         \u001B[38;5;28;01mwith\u001B[39;00m \u001B[38;5;28mopen\u001B[39m(filepath, \u001B[38;5;124m'\u001B[39m\u001B[38;5;124mr\u001B[39m\u001B[38;5;124m'\u001B[39m, encoding\u001B[38;5;241m=\u001B[39m\u001B[38;5;124m'\u001B[39m\u001B[38;5;124mutf-8\u001B[39m\u001B[38;5;124m'\u001B[39m) \u001B[38;5;28;01mas\u001B[39;00m file:\n",
      "\u001B[0;31mNameError\u001B[0m: name 'os' is not defined"
     ]
    }
   ],
   "execution_count": 3
  },
  {
   "cell_type": "code",
   "id": "7c55022cedfbde46",
   "metadata": {
    "ExecuteTime": {
     "end_time": "2024-09-10T20:07:18.974485Z",
     "start_time": "2024-09-10T20:07:18.949892Z"
    }
   },
   "source": [
    "print(len(neg_docs), len(pos_docs))"
   ],
   "outputs": [
    {
     "ename": "NameError",
     "evalue": "name 'neg_docs' is not defined",
     "output_type": "error",
     "traceback": [
      "\u001B[0;31m---------------------------------------------------------------------------\u001B[0m",
      "\u001B[0;31mNameError\u001B[0m                                 Traceback (most recent call last)",
      "Cell \u001B[0;32mIn[4], line 1\u001B[0m\n\u001B[0;32m----> 1\u001B[0m \u001B[38;5;28mprint\u001B[39m(\u001B[38;5;28mlen\u001B[39m(\u001B[43mneg_docs\u001B[49m), \u001B[38;5;28mlen\u001B[39m(pos_docs))\n",
      "\u001B[0;31mNameError\u001B[0m: name 'neg_docs' is not defined"
     ]
    }
   ],
   "execution_count": 4
  },
  {
   "cell_type": "code",
   "id": "5648e7a34cbdd71f",
   "metadata": {
    "ExecuteTime": {
     "end_time": "2024-09-10T20:07:19.224090Z",
     "start_time": "2024-09-10T20:07:19.200478Z"
    }
   },
   "source": [
    "all_words = pos_docs + neg_docs\n",
    "labels = [1] * len(pos_docs) + [0] * len(neg_docs)"
   ],
   "outputs": [
    {
     "ename": "NameError",
     "evalue": "name 'pos_docs' is not defined",
     "output_type": "error",
     "traceback": [
      "\u001B[0;31m---------------------------------------------------------------------------\u001B[0m",
      "\u001B[0;31mNameError\u001B[0m                                 Traceback (most recent call last)",
      "Cell \u001B[0;32mIn[5], line 1\u001B[0m\n\u001B[0;32m----> 1\u001B[0m all_words \u001B[38;5;241m=\u001B[39m \u001B[43mpos_docs\u001B[49m \u001B[38;5;241m+\u001B[39m neg_docs\n\u001B[1;32m      2\u001B[0m labels \u001B[38;5;241m=\u001B[39m [\u001B[38;5;241m1\u001B[39m] \u001B[38;5;241m*\u001B[39m \u001B[38;5;28mlen\u001B[39m(pos_docs) \u001B[38;5;241m+\u001B[39m [\u001B[38;5;241m0\u001B[39m] \u001B[38;5;241m*\u001B[39m \u001B[38;5;28mlen\u001B[39m(neg_docs)\n",
      "\u001B[0;31mNameError\u001B[0m: name 'pos_docs' is not defined"
     ]
    }
   ],
   "execution_count": 5
  },
  {
   "cell_type": "code",
   "id": "795b9a024dff984c",
   "metadata": {
    "ExecuteTime": {
     "end_time": "2024-09-10T20:07:19.521940Z",
     "start_time": "2024-09-10T20:07:19.489540Z"
    }
   },
   "source": [
    "# Split the data\n",
    "train_x, test_x, train_y, test_y = train_test_split(all_words, labels, test_size=0.2, stratify=labels)\n",
    "\n",
    "print(len(train_y),len(test_y))"
   ],
   "outputs": [
    {
     "ename": "NameError",
     "evalue": "name 'train_test_split' is not defined",
     "output_type": "error",
     "traceback": [
      "\u001B[0;31m---------------------------------------------------------------------------\u001B[0m",
      "\u001B[0;31mNameError\u001B[0m                                 Traceback (most recent call last)",
      "Cell \u001B[0;32mIn[6], line 2\u001B[0m\n\u001B[1;32m      1\u001B[0m \u001B[38;5;66;03m# Split the data\u001B[39;00m\n\u001B[0;32m----> 2\u001B[0m train_x, test_x, train_y, test_y \u001B[38;5;241m=\u001B[39m \u001B[43mtrain_test_split\u001B[49m(all_words, labels, test_size\u001B[38;5;241m=\u001B[39m\u001B[38;5;241m0.2\u001B[39m, stratify\u001B[38;5;241m=\u001B[39mlabels)\n\u001B[1;32m      4\u001B[0m \u001B[38;5;28mprint\u001B[39m(\u001B[38;5;28mlen\u001B[39m(train_y),\u001B[38;5;28mlen\u001B[39m(test_y))\n",
      "\u001B[0;31mNameError\u001B[0m: name 'train_test_split' is not defined"
     ]
    }
   ],
   "execution_count": 6
  },
  {
   "metadata": {
    "ExecuteTime": {
     "end_time": "2024-09-10T20:07:19.759467Z",
     "start_time": "2024-09-10T20:07:19.740216Z"
    }
   },
   "cell_type": "code",
   "source": "train_x[0]",
   "id": "461ee190844ac804",
   "outputs": [
    {
     "ename": "NameError",
     "evalue": "name 'train_x' is not defined",
     "output_type": "error",
     "traceback": [
      "\u001B[0;31m---------------------------------------------------------------------------\u001B[0m",
      "\u001B[0;31mNameError\u001B[0m                                 Traceback (most recent call last)",
      "Cell \u001B[0;32mIn[7], line 1\u001B[0m\n\u001B[0;32m----> 1\u001B[0m \u001B[43mtrain_x\u001B[49m[\u001B[38;5;241m0\u001B[39m]\n",
      "\u001B[0;31mNameError\u001B[0m: name 'train_x' is not defined"
     ]
    }
   ],
   "execution_count": 7
  },
  {
   "metadata": {
    "ExecuteTime": {
     "end_time": "2024-09-10T20:07:20.121800Z",
     "start_time": "2024-09-10T20:07:20.062272Z"
    }
   },
   "cell_type": "code",
   "source": [
    "# Load the dataset from the CSV file\n",
    "df = pd.read_csv('dataset.csv')\n",
    "\n",
    "# Extract the text and labels\n",
    "all_words = df['text'].tolist()\n",
    "labels = df['label'].tolist()\n",
    "\n",
    "# Split the dataset into training and testing sets\n",
    "train_x, test_x, train_y, test_y = train_test_split(all_words, labels, test_size=0.2, stratify=labels)"
   ],
   "id": "7342cb02454f2b71",
   "outputs": [
    {
     "ename": "NameError",
     "evalue": "name 'pd' is not defined",
     "output_type": "error",
     "traceback": [
      "\u001B[0;31m---------------------------------------------------------------------------\u001B[0m",
      "\u001B[0;31mNameError\u001B[0m                                 Traceback (most recent call last)",
      "Cell \u001B[0;32mIn[8], line 2\u001B[0m\n\u001B[1;32m      1\u001B[0m \u001B[38;5;66;03m# Load the dataset from the CSV file\u001B[39;00m\n\u001B[0;32m----> 2\u001B[0m df \u001B[38;5;241m=\u001B[39m \u001B[43mpd\u001B[49m\u001B[38;5;241m.\u001B[39mread_csv(\u001B[38;5;124m'\u001B[39m\u001B[38;5;124mdataset.csv\u001B[39m\u001B[38;5;124m'\u001B[39m)\n\u001B[1;32m      4\u001B[0m \u001B[38;5;66;03m# Extract the text and labels\u001B[39;00m\n\u001B[1;32m      5\u001B[0m all_words \u001B[38;5;241m=\u001B[39m df[\u001B[38;5;124m'\u001B[39m\u001B[38;5;124mtext\u001B[39m\u001B[38;5;124m'\u001B[39m]\u001B[38;5;241m.\u001B[39mtolist()\n",
      "\u001B[0;31mNameError\u001B[0m: name 'pd' is not defined"
     ]
    }
   ],
   "execution_count": 8
  },
  {
   "metadata": {
    "ExecuteTime": {
     "end_time": "2024-09-10T20:07:20.489196Z",
     "start_time": "2024-09-10T20:07:20.445520Z"
    }
   },
   "cell_type": "code",
   "source": [
    "# Download NLTK tokenizer data\n",
    "nltk.download('punkt')"
   ],
   "id": "f63a6ceaf9fc7f27",
   "outputs": [
    {
     "ename": "NameError",
     "evalue": "name 'nltk' is not defined",
     "output_type": "error",
     "traceback": [
      "\u001B[0;31m---------------------------------------------------------------------------\u001B[0m",
      "\u001B[0;31mNameError\u001B[0m                                 Traceback (most recent call last)",
      "Cell \u001B[0;32mIn[9], line 2\u001B[0m\n\u001B[1;32m      1\u001B[0m \u001B[38;5;66;03m# Download NLTK tokenizer data\u001B[39;00m\n\u001B[0;32m----> 2\u001B[0m \u001B[43mnltk\u001B[49m\u001B[38;5;241m.\u001B[39mdownload(\u001B[38;5;124m'\u001B[39m\u001B[38;5;124mpunkt\u001B[39m\u001B[38;5;124m'\u001B[39m)\n",
      "\u001B[0;31mNameError\u001B[0m: name 'nltk' is not defined"
     ]
    }
   ],
   "execution_count": 9
  },
  {
   "metadata": {
    "ExecuteTime": {
     "end_time": "2024-09-10T20:07:21.012759070Z",
     "start_time": "2024-09-27T12:32:51.798694Z"
    }
   },
   "cell_type": "code",
   "source": [
    "# Step 1: Tokenize the sentences using nltk\n",
    "train_x_tokenized = [nltk.word_tokenize(sentence.lower()) for sentence in train_x]\n",
    "test_x_tokenized = [nltk.word_tokenize(sentence.lower()) for sentence in test_x]"
   ],
   "id": "cd700c301e24a8f3",
   "outputs": [],
   "execution_count": 9
  },
  {
   "metadata": {
    "ExecuteTime": {
     "end_time": "2024-09-10T20:07:21.049965Z",
     "start_time": "2024-09-10T20:07:21.024599Z"
    }
   },
   "cell_type": "code",
   "source": [
    "# Define the stop words\n",
    "stop_words = set(stopwords.words('english'))\n",
    "\n",
    "# Remove stop words from the tokenized sentences\n",
    "train_x_filtered = [[word for word in sentence if word not in stop_words] for sentence in train_x_tokenized]\n",
    "test_x_filtered = [[word for word in sentence if word not in stop_words] for sentence in test_x_tokenized]"
   ],
   "id": "d6c363756de030cf",
   "outputs": [
    {
     "ename": "NameError",
     "evalue": "name 'stopwords' is not defined",
     "output_type": "error",
     "traceback": [
      "\u001B[0;31m---------------------------------------------------------------------------\u001B[0m",
      "\u001B[0;31mNameError\u001B[0m                                 Traceback (most recent call last)",
      "Cell \u001B[0;32mIn[10], line 2\u001B[0m\n\u001B[1;32m      1\u001B[0m \u001B[38;5;66;03m# Define the stop words\u001B[39;00m\n\u001B[0;32m----> 2\u001B[0m stop_words \u001B[38;5;241m=\u001B[39m \u001B[38;5;28mset\u001B[39m(\u001B[43mstopwords\u001B[49m\u001B[38;5;241m.\u001B[39mwords(\u001B[38;5;124m'\u001B[39m\u001B[38;5;124menglish\u001B[39m\u001B[38;5;124m'\u001B[39m))\n\u001B[1;32m      4\u001B[0m \u001B[38;5;66;03m# Remove stop words from the tokenized sentences\u001B[39;00m\n\u001B[1;32m      5\u001B[0m train_x_filtered \u001B[38;5;241m=\u001B[39m [[word \u001B[38;5;28;01mfor\u001B[39;00m word \u001B[38;5;129;01min\u001B[39;00m sentence \u001B[38;5;28;01mif\u001B[39;00m word \u001B[38;5;129;01mnot\u001B[39;00m \u001B[38;5;129;01min\u001B[39;00m stop_words] \u001B[38;5;28;01mfor\u001B[39;00m sentence \u001B[38;5;129;01min\u001B[39;00m train_x_tokenized]\n",
      "\u001B[0;31mNameError\u001B[0m: name 'stopwords' is not defined"
     ]
    }
   ],
   "execution_count": 10
  },
  {
   "metadata": {
    "ExecuteTime": {
     "end_time": "2024-09-10T20:07:21.175241424Z",
     "start_time": "2024-09-27T12:32:54.609029Z"
    }
   },
   "cell_type": "code",
   "source": [
    "# Step 2: Build a simple vocabulary from the tokenized data\n",
    "def build_vocab(tokenized_sentences, min_freq=1):\n",
    "    word_freq = defaultdict(int)\n",
    "    for sentence in tokenized_sentences:\n",
    "        for word in sentence:\n",
    "            word_freq[word] += 1\n",
    "    \n",
    "    # Only keep words that appear more than `min_freq` times\n",
    "    vocab = {word: idx + 1 for idx, (word, freq) in enumerate(word_freq.items()) if freq >= min_freq}\n",
    "    vocab[\"<PAD>\"] = 0  # Padding token\n",
    "    return vocab\n",
    "\n",
    "# Combine training and test data to build the vocabulary\n",
    "combined_data = train_x_filtered + test_x_filtered\n",
    "vocab = build_vocab(combined_data)"
   ],
   "id": "f70ceb90e84de214",
   "outputs": [],
   "execution_count": 11
  },
  {
   "metadata": {
    "ExecuteTime": {
     "end_time": "2024-09-10T20:07:21.175634127Z",
     "start_time": "2024-09-27T12:32:54.803040Z"
    }
   },
   "cell_type": "code",
   "source": [
    "print(\"hello\" , vocab[\"hello\"])\n",
    "print(\"world\", vocab[\"world\"])"
   ],
   "id": "1ac10d46e923df5e",
   "outputs": [
    {
     "name": "stdout",
     "output_type": "stream",
     "text": [
      "hello 7941\n",
      "world 722\n"
     ]
    }
   ],
   "execution_count": 12
  },
  {
   "metadata": {
    "ExecuteTime": {
     "end_time": "2024-09-27T12:32:54.985644Z",
     "start_time": "2024-09-27T12:32:54.859481Z"
    }
   },
   "cell_type": "code",
   "source": [
    "# Step 3: Convert the tokenized sentences to numerical format using the vocabulary\n",
    "def tokenize(sentences, vocab):\n",
    "    return [[vocab.get(word, vocab[\"<PAD>\"]) for word in sentence] for sentence in sentences]\n",
    "\n",
    "train_x_filtered_indices = tokenize(train_x_filtered, vocab)\n",
    "test_x_filtered_indices = tokenize(test_x_filtered, vocab)"
   ],
   "id": "f2ba22eaf5643502",
   "outputs": [],
   "execution_count": 13
  },
  {
   "metadata": {
    "ExecuteTime": {
     "end_time": "2024-09-27T12:32:55.037292Z",
     "start_time": "2024-09-27T12:32:55.026746Z"
    }
   },
   "cell_type": "code",
   "source": [
    "# Numeric form of first sentence:\n",
    "train_x_filtered_indices[0]"
   ],
   "id": "ddfa7506cfa2ba3d",
   "outputs": [
    {
     "data": {
      "text/plain": [
       "[1,\n",
       " 2,\n",
       " 3,\n",
       " 4,\n",
       " 5,\n",
       " 6,\n",
       " 7,\n",
       " 8,\n",
       " 9,\n",
       " 10,\n",
       " 11,\n",
       " 12,\n",
       " 13,\n",
       " 14,\n",
       " 15,\n",
       " 16,\n",
       " 17,\n",
       " 18,\n",
       " 11,\n",
       " 19,\n",
       " 20,\n",
       " 21,\n",
       " 22,\n",
       " 23,\n",
       " 24,\n",
       " 25,\n",
       " 26,\n",
       " 27,\n",
       " 28,\n",
       " 29,\n",
       " 30,\n",
       " 12,\n",
       " 31,\n",
       " 32,\n",
       " 33,\n",
       " 34,\n",
       " 35,\n",
       " 36,\n",
       " 37,\n",
       " 38,\n",
       " 39,\n",
       " 40,\n",
       " 12,\n",
       " 41,\n",
       " 42,\n",
       " 7,\n",
       " 43,\n",
       " 42,\n",
       " 44,\n",
       " 11,\n",
       " 19,\n",
       " 45,\n",
       " 46,\n",
       " 4,\n",
       " 47,\n",
       " 48,\n",
       " 49,\n",
       " 50,\n",
       " 51,\n",
       " 52,\n",
       " 53,\n",
       " 54,\n",
       " 55,\n",
       " 4,\n",
       " 56,\n",
       " 57,\n",
       " 58,\n",
       " 59,\n",
       " 60,\n",
       " 55,\n",
       " 61,\n",
       " 62,\n",
       " 63,\n",
       " 64,\n",
       " 65,\n",
       " 66,\n",
       " 4,\n",
       " 67,\n",
       " 68,\n",
       " 69,\n",
       " 70,\n",
       " 71,\n",
       " 72,\n",
       " 73,\n",
       " 4,\n",
       " 74,\n",
       " 75,\n",
       " 76,\n",
       " 77,\n",
       " 78,\n",
       " 79,\n",
       " 80,\n",
       " 81,\n",
       " 82,\n",
       " 21,\n",
       " 83,\n",
       " 84,\n",
       " 85,\n",
       " 86,\n",
       " 87,\n",
       " 88,\n",
       " 89,\n",
       " 90,\n",
       " 91,\n",
       " 92,\n",
       " 93,\n",
       " 94,\n",
       " 95,\n",
       " 12,\n",
       " 96,\n",
       " 97,\n",
       " 98,\n",
       " 94,\n",
       " 99,\n",
       " 100,\n",
       " 101,\n",
       " 92,\n",
       " 102,\n",
       " 103,\n",
       " 104,\n",
       " 105,\n",
       " 106,\n",
       " 107,\n",
       " 108,\n",
       " 109,\n",
       " 4,\n",
       " 110,\n",
       " 111,\n",
       " 112,\n",
       " 113,\n",
       " 114,\n",
       " 4,\n",
       " 115,\n",
       " 116,\n",
       " 117,\n",
       " 118,\n",
       " 119,\n",
       " 120,\n",
       " 121,\n",
       " 122,\n",
       " 123,\n",
       " 124,\n",
       " 121,\n",
       " 125,\n",
       " 126,\n",
       " 127,\n",
       " 128,\n",
       " 129,\n",
       " 130,\n",
       " 131,\n",
       " 132,\n",
       " 133,\n",
       " 134,\n",
       " 135,\n",
       " 136,\n",
       " 137,\n",
       " 138,\n",
       " 139,\n",
       " 140,\n",
       " 141,\n",
       " 142,\n",
       " 143,\n",
       " 144,\n",
       " 145,\n",
       " 146,\n",
       " 147,\n",
       " 148,\n",
       " 149,\n",
       " 150,\n",
       " 151,\n",
       " 152,\n",
       " 153,\n",
       " 154,\n",
       " 155,\n",
       " 152,\n",
       " 156,\n",
       " 157,\n",
       " 150,\n",
       " 149,\n",
       " 158,\n",
       " 159,\n",
       " 25,\n",
       " 160,\n",
       " 121,\n",
       " 161,\n",
       " 162,\n",
       " 163,\n",
       " 164,\n",
       " 34,\n",
       " 165,\n",
       " 166,\n",
       " 167,\n",
       " 168,\n",
       " 169,\n",
       " 170,\n",
       " 171,\n",
       " 172,\n",
       " 173,\n",
       " 174,\n",
       " 170,\n",
       " 175,\n",
       " 176,\n",
       " 177,\n",
       " 178,\n",
       " 179,\n",
       " 180,\n",
       " 4,\n",
       " 181,\n",
       " 182,\n",
       " 183,\n",
       " 184,\n",
       " 169,\n",
       " 185,\n",
       " 186,\n",
       " 187,\n",
       " 51,\n",
       " 188,\n",
       " 189,\n",
       " 11,\n",
       " 113,\n",
       " 181,\n",
       " 190,\n",
       " 182,\n",
       " 191,\n",
       " 192,\n",
       " 193,\n",
       " 194,\n",
       " 195,\n",
       " 196,\n",
       " 197,\n",
       " 4,\n",
       " 198,\n",
       " 199,\n",
       " 200,\n",
       " 201,\n",
       " 202,\n",
       " 203,\n",
       " 204,\n",
       " 205,\n",
       " 206,\n",
       " 207,\n",
       " 208,\n",
       " 135,\n",
       " 137,\n",
       " 209,\n",
       " 210,\n",
       " 181,\n",
       " 211,\n",
       " 20,\n",
       " 212,\n",
       " 213,\n",
       " 214,\n",
       " 215,\n",
       " 216,\n",
       " 217,\n",
       " 218,\n",
       " 219,\n",
       " 220,\n",
       " 221,\n",
       " 222,\n",
       " 4,\n",
       " 223,\n",
       " 224,\n",
       " 225,\n",
       " 226,\n",
       " 119,\n",
       " 5,\n",
       " 227,\n",
       " 228,\n",
       " 229,\n",
       " 230,\n",
       " 231,\n",
       " 232,\n",
       " 233,\n",
       " 234,\n",
       " 235,\n",
       " 236,\n",
       " 237,\n",
       " 29,\n",
       " 30,\n",
       " 238,\n",
       " 239,\n",
       " 4,\n",
       " 240,\n",
       " 241,\n",
       " 242,\n",
       " 51,\n",
       " 243,\n",
       " 244,\n",
       " 5,\n",
       " 245,\n",
       " 246,\n",
       " 247,\n",
       " 248,\n",
       " 51,\n",
       " 77,\n",
       " 249,\n",
       " 4,\n",
       " 250,\n",
       " 251,\n",
       " 252,\n",
       " 253,\n",
       " 254,\n",
       " 255,\n",
       " 128,\n",
       " 256,\n",
       " 257,\n",
       " 210,\n",
       " 68,\n",
       " 124,\n",
       " 6,\n",
       " 258,\n",
       " 170,\n",
       " 252,\n",
       " 259,\n",
       " 168,\n",
       " 18,\n",
       " 260,\n",
       " 261,\n",
       " 262,\n",
       " 192,\n",
       " 263,\n",
       " 264,\n",
       " 259,\n",
       " 265,\n",
       " 266,\n",
       " 267,\n",
       " 268,\n",
       " 269,\n",
       " 270,\n",
       " 225,\n",
       " 118,\n",
       " 226,\n",
       " 271,\n",
       " 272,\n",
       " 168,\n",
       " 273,\n",
       " 269,\n",
       " 178,\n",
       " 274,\n",
       " 275,\n",
       " 276,\n",
       " 277,\n",
       " 278,\n",
       " 227,\n",
       " 279,\n",
       " 280,\n",
       " 281,\n",
       " 282,\n",
       " 283,\n",
       " 284,\n",
       " 285,\n",
       " 286,\n",
       " 117,\n",
       " 287,\n",
       " 288,\n",
       " 289,\n",
       " 290,\n",
       " 185,\n",
       " 291,\n",
       " 288,\n",
       " 185,\n",
       " 181,\n",
       " 282,\n",
       " 292,\n",
       " 293,\n",
       " 294,\n",
       " 295,\n",
       " 233,\n",
       " 91,\n",
       " 296,\n",
       " 297,\n",
       " 298,\n",
       " 292,\n",
       " 214,\n",
       " 299,\n",
       " 300,\n",
       " 301,\n",
       " 302,\n",
       " 169,\n",
       " 303,\n",
       " 4,\n",
       " 156,\n",
       " 51,\n",
       " 7,\n",
       " 304,\n",
       " 305,\n",
       " 123,\n",
       " 136,\n",
       " 306,\n",
       " 190,\n",
       " 292,\n",
       " 307,\n",
       " 308,\n",
       " 309,\n",
       " 4,\n",
       " 310,\n",
       " 311,\n",
       " 312,\n",
       " 104,\n",
       " 123,\n",
       " 136,\n",
       " 302,\n",
       " 313,\n",
       " 314,\n",
       " 315,\n",
       " 316,\n",
       " 317,\n",
       " 4,\n",
       " 318,\n",
       " 319,\n",
       " 317,\n",
       " 320,\n",
       " 321,\n",
       " 161,\n",
       " 322,\n",
       " 323,\n",
       " 324,\n",
       " 325,\n",
       " 326,\n",
       " 327,\n",
       " 4,\n",
       " 185,\n",
       " 328,\n",
       " 255,\n",
       " 329,\n",
       " 330,\n",
       " 331,\n",
       " 332,\n",
       " 333,\n",
       " 51,\n",
       " 334,\n",
       " 335,\n",
       " 11,\n",
       " 336,\n",
       " 337,\n",
       " 338,\n",
       " 307,\n",
       " 339,\n",
       " 307,\n",
       " 340,\n",
       " 146,\n",
       " 91,\n",
       " 233,\n",
       " 341,\n",
       " 233,\n",
       " 342,\n",
       " 34,\n",
       " 343,\n",
       " 344,\n",
       " 345,\n",
       " 346,\n",
       " 347,\n",
       " 348,\n",
       " 349,\n",
       " 350,\n",
       " 4,\n",
       " 87,\n",
       " 351,\n",
       " 352,\n",
       " 353,\n",
       " 354,\n",
       " 355,\n",
       " 348,\n",
       " 161,\n",
       " 51,\n",
       " 356,\n",
       " 258,\n",
       " 357,\n",
       " 358,\n",
       " 359,\n",
       " 360,\n",
       " 316,\n",
       " 317,\n",
       " 32,\n",
       " 361,\n",
       " 362,\n",
       " 8,\n",
       " 363,\n",
       " 134,\n",
       " 137,\n",
       " 364,\n",
       " 292,\n",
       " 365,\n",
       " 169,\n",
       " 366,\n",
       " 365,\n",
       " 367,\n",
       " 185,\n",
       " 368,\n",
       " 369,\n",
       " 370,\n",
       " 371,\n",
       " 372,\n",
       " 373,\n",
       " 374,\n",
       " 190,\n",
       " 255,\n",
       " 375,\n",
       " 4,\n",
       " 376,\n",
       " 377,\n",
       " 378,\n",
       " 379,\n",
       " 380,\n",
       " 8,\n",
       " 381,\n",
       " 4,\n",
       " 382,\n",
       " 383,\n",
       " 384,\n",
       " 94,\n",
       " 385]"
      ]
     },
     "execution_count": 14,
     "metadata": {},
     "output_type": "execute_result"
    }
   ],
   "execution_count": 14
  },
  {
   "metadata": {},
   "cell_type": "markdown",
   "source": [
    "Many machine learning models, especially neural networks, require inputs of a fixed size. This uniformity simplifies the architecture and ensures that the model can process each input consistently. Having fixed-length sentences is important for several reasons when vectorizing text data for machine learning:\n",
    "\n",
    "1. **Batch Processing**: Fixed-length sentences allow for efficient batch processing. When training models, it's common to process multiple samples simultaneously (in batches). Having inputs of the same length makes it easier to stack them into a single tensor, which can be processed in parallel.\n",
    "\n",
    "2. **Memory Management**: Fixed-length inputs help in managing memory more effectively. Variable-length inputs would require dynamic memory allocation, which can be inefficient and slow.\n",
    "\n",
    "3. **Padding and Truncation**: To achieve fixed-length sentences, we use padding (adding special tokens like `\"<PAD>\"`) or truncation (cutting off longer sentences). Padding ensures that shorter sentences reach the required length, while truncation ensures that longer sentences do not exceed it.\n",
    "\n",
    "4. **Consistency in Representation**: Fixed-length vectors ensure that each sentence is represented consistently, making it easier for the model to learn patterns and relationships within the data.\n"
   ],
   "id": "8cc1956f0e760ba1"
  },
  {
   "metadata": {
    "ExecuteTime": {
     "end_time": "2024-09-27T12:32:55.139993Z",
     "start_time": "2024-09-27T12:32:55.093117Z"
    }
   },
   "cell_type": "code",
   "source": [
    "# Step 4: Pad the tokenized sequences to a fixed length (max_len)\n",
    "def pad_sequences(tokenized_sentences, max_len):\n",
    "    return [sentence[:max_len] + [0] * (max_len - len(sentence)) if len(sentence) < max_len else sentence[:max_len] for sentence in tokenized_sentences]\n",
    "\n",
    "pad_len = 50  # Set max sequence length\n",
    "train_x_padded = pad_sequences(train_x_filtered_indices, pad_len)\n",
    "test_x_padded = pad_sequences(test_x_filtered_indices, pad_len)"
   ],
   "id": "24fb7cc7921a9367",
   "outputs": [],
   "execution_count": 15
  },
  {
   "metadata": {
    "ExecuteTime": {
     "end_time": "2024-09-27T12:32:55.210575Z",
     "start_time": "2024-09-27T12:32:55.203182Z"
    }
   },
   "cell_type": "code",
   "source": "train_x_padded[2]",
   "id": "77c016457e866063",
   "outputs": [
    {
     "data": {
      "text/plain": [
       "[491,\n",
       " 492,\n",
       " 56,\n",
       " 493,\n",
       " 494,\n",
       " 169,\n",
       " 495,\n",
       " 496,\n",
       " 233,\n",
       " 497,\n",
       " 498,\n",
       " 499,\n",
       " 296,\n",
       " 500,\n",
       " 501,\n",
       " 502,\n",
       " 208,\n",
       " 503,\n",
       " 504,\n",
       " 505,\n",
       " 506,\n",
       " 481,\n",
       " 507,\n",
       " 508,\n",
       " 509,\n",
       " 510,\n",
       " 56,\n",
       " 136,\n",
       " 511,\n",
       " 512,\n",
       " 513,\n",
       " 514,\n",
       " 255,\n",
       " 339,\n",
       " 209,\n",
       " 515,\n",
       " 516,\n",
       " 517,\n",
       " 518,\n",
       " 432,\n",
       " 519,\n",
       " 520,\n",
       " 521,\n",
       " 522,\n",
       " 523,\n",
       " 524,\n",
       " 230,\n",
       " 525,\n",
       " 526,\n",
       " 494]"
      ]
     },
     "execution_count": 16,
     "metadata": {},
     "output_type": "execute_result"
    }
   ],
   "execution_count": 16
  },
  {
   "cell_type": "code",
   "id": "23882471ff866585",
   "metadata": {
    "ExecuteTime": {
     "end_time": "2024-09-27T12:32:55.275713Z",
     "start_time": "2024-09-27T12:32:55.266199Z"
    }
   },
   "source": [
    "class TextClassificationModel(nn.Module):\n",
    "    def __init__(self, vocab_size, embed_dim, num_classes, max_len):\n",
    "        super(TextClassificationModel, self).__init__()\n",
    "        self.embedding = nn.Embedding(vocab_size, embed_dim)\n",
    "        self.conv1d_4 = nn.Conv1d(in_channels=embed_dim, out_channels=32, kernel_size=4)\n",
    "        self.conv1d_6 = nn.Conv1d(in_channels=embed_dim, out_channels=32, kernel_size=6)\n",
    "        self.conv1d_8 = nn.Conv1d(in_channels=embed_dim, out_channels=32, kernel_size=8)\n",
    "        self.conv1d_10 = nn.Conv1d(in_channels=embed_dim, out_channels=32, kernel_size=10)\n",
    "        self.dropout = nn.Dropout(0.5)\n",
    "        self.maxpool = nn.MaxPool1d(kernel_size=2)\n",
    "        self.flatten = nn.Flatten()\n",
    "        \n",
    "        # Calculate the correct input size for the fully connected layer\n",
    "        conv_output_size = lambda k: (max_len - k + 1) // 2\n",
    "        total_conv_output_size = 32 * (conv_output_size(4) + conv_output_size(6) + conv_output_size(8) + conv_output_size(10))\n",
    "        \n",
    "        self.fc1 = nn.Linear(total_conv_output_size, 10)\n",
    "        self.fc2 = nn.Linear(10, num_classes)\n",
    "    \n",
    "    def forward(self, x):\n",
    "        x = self.embedding(x)\n",
    "        x = x.permute(0, 2, 1)  # Change shape to (batch_size, embed_dim, max_len)\n",
    "        \n",
    "        x1 = F.relu(self.conv1d_4(x))\n",
    "        x2 = F.relu(self.conv1d_6(x))\n",
    "        x3 = F.relu(self.conv1d_8(x))\n",
    "        x4 = F.relu(self.conv1d_10(x))\n",
    "        \n",
    "        x1 = self.dropout(self.maxpool(x1))\n",
    "        x2 = self.dropout(self.maxpool(x2))\n",
    "        x3 = self.dropout(self.maxpool(x3))\n",
    "        x4 = self.dropout(self.maxpool(x4))\n",
    "        \n",
    "        x1 = self.flatten(x1)\n",
    "        x2 = self.flatten(x2)\n",
    "        x3 = self.flatten(x3)\n",
    "        x4 = self.flatten(x4)\n",
    "        \n",
    "        x = torch.cat((x1, x2, x3, x4), dim=1)\n",
    "        \n",
    "        x = F.relu(self.fc1(x))\n",
    "        x = torch.sigmoid(self.fc2(x))\n",
    "        return x\n"
   ],
   "outputs": [],
   "execution_count": 17
  },
  {
   "metadata": {
    "ExecuteTime": {
     "end_time": "2024-09-27T14:21:08.742314Z",
     "start_time": "2024-09-27T14:21:08.722259Z"
    }
   },
   "cell_type": "code",
   "source": [
    "def plot_model(model, input_size):\n",
    "    # Create a dummy input tensor with the specified input size\n",
    "    # Ensure it's a LongTensor and move it to the same device as the model\n",
    "    dummy_input = torch.randint(0, 1000, input_size).long().to(\n",
    "        next(model.parameters()).device\n",
    "    )\n",
    "\n",
    "    # Perform a forward pass through the model to capture the computational graph\n",
    "    output = model(dummy_input)\n",
    "\n",
    "    # Create a dot graph visualization using torchviz\n",
    "    dot = make_dot(output, params=dict(model.named_parameters()))\n",
    "\n",
    "    # Render the dot graph to SVG format\n",
    "    svg = dot.render(format=\"svg\")\n",
    "\n",
    "    # Display the SVG\n",
    "    display(SVG(svg))"
   ],
   "id": "9125c507a95d06f6",
   "outputs": [],
   "execution_count": 60
  },
  {
   "metadata": {
    "ExecuteTime": {
     "end_time": "2024-09-27T14:21:13.342909Z",
     "start_time": "2024-09-27T14:21:13.226435Z"
    }
   },
   "cell_type": "code",
   "source": [
    "vocab_size = len(vocab)  # Use the actual vocabulary size\n",
    "embed_dim = 100\n",
    "num_classes = 1  # Binary classification (0 or 1)\n",
    "max_len = pad_len\n",
    "model = TextClassificationModel(vocab_size, embed_dim, num_classes, max_len)\n",
    "\n",
    "# Check if GPU is available\n",
    "device = torch.device('cuda' if torch.cuda.is_available() else 'cpu')\n",
    "model.to(device)\n",
    "\n",
    "# Loss and optimizer\n",
    "criterion = nn.BCELoss()  # Binary Cross-Entropy loss for binary classification\n",
    "optimizer = torch.optim.Adam(model.parameters(), lr=0.001)\n",
    "plot_model(model, input_size=(1, max_len))"
   ],
   "id": "9015eb426df75b1b",
   "outputs": [
    {
     "data": {
      "text/plain": [
       "<IPython.core.display.SVG object>"
      ],
      "image/svg+xml": "<svg xmlns=\"http://www.w3.org/2000/svg\" xmlns:xlink=\"http://www.w3.org/1999/xlink\" width=\"1088pt\" height=\"1060pt\" viewBox=\"0.00 0.00 1088.00 1059.75\">\n<g id=\"graph0\" class=\"graph\" transform=\"scale(1 1) rotate(0) translate(4 1055.75)\">\n<polygon fill=\"white\" stroke=\"none\" points=\"-4,4 -4,-1055.75 1084,-1055.75 1084,4 -4,4\"/>\n<!-- 140230012852880 -->\n<g id=\"node1\" class=\"node\">\n<title>140230012852880</title>\n<polygon fill=\"#caff70\" stroke=\"black\" points=\"583,-34.25 525,-34.25 525,0 583,0 583,-34.25\"/>\n<text text-anchor=\"middle\" x=\"554\" y=\"-8.75\" font-family=\"monospace\" font-size=\"10.00\"> (1, 1)</text>\n</g>\n<!-- 140230013689216 -->\n<g id=\"node2\" class=\"node\">\n<title>140230013689216</title>\n<polygon fill=\"lightgrey\" stroke=\"black\" points=\"610,-92.5 498,-92.5 498,-70.25 610,-70.25 610,-92.5\"/>\n<text text-anchor=\"middle\" x=\"554\" y=\"-79\" font-family=\"monospace\" font-size=\"10.00\">SigmoidBackward0</text>\n</g>\n<!-- 140230013689216&#45;&gt;140230012852880 -->\n<g id=\"edge66\" class=\"edge\">\n<title>140230013689216-&gt;140230012852880</title>\n<path fill=\"none\" stroke=\"black\" d=\"M554,-69.82C554,-63.14 554,-54.17 554,-45.59\"/>\n<polygon fill=\"black\" stroke=\"black\" points=\"557.5,-45.88 554,-35.88 550.5,-45.88 557.5,-45.88\"/>\n</g>\n<!-- 140230013691040 -->\n<g id=\"node3\" class=\"node\">\n<title>140230013691040</title>\n<polygon fill=\"lightgrey\" stroke=\"black\" points=\"604,-150.75 504,-150.75 504,-128.5 604,-128.5 604,-150.75\"/>\n<text text-anchor=\"middle\" x=\"554\" y=\"-137.25\" font-family=\"monospace\" font-size=\"10.00\">AddmmBackward0</text>\n</g>\n<!-- 140230013691040&#45;&gt;140230013689216 -->\n<g id=\"edge1\" class=\"edge\">\n<title>140230013691040-&gt;140230013689216</title>\n<path fill=\"none\" stroke=\"black\" d=\"M554,-128.04C554,-121.37 554,-112.49 554,-104.34\"/>\n<polygon fill=\"black\" stroke=\"black\" points=\"557.5,-104.42 554,-94.42 550.5,-104.42 557.5,-104.42\"/>\n</g>\n<!-- 140230010410880 -->\n<g id=\"node4\" class=\"node\">\n<title>140230010410880</title>\n<polygon fill=\"lightgrey\" stroke=\"black\" points=\"489,-209 389,-209 389,-186.75 489,-186.75 489,-209\"/>\n<text text-anchor=\"middle\" x=\"439\" y=\"-195.5\" font-family=\"monospace\" font-size=\"10.00\">AccumulateGrad</text>\n</g>\n<!-- 140230010410880&#45;&gt;140230013691040 -->\n<g id=\"edge2\" class=\"edge\">\n<title>140230010410880-&gt;140230013691040</title>\n<path fill=\"none\" stroke=\"black\" d=\"M460.63,-186.29C477.98,-177.81 502.58,-165.78 522.17,-156.19\"/>\n<polygon fill=\"black\" stroke=\"black\" points=\"523.66,-159.36 531.11,-151.82 520.59,-153.07 523.66,-159.36\"/>\n</g>\n<!-- 140230012848320 -->\n<g id=\"node5\" class=\"node\">\n<title>140230012848320</title>\n<polygon fill=\"lightblue\" stroke=\"black\" points=\"471,-281.5 407,-281.5 407,-245 471,-245 471,-281.5\"/>\n<text text-anchor=\"middle\" x=\"439\" y=\"-268\" font-family=\"monospace\" font-size=\"10.00\">fc2.bias</text>\n<text text-anchor=\"middle\" x=\"439\" y=\"-253.75\" font-family=\"monospace\" font-size=\"10.00\"> (1)</text>\n</g>\n<!-- 140230012848320&#45;&gt;140230010410880 -->\n<g id=\"edge3\" class=\"edge\">\n<title>140230012848320-&gt;140230010410880</title>\n<path fill=\"none\" stroke=\"black\" d=\"M439,-244.6C439,-237.28 439,-228.72 439,-220.99\"/>\n<polygon fill=\"black\" stroke=\"black\" points=\"442.5,-221.01 439,-211.01 435.5,-221.01 442.5,-221.01\"/>\n</g>\n<!-- 140230010410832 -->\n<g id=\"node6\" class=\"node\">\n<title>140230010410832</title>\n<polygon fill=\"lightgrey\" stroke=\"black\" points=\"601,-209 507,-209 507,-186.75 601,-186.75 601,-209\"/>\n<text text-anchor=\"middle\" x=\"554\" y=\"-195.5\" font-family=\"monospace\" font-size=\"10.00\">ReluBackward0</text>\n</g>\n<!-- 140230010410832&#45;&gt;140230013691040 -->\n<g id=\"edge4\" class=\"edge\">\n<title>140230010410832-&gt;140230013691040</title>\n<path fill=\"none\" stroke=\"black\" d=\"M554,-186.29C554,-179.62 554,-170.74 554,-162.59\"/>\n<polygon fill=\"black\" stroke=\"black\" points=\"557.5,-162.67 554,-152.67 550.5,-162.67 557.5,-162.67\"/>\n</g>\n<!-- 140230010412032 -->\n<g id=\"node7\" class=\"node\">\n<title>140230010412032</title>\n<polygon fill=\"lightgrey\" stroke=\"black\" points=\"596,-274.38 496,-274.38 496,-252.12 596,-252.12 596,-274.38\"/>\n<text text-anchor=\"middle\" x=\"546\" y=\"-260.88\" font-family=\"monospace\" font-size=\"10.00\">AddmmBackward0</text>\n</g>\n<!-- 140230010412032&#45;&gt;140230010410832 -->\n<g id=\"edge5\" class=\"edge\">\n<title>140230010412032-&gt;140230010410832</title>\n<path fill=\"none\" stroke=\"black\" d=\"M547.32,-251.78C548.39,-243.29 549.94,-231.04 551.27,-220.47\"/>\n<polygon fill=\"black\" stroke=\"black\" points=\"554.73,-221.01 552.51,-210.65 547.79,-220.13 554.73,-221.01\"/>\n</g>\n<!-- 140230010410976 -->\n<g id=\"node8\" class=\"node\">\n<title>140230010410976</title>\n<polygon fill=\"lightgrey\" stroke=\"black\" points=\"417,-346.88 317,-346.88 317,-324.62 417,-324.62 417,-346.88\"/>\n<text text-anchor=\"middle\" x=\"367\" y=\"-333.38\" font-family=\"monospace\" font-size=\"10.00\">AccumulateGrad</text>\n</g>\n<!-- 140230010410976&#45;&gt;140230010412032 -->\n<g id=\"edge6\" class=\"edge\">\n<title>140230010410976-&gt;140230010412032</title>\n<path fill=\"none\" stroke=\"black\" d=\"M393.8,-324.2C424.34,-312.17 474.45,-292.43 508.77,-278.91\"/>\n<polygon fill=\"black\" stroke=\"black\" points=\"509.88,-282.24 517.9,-275.32 507.32,-275.72 509.88,-282.24\"/>\n</g>\n<!-- 140230012858320 -->\n<g id=\"node9\" class=\"node\">\n<title>140230012858320</title>\n<polygon fill=\"lightblue\" stroke=\"black\" points=\"294,-426.5 230,-426.5 230,-390 294,-390 294,-426.5\"/>\n<text text-anchor=\"middle\" x=\"262\" y=\"-413\" font-family=\"monospace\" font-size=\"10.00\">fc1.bias</text>\n<text text-anchor=\"middle\" x=\"262\" y=\"-398.75\" font-family=\"monospace\" font-size=\"10.00\"> (10)</text>\n</g>\n<!-- 140230012858320&#45;&gt;140230010410976 -->\n<g id=\"edge7\" class=\"edge\">\n<title>140230012858320-&gt;140230010410976</title>\n<path fill=\"none\" stroke=\"black\" d=\"M288.23,-389.64C304.62,-378.63 325.63,-364.53 341.83,-353.65\"/>\n<polygon fill=\"black\" stroke=\"black\" points=\"343.6,-356.68 349.95,-348.2 339.7,-350.87 343.6,-356.68\"/>\n</g>\n<!-- 140230010411024 -->\n<g id=\"node10\" class=\"node\">\n<title>140230010411024</title>\n<polygon fill=\"lightgrey\" stroke=\"black\" points=\"571,-346.88 483,-346.88 483,-324.62 571,-324.62 571,-346.88\"/>\n<text text-anchor=\"middle\" x=\"527\" y=\"-333.38\" font-family=\"monospace\" font-size=\"10.00\">CatBackward0</text>\n</g>\n<!-- 140230010411024&#45;&gt;140230010412032 -->\n<g id=\"edge8\" class=\"edge\">\n<title>140230010411024-&gt;140230010412032</title>\n<path fill=\"none\" stroke=\"black\" d=\"M529.8,-324.35C532.55,-314.14 536.83,-298.28 540.29,-285.42\"/>\n<polygon fill=\"black\" stroke=\"black\" points=\"543.57,-286.72 542.79,-276.16 536.81,-284.9 543.57,-286.72\"/>\n</g>\n<!-- 140230010410352 -->\n<g id=\"node11\" class=\"node\">\n<title>140230010410352</title>\n<polygon fill=\"lightgrey\" stroke=\"black\" points=\"406,-419.38 312,-419.38 312,-397.12 406,-397.12 406,-419.38\"/>\n<text text-anchor=\"middle\" x=\"359\" y=\"-405.88\" font-family=\"monospace\" font-size=\"10.00\">ViewBackward0</text>\n</g>\n<!-- 140230010410352&#45;&gt;140230010411024 -->\n<g id=\"edge9\" class=\"edge\">\n<title>140230010410352-&gt;140230010411024</title>\n<path fill=\"none\" stroke=\"black\" d=\"M384.15,-396.7C412.69,-384.72 459.44,-365.1 491.64,-351.59\"/>\n<polygon fill=\"black\" stroke=\"black\" points=\"492.69,-354.94 500.56,-347.85 489.98,-348.49 492.69,-354.94\"/>\n</g>\n<!-- 140230010411120 -->\n<g id=\"node12\" class=\"node\">\n<title>140230010411120</title>\n<polygon fill=\"lightgrey\" stroke=\"black\" points=\"312,-491.88 164,-491.88 164,-469.62 312,-469.62 312,-491.88\"/>\n<text text-anchor=\"middle\" x=\"238\" y=\"-478.38\" font-family=\"monospace\" font-size=\"10.00\">NativeDropoutBackward0</text>\n</g>\n<!-- 140230010411120&#45;&gt;140230010410352 -->\n<g id=\"edge10\" class=\"edge\">\n<title>140230010411120-&gt;140230010410352</title>\n<path fill=\"none\" stroke=\"black\" d=\"M256.11,-469.2C276.01,-457.6 308.2,-438.85 331.27,-425.41\"/>\n<polygon fill=\"black\" stroke=\"black\" points=\"332.97,-428.47 339.85,-420.41 329.45,-422.42 332.97,-428.47\"/>\n</g>\n<!-- 140230010412944 -->\n<g id=\"node13\" class=\"node\">\n<title>140230010412944</title>\n<polygon fill=\"lightgrey\" stroke=\"black\" points=\"273,-557.25 161,-557.25 161,-535 273,-535 273,-557.25\"/>\n<text text-anchor=\"middle\" x=\"217\" y=\"-543.75\" font-family=\"monospace\" font-size=\"10.00\">SqueezeBackward1</text>\n</g>\n<!-- 140230010412944&#45;&gt;140230010411120 -->\n<g id=\"edge11\" class=\"edge\">\n<title>140230010412944-&gt;140230010411120</title>\n<path fill=\"none\" stroke=\"black\" d=\"M220.47,-534.66C223.34,-525.98 227.52,-513.38 231.07,-502.65\"/>\n<polygon fill=\"black\" stroke=\"black\" points=\"234.3,-504.05 234.12,-493.46 227.65,-501.85 234.3,-504.05\"/>\n</g>\n<!-- 140230010412896 -->\n<g id=\"node14\" class=\"node\">\n<title>140230010412896</title>\n<polygon fill=\"lightgrey\" stroke=\"black\" points=\"296,-615.5 106,-615.5 106,-593.25 296,-593.25 296,-615.5\"/>\n<text text-anchor=\"middle\" x=\"201\" y=\"-602\" font-family=\"monospace\" font-size=\"10.00\">MaxPool2DWithIndicesBackward0</text>\n</g>\n<!-- 140230010412896&#45;&gt;140230010412944 -->\n<g id=\"edge12\" class=\"edge\">\n<title>140230010412896-&gt;140230010412944</title>\n<path fill=\"none\" stroke=\"black\" d=\"M204.01,-592.79C205.95,-585.96 208.55,-576.82 210.92,-568.52\"/>\n<polygon fill=\"black\" stroke=\"black\" points=\"214.22,-569.69 213.59,-559.11 207.49,-567.77 214.22,-569.69\"/>\n</g>\n<!-- 140230010412368 -->\n<g id=\"node15\" class=\"node\">\n<title>140230010412368</title>\n<polygon fill=\"lightgrey\" stroke=\"black\" points=\"256,-673.75 132,-673.75 132,-651.5 256,-651.5 256,-673.75\"/>\n<text text-anchor=\"middle\" x=\"194\" y=\"-660.25\" font-family=\"monospace\" font-size=\"10.00\">UnsqueezeBackward0</text>\n</g>\n<!-- 140230010412368&#45;&gt;140230010412896 -->\n<g id=\"edge13\" class=\"edge\">\n<title>140230010412368-&gt;140230010412896</title>\n<path fill=\"none\" stroke=\"black\" d=\"M195.32,-651.04C196.16,-644.29 197.28,-635.28 198.3,-627.05\"/>\n<polygon fill=\"black\" stroke=\"black\" points=\"201.74,-627.77 199.5,-617.41 194.79,-626.9 201.74,-627.77\"/>\n</g>\n<!-- 140230010412176 -->\n<g id=\"node16\" class=\"node\">\n<title>140230010412176</title>\n<polygon fill=\"lightgrey\" stroke=\"black\" points=\"227,-732 133,-732 133,-709.75 227,-709.75 227,-732\"/>\n<text text-anchor=\"middle\" x=\"180\" y=\"-718.5\" font-family=\"monospace\" font-size=\"10.00\">ReluBackward0</text>\n</g>\n<!-- 140230010412176&#45;&gt;140230010412368 -->\n<g id=\"edge14\" class=\"edge\">\n<title>140230010412176-&gt;140230010412368</title>\n<path fill=\"none\" stroke=\"black\" d=\"M182.63,-709.29C184.31,-702.54 186.56,-693.53 188.6,-685.3\"/>\n<polygon fill=\"black\" stroke=\"black\" points=\"191.99,-686.18 191.01,-675.63 185.2,-684.49 191.99,-686.18\"/>\n</g>\n<!-- 140230010411168 -->\n<g id=\"node17\" class=\"node\">\n<title>140230010411168</title>\n<polygon fill=\"lightgrey\" stroke=\"black\" points=\"244,-790.25 108,-790.25 108,-768 244,-768 244,-790.25\"/>\n<text text-anchor=\"middle\" x=\"176\" y=\"-776.75\" font-family=\"monospace\" font-size=\"10.00\">ConvolutionBackward0</text>\n</g>\n<!-- 140230010411168&#45;&gt;140230010412176 -->\n<g id=\"edge15\" class=\"edge\">\n<title>140230010411168-&gt;140230010412176</title>\n<path fill=\"none\" stroke=\"black\" d=\"M176.75,-767.54C177.23,-760.87 177.86,-751.99 178.44,-743.84\"/>\n<polygon fill=\"black\" stroke=\"black\" points=\"181.93,-744.14 179.14,-733.92 174.94,-743.64 181.93,-744.14\"/>\n</g>\n<!-- 140230010410448 -->\n<g id=\"node18\" class=\"node\">\n<title>140230010410448</title>\n<polygon fill=\"lightgrey\" stroke=\"black\" points=\"590,-848.5 478,-848.5 478,-826.25 590,-826.25 590,-848.5\"/>\n<text text-anchor=\"middle\" x=\"534\" y=\"-835\" font-family=\"monospace\" font-size=\"10.00\">PermuteBackward0</text>\n</g>\n<!-- 140230010410448&#45;&gt;140230010411168 -->\n<g id=\"edge16\" class=\"edge\">\n<title>140230010410448-&gt;140230010411168</title>\n<path fill=\"none\" stroke=\"black\" d=\"M477.67,-827.52C417.61,-818.09 322.04,-803.07 254.59,-792.47\"/>\n<polygon fill=\"black\" stroke=\"black\" points=\"255.52,-789.08 245.1,-790.98 254.43,-795.99 255.52,-789.08\"/>\n</g>\n<!-- 140230010413568 -->\n<g id=\"node32\" class=\"node\">\n<title>140230010413568</title>\n<polygon fill=\"lightgrey\" stroke=\"black\" points=\"476,-790.25 340,-790.25 340,-768 476,-768 476,-790.25\"/>\n<text text-anchor=\"middle\" x=\"408\" y=\"-776.75\" font-family=\"monospace\" font-size=\"10.00\">ConvolutionBackward0</text>\n</g>\n<!-- 140230010410448&#45;&gt;140230010413568 -->\n<g id=\"edge31\" class=\"edge\">\n<title>140230010410448-&gt;140230010413568</title>\n<path fill=\"none\" stroke=\"black\" d=\"M510.3,-825.79C491.03,-817.19 463.59,-804.94 441.98,-795.29\"/>\n<polygon fill=\"black\" stroke=\"black\" points=\"443.53,-792.16 432.98,-791.27 440.68,-798.55 443.53,-792.16\"/>\n</g>\n<!-- 140230010410016 -->\n<g id=\"node43\" class=\"node\">\n<title>140230010410016</title>\n<polygon fill=\"lightgrey\" stroke=\"black\" points=\"725,-790.25 589,-790.25 589,-768 725,-768 725,-790.25\"/>\n<text text-anchor=\"middle\" x=\"657\" y=\"-776.75\" font-family=\"monospace\" font-size=\"10.00\">ConvolutionBackward0</text>\n</g>\n<!-- 140230010410448&#45;&gt;140230010410016 -->\n<g id=\"edge43\" class=\"edge\">\n<title>140230010410448-&gt;140230010410016</title>\n<path fill=\"none\" stroke=\"black\" d=\"M557.14,-825.79C575.86,-817.23 602.49,-805.05 623.54,-795.43\"/>\n<polygon fill=\"black\" stroke=\"black\" points=\"624.95,-798.63 632.59,-791.29 622.04,-792.26 624.95,-798.63\"/>\n</g>\n<!-- 140230010414768 -->\n<g id=\"node54\" class=\"node\">\n<title>140230010414768</title>\n<polygon fill=\"lightgrey\" stroke=\"black\" points=\"960,-790.25 824,-790.25 824,-768 960,-768 960,-790.25\"/>\n<text text-anchor=\"middle\" x=\"892\" y=\"-776.75\" font-family=\"monospace\" font-size=\"10.00\">ConvolutionBackward0</text>\n</g>\n<!-- 140230010410448&#45;&gt;140230010414768 -->\n<g id=\"edge55\" class=\"edge\">\n<title>140230010410448-&gt;140230010414768</title>\n<path fill=\"none\" stroke=\"black\" d=\"M590.33,-827.52C650.39,-818.09 745.96,-803.07 813.41,-792.47\"/>\n<polygon fill=\"black\" stroke=\"black\" points=\"813.57,-795.99 822.9,-790.98 812.48,-789.08 813.57,-795.99\"/>\n</g>\n<!-- 140230010413904 -->\n<g id=\"node19\" class=\"node\">\n<title>140230010413904</title>\n<polygon fill=\"lightgrey\" stroke=\"black\" points=\"596,-913.88 472,-913.88 472,-891.62 596,-891.62 596,-913.88\"/>\n<text text-anchor=\"middle\" x=\"534\" y=\"-900.38\" font-family=\"monospace\" font-size=\"10.00\">EmbeddingBackward0</text>\n</g>\n<!-- 140230010413904&#45;&gt;140230010410448 -->\n<g id=\"edge17\" class=\"edge\">\n<title>140230010413904-&gt;140230010410448</title>\n<path fill=\"none\" stroke=\"black\" d=\"M534,-891.28C534,-882.79 534,-870.54 534,-859.97\"/>\n<polygon fill=\"black\" stroke=\"black\" points=\"537.5,-860.16 534,-850.16 530.5,-860.16 537.5,-860.16\"/>\n</g>\n<!-- 140230010411360 -->\n<g id=\"node20\" class=\"node\">\n<title>140230010411360</title>\n<polygon fill=\"lightgrey\" stroke=\"black\" points=\"584,-979.25 484,-979.25 484,-957 584,-957 584,-979.25\"/>\n<text text-anchor=\"middle\" x=\"534\" y=\"-965.75\" font-family=\"monospace\" font-size=\"10.00\">AccumulateGrad</text>\n</g>\n<!-- 140230010411360&#45;&gt;140230010413904 -->\n<g id=\"edge18\" class=\"edge\">\n<title>140230010411360-&gt;140230010413904</title>\n<path fill=\"none\" stroke=\"black\" d=\"M534,-956.66C534,-948.17 534,-935.92 534,-925.34\"/>\n<polygon fill=\"black\" stroke=\"black\" points=\"537.5,-925.53 534,-915.53 530.5,-925.53 537.5,-925.53\"/>\n</g>\n<!-- 140230012921056 -->\n<g id=\"node21\" class=\"node\">\n<title>140230012921056</title>\n<polygon fill=\"lightblue\" stroke=\"black\" points=\"590,-1051.75 478,-1051.75 478,-1015.25 590,-1015.25 590,-1051.75\"/>\n<text text-anchor=\"middle\" x=\"534\" y=\"-1038.25\" font-family=\"monospace\" font-size=\"10.00\">embedding.weight</text>\n<text text-anchor=\"middle\" x=\"534\" y=\"-1024\" font-family=\"monospace\" font-size=\"10.00\"> (44914, 100)</text>\n</g>\n<!-- 140230012921056&#45;&gt;140230010411360 -->\n<g id=\"edge19\" class=\"edge\">\n<title>140230012921056-&gt;140230010411360</title>\n<path fill=\"none\" stroke=\"black\" d=\"M534,-1014.85C534,-1007.53 534,-998.97 534,-991.24\"/>\n<polygon fill=\"black\" stroke=\"black\" points=\"537.5,-991.26 534,-981.26 530.5,-991.26 537.5,-991.26\"/>\n</g>\n<!-- 140230010413952 -->\n<g id=\"node22\" class=\"node\">\n<title>140230010413952</title>\n<polygon fill=\"lightgrey\" stroke=\"black\" points=\"104,-848.5 4,-848.5 4,-826.25 104,-826.25 104,-848.5\"/>\n<text text-anchor=\"middle\" x=\"54\" y=\"-835\" font-family=\"monospace\" font-size=\"10.00\">AccumulateGrad</text>\n</g>\n<!-- 140230010413952&#45;&gt;140230010411168 -->\n<g id=\"edge20\" class=\"edge\">\n<title>140230010413952-&gt;140230010411168</title>\n<path fill=\"none\" stroke=\"black\" d=\"M76.95,-825.79C95.52,-817.23 121.93,-805.05 142.81,-795.43\"/>\n<polygon fill=\"black\" stroke=\"black\" points=\"144.17,-798.66 151.78,-791.29 141.23,-792.3 144.17,-798.66\"/>\n</g>\n<!-- 140230012918256 -->\n<g id=\"node23\" class=\"node\">\n<title>140230012918256</title>\n<polygon fill=\"lightblue\" stroke=\"black\" points=\"106,-921 0,-921 0,-884.5 106,-884.5 106,-921\"/>\n<text text-anchor=\"middle\" x=\"53\" y=\"-907.5\" font-family=\"monospace\" font-size=\"10.00\">conv1d_4.weight</text>\n<text text-anchor=\"middle\" x=\"53\" y=\"-893.25\" font-family=\"monospace\" font-size=\"10.00\"> (32, 100, 4)</text>\n</g>\n<!-- 140230012918256&#45;&gt;140230010413952 -->\n<g id=\"edge21\" class=\"edge\">\n<title>140230012918256-&gt;140230010413952</title>\n<path fill=\"none\" stroke=\"black\" d=\"M53.28,-884.1C53.39,-876.78 53.53,-868.22 53.65,-860.49\"/>\n<polygon fill=\"black\" stroke=\"black\" points=\"57.15,-860.56 53.81,-850.51 50.15,-860.45 57.15,-860.56\"/>\n</g>\n<!-- 140230010410400 -->\n<g id=\"node24\" class=\"node\">\n<title>140230010410400</title>\n<polygon fill=\"lightgrey\" stroke=\"black\" points=\"222,-848.5 122,-848.5 122,-826.25 222,-826.25 222,-848.5\"/>\n<text text-anchor=\"middle\" x=\"172\" y=\"-835\" font-family=\"monospace\" font-size=\"10.00\">AccumulateGrad</text>\n</g>\n<!-- 140230010410400&#45;&gt;140230010411168 -->\n<g id=\"edge22\" class=\"edge\">\n<title>140230010410400-&gt;140230010411168</title>\n<path fill=\"none\" stroke=\"black\" d=\"M172.75,-825.79C173.23,-819.12 173.86,-810.24 174.44,-802.09\"/>\n<polygon fill=\"black\" stroke=\"black\" points=\"177.93,-802.39 175.14,-792.17 170.94,-801.89 177.93,-802.39\"/>\n</g>\n<!-- 140230012920016 -->\n<g id=\"node25\" class=\"node\">\n<title>140230012920016</title>\n<polygon fill=\"lightblue\" stroke=\"black\" points=\"218,-921 124,-921 124,-884.5 218,-884.5 218,-921\"/>\n<text text-anchor=\"middle\" x=\"171\" y=\"-907.5\" font-family=\"monospace\" font-size=\"10.00\">conv1d_4.bias</text>\n<text text-anchor=\"middle\" x=\"171\" y=\"-893.25\" font-family=\"monospace\" font-size=\"10.00\"> (32)</text>\n</g>\n<!-- 140230012920016&#45;&gt;140230010410400 -->\n<g id=\"edge23\" class=\"edge\">\n<title>140230012920016-&gt;140230010410400</title>\n<path fill=\"none\" stroke=\"black\" d=\"M171.28,-884.1C171.39,-876.78 171.53,-868.22 171.65,-860.49\"/>\n<polygon fill=\"black\" stroke=\"black\" points=\"175.15,-860.56 171.81,-850.51 168.15,-860.45 175.15,-860.56\"/>\n</g>\n<!-- 140230010410688 -->\n<g id=\"node26\" class=\"node\">\n<title>140230010410688</title>\n<polygon fill=\"lightgrey\" stroke=\"black\" points=\"518,-419.38 424,-419.38 424,-397.12 518,-397.12 518,-419.38\"/>\n<text text-anchor=\"middle\" x=\"471\" y=\"-405.88\" font-family=\"monospace\" font-size=\"10.00\">ViewBackward0</text>\n</g>\n<!-- 140230010410688&#45;&gt;140230010411024 -->\n<g id=\"edge24\" class=\"edge\">\n<title>140230010410688-&gt;140230010411024</title>\n<path fill=\"none\" stroke=\"black\" d=\"M479.26,-396.85C487.78,-386.12 501.26,-369.15 511.73,-355.98\"/>\n<polygon fill=\"black\" stroke=\"black\" points=\"514.28,-358.39 517.76,-348.38 508.8,-354.03 514.28,-358.39\"/>\n</g>\n<!-- 140230010413184 -->\n<g id=\"node27\" class=\"node\">\n<title>140230010413184</title>\n<polygon fill=\"lightgrey\" stroke=\"black\" points=\"488,-491.88 340,-491.88 340,-469.62 488,-469.62 488,-491.88\"/>\n<text text-anchor=\"middle\" x=\"414\" y=\"-478.38\" font-family=\"monospace\" font-size=\"10.00\">NativeDropoutBackward0</text>\n</g>\n<!-- 140230010413184&#45;&gt;140230010410688 -->\n<g id=\"edge25\" class=\"edge\">\n<title>140230010413184-&gt;140230010410688</title>\n<path fill=\"none\" stroke=\"black\" d=\"M422.41,-469.35C431.08,-458.62 444.8,-441.65 455.46,-428.48\"/>\n<polygon fill=\"black\" stroke=\"black\" points=\"458.04,-430.85 461.6,-420.87 452.59,-426.45 458.04,-430.85\"/>\n</g>\n<!-- 140230010413520 -->\n<g id=\"node28\" class=\"node\">\n<title>140230010413520</title>\n<polygon fill=\"lightgrey\" stroke=\"black\" points=\"469,-557.25 357,-557.25 357,-535 469,-535 469,-557.25\"/>\n<text text-anchor=\"middle\" x=\"413\" y=\"-543.75\" font-family=\"monospace\" font-size=\"10.00\">SqueezeBackward1</text>\n</g>\n<!-- 140230010413520&#45;&gt;140230010413184 -->\n<g id=\"edge26\" class=\"edge\">\n<title>140230010413520-&gt;140230010413184</title>\n<path fill=\"none\" stroke=\"black\" d=\"M413.17,-534.66C413.3,-526.17 413.49,-513.92 413.66,-503.34\"/>\n<polygon fill=\"black\" stroke=\"black\" points=\"417.16,-503.59 413.81,-493.53 410.16,-503.48 417.16,-503.59\"/>\n</g>\n<!-- 140230010411984 -->\n<g id=\"node29\" class=\"node\">\n<title>140230010411984</title>\n<polygon fill=\"lightgrey\" stroke=\"black\" points=\"507,-615.5 317,-615.5 317,-593.25 507,-593.25 507,-615.5\"/>\n<text text-anchor=\"middle\" x=\"412\" y=\"-602\" font-family=\"monospace\" font-size=\"10.00\">MaxPool2DWithIndicesBackward0</text>\n</g>\n<!-- 140230010411984&#45;&gt;140230010413520 -->\n<g id=\"edge27\" class=\"edge\">\n<title>140230010411984-&gt;140230010413520</title>\n<path fill=\"none\" stroke=\"black\" d=\"M412.19,-592.79C412.31,-586.12 412.46,-577.24 412.61,-569.09\"/>\n<polygon fill=\"black\" stroke=\"black\" points=\"416.11,-569.23 412.79,-559.17 409.11,-569.11 416.11,-569.23\"/>\n</g>\n<!-- 140230010412320 -->\n<g id=\"node30\" class=\"node\">\n<title>140230010412320</title>\n<polygon fill=\"lightgrey\" stroke=\"black\" points=\"474,-673.75 350,-673.75 350,-651.5 474,-651.5 474,-673.75\"/>\n<text text-anchor=\"middle\" x=\"412\" y=\"-660.25\" font-family=\"monospace\" font-size=\"10.00\">UnsqueezeBackward0</text>\n</g>\n<!-- 140230010412320&#45;&gt;140230010411984 -->\n<g id=\"edge28\" class=\"edge\">\n<title>140230010412320-&gt;140230010411984</title>\n<path fill=\"none\" stroke=\"black\" d=\"M412,-651.04C412,-644.37 412,-635.49 412,-627.34\"/>\n<polygon fill=\"black\" stroke=\"black\" points=\"415.5,-627.42 412,-617.42 408.5,-627.42 415.5,-627.42\"/>\n</g>\n<!-- 140230010413712 -->\n<g id=\"node31\" class=\"node\">\n<title>140230010413712</title>\n<polygon fill=\"lightgrey\" stroke=\"black\" points=\"456,-732 362,-732 362,-709.75 456,-709.75 456,-732\"/>\n<text text-anchor=\"middle\" x=\"409\" y=\"-718.5\" font-family=\"monospace\" font-size=\"10.00\">ReluBackward0</text>\n</g>\n<!-- 140230010413712&#45;&gt;140230010412320 -->\n<g id=\"edge29\" class=\"edge\">\n<title>140230010413712-&gt;140230010412320</title>\n<path fill=\"none\" stroke=\"black\" d=\"M409.56,-709.29C409.92,-702.62 410.39,-693.74 410.83,-685.59\"/>\n<polygon fill=\"black\" stroke=\"black\" points=\"414.32,-685.84 411.36,-675.67 407.33,-685.47 414.32,-685.84\"/>\n</g>\n<!-- 140230010413568&#45;&gt;140230010413712 -->\n<g id=\"edge30\" class=\"edge\">\n<title>140230010413568-&gt;140230010413712</title>\n<path fill=\"none\" stroke=\"black\" d=\"M408.19,-767.54C408.31,-760.87 408.46,-751.99 408.61,-743.84\"/>\n<polygon fill=\"black\" stroke=\"black\" points=\"412.11,-743.98 408.79,-733.92 405.11,-743.86 412.11,-743.98\"/>\n</g>\n<!-- 140230010413376 -->\n<g id=\"node33\" class=\"node\">\n<title>140230010413376</title>\n<polygon fill=\"lightgrey\" stroke=\"black\" points=\"458,-848.5 358,-848.5 358,-826.25 458,-826.25 458,-848.5\"/>\n<text text-anchor=\"middle\" x=\"408\" y=\"-835\" font-family=\"monospace\" font-size=\"10.00\">AccumulateGrad</text>\n</g>\n<!-- 140230010413376&#45;&gt;140230010413568 -->\n<g id=\"edge32\" class=\"edge\">\n<title>140230010413376-&gt;140230010413568</title>\n<path fill=\"none\" stroke=\"black\" d=\"M408,-825.79C408,-819.12 408,-810.24 408,-802.09\"/>\n<polygon fill=\"black\" stroke=\"black\" points=\"411.5,-802.17 408,-792.17 404.5,-802.17 411.5,-802.17\"/>\n</g>\n<!-- 140230012919216 -->\n<g id=\"node34\" class=\"node\">\n<title>140230012919216</title>\n<polygon fill=\"lightblue\" stroke=\"black\" points=\"454,-921 348,-921 348,-884.5 454,-884.5 454,-921\"/>\n<text text-anchor=\"middle\" x=\"401\" y=\"-907.5\" font-family=\"monospace\" font-size=\"10.00\">conv1d_6.weight</text>\n<text text-anchor=\"middle\" x=\"401\" y=\"-893.25\" font-family=\"monospace\" font-size=\"10.00\"> (32, 100, 6)</text>\n</g>\n<!-- 140230012919216&#45;&gt;140230010413376 -->\n<g id=\"edge33\" class=\"edge\">\n<title>140230012919216-&gt;140230010413376</title>\n<path fill=\"none\" stroke=\"black\" d=\"M402.95,-884.1C403.77,-876.69 404.73,-868.01 405.59,-860.21\"/>\n<polygon fill=\"black\" stroke=\"black\" points=\"409.04,-860.82 406.66,-850.5 402.08,-860.05 409.04,-860.82\"/>\n</g>\n<!-- 140230010413856 -->\n<g id=\"node35\" class=\"node\">\n<title>140230010413856</title>\n<polygon fill=\"lightgrey\" stroke=\"black\" points=\"340,-848.5 240,-848.5 240,-826.25 340,-826.25 340,-848.5\"/>\n<text text-anchor=\"middle\" x=\"290\" y=\"-835\" font-family=\"monospace\" font-size=\"10.00\">AccumulateGrad</text>\n</g>\n<!-- 140230010413856&#45;&gt;140230010413568 -->\n<g id=\"edge34\" class=\"edge\">\n<title>140230010413856-&gt;140230010413568</title>\n<path fill=\"none\" stroke=\"black\" d=\"M312.19,-825.79C330.08,-817.27 355.47,-805.17 375.62,-795.56\"/>\n<polygon fill=\"black\" stroke=\"black\" points=\"377.02,-798.77 384.54,-791.31 374.01,-792.45 377.02,-798.77\"/>\n</g>\n<!-- 140230012918496 -->\n<g id=\"node36\" class=\"node\">\n<title>140230012918496</title>\n<polygon fill=\"lightblue\" stroke=\"black\" points=\"330,-921 236,-921 236,-884.5 330,-884.5 330,-921\"/>\n<text text-anchor=\"middle\" x=\"283\" y=\"-907.5\" font-family=\"monospace\" font-size=\"10.00\">conv1d_6.bias</text>\n<text text-anchor=\"middle\" x=\"283\" y=\"-893.25\" font-family=\"monospace\" font-size=\"10.00\"> (32)</text>\n</g>\n<!-- 140230012918496&#45;&gt;140230010413856 -->\n<g id=\"edge35\" class=\"edge\">\n<title>140230012918496-&gt;140230010413856</title>\n<path fill=\"none\" stroke=\"black\" d=\"M284.95,-884.1C285.77,-876.69 286.73,-868.01 287.59,-860.21\"/>\n<polygon fill=\"black\" stroke=\"black\" points=\"291.04,-860.82 288.66,-850.5 284.08,-860.05 291.04,-860.82\"/>\n</g>\n<!-- 140230010411648 -->\n<g id=\"node37\" class=\"node\">\n<title>140230010411648</title>\n<polygon fill=\"lightgrey\" stroke=\"black\" points=\"630,-419.38 536,-419.38 536,-397.12 630,-397.12 630,-419.38\"/>\n<text text-anchor=\"middle\" x=\"583\" y=\"-405.88\" font-family=\"monospace\" font-size=\"10.00\">ViewBackward0</text>\n</g>\n<!-- 140230010411648&#45;&gt;140230010411024 -->\n<g id=\"edge36\" class=\"edge\">\n<title>140230010411648-&gt;140230010411024</title>\n<path fill=\"none\" stroke=\"black\" d=\"M574.74,-396.85C566.22,-386.12 552.74,-369.15 542.27,-355.98\"/>\n<polygon fill=\"black\" stroke=\"black\" points=\"545.2,-354.03 536.24,-348.38 539.72,-358.39 545.2,-354.03\"/>\n</g>\n<!-- 140230010413136 -->\n<g id=\"node38\" class=\"node\">\n<title>140230010413136</title>\n<polygon fill=\"lightgrey\" stroke=\"black\" points=\"657,-491.88 509,-491.88 509,-469.62 657,-469.62 657,-491.88\"/>\n<text text-anchor=\"middle\" x=\"583\" y=\"-478.38\" font-family=\"monospace\" font-size=\"10.00\">NativeDropoutBackward0</text>\n</g>\n<!-- 140230010413136&#45;&gt;140230010411648 -->\n<g id=\"edge37\" class=\"edge\">\n<title>140230010413136-&gt;140230010411648</title>\n<path fill=\"none\" stroke=\"black\" d=\"M583,-469.35C583,-459.25 583,-443.61 583,-430.81\"/>\n<polygon fill=\"black\" stroke=\"black\" points=\"586.5,-431.21 583,-421.21 579.5,-431.21 586.5,-431.21\"/>\n</g>\n<!-- 140230010414288 -->\n<g id=\"node39\" class=\"node\">\n<title>140230010414288</title>\n<polygon fill=\"lightgrey\" stroke=\"black\" points=\"666,-557.25 554,-557.25 554,-535 666,-535 666,-557.25\"/>\n<text text-anchor=\"middle\" x=\"610\" y=\"-543.75\" font-family=\"monospace\" font-size=\"10.00\">SqueezeBackward1</text>\n</g>\n<!-- 140230010414288&#45;&gt;140230010413136 -->\n<g id=\"edge38\" class=\"edge\">\n<title>140230010414288-&gt;140230010413136</title>\n<path fill=\"none\" stroke=\"black\" d=\"M605.54,-534.66C601.81,-525.89 596.36,-513.11 591.76,-502.31\"/>\n<polygon fill=\"black\" stroke=\"black\" points=\"595.11,-501.24 587.97,-493.41 588.67,-503.98 595.11,-501.24\"/>\n</g>\n<!-- 140230010413616 -->\n<g id=\"node40\" class=\"node\">\n<title>140230010413616</title>\n<polygon fill=\"lightgrey\" stroke=\"black\" points=\"736,-615.5 546,-615.5 546,-593.25 736,-593.25 736,-615.5\"/>\n<text text-anchor=\"middle\" x=\"641\" y=\"-602\" font-family=\"monospace\" font-size=\"10.00\">MaxPool2DWithIndicesBackward0</text>\n</g>\n<!-- 140230010413616&#45;&gt;140230010414288 -->\n<g id=\"edge39\" class=\"edge\">\n<title>140230010413616-&gt;140230010414288</title>\n<path fill=\"none\" stroke=\"black\" d=\"M635.17,-592.79C631.27,-585.72 626.02,-576.19 621.32,-567.66\"/>\n<polygon fill=\"black\" stroke=\"black\" points=\"624.43,-566.05 616.54,-558.98 618.3,-569.43 624.43,-566.05\"/>\n</g>\n<!-- 140230010413760 -->\n<g id=\"node41\" class=\"node\">\n<title>140230010413760</title>\n<polygon fill=\"lightgrey\" stroke=\"black\" points=\"708,-673.75 584,-673.75 584,-651.5 708,-651.5 708,-673.75\"/>\n<text text-anchor=\"middle\" x=\"646\" y=\"-660.25\" font-family=\"monospace\" font-size=\"10.00\">UnsqueezeBackward0</text>\n</g>\n<!-- 140230010413760&#45;&gt;140230010413616 -->\n<g id=\"edge40\" class=\"edge\">\n<title>140230010413760-&gt;140230010413616</title>\n<path fill=\"none\" stroke=\"black\" d=\"M645.06,-651.04C644.47,-644.37 643.68,-635.49 642.95,-627.34\"/>\n<polygon fill=\"black\" stroke=\"black\" points=\"646.44,-627.07 642.07,-617.42 639.47,-627.69 646.44,-627.07\"/>\n</g>\n<!-- 140230010410064 -->\n<g id=\"node42\" class=\"node\">\n<title>140230010410064</title>\n<polygon fill=\"lightgrey\" stroke=\"black\" points=\"694,-732 600,-732 600,-709.75 694,-709.75 694,-732\"/>\n<text text-anchor=\"middle\" x=\"647\" y=\"-718.5\" font-family=\"monospace\" font-size=\"10.00\">ReluBackward0</text>\n</g>\n<!-- 140230010410064&#45;&gt;140230010413760 -->\n<g id=\"edge41\" class=\"edge\">\n<title>140230010410064-&gt;140230010413760</title>\n<path fill=\"none\" stroke=\"black\" d=\"M646.81,-709.29C646.69,-702.62 646.54,-693.74 646.39,-685.59\"/>\n<polygon fill=\"black\" stroke=\"black\" points=\"649.89,-685.61 646.21,-675.67 642.89,-685.73 649.89,-685.61\"/>\n</g>\n<!-- 140230010410016&#45;&gt;140230010410064 -->\n<g id=\"edge42\" class=\"edge\">\n<title>140230010410016-&gt;140230010410064</title>\n<path fill=\"none\" stroke=\"black\" d=\"M655.12,-767.54C653.92,-760.79 652.32,-751.78 650.85,-743.55\"/>\n<polygon fill=\"black\" stroke=\"black\" points=\"654.33,-743.13 649.14,-733.9 647.44,-744.36 654.33,-743.13\"/>\n</g>\n<!-- 140230010414192 -->\n<g id=\"node44\" class=\"node\">\n<title>140230010414192</title>\n<polygon fill=\"lightgrey\" stroke=\"black\" points=\"712,-848.5 612,-848.5 612,-826.25 712,-826.25 712,-848.5\"/>\n<text text-anchor=\"middle\" x=\"662\" y=\"-835\" font-family=\"monospace\" font-size=\"10.00\">AccumulateGrad</text>\n</g>\n<!-- 140230010414192&#45;&gt;140230010410016 -->\n<g id=\"edge44\" class=\"edge\">\n<title>140230010414192-&gt;140230010410016</title>\n<path fill=\"none\" stroke=\"black\" d=\"M661.06,-825.79C660.47,-819.12 659.68,-810.24 658.95,-802.09\"/>\n<polygon fill=\"black\" stroke=\"black\" points=\"662.44,-801.82 658.07,-792.17 655.47,-802.44 662.44,-801.82\"/>\n</g>\n<!-- 140230012922096 -->\n<g id=\"node45\" class=\"node\">\n<title>140230012922096</title>\n<polygon fill=\"lightblue\" stroke=\"black\" points=\"720,-921 614,-921 614,-884.5 720,-884.5 720,-921\"/>\n<text text-anchor=\"middle\" x=\"667\" y=\"-907.5\" font-family=\"monospace\" font-size=\"10.00\">conv1d_8.weight</text>\n<text text-anchor=\"middle\" x=\"667\" y=\"-893.25\" font-family=\"monospace\" font-size=\"10.00\"> (32, 100, 8)</text>\n</g>\n<!-- 140230012922096&#45;&gt;140230010414192 -->\n<g id=\"edge45\" class=\"edge\">\n<title>140230012922096-&gt;140230010414192</title>\n<path fill=\"none\" stroke=\"black\" d=\"M665.61,-884.1C665.02,-876.69 664.34,-868.01 663.72,-860.21\"/>\n<polygon fill=\"black\" stroke=\"black\" points=\"667.23,-860.2 662.96,-850.5 660.25,-860.75 667.23,-860.2\"/>\n</g>\n<!-- 140230010411792 -->\n<g id=\"node46\" class=\"node\">\n<title>140230010411792</title>\n<polygon fill=\"lightgrey\" stroke=\"black\" points=\"832,-848.5 732,-848.5 732,-826.25 832,-826.25 832,-848.5\"/>\n<text text-anchor=\"middle\" x=\"782\" y=\"-835\" font-family=\"monospace\" font-size=\"10.00\">AccumulateGrad</text>\n</g>\n<!-- 140230010411792&#45;&gt;140230010410016 -->\n<g id=\"edge46\" class=\"edge\">\n<title>140230010411792-&gt;140230010410016</title>\n<path fill=\"none\" stroke=\"black\" d=\"M758.49,-825.79C739.37,-817.19 712.15,-804.94 690.71,-795.29\"/>\n<polygon fill=\"black\" stroke=\"black\" points=\"692.34,-792.19 681.79,-791.28 689.47,-798.57 692.34,-792.19\"/>\n</g>\n<!-- 140230012926496 -->\n<g id=\"node47\" class=\"node\">\n<title>140230012926496</title>\n<polygon fill=\"lightblue\" stroke=\"black\" points=\"832,-921 738,-921 738,-884.5 832,-884.5 832,-921\"/>\n<text text-anchor=\"middle\" x=\"785\" y=\"-907.5\" font-family=\"monospace\" font-size=\"10.00\">conv1d_8.bias</text>\n<text text-anchor=\"middle\" x=\"785\" y=\"-893.25\" font-family=\"monospace\" font-size=\"10.00\"> (32)</text>\n</g>\n<!-- 140230012926496&#45;&gt;140230010411792 -->\n<g id=\"edge47\" class=\"edge\">\n<title>140230012926496-&gt;140230010411792</title>\n<path fill=\"none\" stroke=\"black\" d=\"M784.16,-884.1C783.82,-876.78 783.41,-868.22 783.05,-860.49\"/>\n<polygon fill=\"black\" stroke=\"black\" points=\"786.54,-860.33 782.57,-850.51 779.55,-860.66 786.54,-860.33\"/>\n</g>\n<!-- 140230010410784 -->\n<g id=\"node48\" class=\"node\">\n<title>140230010410784</title>\n<polygon fill=\"lightgrey\" stroke=\"black\" points=\"760,-419.38 666,-419.38 666,-397.12 760,-397.12 760,-419.38\"/>\n<text text-anchor=\"middle\" x=\"713\" y=\"-405.88\" font-family=\"monospace\" font-size=\"10.00\">ViewBackward0</text>\n</g>\n<!-- 140230010410784&#45;&gt;140230010411024 -->\n<g id=\"edge48\" class=\"edge\">\n<title>140230010410784-&gt;140230010411024</title>\n<path fill=\"none\" stroke=\"black\" d=\"M685.15,-396.7C653.28,-384.62 600.9,-364.76 565.23,-351.24\"/>\n<polygon fill=\"black\" stroke=\"black\" points=\"566.74,-348.07 556.15,-347.8 564.26,-354.61 566.74,-348.07\"/>\n</g>\n<!-- 140230010414384 -->\n<g id=\"node49\" class=\"node\">\n<title>140230010414384</title>\n<polygon fill=\"lightgrey\" stroke=\"black\" points=\"823,-491.88 675,-491.88 675,-469.62 823,-469.62 823,-491.88\"/>\n<text text-anchor=\"middle\" x=\"749\" y=\"-478.38\" font-family=\"monospace\" font-size=\"10.00\">NativeDropoutBackward0</text>\n</g>\n<!-- 140230010414384&#45;&gt;140230010410784 -->\n<g id=\"edge49\" class=\"edge\">\n<title>140230010414384-&gt;140230010410784</title>\n<path fill=\"none\" stroke=\"black\" d=\"M743.69,-469.35C738.37,-458.93 730.05,-442.63 723.41,-429.64\"/>\n<polygon fill=\"black\" stroke=\"black\" points=\"726.69,-428.36 719.02,-421.04 720.45,-431.54 726.69,-428.36\"/>\n</g>\n<!-- 140230010414096 -->\n<g id=\"node50\" class=\"node\">\n<title>140230010414096</title>\n<polygon fill=\"lightgrey\" stroke=\"black\" points=\"814,-557.25 702,-557.25 702,-535 814,-535 814,-557.25\"/>\n<text text-anchor=\"middle\" x=\"758\" y=\"-543.75\" font-family=\"monospace\" font-size=\"10.00\">SqueezeBackward1</text>\n</g>\n<!-- 140230010414096&#45;&gt;140230010414384 -->\n<g id=\"edge50\" class=\"edge\">\n<title>140230010414096-&gt;140230010414384</title>\n<path fill=\"none\" stroke=\"black\" d=\"M756.51,-534.66C755.31,-526.17 753.57,-513.92 752.07,-503.34\"/>\n<polygon fill=\"black\" stroke=\"black\" points=\"755.54,-502.93 750.67,-493.52 748.61,-503.91 755.54,-502.93\"/>\n</g>\n<!-- 140230010412704 -->\n<g id=\"node51\" class=\"node\">\n<title>140230010412704</title>\n<polygon fill=\"lightgrey\" stroke=\"black\" points=\"968,-615.5 778,-615.5 778,-593.25 968,-593.25 968,-615.5\"/>\n<text text-anchor=\"middle\" x=\"873\" y=\"-602\" font-family=\"monospace\" font-size=\"10.00\">MaxPool2DWithIndicesBackward0</text>\n</g>\n<!-- 140230010412704&#45;&gt;140230010414096 -->\n<g id=\"edge51\" class=\"edge\">\n<title>140230010412704-&gt;140230010414096</title>\n<path fill=\"none\" stroke=\"black\" d=\"M851.37,-592.79C834.02,-584.31 809.42,-572.28 789.83,-562.69\"/>\n<polygon fill=\"black\" stroke=\"black\" points=\"791.41,-559.57 780.89,-558.32 788.34,-565.86 791.41,-559.57\"/>\n</g>\n<!-- 140230010412848 -->\n<g id=\"node52\" class=\"node\">\n<title>140230010412848</title>\n<polygon fill=\"lightgrey\" stroke=\"black\" points=\"941,-673.75 817,-673.75 817,-651.5 941,-651.5 941,-673.75\"/>\n<text text-anchor=\"middle\" x=\"879\" y=\"-660.25\" font-family=\"monospace\" font-size=\"10.00\">UnsqueezeBackward0</text>\n</g>\n<!-- 140230010412848&#45;&gt;140230010412704 -->\n<g id=\"edge52\" class=\"edge\">\n<title>140230010412848-&gt;140230010412704</title>\n<path fill=\"none\" stroke=\"black\" d=\"M877.87,-651.04C877.16,-644.37 876.21,-635.49 875.34,-627.34\"/>\n<polygon fill=\"black\" stroke=\"black\" points=\"878.83,-626.99 874.28,-617.41 871.86,-627.73 878.83,-626.99\"/>\n</g>\n<!-- 140230010414240 -->\n<g id=\"node53\" class=\"node\">\n<title>140230010414240</title>\n<polygon fill=\"lightgrey\" stroke=\"black\" points=\"927,-732 833,-732 833,-709.75 927,-709.75 927,-732\"/>\n<text text-anchor=\"middle\" x=\"880\" y=\"-718.5\" font-family=\"monospace\" font-size=\"10.00\">ReluBackward0</text>\n</g>\n<!-- 140230010414240&#45;&gt;140230010412848 -->\n<g id=\"edge53\" class=\"edge\">\n<title>140230010414240-&gt;140230010412848</title>\n<path fill=\"none\" stroke=\"black\" d=\"M879.81,-709.29C879.69,-702.62 879.54,-693.74 879.39,-685.59\"/>\n<polygon fill=\"black\" stroke=\"black\" points=\"882.89,-685.61 879.21,-675.67 875.89,-685.73 882.89,-685.61\"/>\n</g>\n<!-- 140230010414768&#45;&gt;140230010414240 -->\n<g id=\"edge54\" class=\"edge\">\n<title>140230010414768-&gt;140230010414240</title>\n<path fill=\"none\" stroke=\"black\" d=\"M889.74,-767.54C888.3,-760.79 886.38,-751.78 884.62,-743.55\"/>\n<polygon fill=\"black\" stroke=\"black\" points=\"888.07,-742.94 882.56,-733.89 881.23,-744.4 888.07,-742.94\"/>\n</g>\n<!-- 140230010410208 -->\n<g id=\"node55\" class=\"node\">\n<title>140230010410208</title>\n<polygon fill=\"lightgrey\" stroke=\"black\" points=\"953,-848.5 853,-848.5 853,-826.25 953,-826.25 953,-848.5\"/>\n<text text-anchor=\"middle\" x=\"903\" y=\"-835\" font-family=\"monospace\" font-size=\"10.00\">AccumulateGrad</text>\n</g>\n<!-- 140230010410208&#45;&gt;140230010414768 -->\n<g id=\"edge56\" class=\"edge\">\n<title>140230010410208-&gt;140230010414768</title>\n<path fill=\"none\" stroke=\"black\" d=\"M900.93,-825.79C899.61,-819.04 897.85,-810.03 896.24,-801.8\"/>\n<polygon fill=\"black\" stroke=\"black\" points=\"899.7,-801.29 894.35,-792.14 892.83,-802.63 899.7,-801.29\"/>\n</g>\n<!-- 140230012925856 -->\n<g id=\"node56\" class=\"node\">\n<title>140230012925856</title>\n<polygon fill=\"lightblue\" stroke=\"black\" points=\"962,-921 850,-921 850,-884.5 962,-884.5 962,-921\"/>\n<text text-anchor=\"middle\" x=\"906\" y=\"-907.5\" font-family=\"monospace\" font-size=\"10.00\">conv1d_10.weight</text>\n<text text-anchor=\"middle\" x=\"906\" y=\"-893.25\" font-family=\"monospace\" font-size=\"10.00\"> (32, 100, 10)</text>\n</g>\n<!-- 140230012925856&#45;&gt;140230010410208 -->\n<g id=\"edge57\" class=\"edge\">\n<title>140230012925856-&gt;140230010410208</title>\n<path fill=\"none\" stroke=\"black\" d=\"M905.16,-884.1C904.82,-876.78 904.41,-868.22 904.05,-860.49\"/>\n<polygon fill=\"black\" stroke=\"black\" points=\"907.54,-860.33 903.57,-850.51 900.55,-860.66 907.54,-860.33\"/>\n</g>\n<!-- 140230010414720 -->\n<g id=\"node57\" class=\"node\">\n<title>140230010414720</title>\n<polygon fill=\"lightgrey\" stroke=\"black\" points=\"1075,-848.5 975,-848.5 975,-826.25 1075,-826.25 1075,-848.5\"/>\n<text text-anchor=\"middle\" x=\"1025\" y=\"-835\" font-family=\"monospace\" font-size=\"10.00\">AccumulateGrad</text>\n</g>\n<!-- 140230010414720&#45;&gt;140230010414768 -->\n<g id=\"edge58\" class=\"edge\">\n<title>140230010414720-&gt;140230010414768</title>\n<path fill=\"none\" stroke=\"black\" d=\"M999.98,-825.79C979.46,-817.11 950.15,-804.72 927.24,-795.03\"/>\n<polygon fill=\"black\" stroke=\"black\" points=\"928.87,-791.92 918.3,-791.25 926.14,-798.37 928.87,-791.92\"/>\n</g>\n<!-- 140230012857920 -->\n<g id=\"node58\" class=\"node\">\n<title>140230012857920</title>\n<polygon fill=\"lightblue\" stroke=\"black\" points=\"1080,-921 980,-921 980,-884.5 1080,-884.5 1080,-921\"/>\n<text text-anchor=\"middle\" x=\"1030\" y=\"-907.5\" font-family=\"monospace\" font-size=\"10.00\">conv1d_10.bias</text>\n<text text-anchor=\"middle\" x=\"1030\" y=\"-893.25\" font-family=\"monospace\" font-size=\"10.00\"> (32)</text>\n</g>\n<!-- 140230012857920&#45;&gt;140230010414720 -->\n<g id=\"edge59\" class=\"edge\">\n<title>140230012857920-&gt;140230010414720</title>\n<path fill=\"none\" stroke=\"black\" d=\"M1028.61,-884.1C1028.02,-876.69 1027.34,-868.01 1026.72,-860.21\"/>\n<polygon fill=\"black\" stroke=\"black\" points=\"1030.23,-860.2 1025.96,-850.5 1023.25,-860.75 1030.23,-860.2\"/>\n</g>\n<!-- 140230010411072 -->\n<g id=\"node59\" class=\"node\">\n<title>140230010411072</title>\n<polygon fill=\"lightgrey\" stroke=\"black\" points=\"665,-346.88 589,-346.88 589,-324.62 665,-324.62 665,-346.88\"/>\n<text text-anchor=\"middle\" x=\"627\" y=\"-333.38\" font-family=\"monospace\" font-size=\"10.00\">TBackward0</text>\n</g>\n<!-- 140230010411072&#45;&gt;140230010412032 -->\n<g id=\"edge60\" class=\"edge\">\n<title>140230010411072-&gt;140230010412032</title>\n<path fill=\"none\" stroke=\"black\" d=\"M615.05,-324.35C602.25,-313.21 581.7,-295.32 566.35,-281.96\"/>\n<polygon fill=\"black\" stroke=\"black\" points=\"568.98,-279.61 559.14,-275.69 564.39,-284.89 568.98,-279.61\"/>\n</g>\n<!-- 140230010414144 -->\n<g id=\"node60\" class=\"node\">\n<title>140230010414144</title>\n<polygon fill=\"lightgrey\" stroke=\"black\" points=\"914,-419.38 814,-419.38 814,-397.12 914,-397.12 914,-419.38\"/>\n<text text-anchor=\"middle\" x=\"864\" y=\"-405.88\" font-family=\"monospace\" font-size=\"10.00\">AccumulateGrad</text>\n</g>\n<!-- 140230010414144&#45;&gt;140230010411072 -->\n<g id=\"edge61\" class=\"edge\">\n<title>140230010414144-&gt;140230010411072</title>\n<path fill=\"none\" stroke=\"black\" d=\"M822.58,-396.65C783.9,-386.51 724.69,-370.38 674,-354 671.15,-353.08 668.22,-352.09 665.28,-351.08\"/>\n<polygon fill=\"black\" stroke=\"black\" points=\"666.73,-347.88 656.14,-347.84 664.39,-354.48 666.73,-347.88\"/>\n</g>\n<!-- 140230012923536 -->\n<g id=\"node61\" class=\"node\">\n<title>140230012923536</title>\n<polygon fill=\"lightblue\" stroke=\"black\" points=\"923,-499 841,-499 841,-462.5 923,-462.5 923,-499\"/>\n<text text-anchor=\"middle\" x=\"882\" y=\"-485.5\" font-family=\"monospace\" font-size=\"10.00\">fc1.weight</text>\n<text text-anchor=\"middle\" x=\"882\" y=\"-471.25\" font-family=\"monospace\" font-size=\"10.00\"> (10, 2752)</text>\n</g>\n<!-- 140230012923536&#45;&gt;140230010414144 -->\n<g id=\"edge62\" class=\"edge\">\n<title>140230012923536-&gt;140230010414144</title>\n<path fill=\"none\" stroke=\"black\" d=\"M877.55,-462.32C875.1,-452.71 872.03,-440.7 869.43,-430.53\"/>\n<polygon fill=\"black\" stroke=\"black\" points=\"872.91,-429.99 867.04,-421.17 866.13,-431.73 872.91,-429.99\"/>\n</g>\n<!-- 140230010412656 -->\n<g id=\"node62\" class=\"node\">\n<title>140230010412656</title>\n<polygon fill=\"lightgrey\" stroke=\"black\" points=\"717,-209 641,-209 641,-186.75 717,-186.75 717,-209\"/>\n<text text-anchor=\"middle\" x=\"679\" y=\"-195.5\" font-family=\"monospace\" font-size=\"10.00\">TBackward0</text>\n</g>\n<!-- 140230010412656&#45;&gt;140230013691040 -->\n<g id=\"edge63\" class=\"edge\">\n<title>140230010412656-&gt;140230013691040</title>\n<path fill=\"none\" stroke=\"black\" d=\"M655.49,-186.29C636.37,-177.69 609.15,-165.44 587.71,-155.79\"/>\n<polygon fill=\"black\" stroke=\"black\" points=\"589.34,-152.69 578.79,-151.78 586.47,-159.07 589.34,-152.69\"/>\n</g>\n<!-- 140230010414336 -->\n<g id=\"node63\" class=\"node\">\n<title>140230010414336</title>\n<polygon fill=\"lightgrey\" stroke=\"black\" points=\"752,-274.38 652,-274.38 652,-252.12 752,-252.12 752,-274.38\"/>\n<text text-anchor=\"middle\" x=\"702\" y=\"-260.88\" font-family=\"monospace\" font-size=\"10.00\">AccumulateGrad</text>\n</g>\n<!-- 140230010414336&#45;&gt;140230010412656 -->\n<g id=\"edge64\" class=\"edge\">\n<title>140230010414336-&gt;140230010412656</title>\n<path fill=\"none\" stroke=\"black\" d=\"M698.2,-251.78C695.05,-243.11 690.48,-230.51 686.59,-219.78\"/>\n<polygon fill=\"black\" stroke=\"black\" points=\"689.95,-218.77 683.24,-210.57 683.37,-221.16 689.95,-218.77\"/>\n</g>\n<!-- 140230012850960 -->\n<g id=\"node64\" class=\"node\">\n<title>140230012850960</title>\n<polygon fill=\"lightblue\" stroke=\"black\" points=\"759,-354 683,-354 683,-317.5 759,-317.5 759,-354\"/>\n<text text-anchor=\"middle\" x=\"721\" y=\"-340.5\" font-family=\"monospace\" font-size=\"10.00\">fc2.weight</text>\n<text text-anchor=\"middle\" x=\"721\" y=\"-326.25\" font-family=\"monospace\" font-size=\"10.00\"> (1, 10)</text>\n</g>\n<!-- 140230012850960&#45;&gt;140230010414336 -->\n<g id=\"edge65\" class=\"edge\">\n<title>140230012850960-&gt;140230010414336</title>\n<path fill=\"none\" stroke=\"black\" d=\"M716.3,-317.32C713.71,-307.71 710.48,-295.7 707.74,-285.53\"/>\n<polygon fill=\"black\" stroke=\"black\" points=\"711.19,-284.91 705.21,-276.17 704.43,-286.73 711.19,-284.91\"/>\n</g>\n</g>\n</svg>"
     },
     "metadata": {},
     "output_type": "display_data"
    }
   ],
   "execution_count": 61
  },
  {
   "metadata": {},
   "cell_type": "code",
   "outputs": [],
   "execution_count": null,
   "source": [
    "# Create DataLoader\n",
    "torch.manual_seed(1234)\n",
    "\n",
    "# Convert to PyTorch tensors\n",
    "train_x_tensor = torch.tensor(train_x_padded, dtype=torch.long)\n",
    "test_x_tensor = torch.tensor(test_x_padded, dtype=torch.long)\n",
    "\n",
    "# Convert labels to tensors\n",
    "train_y_tensor = torch.tensor(train_y, dtype=torch.float32)\n",
    "test_y_tensor = torch.tensor(test_y, dtype=torch.float32)\n",
    "\n",
    "# Create DataLoader\n",
    "train_dataset = torch.utils.data.TensorDataset(train_x_tensor, train_y_tensor)\n",
    "test_dataset = torch.utils.data.TensorDataset(test_x_tensor, test_y_tensor)\n",
    "\n",
    "train_loader = torch.utils.data.DataLoader(train_dataset, batch_size=2, shuffle=True)\n",
    "test_loader = torch.utils.data.DataLoader(test_dataset, batch_size=2, shuffle=False)\n",
    "\n",
    "\n",
    "def train_model(model, train_loader, criterion, optimizer, num_epochs=10):\n",
    "    model.train()\n",
    "    for epoch in range(num_epochs):\n",
    "        running_loss = 0.0\n",
    "        all_preds = []\n",
    "        all_labels = []\n",
    "        for batch_x, batch_y in train_loader:\n",
    "            batch_x, batch_y = batch_x.to(device), batch_y.to(device)  # Move data to the same device\n",
    "            optimizer.zero_grad()\n",
    "            outputs = model(batch_x)\n",
    "            loss = criterion(outputs.squeeze(), batch_y.float())  # Squeeze output for binary cross-entropy loss\n",
    "            loss.backward()\n",
    "            optimizer.step()\n",
    "            running_loss += loss.item()\n",
    "            \n",
    "            # Collect predictions and labels for accuracy calculation\n",
    "            preds = (outputs.squeeze() > 0.5).float()  # Assuming binary classification\n",
    "            all_preds.extend(preds.cpu().numpy())\n",
    "            all_labels.extend(batch_y.cpu().numpy())\n",
    "        \n",
    "        # Calculate accuracy\n",
    "        accuracy = accuracy_score(all_labels, all_preds)\n",
    "        print(f'Epoch [{epoch+1}/{num_epochs}], Loss: {running_loss/len(train_loader):.4f}, Accuracy: {accuracy:.4f}')\n",
    "\n",
    "# Train the model\n",
    "train_model(model, train_loader, criterion, optimizer, num_epochs=12)\n"
   ],
   "id": "b2abc5ca91004692"
  },
  {
   "metadata": {
    "ExecuteTime": {
     "end_time": "2024-09-27T12:32:56.010128513Z",
     "start_time": "2024-09-27T12:20:43.549837Z"
    }
   },
   "cell_type": "code",
   "source": [
    "from torchviz import make_dot\n",
    "\n",
    "# Evaluation steps\n",
    "def evaluate_model(model, test_loader, criterion):\n",
    "    model.eval()\n",
    "    all_preds = []\n",
    "    all_labels = []\n",
    "    running_loss = 0.0\n",
    "    with torch.no_grad():\n",
    "        for batch_x, batch_y in test_loader:\n",
    "            batch_x, batch_y = batch_x.to(device), batch_y.to(device)  # Move data to the same device\n",
    "            outputs = model(batch_x)\n",
    "            loss = criterion(outputs.squeeze(), batch_y.float())\n",
    "            running_loss += loss.item()\n",
    "            preds = (outputs.squeeze() > 0.5).float()\n",
    "            all_preds.extend(preds.cpu().numpy())\n",
    "            all_labels.extend(batch_y.cpu().numpy())\n",
    "    \n",
    "    accuracy = accuracy_score(all_labels, all_preds)\n",
    "    precision = precision_score(all_labels, all_preds, zero_division=1)\n",
    "    recall = recall_score(all_labels, all_preds)\n",
    "    f1 = f1_score(all_labels, all_preds)\n",
    "    print(f'Test Loss: {running_loss/len(test_loader):.4f}')\n",
    "    print(f'Accuracy: {accuracy:.4f}')\n",
    "    print(f'Precision: {precision:.4f}')\n",
    "    print(f'Recall: {recall:.4f}')\n",
    "    print(f'F1 Score: {f1:.4f}')\n",
    "    \n",
    "\n",
    "# Evaluate the model\n",
    "evaluate_model(model, test_loader, criterion)\n",
    "\n",
    "# Save the model\n",
    "#torch.save(model.state_dict(), 'pos_neg.pt')\n"
   ],
   "id": "512e3600c0089d27",
   "outputs": [
    {
     "name": "stdout",
     "output_type": "stream",
     "text": [
      "Test Loss: 0.9522\n",
      "Accuracy: 0.5375\n",
      "Precision: 0.5258\n",
      "Recall: 0.7650\n",
      "F1 Score: 0.6232\n"
     ]
    }
   ],
   "execution_count": 26
  },
  {
   "metadata": {
    "ExecuteTime": {
     "end_time": "2024-09-27T12:32:56.010714015Z",
     "start_time": "2024-09-26T16:30:16.597512Z"
    }
   },
   "cell_type": "code",
   "source": "",
   "id": "d68e8938dfc90510",
   "outputs": [],
   "execution_count": null
  },
  {
   "metadata": {
    "ExecuteTime": {
     "end_time": "2024-09-27T12:32:56.011086842Z",
     "start_time": "2024-09-26T16:30:16.644869Z"
    }
   },
   "cell_type": "code",
   "source": "",
   "id": "5ae264b14e73de7a",
   "outputs": [],
   "execution_count": null
  }
 ],
 "metadata": {
  "kernelspec": {
   "display_name": "Python 3 (ipykernel)",
   "language": "python",
   "name": "python3"
  },
  "language_info": {
   "codemirror_mode": {
    "name": "ipython",
    "version": 3
   },
   "file_extension": ".py",
   "mimetype": "text/x-python",
   "name": "python",
   "nbconvert_exporter": "python",
   "pygments_lexer": "ipython3",
   "version": "3.12.5"
  }
 },
 "nbformat": 4,
 "nbformat_minor": 5
}
