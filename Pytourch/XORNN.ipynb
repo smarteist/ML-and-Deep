{
 "cells": [
  {
   "cell_type": "code",
   "id": "initial_id",
   "metadata": {
    "collapsed": true,
    "ExecuteTime": {
     "end_time": "2024-09-21T14:14:09.975890Z",
     "start_time": "2024-09-21T14:14:09.970658Z"
    }
   },
   "source": [
    "import torch\n",
    "import torch.nn as nn\n",
    "import torch.optim as optim"
   ],
   "outputs": [],
   "execution_count": 5
  },
  {
   "metadata": {
    "ExecuteTime": {
     "end_time": "2024-09-21T14:14:20.944402Z",
     "start_time": "2024-09-21T14:14:20.940925Z"
    }
   },
   "cell_type": "code",
   "source": [
    "# Define the XOR dataset\n",
    "X = torch.tensor([[0.0, 0.0],\n",
    "                  [0.0, 1.0],\n",
    "                  [1.0, 0.0],\n",
    "                  [1.0, 1.0]],\n",
    "                 dtype=torch.float32\n",
    "                 )\n",
    "y = torch.tensor([[0.0],\n",
    "                  [1.0],\n",
    "                  [1.0],\n",
    "                  [0.0]],\n",
    "                 dtype=torch.float32\n",
    "                 )"
   ],
   "id": "fb5cab7fb7ad24dc",
   "outputs": [],
   "execution_count": 6
  },
  {
   "metadata": {
    "ExecuteTime": {
     "end_time": "2024-09-21T14:20:23.617130Z",
     "start_time": "2024-09-21T14:20:23.607710Z"
    }
   },
   "cell_type": "code",
   "source": [
    "# Define the neural network architecture\n",
    "class XORNet(nn.Module):\n",
    "    def __init__(self):\n",
    "        super(XORNet, self).__init__()\n",
    "        self.hidden = nn.Linear(2, 3)  # Input layer to hidden layer\n",
    "        self.output = nn.Linear(3, 1)  # Hidden layer to output layer\n",
    "\n",
    "    def forward(self, x):\n",
    "        x = torch.sigmoid(self.hidden(x))  # Activation for hidden layer\n",
    "        x = torch.sigmoid(self.output(x))  # Activation for output layer\n",
    "        return x\n"
   ],
   "id": "7e2a9d262ce52c89",
   "outputs": [],
   "execution_count": 9
  },
  {
   "metadata": {
    "ExecuteTime": {
     "end_time": "2024-09-21T14:23:28.632456Z",
     "start_time": "2024-09-21T14:22:53.698348Z"
    }
   },
   "cell_type": "code",
   "source": [
    "# Initialize the network, loss function, and optimizer\n",
    "model = XORNet()\n",
    "criterion = nn.MSELoss()\n",
    "optimizer = optim.SGD(model.parameters(), lr=0.2)\n",
    "\n",
    "# Training the neural network\n",
    "epochs = 100000\n",
    "for epoch in range(epochs):\n",
    "    optimizer.zero_grad()  # Clear gradients\n",
    "    output = model(X)  # Forward propagation\n",
    "    loss = criterion(output, y)  # Compute loss\n",
    "    loss.backward()  # Backward propagation\n",
    "    optimizer.step()  # Update weights\n"
   ],
   "id": "dd404084d3b291d2",
   "outputs": [],
   "execution_count": 12
  },
  {
   "metadata": {
    "ExecuteTime": {
     "end_time": "2024-09-21T14:23:33.088746Z",
     "start_time": "2024-09-21T14:23:33.080926Z"
    }
   },
   "cell_type": "code",
   "source": [
    "# Testing the trained model\n",
    "with torch.no_grad():\n",
    "    test_input = torch.tensor([[0.0, 0.0],\n",
    "                               [0.0, 1.0],\n",
    "                               [1.0, 0.0],\n",
    "                               [1.0, 1.0]])\n",
    "    predicted_output = model(test_input)\n",
    "    percented_output = predicted_output * 100\n",
    "\n",
    "    for i, prediction in enumerate(percented_output):\n",
    "        rounded_output = round(predicted_output[i].item())\n",
    "        print(f\"Test: {test_input[i].numpy()} -> Predicted: {prediction.item():.2f}% one (Rounded: {rounded_output})\")\n"
   ],
   "id": "767aa4226a08a801",
   "outputs": [
    {
     "name": "stdout",
     "output_type": "stream",
     "text": [
      "Test: [0. 0.] -> Predicted: 0.47% one (Rounded: 0)\n",
      "Test: [0. 1.] -> Predicted: 98.58% one (Rounded: 1)\n",
      "Test: [1. 0.] -> Predicted: 98.57% one (Rounded: 1)\n",
      "Test: [1. 1.] -> Predicted: 1.75% one (Rounded: 0)\n"
     ]
    }
   ],
   "execution_count": 13
  },
  {
   "metadata": {},
   "cell_type": "code",
   "outputs": [],
   "execution_count": null,
   "source": "",
   "id": "bc1004c6d5fc10db"
  }
 ],
 "metadata": {
  "kernelspec": {
   "display_name": "Python 3",
   "language": "python",
   "name": "python3"
  },
  "language_info": {
   "codemirror_mode": {
    "name": "ipython",
    "version": 2
   },
   "file_extension": ".py",
   "mimetype": "text/x-python",
   "name": "python",
   "nbconvert_exporter": "python",
   "pygments_lexer": "ipython2",
   "version": "2.7.6"
  }
 },
 "nbformat": 4,
 "nbformat_minor": 5
}
