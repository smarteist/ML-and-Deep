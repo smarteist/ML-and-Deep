{
 "cells": [
  {
   "cell_type": "code",
   "execution_count": 19,
   "id": "c5a0c908-6ab7-445f-a254-dfcf1427230a",
   "metadata": {},
   "outputs": [],
   "source": [
    "from tensorflow.keras.models import Sequential\n",
    "from tensorflow.keras.layers import Dense, Dropout\n",
    "import pickle\n",
    "import matplotlib.pyplot as plt\n"
   ]
  },
  {
   "cell_type": "code",
   "execution_count": 13,
   "id": "7805b44d-bdca-4f2a-a5aa-68d1c2488c17",
   "metadata": {},
   "outputs": [],
   "source": [
    "model = Sequential()\n",
    "model.add(Dense(128, activation='relu', input_dim=4 * 4 * 512))\n",
    "model.add(Dropout(0.5))\n",
    "model.add(Dense(1, activation='sigmoid'))\n",
    "model.compile(optimizer='Adam', loss='binary_crossentropy', metrics=['accuracy'])"
   ]
  },
  {
   "cell_type": "code",
   "execution_count": 15,
   "id": "6ba40187-d75e-4049-b3ff-fc849a1544ad",
   "metadata": {},
   "outputs": [],
   "source": [
    "with open('vggfeatures.h5', 'rb') as f:\n",
    "    features = pickle.load(f)\n",
    "with open('vgglabels.h5', 'rb') as f:\n",
    "    labels = pickle.load(f)\n",
    "with open('vggfeatures_test.h5', 'rb') as f:\n",
    "    features_test = pickle.load(f)\n",
    "with open('vgglabels_test.h5', 'rb') as f:\n",
    "    labels_test = pickle.load(f)    "
   ]
  },
  {
   "cell_type": "code",
   "execution_count": 16,
   "id": "bbe95479-1fb9-4bbe-bc9e-251b62ba9e06",
   "metadata": {},
   "outputs": [
    {
     "name": "stdout",
     "output_type": "stream",
     "text": [
      "Model: \"sequential_1\"\n",
      "_________________________________________________________________\n",
      " Layer (type)                Output Shape              Param #   \n",
      "=================================================================\n",
      " dense_2 (Dense)             (None, 128)               1048704   \n",
      "                                                                 \n",
      " dropout_1 (Dropout)         (None, 128)               0         \n",
      "                                                                 \n",
      " dense_3 (Dense)             (None, 1)                 129       \n",
      "                                                                 \n",
      "=================================================================\n",
      "Total params: 1048833 (4.00 MB)\n",
      "Trainable params: 1048833 (4.00 MB)\n",
      "Non-trainable params: 0 (0.00 Byte)\n",
      "_________________________________________________________________\n"
     ]
    }
   ],
   "source": [
    "model.summary()"
   ]
  },
  {
   "cell_type": "code",
   "execution_count": 17,
   "id": "b27b6bb0-7437-419a-bc4c-991b25310227",
   "metadata": {},
   "outputs": [
    {
     "name": "stdout",
     "output_type": "stream",
     "text": [
      "Epoch 1/30\n",
      "40/40 [==============================] - 1s 18ms/step - loss: 0.4775 - accuracy: 0.7885 - val_loss: 0.3180 - val_accuracy: 0.8671\n",
      "Epoch 2/30\n",
      "40/40 [==============================] - 1s 13ms/step - loss: 0.2634 - accuracy: 0.8935 - val_loss: 0.2839 - val_accuracy: 0.8714\n",
      "Epoch 3/30\n",
      "40/40 [==============================] - 1s 13ms/step - loss: 0.2003 - accuracy: 0.9205 - val_loss: 0.3310 - val_accuracy: 0.8629\n",
      "Epoch 4/30\n",
      "40/40 [==============================] - 1s 13ms/step - loss: 0.1485 - accuracy: 0.9415 - val_loss: 0.3186 - val_accuracy: 0.8750\n",
      "Epoch 5/30\n",
      "40/40 [==============================] - 1s 13ms/step - loss: 0.1386 - accuracy: 0.9510 - val_loss: 0.2925 - val_accuracy: 0.8829\n",
      "Epoch 6/30\n",
      "40/40 [==============================] - 1s 14ms/step - loss: 0.0992 - accuracy: 0.9705 - val_loss: 0.3018 - val_accuracy: 0.8829\n",
      "Epoch 7/30\n",
      "40/40 [==============================] - 1s 13ms/step - loss: 0.0976 - accuracy: 0.9635 - val_loss: 0.3499 - val_accuracy: 0.8707\n",
      "Epoch 8/30\n",
      "40/40 [==============================] - 1s 13ms/step - loss: 0.0745 - accuracy: 0.9735 - val_loss: 0.3390 - val_accuracy: 0.8879\n",
      "Epoch 9/30\n",
      "40/40 [==============================] - 1s 14ms/step - loss: 0.0519 - accuracy: 0.9840 - val_loss: 0.3380 - val_accuracy: 0.8814\n",
      "Epoch 10/30\n",
      "40/40 [==============================] - 1s 13ms/step - loss: 0.0694 - accuracy: 0.9785 - val_loss: 0.3345 - val_accuracy: 0.8850\n",
      "Epoch 11/30\n",
      "40/40 [==============================] - 1s 13ms/step - loss: 0.0498 - accuracy: 0.9855 - val_loss: 0.4248 - val_accuracy: 0.8771\n",
      "Epoch 12/30\n",
      "40/40 [==============================] - 1s 13ms/step - loss: 0.0336 - accuracy: 0.9930 - val_loss: 0.3818 - val_accuracy: 0.8807\n",
      "Epoch 13/30\n",
      "40/40 [==============================] - 1s 13ms/step - loss: 0.0292 - accuracy: 0.9930 - val_loss: 0.4021 - val_accuracy: 0.8829\n",
      "Epoch 14/30\n",
      "40/40 [==============================] - 1s 13ms/step - loss: 0.0264 - accuracy: 0.9930 - val_loss: 0.4106 - val_accuracy: 0.8729\n",
      "Epoch 15/30\n",
      "40/40 [==============================] - 1s 13ms/step - loss: 0.0261 - accuracy: 0.9930 - val_loss: 0.4228 - val_accuracy: 0.8850\n",
      "Epoch 16/30\n",
      "40/40 [==============================] - 1s 15ms/step - loss: 0.0153 - accuracy: 0.9960 - val_loss: 0.4150 - val_accuracy: 0.8850\n",
      "Epoch 17/30\n",
      "40/40 [==============================] - 1s 14ms/step - loss: 0.0205 - accuracy: 0.9955 - val_loss: 0.4352 - val_accuracy: 0.8771\n",
      "Epoch 18/30\n",
      "40/40 [==============================] - 1s 14ms/step - loss: 0.0135 - accuracy: 0.9985 - val_loss: 0.4426 - val_accuracy: 0.8814\n",
      "Epoch 19/30\n",
      "40/40 [==============================] - 1s 14ms/step - loss: 0.0109 - accuracy: 0.9980 - val_loss: 0.4576 - val_accuracy: 0.8821\n",
      "Epoch 20/30\n",
      "40/40 [==============================] - 1s 13ms/step - loss: 0.0109 - accuracy: 0.9990 - val_loss: 0.4754 - val_accuracy: 0.8843\n",
      "Epoch 21/30\n",
      "40/40 [==============================] - 1s 13ms/step - loss: 0.0075 - accuracy: 0.9995 - val_loss: 0.4757 - val_accuracy: 0.8857\n",
      "Epoch 22/30\n",
      "40/40 [==============================] - 1s 13ms/step - loss: 0.0066 - accuracy: 1.0000 - val_loss: 0.4955 - val_accuracy: 0.8829\n",
      "Epoch 23/30\n",
      "40/40 [==============================] - 1s 13ms/step - loss: 0.0073 - accuracy: 0.9995 - val_loss: 0.4916 - val_accuracy: 0.8843\n",
      "Epoch 24/30\n",
      "40/40 [==============================] - 1s 13ms/step - loss: 0.0064 - accuracy: 1.0000 - val_loss: 0.5121 - val_accuracy: 0.8836\n",
      "Epoch 25/30\n",
      "40/40 [==============================] - 1s 13ms/step - loss: 0.0053 - accuracy: 0.9995 - val_loss: 0.5496 - val_accuracy: 0.8793\n",
      "Epoch 26/30\n",
      "40/40 [==============================] - 1s 13ms/step - loss: 0.0058 - accuracy: 0.9995 - val_loss: 0.5322 - val_accuracy: 0.8800\n",
      "Epoch 27/30\n",
      "40/40 [==============================] - 1s 14ms/step - loss: 0.0037 - accuracy: 1.0000 - val_loss: 0.5578 - val_accuracy: 0.8821\n",
      "Epoch 28/30\n",
      "40/40 [==============================] - 1s 14ms/step - loss: 0.0041 - accuracy: 1.0000 - val_loss: 0.5470 - val_accuracy: 0.8771\n",
      "Epoch 29/30\n",
      "40/40 [==============================] - 1s 14ms/step - loss: 0.0028 - accuracy: 1.0000 - val_loss: 0.5729 - val_accuracy: 0.8764\n",
      "Epoch 30/30\n",
      "40/40 [==============================] - 1s 14ms/step - loss: 0.0030 - accuracy: 1.0000 - val_loss: 0.5813 - val_accuracy: 0.8857\n"
     ]
    }
   ],
   "source": [
    "history = model.fit(features, labels, epochs=30, batch_size=50, validation_data=(features_test, labels_test))"
   ]
  },
  {
   "cell_type": "code",
   "execution_count": 20,
   "id": "2721268d-5c41-4f4b-9810-07b2bc4d6c38",
   "metadata": {},
   "outputs": [
    {
     "data": {
      "text/plain": [
       "[<matplotlib.lines.Line2D at 0x7fa8b0b5fe90>]"
      ]
     },
     "execution_count": 20,
     "metadata": {},
     "output_type": "execute_result"
    },
    {
     "data": {
      "image/png": "[encoded data removed]",
      "text/plain": [
       "<Figure size 640x480 with 1 Axes>"
      ]
     },
     "metadata": {},
     "output_type": "display_data"
    }
   ],
   "source": [
    "epochs = range(30)\n",
    "plt.plot(epochs, history.history['accuracy'], color='green')\n",
    "plt.plot(epochs, history.history['val_accuracy'], color='blue')"
   ]
  },
  {
   "cell_type": "code",
   "execution_count": null,
   "id": "e63c3e9d-a92d-4d05-8a9c-25cfdf9012a3",
   "metadata": {},
   "outputs": [],
   "source": []
  }
 ],
 "metadata": {
  "kernelspec": {
   "display_name": "Python 3 (ipykernel)",
   "language": "python",
   "name": "python3"
  },
  "language_info": {
   "codemirror_mode": {
    "name": "ipython",
    "version": 3
   },
   "file_extension": ".py",
   "mimetype": "text/x-python",
   "name": "python",
   "nbconvert_exporter": "python",
   "pygments_lexer": "ipython3",
   "version": "3.12.4"
  }
 },
 "nbformat": 4,
 "nbformat_minor": 5
}
