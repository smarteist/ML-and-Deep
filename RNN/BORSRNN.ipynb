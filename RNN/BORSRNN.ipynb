{
 "cells": [
  {
   "cell_type": "code",
   "execution_count": 2,
   "id": "450389af-ca4d-4136-a1c3-4fc1c3d6289e",
   "metadata": {
    "scrolled": true
   },
   "outputs": [
    {
     "name": "stderr",
     "output_type": "stream",
     "text": [
      "2023-12-16 15:17:11.943620: I tensorflow/tsl/cuda/cudart_stub.cc:28] Could not find cuda drivers on your machine, GPU will not be used.\n",
      "2023-12-16 15:17:11.987043: I tensorflow/tsl/cuda/cudart_stub.cc:28] Could not find cuda drivers on your machine, GPU will not be used.\n",
      "2023-12-16 15:17:11.987679: I tensorflow/core/platform/cpu_feature_guard.cc:182] This TensorFlow binary is optimized to use available CPU instructions in performance-critical operations.\n",
      "To enable the following instructions: AVX2 FMA, in other operations, rebuild TensorFlow with the appropriate compiler flags.\n",
      "2023-12-16 15:17:12.874165: W tensorflow/compiler/tf2tensorrt/utils/py_utils.cc:38] TF-TRT Warning: Could not find TensorRT\n"
     ]
    }
   ],
   "source": [
    "# This code assumes TensorFlow 2.x is used\n",
    "import numpy as np\n",
    "import pandas as pd\n",
    "import matplotlib.pyplot as plt\n",
    "import tensorflow as tf\n",
    "from tensorflow.keras.models import Sequential\n",
    "from tensorflow.keras.layers import SimpleRNN, Dense"
   ]
  },
  {
   "cell_type": "code",
   "execution_count": 9,
   "id": "92dcb967-6fca-4126-acca-3d02e27322a3",
   "metadata": {},
   "outputs": [
    {
     "data": {
      "text/html": [
       "<div>\n",
       "<style scoped>\n",
       "    .dataframe tbody tr th:only-of-type {\n",
       "        vertical-align: middle;\n",
       "    }\n",
       "\n",
       "    .dataframe tbody tr th {\n",
       "        vertical-align: top;\n",
       "    }\n",
       "\n",
       "    .dataframe thead th {\n",
       "        text-align: right;\n",
       "    }\n",
       "</style>\n",
       "<table border=\"1\" class=\"dataframe\">\n",
       "  <thead>\n",
       "    <tr style=\"text-align: right;\">\n",
       "      <th></th>\n",
       "      <th>Date</th>\n",
       "      <th>Open</th>\n",
       "      <th>High</th>\n",
       "      <th>Low</th>\n",
       "      <th>Close</th>\n",
       "      <th>Volume</th>\n",
       "      <th>Name</th>\n",
       "    </tr>\n",
       "  </thead>\n",
       "  <tbody>\n",
       "    <tr>\n",
       "      <th>0</th>\n",
       "      <td>2006-01-03</td>\n",
       "      <td>39.69</td>\n",
       "      <td>41.22</td>\n",
       "      <td>38.79</td>\n",
       "      <td>40.91</td>\n",
       "      <td>24232729</td>\n",
       "      <td>AABA</td>\n",
       "    </tr>\n",
       "    <tr>\n",
       "      <th>1</th>\n",
       "      <td>2006-01-04</td>\n",
       "      <td>41.22</td>\n",
       "      <td>41.90</td>\n",
       "      <td>40.77</td>\n",
       "      <td>40.97</td>\n",
       "      <td>20553479</td>\n",
       "      <td>AABA</td>\n",
       "    </tr>\n",
       "    <tr>\n",
       "      <th>2</th>\n",
       "      <td>2006-01-05</td>\n",
       "      <td>40.93</td>\n",
       "      <td>41.73</td>\n",
       "      <td>40.85</td>\n",
       "      <td>41.53</td>\n",
       "      <td>12829610</td>\n",
       "      <td>AABA</td>\n",
       "    </tr>\n",
       "    <tr>\n",
       "      <th>3</th>\n",
       "      <td>2006-01-06</td>\n",
       "      <td>42.88</td>\n",
       "      <td>43.57</td>\n",
       "      <td>42.80</td>\n",
       "      <td>43.21</td>\n",
       "      <td>29422828</td>\n",
       "      <td>AABA</td>\n",
       "    </tr>\n",
       "    <tr>\n",
       "      <th>4</th>\n",
       "      <td>2006-01-09</td>\n",
       "      <td>43.10</td>\n",
       "      <td>43.66</td>\n",
       "      <td>42.82</td>\n",
       "      <td>43.42</td>\n",
       "      <td>16268338</td>\n",
       "      <td>AABA</td>\n",
       "    </tr>\n",
       "  </tbody>\n",
       "</table>\n",
       "</div>"
      ],
      "text/plain": [
       "         Date   Open   High    Low  Close    Volume  Name\n",
       "0  2006-01-03  39.69  41.22  38.79  40.91  24232729  AABA\n",
       "1  2006-01-04  41.22  41.90  40.77  40.97  20553479  AABA\n",
       "2  2006-01-05  40.93  41.73  40.85  41.53  12829610  AABA\n",
       "3  2006-01-06  42.88  43.57  42.80  43.21  29422828  AABA\n",
       "4  2006-01-09  43.10  43.66  42.82  43.42  16268338  AABA"
      ]
     },
     "execution_count": 9,
     "metadata": {},
     "output_type": "execute_result"
    }
   ],
   "source": [
    "csv = pd.read_csv('data/AABA_2006-01-01_to_2018-01-01.csv')\n",
    "csv.head()"
   ]
  },
  {
   "cell_type": "code",
   "execution_count": 11,
   "id": "4f7725a2-f283-4693-8600-5aa3dbca42d8",
   "metadata": {},
   "outputs": [
    {
     "data": {
      "text/plain": [
       "[<matplotlib.lines.Line2D at 0x7f8222d2a150>]"
      ]
     },
     "execution_count": 11,
     "metadata": {},
     "output_type": "execute_result"
    },
    {
     "data": {
      "image/png": "[encoded data removed]",
      "text/plain": [
       "<Figure size 640x480 with 1 Axes>"
      ]
     },
     "metadata": {},
     "output_type": "display_data"
    }
   ],
   "source": [
    "data = np.array(csv[['Open']])\n",
    "plt.plot(data)"
   ]
  },
  {
   "cell_type": "code",
   "execution_count": 14,
   "id": "e3ac973f-cd09-4bd3-975e-811cba2e3175",
   "metadata": {},
   "outputs": [],
   "source": [
    "# Function to create sequences\n",
    "def create_sequences(data, seq_len):\n",
    "    xs = []\n",
    "    ys = []\n",
    "    for i in range(len(data) - seq_len):\n",
    "        xs.append(data[i:(i + seq_len)])\n",
    "        ys.append(data[i + seq_len])\n",
    "    return np.array(xs), np.array(ys)"
   ]
  },
  {
   "cell_type": "code",
   "execution_count": 50,
   "id": "3b27e5af-d152-4822-8d30-7609fbf812be",
   "metadata": {},
   "outputs": [],
   "source": [
    "\n",
    "seq_length = 7\n",
    "\n",
    "\n",
    "X, y = create_sequences(data, seq_length)\n",
    "\n",
    "\n",
    "# Reshape X for RNN input\n",
    "X = np.reshape(X, (X.shape[0], X.shape[1], 1))\n",
    "\n",
    "# Split the data into training and testing\n",
    "split = int(len(X) * 0.8)\n",
    "X_train, X_test = X[:split], X[split:]\n",
    "y_train, y_test = y[:split], y[split:]"
   ]
  },
  {
   "cell_type": "code",
   "execution_count": 55,
   "id": "c13b9b35-44c5-41d1-abb9-61d91060bbda",
   "metadata": {
    "scrolled": true
   },
   "outputs": [
    {
     "name": "stdout",
     "output_type": "stream",
     "text": [
      "Epoch 1/100\n",
      "68/68 [==============================] - 1s 4ms/step - loss: 15.9359 - val_loss: 34.6189\n",
      "Epoch 2/100\n",
      "68/68 [==============================] - 0s 2ms/step - loss: 9.2327 - val_loss: 28.7563\n",
      "Epoch 3/100\n",
      "68/68 [==============================] - 0s 2ms/step - loss: 6.9564 - val_loss: 26.7086\n",
      "Epoch 4/100\n",
      "68/68 [==============================] - 0s 2ms/step - loss: 5.3808 - val_loss: 23.6603\n",
      "Epoch 5/100\n",
      "68/68 [==============================] - 0s 2ms/step - loss: 3.8854 - val_loss: 20.7472\n",
      "Epoch 6/100\n",
      "68/68 [==============================] - 0s 2ms/step - loss: 2.7169 - val_loss: 18.0417\n",
      "Epoch 7/100\n",
      "68/68 [==============================] - 0s 2ms/step - loss: 1.8780 - val_loss: 15.8162\n",
      "Epoch 8/100\n",
      "68/68 [==============================] - 0s 2ms/step - loss: 1.3734 - val_loss: 14.2248\n",
      "Epoch 9/100\n",
      "68/68 [==============================] - 0s 2ms/step - loss: 1.1095 - val_loss: 12.8424\n",
      "Epoch 10/100\n",
      "68/68 [==============================] - 0s 2ms/step - loss: 0.9039 - val_loss: 11.6224\n",
      "Epoch 11/100\n",
      "68/68 [==============================] - 0s 3ms/step - loss: 0.7491 - val_loss: 10.5954\n",
      "Epoch 12/100\n",
      "68/68 [==============================] - 0s 2ms/step - loss: 0.6596 - val_loss: 9.7595\n",
      "Epoch 13/100\n",
      "68/68 [==============================] - 0s 2ms/step - loss: 0.5910 - val_loss: 9.0830\n",
      "Epoch 14/100\n",
      "68/68 [==============================] - 0s 2ms/step - loss: 0.5636 - val_loss: 8.4475\n",
      "Epoch 15/100\n",
      "68/68 [==============================] - 0s 2ms/step - loss: 0.5175 - val_loss: 7.9419\n",
      "Epoch 16/100\n",
      "68/68 [==============================] - 0s 2ms/step - loss: 0.4932 - val_loss: 7.4787\n",
      "Epoch 17/100\n",
      "68/68 [==============================] - 0s 3ms/step - loss: 0.4977 - val_loss: 7.1536\n",
      "Epoch 18/100\n",
      "68/68 [==============================] - 0s 2ms/step - loss: 0.4601 - val_loss: 6.7919\n",
      "Epoch 19/100\n",
      "68/68 [==============================] - 0s 2ms/step - loss: 0.4561 - val_loss: 6.5412\n",
      "Epoch 20/100\n",
      "68/68 [==============================] - 0s 3ms/step - loss: 0.4327 - val_loss: 6.2846\n",
      "Epoch 21/100\n",
      "68/68 [==============================] - 0s 2ms/step - loss: 0.4285 - val_loss: 6.0990\n",
      "Epoch 22/100\n",
      "68/68 [==============================] - 0s 2ms/step - loss: 0.4181 - val_loss: 5.8409\n",
      "Epoch 23/100\n",
      "68/68 [==============================] - 0s 2ms/step - loss: 0.4168 - val_loss: 5.6221\n",
      "Epoch 24/100\n",
      "68/68 [==============================] - 0s 3ms/step - loss: 0.4137 - val_loss: 5.4596\n",
      "Epoch 25/100\n",
      "68/68 [==============================] - 0s 2ms/step - loss: 0.4081 - val_loss: 5.3004\n",
      "Epoch 26/100\n",
      "68/68 [==============================] - 0s 3ms/step - loss: 0.4040 - val_loss: 5.0973\n",
      "Epoch 27/100\n",
      "68/68 [==============================] - 0s 2ms/step - loss: 0.4091 - val_loss: 4.9499\n",
      "Epoch 28/100\n",
      "68/68 [==============================] - 0s 2ms/step - loss: 0.4019 - val_loss: 4.8447\n",
      "Epoch 29/100\n",
      "68/68 [==============================] - 0s 3ms/step - loss: 0.4012 - val_loss: 4.7345\n",
      "Epoch 30/100\n",
      "68/68 [==============================] - 0s 2ms/step - loss: 0.3933 - val_loss: 4.6505\n",
      "Epoch 31/100\n",
      "68/68 [==============================] - 0s 2ms/step - loss: 0.4113 - val_loss: 4.5786\n",
      "Epoch 32/100\n",
      "68/68 [==============================] - 0s 3ms/step - loss: 0.3976 - val_loss: 4.4778\n",
      "Epoch 33/100\n",
      "68/68 [==============================] - 0s 2ms/step - loss: 0.4109 - val_loss: 4.5164\n",
      "Epoch 34/100\n",
      "68/68 [==============================] - 0s 3ms/step - loss: 0.4047 - val_loss: 4.3587\n",
      "Epoch 35/100\n",
      "68/68 [==============================] - 0s 2ms/step - loss: 0.3963 - val_loss: 4.2230\n",
      "Epoch 36/100\n",
      "68/68 [==============================] - 0s 2ms/step - loss: 0.3919 - val_loss: 4.1544\n",
      "Epoch 37/100\n",
      "68/68 [==============================] - 0s 2ms/step - loss: 0.3964 - val_loss: 4.1082\n",
      "Epoch 38/100\n",
      "68/68 [==============================] - 0s 2ms/step - loss: 0.3879 - val_loss: 4.0365\n",
      "Epoch 39/100\n",
      "68/68 [==============================] - 0s 2ms/step - loss: 0.3929 - val_loss: 4.0110\n",
      "Epoch 40/100\n",
      "68/68 [==============================] - 0s 2ms/step - loss: 0.3903 - val_loss: 3.8779\n",
      "Epoch 41/100\n",
      "68/68 [==============================] - 0s 2ms/step - loss: 0.3821 - val_loss: 3.8523\n",
      "Epoch 42/100\n",
      "68/68 [==============================] - 0s 2ms/step - loss: 0.3860 - val_loss: 3.7979\n",
      "Epoch 43/100\n",
      "68/68 [==============================] - 0s 2ms/step - loss: 0.3831 - val_loss: 3.8138\n",
      "Epoch 44/100\n",
      "68/68 [==============================] - 0s 2ms/step - loss: 0.3753 - val_loss: 3.8279\n",
      "Epoch 45/100\n",
      "68/68 [==============================] - 0s 2ms/step - loss: 0.3825 - val_loss: 3.6823\n",
      "Epoch 46/100\n",
      "68/68 [==============================] - 0s 3ms/step - loss: 0.3810 - val_loss: 3.6585\n",
      "Epoch 47/100\n",
      "68/68 [==============================] - 0s 2ms/step - loss: 0.3950 - val_loss: 3.6134\n",
      "Epoch 48/100\n",
      "68/68 [==============================] - 0s 2ms/step - loss: 0.3794 - val_loss: 3.6336\n",
      "Epoch 49/100\n",
      "68/68 [==============================] - 0s 3ms/step - loss: 0.3821 - val_loss: 3.4642\n",
      "Epoch 50/100\n",
      "68/68 [==============================] - 0s 2ms/step - loss: 0.3881 - val_loss: 3.4426\n",
      "Epoch 51/100\n",
      "68/68 [==============================] - 0s 2ms/step - loss: 0.3904 - val_loss: 3.5191\n",
      "Epoch 52/100\n",
      "68/68 [==============================] - 0s 2ms/step - loss: 0.3722 - val_loss: 3.3971\n",
      "Epoch 53/100\n",
      "68/68 [==============================] - 0s 3ms/step - loss: 0.3776 - val_loss: 3.4154\n",
      "Epoch 54/100\n",
      "68/68 [==============================] - 0s 3ms/step - loss: 0.3770 - val_loss: 3.3475\n",
      "Epoch 55/100\n",
      "68/68 [==============================] - 0s 2ms/step - loss: 0.3798 - val_loss: 3.3417\n",
      "Epoch 56/100\n",
      "68/68 [==============================] - 0s 2ms/step - loss: 0.3743 - val_loss: 3.3374\n",
      "Epoch 57/100\n",
      "68/68 [==============================] - 0s 2ms/step - loss: 0.3769 - val_loss: 3.2855\n",
      "Epoch 58/100\n",
      "68/68 [==============================] - 0s 2ms/step - loss: 0.3774 - val_loss: 3.3144\n",
      "Epoch 59/100\n",
      "68/68 [==============================] - 0s 2ms/step - loss: 0.3742 - val_loss: 3.2379\n",
      "Epoch 60/100\n",
      "68/68 [==============================] - 0s 3ms/step - loss: 0.3790 - val_loss: 3.2039\n",
      "Epoch 61/100\n",
      "68/68 [==============================] - 0s 2ms/step - loss: 0.3866 - val_loss: 3.2927\n",
      "Epoch 62/100\n",
      "68/68 [==============================] - 0s 2ms/step - loss: 0.3774 - val_loss: 3.2075\n",
      "Epoch 63/100\n",
      "68/68 [==============================] - 0s 3ms/step - loss: 0.3742 - val_loss: 3.3255\n",
      "Epoch 64/100\n",
      "68/68 [==============================] - 0s 2ms/step - loss: 0.3806 - val_loss: 3.2093\n",
      "Epoch 65/100\n",
      "68/68 [==============================] - 0s 3ms/step - loss: 0.3758 - val_loss: 3.1999\n",
      "Epoch 66/100\n",
      "68/68 [==============================] - 0s 2ms/step - loss: 0.3965 - val_loss: 3.1547\n",
      "Epoch 67/100\n",
      "68/68 [==============================] - 0s 2ms/step - loss: 0.3872 - val_loss: 3.2359\n",
      "Epoch 68/100\n",
      "68/68 [==============================] - 0s 2ms/step - loss: 0.3744 - val_loss: 3.2585\n",
      "Epoch 69/100\n",
      "68/68 [==============================] - 0s 2ms/step - loss: 0.3756 - val_loss: 3.2445\n",
      "Epoch 70/100\n",
      "68/68 [==============================] - 0s 3ms/step - loss: 0.3723 - val_loss: 3.1992\n",
      "Epoch 71/100\n",
      "68/68 [==============================] - 0s 2ms/step - loss: 0.3764 - val_loss: 3.1699\n",
      "Epoch 72/100\n",
      "68/68 [==============================] - 0s 2ms/step - loss: 0.3839 - val_loss: 3.1143\n",
      "Epoch 73/100\n",
      "68/68 [==============================] - 0s 2ms/step - loss: 0.3871 - val_loss: 3.1426\n",
      "Epoch 74/100\n",
      "68/68 [==============================] - 0s 2ms/step - loss: 0.3932 - val_loss: 3.1515\n",
      "Epoch 75/100\n",
      "68/68 [==============================] - 0s 3ms/step - loss: 0.3768 - val_loss: 3.1392\n",
      "Epoch 76/100\n",
      "68/68 [==============================] - 0s 3ms/step - loss: 0.3729 - val_loss: 3.1820\n",
      "Epoch 77/100\n",
      "68/68 [==============================] - 0s 2ms/step - loss: 0.3866 - val_loss: 3.1427\n",
      "Epoch 78/100\n",
      "68/68 [==============================] - 0s 2ms/step - loss: 0.3978 - val_loss: 3.1637\n",
      "Epoch 79/100\n",
      "68/68 [==============================] - 0s 2ms/step - loss: 0.3746 - val_loss: 3.1798\n",
      "Epoch 80/100\n",
      "68/68 [==============================] - 0s 2ms/step - loss: 0.3804 - val_loss: 3.2747\n",
      "Epoch 81/100\n",
      "68/68 [==============================] - 0s 2ms/step - loss: 0.3792 - val_loss: 3.0760\n",
      "Epoch 82/100\n",
      "68/68 [==============================] - 0s 2ms/step - loss: 0.3728 - val_loss: 3.1047\n",
      "Epoch 83/100\n",
      "68/68 [==============================] - 0s 3ms/step - loss: 0.3828 - val_loss: 3.2219\n",
      "Epoch 84/100\n",
      "68/68 [==============================] - 0s 2ms/step - loss: 0.3705 - val_loss: 3.1402\n",
      "Epoch 85/100\n",
      "68/68 [==============================] - 0s 2ms/step - loss: 0.3739 - val_loss: 3.3749\n",
      "Epoch 86/100\n",
      "68/68 [==============================] - 0s 2ms/step - loss: 0.3854 - val_loss: 3.1355\n",
      "Epoch 87/100\n",
      "68/68 [==============================] - 0s 2ms/step - loss: 0.3727 - val_loss: 3.0958\n",
      "Epoch 88/100\n",
      "68/68 [==============================] - 0s 2ms/step - loss: 0.3725 - val_loss: 3.0838\n",
      "Epoch 89/100\n",
      "68/68 [==============================] - 0s 2ms/step - loss: 0.3842 - val_loss: 3.2088\n",
      "Epoch 90/100\n",
      "68/68 [==============================] - 0s 3ms/step - loss: 0.3782 - val_loss: 3.0310\n",
      "Epoch 91/100\n",
      "68/68 [==============================] - 0s 2ms/step - loss: 0.3860 - val_loss: 3.1784\n",
      "Epoch 92/100\n",
      "68/68 [==============================] - 0s 3ms/step - loss: 0.3782 - val_loss: 3.0535\n",
      "Epoch 93/100\n",
      "68/68 [==============================] - 0s 2ms/step - loss: 0.3743 - val_loss: 3.1207\n",
      "Epoch 94/100\n",
      "68/68 [==============================] - 0s 3ms/step - loss: 0.3753 - val_loss: 3.0416\n",
      "Epoch 95/100\n",
      "68/68 [==============================] - 0s 2ms/step - loss: 0.3746 - val_loss: 3.0598\n",
      "Epoch 96/100\n",
      "68/68 [==============================] - 0s 2ms/step - loss: 0.3903 - val_loss: 3.0079\n",
      "Epoch 97/100\n",
      "68/68 [==============================] - 0s 2ms/step - loss: 0.3787 - val_loss: 3.0534\n",
      "Epoch 98/100\n",
      "68/68 [==============================] - 0s 3ms/step - loss: 0.3799 - val_loss: 3.0341\n",
      "Epoch 99/100\n",
      "68/68 [==============================] - 0s 2ms/step - loss: 0.3694 - val_loss: 3.0680\n",
      "Epoch 100/100\n",
      "68/68 [==============================] - 0s 2ms/step - loss: 0.3702 - val_loss: 3.0557\n"
     ]
    }
   ],
   "source": [
    "# 2. Build the RNN model\n",
    "model = Sequential([\n",
    "    SimpleRNN(units=64, activation='tanh'),\n",
    "    Dense(1)\n",
    "])\n",
    "\n",
    "# Compile the model\n",
    "model.compile(optimizer='adam', loss='mae')\n",
    "\n",
    "# 3. Train the Model\n",
    "history = model.fit(X_train, y_train, epochs=100, batch_size=32, validation_split=0.1)"
   ]
  },
  {
   "cell_type": "code",
   "execution_count": 56,
   "id": "09e6838a-8420-4b95-819e-f52a981cb5d6",
   "metadata": {},
   "outputs": [
    {
     "name": "stdout",
     "output_type": "stream",
     "text": [
      "19/19 [==============================] - 0s 1ms/step\n"
     ]
    },
    {
     "data": {
      "image/png": "[encoded data removed]",
      "text/plain": [
       "<Figure size 640x480 with 1 Axes>"
      ]
     },
     "metadata": {},
     "output_type": "display_data"
    }
   ],
   "source": [
    "# 4. Evaluate\n",
    "# Predict on the test data\n",
    "predicted = model.predict(X_test)\n",
    "\n",
    "# Plot the results\n",
    "plt.plot(y_test, label='True Value')\n",
    "plt.plot(predicted, label='Predicted Value')\n",
    "plt.legend()\n",
    "plt.show()"
   ]
  },
  {
   "cell_type": "code",
   "execution_count": 36,
   "id": "3f3c2193-96be-42f5-af6b-bf9507799618",
   "metadata": {},
   "outputs": [],
   "source": [
    "import time\n",
    "\n",
    "\n",
    "class Clothing:\n",
    "    def generate_label(self):\n",
    "        pass\n",
    "\n",
    "    def attach_label(self):\n",
    "        print(self.generate_label())\n",
    "\n",
    "\n",
    "class Shirt1(Clothing):\n",
    "    def generate_label(self):\n",
    "        return f\"Shirt1 Manufactured on {time.ctime()} Label Attached\"\n",
    "\n",
    "\n",
    "class Trouser2(Clothing):\n",
    "    def generate_label(self):\n",
    "        return f\"Trouser2 Manufactured on {time.ctime()} Label Attached\"\n",
    "\n",
    "\n",
    "class Jacket1(Clothing):\n",
    "    def generate_label(self):\n",
    "        return f\"Jacket1 Manufactured on {time.ctime()} Label Attached\"\n"
   ]
  },
  {
   "cell_type": "code",
   "execution_count": 37,
   "id": "3b990a3f-2dc2-4dbf-af42-45dd6046d1e8",
   "metadata": {},
   "outputs": [
    {
     "data": {
      "text/plain": [
       "'Shirt Wed Feb 14 14:04:07 2024 Specific Label Attached'"
      ]
     },
     "execution_count": 37,
     "metadata": {},
     "output_type": "execute_result"
    }
   ],
   "source": [
    "Shirt().attach_label()"
   ]
  },
  {
   "cell_type": "code",
   "execution_count": 26,
   "id": "3774a0d4-6430-4a6f-b13b-b0888bb717e6",
   "metadata": {},
   "outputs": [],
   "source": [
    "class TextEditor:\n",
    "    def __init__(self, text=''):\n",
    "        self._text = text\n",
    "\n",
    "    def write(self, text):\n",
    "        self._text += text\n",
    "\n",
    "    def save(self):\n",
    "        with open('document.txt', 'w') as file:\n",
    "            file.write(self._text)\n",
    "\n",
    "    def read(self):\n",
    "        with open('document.txt', 'r') as file:\n",
    "            return file.read()\n"
   ]
  },
  {
   "cell_type": "code",
   "execution_count": 28,
   "id": "a976fb7e-f87f-4812-948b-e15619874b01",
   "metadata": {},
   "outputs": [],
   "source": [
    "te = TextEditor()\n",
    "\n",
    "te.write(\"hello\")\n"
   ]
  },
  {
   "cell_type": "code",
   "execution_count": 31,
   "id": "beb6dd2f-3f9c-42db-9977-d68ac92a6bc1",
   "metadata": {},
   "outputs": [],
   "source": [
    "te.save()"
   ]
  },
  {
   "cell_type": "code",
   "execution_count": 30,
   "id": "0d4811b3-486b-47a9-a543-80dc4b92a359",
   "metadata": {},
   "outputs": [],
   "source": [
    "te.write(\"hello\")\n"
   ]
  },
  {
   "cell_type": "code",
   "execution_count": null,
   "id": "b347bb34-eed8-46dd-bf57-9df8b8c4efe9",
   "metadata": {},
   "outputs": [],
   "source": []
  }
 ],
 "metadata": {
  "kernelspec": {
   "display_name": "Python 3 (ipykernel)",
   "language": "python",
   "name": "python3"
  },
  "language_info": {
   "codemirror_mode": {
    "name": "ipython",
    "version": 3
   },
   "file_extension": ".py",
   "mimetype": "text/x-python",
   "name": "python",
   "nbconvert_exporter": "python",
   "pygments_lexer": "ipython3",
   "version": "3.12.5"
  }
 },
 "nbformat": 4,
 "nbformat_minor": 5
}
