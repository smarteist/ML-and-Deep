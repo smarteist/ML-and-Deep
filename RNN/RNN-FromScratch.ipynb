{
 "cells": [
  {
   "cell_type": "code",
   "execution_count": 1,
   "id": "c9e84444-bc8f-4597-8572-09172bc4787f",
   "metadata": {},
   "outputs": [],
   "source": [
    "import numpy as np\n",
    "import matplotlib.pyplot as plt\n",
    "from IPython.display import SVG"
   ]
  },
  {
   "cell_type": "code",
   "execution_count": 2,
   "id": "2adfa455-8a95-4984-85f0-6c3ea6eef3d1",
   "metadata": {},
   "outputs": [
    {
     "data": {
      "image/svg+xml": [
       "<svg xmlns=\"http://www.w3.org/2000/svg\" xmlns:xlink=\"http://www.w3.org/1999/xlink\" width=\"576pt\" height=\"201pt\" viewBox=\"0.00 0.00 576.00 200.77\">\n",
       "<g id=\"graph0\" class=\"graph\" transform=\"scale(0.661466 0.661466) rotate(0) translate(4 299.53)\">\n",
       "<polygon fill=\"white\" stroke=\"none\" points=\"-4,4 -4,-299.53 866.79,-299.53 866.79,4 -4,4\"/>\n",
       "<!-- x_{t&#45;1} -->\n",
       "<g id=\"node1\" class=\"node\">\n",
       "<title>x_{t-1}</title>\n",
       "<ellipse fill=\"lightblue\" stroke=\"black\" cx=\"70.8\" cy=\"-215.59\" rx=\"70.8\" ry=\"70.8\"/>\n",
       "<text text-anchor=\"middle\" x=\"70.8\" y=\"-210.54\" font-family=\"Times,serif\" font-size=\"14.00\">Input $x_{t-1}$</text>\n",
       "</g>\n",
       "<!-- h_{t&#45;1} -->\n",
       "<g id=\"node2\" class=\"node\">\n",
       "<title>h_{t-1}</title>\n",
       "<ellipse fill=\"lightgreen\" stroke=\"black\" cx=\"316.83\" cy=\"-215.59\" rx=\"78.48\" ry=\"78.48\"/>\n",
       "<text text-anchor=\"middle\" x=\"316.83\" y=\"-210.54\" font-family=\"Times,serif\" font-size=\"14.00\">Hidden $h_{t-1}$</text>\n",
       "</g>\n",
       "<!-- x_{t&#45;1}&#45;&gt;h_{t&#45;1} -->\n",
       "<g id=\"edge1\" class=\"edge\">\n",
       "<title>x_{t-1}-&gt;h_{t-1}</title>\n",
       "<path fill=\"none\" stroke=\"black\" d=\"M142.06,-215.59C168.41,-215.59 198.73,-215.59 226.58,-215.59\"/>\n",
       "<polygon fill=\"black\" stroke=\"black\" points=\"226.43,-219.09 236.43,-215.59 226.43,-212.09 226.43,-219.09\"/>\n",
       "<text text-anchor=\"middle\" x=\"189.98\" y=\"-218.79\" font-family=\"Times,serif\" font-size=\"14.00\">$W_{xh}$</text>\n",
       "</g>\n",
       "<!-- y_{t&#45;1} -->\n",
       "<g id=\"node3\" class=\"node\">\n",
       "<title>y_{t-1}</title>\n",
       "<ellipse fill=\"lightcoral\" stroke=\"black\" cx=\"569\" cy=\"-218.59\" rx=\"76.94\" ry=\"76.94\"/>\n",
       "<text text-anchor=\"middle\" x=\"569\" y=\"-213.54\" font-family=\"Times,serif\" font-size=\"14.00\">Output $y_{t-1}$</text>\n",
       "</g>\n",
       "<!-- h_{t&#45;1}&#45;&gt;y_{t&#45;1} -->\n",
       "<g id=\"edge2\" class=\"edge\">\n",
       "<title>h_{t-1}-&gt;y_{t-1}</title>\n",
       "<path fill=\"none\" stroke=\"black\" d=\"M395.61,-216.52C422.59,-216.84 453.01,-217.21 480.7,-217.54\"/>\n",
       "<polygon fill=\"black\" stroke=\"black\" points=\"480.42,-221.04 490.46,-217.66 480.51,-214.04 480.42,-221.04\"/>\n",
       "<text text-anchor=\"middle\" x=\"443.68\" y=\"-220.64\" font-family=\"Times,serif\" font-size=\"14.00\">$W_{hy}$</text>\n",
       "</g>\n",
       "<!-- h_t -->\n",
       "<g id=\"node5\" class=\"node\">\n",
       "<title>h_t</title>\n",
       "<ellipse fill=\"lightgreen\" stroke=\"black\" cx=\"569\" cy=\"-61.59\" rx=\"61.59\" ry=\"61.59\"/>\n",
       "<text text-anchor=\"middle\" x=\"569\" y=\"-56.54\" font-family=\"Times,serif\" font-size=\"14.00\">Hidden $h_t$</text>\n",
       "</g>\n",
       "<!-- h_{t&#45;1}&#45;&gt;h_t -->\n",
       "<g id=\"edge3\" class=\"edge\">\n",
       "<title>h_{t-1}-&gt;h_t</title>\n",
       "<path fill=\"none\" stroke=\"black\" stroke-dasharray=\"5,2\" d=\"M384.21,-174.72C422.08,-151.41 469.24,-122.38 506.3,-99.57\"/>\n",
       "<polygon fill=\"black\" stroke=\"black\" points=\"508.01,-102.62 514.69,-94.4 504.34,-96.66 508.01,-102.62\"/>\n",
       "<text text-anchor=\"middle\" x=\"443.68\" y=\"-155.58\" font-family=\"Times,serif\" font-size=\"14.00\">$W_{hh}$</text>\n",
       "</g>\n",
       "<!-- x_t -->\n",
       "<g id=\"node4\" class=\"node\">\n",
       "<title>x_t</title>\n",
       "<ellipse fill=\"lightblue\" stroke=\"black\" cx=\"316.83\" cy=\"-61.59\" rx=\"53.91\" ry=\"53.91\"/>\n",
       "<text text-anchor=\"middle\" x=\"316.83\" y=\"-56.54\" font-family=\"Times,serif\" font-size=\"14.00\">Input $x_t$</text>\n",
       "</g>\n",
       "<!-- x_t&#45;&gt;h_t -->\n",
       "<g id=\"edge4\" class=\"edge\">\n",
       "<title>x_t-&gt;h_t</title>\n",
       "<path fill=\"none\" stroke=\"black\" d=\"M371.19,-61.59C407.5,-61.59 455.98,-61.59 495.74,-61.59\"/>\n",
       "<polygon fill=\"black\" stroke=\"black\" points=\"495.73,-65.09 505.73,-61.59 495.73,-58.09 495.73,-65.09\"/>\n",
       "<text text-anchor=\"middle\" x=\"443.68\" y=\"-64.79\" font-family=\"Times,serif\" font-size=\"14.00\">$W_{xh}$</text>\n",
       "</g>\n",
       "<!-- y_t -->\n",
       "<g id=\"node6\" class=\"node\">\n",
       "<title>y_t</title>\n",
       "<ellipse fill=\"lightcoral\" stroke=\"black\" cx=\"802.74\" cy=\"-61.59\" rx=\"60.05\" ry=\"60.05\"/>\n",
       "<text text-anchor=\"middle\" x=\"802.74\" y=\"-56.54\" font-family=\"Times,serif\" font-size=\"14.00\">Output $y_t$</text>\n",
       "</g>\n",
       "<!-- h_t&#45;&gt;y_t -->\n",
       "<g id=\"edge5\" class=\"edge\">\n",
       "<title>h_t-&gt;y_t</title>\n",
       "<path fill=\"none\" stroke=\"black\" d=\"M630.88,-61.59C661.58,-61.59 698.98,-61.59 730.95,-61.59\"/>\n",
       "<polygon fill=\"black\" stroke=\"black\" points=\"730.95,-65.09 740.95,-61.59 730.95,-58.09 730.95,-65.09\"/>\n",
       "<text text-anchor=\"middle\" x=\"694.31\" y=\"-64.79\" font-family=\"Times,serif\" font-size=\"14.00\">$W_{hy}$</text>\n",
       "</g>\n",
       "</g>\n",
       "</svg>"
      ],
      "text/plain": [
       "<IPython.core.display.SVG object>"
      ]
     },
     "metadata": {},
     "output_type": "display_data"
    }
   ],
   "source": [
    "display(SVG(\"rnn_architecture.svg\"))"
   ]
  },
  {
   "cell_type": "code",
   "execution_count": 3,
   "id": "16eb7766-7bc7-4c89-8fee-351846480020",
   "metadata": {},
   "outputs": [],
   "source": [
    "# Dimensions\n",
    "n_x = 2   # Input size\n",
    "n_h = 5   # Hidden state size\n",
    "n_y = 2   # Output size"
   ]
  },
  {
   "cell_type": "code",
   "execution_count": 4,
   "id": "dcead109-4f40-449a-80a0-996dd0fadd3b",
   "metadata": {},
   "outputs": [],
   "source": [
    "# Weights and biases initialization\n",
    "np.random.seed(42)  # For reproducibility\n",
    "\n",
    "W_xh = np.random.randn(n_h, n_x) * 0.01  # Input to hidden weights\n",
    "W_hh = np.random.randn(n_h, n_h) * 0.01  # Hidden to hidden weights\n",
    "W_hy = np.random.randn(n_y, n_h) * 0.01  # Hidden to output weights\n",
    "\n",
    "b_h = np.zeros((n_h, 1))  # Hidden bias\n",
    "b_y = np.zeros((n_y, 1))  # Output bias\n"
   ]
  },
  {
   "cell_type": "code",
   "execution_count": 5,
   "id": "e9453c4c-099a-4acc-98fb-449ca64f01e3",
   "metadata": {},
   "outputs": [],
   "source": [
    "def forward_pass(inputs):\n",
    "    \"\"\"\n",
    "    inputs: list of input vectors (numpy arrays) of shape (n_x, 1)\n",
    "    Returns:\n",
    "    - ys: dictionary of outputs at each time step\n",
    "    - hs: dictionary of hidden states at each time step\n",
    "    \"\"\"\n",
    "    h_prev = np.zeros((n_h, 1))  # Initialize previous hidden state\n",
    "    hs = {}  # Store hidden states\n",
    "    ys = {}  # Store outputs\n",
    "\n",
    "    for t, x_t in enumerate(inputs):\n",
    "        # Hidden state computation\n",
    "        h_t = np.tanh(np.dot(W_xh, x_t) + np.dot(W_hh, h_prev) + b_h)\n",
    "        # Output computation\n",
    "        y_t = np.dot(W_hy, h_t) + b_y\n",
    "        # Store the hidden state and output\n",
    "        hs[t] = h_t\n",
    "        ys[t] = y_t\n",
    "        # Update previous hidden state\n",
    "        h_prev = h_t\n",
    "\n",
    "    return ys, hs\n"
   ]
  },
  {
   "cell_type": "code",
   "execution_count": 6,
   "id": "9ac5a966-43b8-4b4c-8acf-e1e6fbc165dd",
   "metadata": {},
   "outputs": [],
   "source": [
    "def compute_loss(outputs, targets):\n",
    "    \"\"\"\n",
    "    outputs: dictionary of outputs from forward_pass\n",
    "    targets: list of target vectors (numpy arrays) of shape (n_y, 1)\n",
    "    Returns:\n",
    "    - loss: scalar value representing the total loss\n",
    "    \"\"\"\n",
    "    loss = 0.0\n",
    "    for t in range(len(targets)):\n",
    "        y_pred = outputs[t]\n",
    "        y_true = targets[t]\n",
    "        loss += np.sum((y_pred - y_true) ** 2)\n",
    "    loss *= 0.5  # For MSE\n",
    "    return loss\n"
   ]
  },
  {
   "cell_type": "code",
   "execution_count": 7,
   "id": "ce4e5c46-6782-480c-b8d6-1626d97f2926",
   "metadata": {},
   "outputs": [],
   "source": [
    "def backward_pass(inputs, targets, outputs, hs):\n",
    "    \"\"\"\n",
    "    inputs: list of input vectors\n",
    "    targets: list of target vectors\n",
    "    outputs: outputs from forward_pass\n",
    "    hs: hidden states from forward_pass\n",
    "    Returns:\n",
    "    - Gradients for all parameters\n",
    "    \"\"\"\n",
    "    # Initialize gradients\n",
    "    dW_xh = np.zeros_like(W_xh)\n",
    "    dW_hh = np.zeros_like(W_hh)\n",
    "    dW_hy = np.zeros_like(W_hy)\n",
    "    db_h = np.zeros_like(b_h)\n",
    "    db_y = np.zeros_like(b_y)\n",
    "\n",
    "    dh_next = np.zeros((n_h, 1))\n",
    "\n",
    "    for t in reversed(range(len(inputs))):\n",
    "        dy = outputs[t] - targets[t]  # Gradient of output\n",
    "        dW_hy += np.dot(dy, hs[t].T)\n",
    "        db_y += dy\n",
    "\n",
    "        dh = np.dot(W_hy.T, dy) + dh_next  # Backprop into h\n",
    "        dh_raw = (1 - hs[t] ** 2) * dh  # Backprop through tanh activation\n",
    "        db_h += dh_raw\n",
    "        dW_xh += np.dot(dh_raw, inputs[t].T)\n",
    "        if t != 0:\n",
    "            dW_hh += np.dot(dh_raw, hs[t - 1].T)\n",
    "        else:\n",
    "            dW_hh += np.dot(dh_raw, np.zeros_like(hs[t]).T)\n",
    "        dh_next = np.dot(W_hh.T, dh_raw)\n",
    "\n",
    "    # Clip gradients to prevent exploding gradients\n",
    "    for dparam in [dW_xh, dW_hh, dW_hy, db_h, db_y]:\n",
    "        np.clip(dparam, -5, 5, out=dparam)\n",
    "\n",
    "    return dW_xh, dW_hh, dW_hy, db_h, db_y\n"
   ]
  },
  {
   "cell_type": "code",
   "execution_count": 8,
   "id": "ecf37843-e01b-46e2-8d11-0d734a0b21a9",
   "metadata": {},
   "outputs": [],
   "source": [
    "def update_parameters(params, grads, learning_rate):\n",
    "    \"\"\"\n",
    "    params: tuple of parameters (W_xh, W_hh, W_hy, b_h, b_y)\n",
    "    grads: tuple of gradients (dW_xh, dW_hh, dW_hy, db_h, db_y)\n",
    "    \"\"\"\n",
    "    for param, dparam in zip(params, grads):\n",
    "        param -= learning_rate * dparam\n"
   ]
  },
  {
   "cell_type": "code",
   "execution_count": 9,
   "id": "58e0b985-0ca6-4984-bde3-50694efcf309",
   "metadata": {},
   "outputs": [
    {
     "name": "stdout",
     "output_type": "stream",
     "text": [
      "Epoch 10/600, Loss: 11.0951\n",
      "Epoch 20/600, Loss: 11.0113\n",
      "Epoch 30/600, Loss: 10.9913\n",
      "Epoch 40/600, Loss: 10.9636\n",
      "Epoch 50/600, Loss: 10.8963\n",
      "Epoch 60/600, Loss: 10.7329\n",
      "Epoch 70/600, Loss: 10.3759\n",
      "Epoch 80/600, Loss: 9.7666\n",
      "Epoch 90/600, Loss: 9.1078\n",
      "Epoch 100/600, Loss: 8.7168\n",
      "Epoch 110/600, Loss: 8.5660\n",
      "Epoch 120/600, Loss: 8.5041\n",
      "Epoch 130/600, Loss: 8.4652\n",
      "Epoch 140/600, Loss: 8.4297\n",
      "Epoch 150/600, Loss: 8.3900\n",
      "Epoch 160/600, Loss: 8.3405\n",
      "Epoch 170/600, Loss: 8.2756\n",
      "Epoch 180/600, Loss: 8.1906\n",
      "Epoch 190/600, Loss: 8.0840\n",
      "Epoch 200/600, Loss: 7.9596\n",
      "Epoch 210/600, Loss: 7.8241\n",
      "Epoch 220/600, Loss: 7.6836\n",
      "Epoch 230/600, Loss: 7.5392\n",
      "Epoch 240/600, Loss: 7.3882\n",
      "Epoch 250/600, Loss: 7.2261\n",
      "Epoch 260/600, Loss: 7.0481\n",
      "Epoch 270/600, Loss: 6.8487\n",
      "Epoch 280/600, Loss: 6.6198\n",
      "Epoch 290/600, Loss: 6.3483\n",
      "Epoch 300/600, Loss: 6.0142\n",
      "Epoch 310/600, Loss: 5.5904\n",
      "Epoch 320/600, Loss: 5.0572\n",
      "Epoch 330/600, Loss: 4.4450\n",
      "Epoch 340/600, Loss: 3.8454\n",
      "Epoch 350/600, Loss: 3.3085\n",
      "Epoch 360/600, Loss: 2.8423\n",
      "Epoch 370/600, Loss: 2.4564\n",
      "Epoch 380/600, Loss: 2.1480\n",
      "Epoch 390/600, Loss: 1.9011\n",
      "Epoch 400/600, Loss: 1.7011\n",
      "Epoch 410/600, Loss: 1.5394\n",
      "Epoch 420/600, Loss: 1.4085\n",
      "Epoch 430/600, Loss: 1.3000\n",
      "Epoch 440/600, Loss: 1.2070\n",
      "Epoch 450/600, Loss: 1.1248\n",
      "Epoch 460/600, Loss: 1.0505\n",
      "Epoch 470/600, Loss: 0.9823\n",
      "Epoch 480/600, Loss: 0.9189\n",
      "Epoch 490/600, Loss: 0.8598\n",
      "Epoch 500/600, Loss: 0.8043\n",
      "Epoch 510/600, Loss: 0.7521\n",
      "Epoch 520/600, Loss: 0.7029\n",
      "Epoch 530/600, Loss: 0.6565\n",
      "Epoch 540/600, Loss: 0.6128\n",
      "Epoch 550/600, Loss: 0.5716\n",
      "Epoch 560/600, Loss: 0.5327\n",
      "Epoch 570/600, Loss: 0.4961\n",
      "Epoch 580/600, Loss: 0.4616\n",
      "Epoch 590/600, Loss: 0.4292\n",
      "Epoch 600/600, Loss: 0.3988\n"
     ]
    }
   ],
   "source": [
    "# Example data (simple sequence)\n",
    "sequence_length = 10\n",
    "inputs = [np.random.randn(n_x, 1) for _ in range(sequence_length)]  # Input sequence\n",
    "targets = [np.random.randn(n_y, 1) for _ in range(sequence_length)]  # Target sequence\n",
    "\n",
    "learning_rate = 0.01\n",
    "num_epochs = 600\n",
    "\n",
    "# Parameters tuple\n",
    "params = (W_xh, W_hh, W_hy, b_h, b_y)\n",
    "\n",
    "# Initialize lists to store losses and predictions\n",
    "losses = []\n",
    "predictions = []\n",
    "\n",
    "for epoch in range(num_epochs):\n",
    "    # Forward pass\n",
    "    outputs, hs = forward_pass(inputs)\n",
    "    \n",
    "    # Compute loss\n",
    "    loss = compute_loss(outputs, targets)\n",
    "    losses.append(loss)\n",
    "    \n",
    "    # Backward pass\n",
    "    grads = backward_pass(inputs, targets, outputs, hs)\n",
    "    \n",
    "    # Update parameters\n",
    "    update_parameters(params, grads, learning_rate)\n",
    "    \n",
    "    # Store predictions at the end of training\n",
    "    if epoch == num_epochs - 1:\n",
    "        predictions = [outputs[t] for t in range(sequence_length)]\n",
    "    \n",
    "    # Print loss every 10 epochs\n",
    "    if (epoch + 1) % 10 == 0:\n",
    "        print(f\"Epoch {epoch+1}/{num_epochs}, Loss: {loss:.4f}\")\n"
   ]
  },
  {
   "cell_type": "code",
   "execution_count": 10,
   "id": "b405abfd-1128-416b-89fa-1fe3c5ccc03d",
   "metadata": {},
   "outputs": [],
   "source": [
    "# Convert targets and predictions to numpy arrays for plotting\n",
    "target_values = np.array([target[0][0] for target in targets])\n",
    "prediction_values = np.array([prediction[0][0] for prediction in predictions])\n",
    "input_values = np.array([input_[0][0] for input_ in inputs])\n"
   ]
  },
  {
   "cell_type": "code",
   "execution_count": 11,
   "id": "968cd987-9c2e-41cf-a8bd-c9c9fdf9a556",
   "metadata": {},
   "outputs": [
    {
     "data": {
      "image/png": "[encoded data removed]",
      "text/plain": [
       "<Figure size 800x400 with 1 Axes>"
      ]
     },
     "metadata": {},
     "output_type": "display_data"
    }
   ],
   "source": [
    "# Plot loss over epochs\n",
    "plt.figure(figsize=(8, 4))\n",
    "plt.plot(range(num_epochs), losses, 'm-')\n",
    "plt.title('Loss over Epochs')\n",
    "plt.xlabel('Epoch')\n",
    "plt.ylabel('Loss')\n",
    "plt.show()"
   ]
  },
  {
   "cell_type": "code",
   "execution_count": 11,
   "id": "2ae39bed-c8a9-40ec-a08f-f486d73fa265",
   "metadata": {},
   "outputs": [
    {
     "data": {
      "image/png": "[encoded data removed]",
      "text/plain": [
       "<Figure size 640x480 with 1 Axes>"
      ]
     },
     "metadata": {},
     "output_type": "display_data"
    }
   ],
   "source": [
    "# Plot target vs. prediction\n",
    "plt.subplot(2, 1, 2)\n",
    "plt.plot(range(sequence_length), target_values, 'go-', label='Target Output')\n",
    "plt.plot(range(sequence_length), prediction_values, 'ro--', label='Model Prediction')\n",
    "plt.title('Target Output vs. Model Prediction')\n",
    "plt.xlabel('Time Step')\n",
    "plt.ylabel('Output Value')\n",
    "plt.legend()\n",
    "\n",
    "plt.tight_layout()\n",
    "plt.show()\n"
   ]
  },
  {
   "cell_type": "code",
   "execution_count": null,
   "id": "671cf55f-1599-4ca4-866b-cc1f5a454c01",
   "metadata": {},
   "outputs": [],
   "source": []
  }
 ],
 "metadata": {
  "kernelspec": {
   "display_name": "Python 3 (ipykernel)",
   "language": "python",
   "name": "python3"
  },
  "language_info": {
   "codemirror_mode": {
    "name": "ipython",
    "version": 3
   },
   "file_extension": ".py",
   "mimetype": "text/x-python",
   "name": "python",
   "nbconvert_exporter": "python",
   "pygments_lexer": "ipython3",
   "version": "3.12.5"
  }
 },
 "nbformat": 4,
 "nbformat_minor": 5
}
