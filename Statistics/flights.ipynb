{
 "cells": [
  {
   "cell_type": "code",
   "execution_count": 1,
   "id": "52316184-2229-46d8-8619-4a13ca8cbbab",
   "metadata": {},
   "outputs": [],
   "source": [
    "from pandas import pandas as pd\n",
    "import numpy as np"
   ]
  },
  {
   "cell_type": "code",
   "execution_count": 2,
   "id": "16bbe73e-9abd-4d2d-b323-06cdfb2f8de7",
   "metadata": {},
   "outputs": [],
   "source": [
    "from scipy import stats\n",
    "from scipy import spatial\n",
    "import seaborn as sns\n",
    "\n",
    "\n"
   ]
  },
  {
   "cell_type": "code",
   "execution_count": 3,
   "id": "b3c9acf9-35b8-403d-abe2-4fb44e1a72aa",
   "metadata": {},
   "outputs": [],
   "source": [
    "data = pd.read_csv('flights.csv')"
   ]
  },
  {
   "cell_type": "code",
   "execution_count": 4,
   "id": "2d88baf0-261b-42cf-bed2-fd93b85b94b5",
   "metadata": {
    "scrolled": true
   },
   "outputs": [
    {
     "data": {
      "text/html": [
       "<div>\n",
       "<style scoped>\n",
       "    .dataframe tbody tr th:only-of-type {\n",
       "        vertical-align: middle;\n",
       "    }\n",
       "\n",
       "    .dataframe tbody tr th {\n",
       "        vertical-align: top;\n",
       "    }\n",
       "\n",
       "    .dataframe thead th {\n",
       "        text-align: right;\n",
       "    }\n",
       "</style>\n",
       "<table border=\"1\" class=\"dataframe\">\n",
       "  <thead>\n",
       "    <tr style=\"text-align: right;\">\n",
       "      <th></th>\n",
       "      <th>Unnamed: 0</th>\n",
       "      <th>year</th>\n",
       "      <th>month</th>\n",
       "      <th>day</th>\n",
       "      <th>dep_time</th>\n",
       "      <th>sched_dep_time</th>\n",
       "      <th>dep_delay</th>\n",
       "      <th>arr_time</th>\n",
       "      <th>sched_arr_time</th>\n",
       "      <th>arr_delay</th>\n",
       "      <th>...</th>\n",
       "      <th>flight</th>\n",
       "      <th>tailnum</th>\n",
       "      <th>origin</th>\n",
       "      <th>dest</th>\n",
       "      <th>air_time</th>\n",
       "      <th>distance</th>\n",
       "      <th>hour</th>\n",
       "      <th>minute</th>\n",
       "      <th>time_hour</th>\n",
       "      <th>name</th>\n",
       "    </tr>\n",
       "  </thead>\n",
       "  <tbody>\n",
       "    <tr>\n",
       "      <th>0</th>\n",
       "      <td>0</td>\n",
       "      <td>2013</td>\n",
       "      <td>1</td>\n",
       "      <td>1</td>\n",
       "      <td>517.0</td>\n",
       "      <td>515</td>\n",
       "      <td>2.0</td>\n",
       "      <td>830.0</td>\n",
       "      <td>819</td>\n",
       "      <td>11.0</td>\n",
       "      <td>...</td>\n",
       "      <td>1545</td>\n",
       "      <td>N14228</td>\n",
       "      <td>EWR</td>\n",
       "      <td>IAH</td>\n",
       "      <td>227.0</td>\n",
       "      <td>1400</td>\n",
       "      <td>5</td>\n",
       "      <td>15</td>\n",
       "      <td>2013-01-01 05:00:00</td>\n",
       "      <td>United Air Lines Inc.</td>\n",
       "    </tr>\n",
       "    <tr>\n",
       "      <th>1</th>\n",
       "      <td>1</td>\n",
       "      <td>2013</td>\n",
       "      <td>1</td>\n",
       "      <td>1</td>\n",
       "      <td>533.0</td>\n",
       "      <td>529</td>\n",
       "      <td>4.0</td>\n",
       "      <td>850.0</td>\n",
       "      <td>830</td>\n",
       "      <td>20.0</td>\n",
       "      <td>...</td>\n",
       "      <td>1714</td>\n",
       "      <td>N24211</td>\n",
       "      <td>LGA</td>\n",
       "      <td>IAH</td>\n",
       "      <td>227.0</td>\n",
       "      <td>1416</td>\n",
       "      <td>5</td>\n",
       "      <td>29</td>\n",
       "      <td>2013-01-01 05:00:00</td>\n",
       "      <td>United Air Lines Inc.</td>\n",
       "    </tr>\n",
       "    <tr>\n",
       "      <th>2</th>\n",
       "      <td>2</td>\n",
       "      <td>2013</td>\n",
       "      <td>1</td>\n",
       "      <td>1</td>\n",
       "      <td>542.0</td>\n",
       "      <td>540</td>\n",
       "      <td>2.0</td>\n",
       "      <td>923.0</td>\n",
       "      <td>850</td>\n",
       "      <td>33.0</td>\n",
       "      <td>...</td>\n",
       "      <td>1141</td>\n",
       "      <td>N619AA</td>\n",
       "      <td>JFK</td>\n",
       "      <td>MIA</td>\n",
       "      <td>160.0</td>\n",
       "      <td>1089</td>\n",
       "      <td>5</td>\n",
       "      <td>40</td>\n",
       "      <td>2013-01-01 05:00:00</td>\n",
       "      <td>American Airlines Inc.</td>\n",
       "    </tr>\n",
       "    <tr>\n",
       "      <th>3</th>\n",
       "      <td>3</td>\n",
       "      <td>2013</td>\n",
       "      <td>1</td>\n",
       "      <td>1</td>\n",
       "      <td>544.0</td>\n",
       "      <td>545</td>\n",
       "      <td>-1.0</td>\n",
       "      <td>1004.0</td>\n",
       "      <td>1022</td>\n",
       "      <td>-18.0</td>\n",
       "      <td>...</td>\n",
       "      <td>725</td>\n",
       "      <td>N804JB</td>\n",
       "      <td>JFK</td>\n",
       "      <td>BQN</td>\n",
       "      <td>183.0</td>\n",
       "      <td>1576</td>\n",
       "      <td>5</td>\n",
       "      <td>45</td>\n",
       "      <td>2013-01-01 05:00:00</td>\n",
       "      <td>JetBlue Airways</td>\n",
       "    </tr>\n",
       "    <tr>\n",
       "      <th>4</th>\n",
       "      <td>4</td>\n",
       "      <td>2013</td>\n",
       "      <td>1</td>\n",
       "      <td>1</td>\n",
       "      <td>554.0</td>\n",
       "      <td>600</td>\n",
       "      <td>-6.0</td>\n",
       "      <td>812.0</td>\n",
       "      <td>837</td>\n",
       "      <td>-25.0</td>\n",
       "      <td>...</td>\n",
       "      <td>461</td>\n",
       "      <td>N668DN</td>\n",
       "      <td>LGA</td>\n",
       "      <td>ATL</td>\n",
       "      <td>116.0</td>\n",
       "      <td>762</td>\n",
       "      <td>6</td>\n",
       "      <td>0</td>\n",
       "      <td>2013-01-01 06:00:00</td>\n",
       "      <td>Delta Air Lines Inc.</td>\n",
       "    </tr>\n",
       "  </tbody>\n",
       "</table>\n",
       "<p>5 rows × 21 columns</p>\n",
       "</div>"
      ],
      "text/plain": [
       "   Unnamed: 0  year  month  day  dep_time  sched_dep_time  dep_delay  \\\n",
       "0           0  2013      1    1     517.0             515        2.0   \n",
       "1           1  2013      1    1     533.0             529        4.0   \n",
       "2           2  2013      1    1     542.0             540        2.0   \n",
       "3           3  2013      1    1     544.0             545       -1.0   \n",
       "4           4  2013      1    1     554.0             600       -6.0   \n",
       "\n",
       "   arr_time  sched_arr_time  arr_delay  ... flight  tailnum origin dest  \\\n",
       "0     830.0             819       11.0  ...   1545   N14228    EWR  IAH   \n",
       "1     850.0             830       20.0  ...   1714   N24211    LGA  IAH   \n",
       "2     923.0             850       33.0  ...   1141   N619AA    JFK  MIA   \n",
       "3    1004.0            1022      -18.0  ...    725   N804JB    JFK  BQN   \n",
       "4     812.0             837      -25.0  ...    461   N668DN    LGA  ATL   \n",
       "\n",
       "  air_time  distance  hour  minute            time_hour  \\\n",
       "0    227.0      1400     5      15  2013-01-01 05:00:00   \n",
       "1    227.0      1416     5      29  2013-01-01 05:00:00   \n",
       "2    160.0      1089     5      40  2013-01-01 05:00:00   \n",
       "3    183.0      1576     5      45  2013-01-01 05:00:00   \n",
       "4    116.0       762     6       0  2013-01-01 06:00:00   \n",
       "\n",
       "                     name  \n",
       "0   United Air Lines Inc.  \n",
       "1   United Air Lines Inc.  \n",
       "2  American Airlines Inc.  \n",
       "3         JetBlue Airways  \n",
       "4    Delta Air Lines Inc.  \n",
       "\n",
       "[5 rows x 21 columns]"
      ]
     },
     "execution_count": 4,
     "metadata": {},
     "output_type": "execute_result"
    }
   ],
   "source": [
    "data.head()"
   ]
  },
  {
   "cell_type": "code",
   "execution_count": 5,
   "id": "d6450059-5b0e-438e-9840-fd14fcde3734",
   "metadata": {},
   "outputs": [
    {
     "data": {
      "text/plain": [
       "12.639070257304708"
      ]
     },
     "execution_count": 5,
     "metadata": {},
     "output_type": "execute_result"
    }
   ],
   "source": [
    "data['dep_delay'].mean()"
   ]
  },
  {
   "cell_type": "markdown",
   "id": "739d0afe-5cff-4847-bf48-76babfdeb637",
   "metadata": {},
   "source": [
    "We need to Remove noise from data, for example there is some \n",
    "large or small numbers in this data set, that affects our mean result."
   ]
  },
  {
   "cell_type": "code",
   "execution_count": 6,
   "id": "c261ea48-b29a-4db1-9753-e1621ea56533",
   "metadata": {},
   "outputs": [
    {
     "data": {
      "text/plain": [
       "4.798201334709118"
      ]
     },
     "execution_count": 6,
     "metadata": {},
     "output_type": "execute_result"
    }
   ],
   "source": [
    "trimmed = stats.trim_mean(data['dep_delay'], 10/100)\n",
    "trimmed\n"
   ]
  },
  {
   "cell_type": "markdown",
   "id": "45ec1107-d81f-4eda-baa9-ce16119496c2",
   "metadata": {},
   "source": [
    "We can see after trimming 20% of noise data [10%, data , 10%] mean is more realistic than before.\n",
    "So Lets take standard deviation:\n"
   ]
  },
  {
   "cell_type": "code",
   "execution_count": 7,
   "id": "31e74969-1ddf-4f3a-b7de-23c654252005",
   "metadata": {
    "scrolled": true
   },
   "outputs": [
    {
     "data": {
      "text/plain": [
       "40.21006089212995"
      ]
     },
     "execution_count": 7,
     "metadata": {},
     "output_type": "execute_result"
    }
   ],
   "source": [
    "data['dep_delay'].std()"
   ]
  },
  {
   "cell_type": "code",
   "execution_count": 8,
   "id": "59831a57-8b3c-487c-934d-09e148162ca9",
   "metadata": {},
   "outputs": [
    {
     "data": {
      "text/plain": [
       "1301.0"
      ]
     },
     "execution_count": 8,
     "metadata": {},
     "output_type": "execute_result"
    }
   ],
   "source": [
    "data['dep_delay'].max()"
   ]
  },
  {
   "cell_type": "code",
   "execution_count": 9,
   "id": "59870d47-ad57-433a-aabe-74928a20d253",
   "metadata": {},
   "outputs": [
    {
     "data": {
      "text/plain": [
       "-43.0"
      ]
     },
     "execution_count": 9,
     "metadata": {},
     "output_type": "execute_result"
    }
   ],
   "source": [
    "data['dep_delay'].min()\n"
   ]
  },
  {
   "cell_type": "code",
   "execution_count": 10,
   "id": "776a6065-ffbe-4991-98d7-a4588115ce0f",
   "metadata": {},
   "outputs": [
    {
     "data": {
      "text/plain": [
       "-2.0"
      ]
     },
     "execution_count": 10,
     "metadata": {},
     "output_type": "execute_result"
    }
   ],
   "source": [
    "data['dep_delay'].median()"
   ]
  },
  {
   "cell_type": "code",
   "execution_count": 11,
   "id": "8db74a07-c40b-47d6-9d80-a8c9a242909d",
   "metadata": {},
   "outputs": [
    {
     "data": {
      "text/plain": [
       "12.639070257304708"
      ]
     },
     "execution_count": 11,
     "metadata": {},
     "output_type": "execute_result"
    }
   ],
   "source": [
    "data['dep_delay'].mean()"
   ]
  },
  {
   "cell_type": "code",
   "execution_count": 12,
   "id": "260ac227-3741-46df-96e8-eebdd4be6b70",
   "metadata": {},
   "outputs": [
    {
     "data": {
      "text/plain": [
       "0   -5.0\n",
       "Name: dep_delay, dtype: float64"
      ]
     },
     "execution_count": 12,
     "metadata": {},
     "output_type": "execute_result"
    }
   ],
   "source": [
    "data['dep_delay'].mode()"
   ]
  },
  {
   "cell_type": "markdown",
   "id": "e3321031-d2c5-49e6-8a0e-49eb1df24748",
   "metadata": {},
   "source": [
    "\"MODE\" is the most repeatative item in data set."
   ]
  },
  {
   "cell_type": "code",
   "execution_count": 13,
   "id": "9f28782f-2a23-4bee-ac99-f9b18913c061",
   "metadata": {},
   "outputs": [
    {
     "data": {
      "text/plain": [
       "0   -13.0\n",
       "Name: arr_delay, dtype: float64"
      ]
     },
     "execution_count": 13,
     "metadata": {},
     "output_type": "execute_result"
    }
   ],
   "source": [
    " data['arr_delay'].mode()"
   ]
  },
  {
   "cell_type": "code",
   "execution_count": 14,
   "id": "e79b6278-3374-4cf7-a487-4204303c1d68",
   "metadata": {},
   "outputs": [
    {
     "data": {
      "text/plain": [
       "<Axes: >"
      ]
     },
     "execution_count": 14,
     "metadata": {},
     "output_type": "execute_result"
    },
    {
     "data": {
      "image/png": "[encoded data removed]",
      "text/plain": [
       "<Figure size 640x480 with 1 Axes>"
      ]
     },
     "metadata": {},
     "output_type": "display_data"
    }
   ],
   "source": [
    "data['arr_delay'].hist(bins=1000)\n"
   ]
  },
  {
   "cell_type": "code",
   "execution_count": 15,
   "id": "ab95e39b-3bcc-4d11-9353-7645f0e61521",
   "metadata": {},
   "outputs": [],
   "source": [
    "filtered = data[(data['arr_delay']!=None) & (data['arr_delay']<100)]"
   ]
  },
  {
   "cell_type": "code",
   "execution_count": 16,
   "id": "de06bb8f-6842-425e-bdf6-3befcd1223b0",
   "metadata": {},
   "outputs": [
    {
     "data": {
      "text/plain": [
       "<Axes: >"
      ]
     },
     "execution_count": 16,
     "metadata": {},
     "output_type": "execute_result"
    },
    {
     "data": {
      "image/png": "[encoded data removed]",
      "text/plain": [
       "<Figure size 640x480 with 1 Axes>"
      ]
     },
     "metadata": {},
     "output_type": "display_data"
    }
   ],
   "source": [
    "filtered['arr_delay'].hist(bins=100)"
   ]
  },
  {
   "cell_type": "markdown",
   "id": "583cd553-b0e9-42a1-9cc5-53a39ec7f350",
   "metadata": {},
   "source": [
    "## Central Limit Theorem\n",
    "\n",
    "If we knew the distribution of data follows the normal distribution we can say:\n",
    "\n",
    "~68% of our data is in range of [-1*(std_dev)+(mean), 1*(std_dev)+(mean)]\n",
    "\n",
    "~95% of our data is in range of [-2*(std_dev)+(mean), 2*(std_dev)+(mean)]\n",
    "\n",
    "~99.7% of our data is in range of [-3*(std_dev)+(mean), 3*(std_dev)+(mean)]\n"
   ]
  },
  {
   "cell_type": "code",
   "execution_count": 17,
   "id": "493d6671-bdb1-49c6-9d3a-36e2a564c231",
   "metadata": {
    "scrolled": true
   },
   "outputs": [],
   "source": [
    "sample = np.random.binomial(400, 1/10, 1000)"
   ]
  },
  {
   "cell_type": "code",
   "execution_count": 18,
   "id": "6de41d47-0981-4447-a926-6012d04dbf6d",
   "metadata": {},
   "outputs": [
    {
     "data": {
      "text/plain": [
       "<Axes: ylabel='Count'>"
      ]
     },
     "execution_count": 18,
     "metadata": {},
     "output_type": "execute_result"
    },
    {
     "data": {
      "image/png": "[encoded data removed]",
      "text/plain": [
       "<Figure size 640x480 with 1 Axes>"
      ]
     },
     "metadata": {},
     "output_type": "display_data"
    }
   ],
   "source": [
    "sns.histplot(sample,bins=100)\n"
   ]
  },
  {
   "cell_type": "code",
   "execution_count": 19,
   "id": "5efe9f1e-d4fa-4683-ab50-ceec9d418903",
   "metadata": {},
   "outputs": [
    {
     "data": {
      "text/plain": [
       "<Axes: ylabel='Count'>"
      ]
     },
     "execution_count": 19,
     "metadata": {},
     "output_type": "execute_result"
    },
    {
     "data": {
      "image/png": "[encoded data removed]",
      "text/plain": [
       "<Figure size 640x480 with 1 Axes>"
      ]
     },
     "metadata": {},
     "output_type": "display_data"
    }
   ],
   "source": [
    "# generate a binomial sample\n",
    "sample = stats.binom(400,0.2)\n",
    "# plot the histogram\n",
    "sns.histplot(sample.rvs(size=1000), bins=100)\n"
   ]
  },
  {
   "cell_type": "code",
   "execution_count": 20,
   "id": "7d14aaab-30f3-424a-af68-0cc6f627d907",
   "metadata": {},
   "outputs": [
    {
     "data": {
      "text/plain": [
       "<Axes: ylabel='Count'>"
      ]
     },
     "execution_count": 20,
     "metadata": {},
     "output_type": "execute_result"
    },
    {
     "data": {
      "image/png": "[encoded data removed]",
      "text/plain": [
       "<Figure size 640x480 with 1 Axes>"
      ]
     },
     "metadata": {},
     "output_type": "display_data"
    }
   ],
   "source": [
    "poisson_lambda = 0.6\n",
    "sampp = stats.poisson(poisson_lambda)\n",
    "samp_poi = sampp.rvs(size=1000)\n",
    "sns.histplot(samp_poi, bins=100)\n"
   ]
  },
  {
   "cell_type": "code",
   "execution_count": 21,
   "id": "60504a62-be18-45c4-a023-b650e19a9053",
   "metadata": {},
   "outputs": [
    {
     "data": {
      "text/plain": [
       "<Axes: ylabel='Count'>"
      ]
     },
     "execution_count": 21,
     "metadata": {},
     "output_type": "execute_result"
    },
    {
     "data": {
      "image/png": "[encoded data removed]",
      "text/plain": [
       "<Figure size 640x480 with 1 Axes>"
      ]
     },
     "metadata": {},
     "output_type": "display_data"
    }
   ],
   "source": [
    "sampu = stats.uniform(0,2)\n",
    "unifs = sampu.rvs(size=1000);\n",
    "sns.histplot(unifs, bins=100)\n"
   ]
  },
  {
   "cell_type": "code",
   "execution_count": 22,
   "id": "89bd30a2-7819-409b-b4bf-24e0efd787a7",
   "metadata": {},
   "outputs": [
    {
     "data": {
      "text/plain": [
       "<Axes: ylabel='Count'>"
      ]
     },
     "execution_count": 22,
     "metadata": {},
     "output_type": "execute_result"
    },
    {
     "data": {
      "image/png": "[encoded data removed]",
      "text/plain": [
       "<Figure size 640x480 with 1 Axes>"
      ]
     },
     "metadata": {},
     "output_type": "display_data"
    }
   ],
   "source": [
    "norm = stats.norm(2,1)\n",
    "norm_sample = norm.rvs(size=100000);\n",
    "sns.histplot(norm_sample, bins=400)"
   ]
  },
  {
   "cell_type": "code",
   "execution_count": 33,
   "id": "51725a44-099e-40a2-88fb-118468767566",
   "metadata": {},
   "outputs": [],
   "source": [
    "data = stats.binom(5000,0.2)"
   ]
  },
  {
   "cell_type": "code",
   "execution_count": 40,
   "id": "8c42e9d5-d8a5-4a6f-8707-33dd029d34ff",
   "metadata": {},
   "outputs": [
    {
     "data": {
      "text/plain": [
       "1.5243968146123238e-242"
      ]
     },
     "execution_count": 40,
     "metadata": {},
     "output_type": "execute_result"
    }
   ],
   "source": [
    "data.pmf(200)"
   ]
  },
  {
   "cell_type": "code",
   "execution_count": 41,
   "id": "0e06747e-16e3-4925-8f62-64b1d62ddeb1",
   "metadata": {},
   "outputs": [
    {
     "data": {
      "text/plain": [
       "1.8288202240294232e-242"
      ]
     },
     "execution_count": 41,
     "metadata": {},
     "output_type": "execute_result"
    }
   ],
   "source": [
    "data.cdf(200)"
   ]
  },
  {
   "cell_type": "code",
   "execution_count": 23,
   "id": "ad42770f-1b58-4eac-9513-3ae1c0a212d8",
   "metadata": {},
   "outputs": [
    {
     "data": {
      "text/plain": [
       "0.5"
      ]
     },
     "execution_count": 23,
     "metadata": {},
     "output_type": "execute_result"
    }
   ],
   "source": [
    "norm.cdf(2)"
   ]
  },
  {
   "cell_type": "code",
   "execution_count": 24,
   "id": "76d007d7-3ba0-4e6d-ad38-4eec8384f804",
   "metadata": {},
   "outputs": [
    {
     "data": {
      "text/plain": [
       "0.2417303374571288"
      ]
     },
     "execution_count": 24,
     "metadata": {},
     "output_type": "execute_result"
    }
   ],
   "source": [
    "norm.cdf(3.5)-norm.cdf(2.5)\n"
   ]
  },
  {
   "cell_type": "code",
   "execution_count": 25,
   "id": "789b8cf8-4878-4779-b876-73fe4d4834e8",
   "metadata": {},
   "outputs": [],
   "source": [
    "from scipy import special as spec\n"
   ]
  },
  {
   "cell_type": "code",
   "execution_count": 26,
   "id": "f50ad1e2-8bbb-4428-bc89-d1aa6ad1940b",
   "metadata": {},
   "outputs": [
    {
     "data": {
      "text/plain": [
       "0.035986193622717655"
      ]
     },
     "execution_count": 26,
     "metadata": {},
     "output_type": "execute_result"
    }
   ],
   "source": [
    "spec.kl_div(norm.pdf(1),norm.pdf(2))"
   ]
  },
  {
   "cell_type": "code",
   "execution_count": 27,
   "id": "78ec4210-f77d-46fe-8cc7-bcdd066e0d52",
   "metadata": {},
   "outputs": [],
   "source": [
    "whdata = pd.read_csv('weight-height.csv')"
   ]
  },
  {
   "cell_type": "code",
   "execution_count": 28,
   "id": "8db6ae01-96a9-42cf-bda2-d7934440866b",
   "metadata": {},
   "outputs": [
    {
     "data": {
      "text/html": [
       "<div>\n",
       "<style scoped>\n",
       "    .dataframe tbody tr th:only-of-type {\n",
       "        vertical-align: middle;\n",
       "    }\n",
       "\n",
       "    .dataframe tbody tr th {\n",
       "        vertical-align: top;\n",
       "    }\n",
       "\n",
       "    .dataframe thead th {\n",
       "        text-align: right;\n",
       "    }\n",
       "</style>\n",
       "<table border=\"1\" class=\"dataframe\">\n",
       "  <thead>\n",
       "    <tr style=\"text-align: right;\">\n",
       "      <th></th>\n",
       "      <th>Gender</th>\n",
       "      <th>Height</th>\n",
       "      <th>Weight</th>\n",
       "    </tr>\n",
       "  </thead>\n",
       "  <tbody>\n",
       "    <tr>\n",
       "      <th>0</th>\n",
       "      <td>Male</td>\n",
       "      <td>73.847017</td>\n",
       "      <td>241.893563</td>\n",
       "    </tr>\n",
       "    <tr>\n",
       "      <th>1</th>\n",
       "      <td>Male</td>\n",
       "      <td>68.781904</td>\n",
       "      <td>162.310473</td>\n",
       "    </tr>\n",
       "    <tr>\n",
       "      <th>2</th>\n",
       "      <td>Male</td>\n",
       "      <td>74.110105</td>\n",
       "      <td>212.740856</td>\n",
       "    </tr>\n",
       "    <tr>\n",
       "      <th>3</th>\n",
       "      <td>Male</td>\n",
       "      <td>71.730978</td>\n",
       "      <td>220.042470</td>\n",
       "    </tr>\n",
       "    <tr>\n",
       "      <th>4</th>\n",
       "      <td>Male</td>\n",
       "      <td>69.881796</td>\n",
       "      <td>206.349801</td>\n",
       "    </tr>\n",
       "  </tbody>\n",
       "</table>\n",
       "</div>"
      ],
      "text/plain": [
       "  Gender     Height      Weight\n",
       "0   Male  73.847017  241.893563\n",
       "1   Male  68.781904  162.310473\n",
       "2   Male  74.110105  212.740856\n",
       "3   Male  71.730978  220.042470\n",
       "4   Male  69.881796  206.349801"
      ]
     },
     "execution_count": 28,
     "metadata": {},
     "output_type": "execute_result"
    }
   ],
   "source": [
    "whdata.head()"
   ]
  },
  {
   "cell_type": "code",
   "execution_count": 29,
   "id": "b9e67eb6-37b3-43d3-892c-6bc564b7e273",
   "metadata": {},
   "outputs": [
    {
     "data": {
      "text/plain": [
       "2259.295463471085"
      ]
     },
     "execution_count": 29,
     "metadata": {},
     "output_type": "execute_result"
    },
    {
     "data": {
      "image/png": "[encoded data removed]",
      "text/plain": [
       "<Figure size 640x480 with 2 Axes>"
      ]
     },
     "metadata": {},
     "output_type": "display_data"
    }
   ],
   "source": [
    "heights = whdata['Height']\n",
    "mean = np.mean(heights)\n",
    "std = np.std(heights)\n",
    "\n",
    "ideal = stats.norm(mean,std)\n",
    "ideal_sample = ideal.rvs(size=len(whdata));\n",
    "\n",
    "import matplotlib.pyplot as plt\n",
    "sns.kdeplot(data=heights, color=\"g\")\n",
    "ax2 = plt.twinx()\n",
    "sns.kdeplot(data=ideal_sample, color=\"b\")\n",
    "\n",
    "np.sum(spec.kl_div(ideal_sample,heights))\n",
    "\n"
   ]
  },
  {
   "cell_type": "code",
   "execution_count": null,
   "id": "f7b0150a-5c0a-4b56-a4a2-16fb5b6ae354",
   "metadata": {},
   "outputs": [],
   "source": []
  },
  {
   "cell_type": "code",
   "execution_count": 30,
   "id": "f284c974-4b97-4cdd-984e-f4bb84c05a3c",
   "metadata": {},
   "outputs": [
    {
     "data": {
      "text/plain": [
       "0.029169832550121903"
      ]
     },
     "execution_count": 30,
     "metadata": {},
     "output_type": "execute_result"
    }
   ],
   "source": [
    "spatial.distance.jensenshannon(ideal_sample,heights)"
   ]
  },
  {
   "cell_type": "code",
   "execution_count": 45,
   "id": "2224b48b-43ed-4a83-a91a-295941dbd37c",
   "metadata": {},
   "outputs": [],
   "source": [
    "ks_stats, p_value = stats.ks_2samp(ideal_sample, heights)"
   ]
  },
  {
   "cell_type": "code",
   "execution_count": 46,
   "id": "f8950db8-2387-4a90-a993-ca3c1928e883",
   "metadata": {},
   "outputs": [
    {
     "data": {
      "text/plain": [
       "0.0226"
      ]
     },
     "execution_count": 46,
     "metadata": {},
     "output_type": "execute_result"
    }
   ],
   "source": [
    "ks_stats"
   ]
  },
  {
   "cell_type": "code",
   "execution_count": 44,
   "id": "f2c2caf8-8be4-4db0-9605-c32f4450187f",
   "metadata": {},
   "outputs": [
    {
     "data": {
      "text/plain": [
       "0.01209899987480774"
      ]
     },
     "execution_count": 44,
     "metadata": {},
     "output_type": "execute_result"
    }
   ],
   "source": [
    "p_value\n"
   ]
  },
  {
   "cell_type": "code",
   "execution_count": 47,
   "id": "83509e94-c6d2-4ec8-9f7b-6be0abc03547",
   "metadata": {},
   "outputs": [
    {
     "data": {
      "text/plain": [
       "<Figure size 1200x600 with 0 Axes>"
      ]
     },
     "execution_count": 47,
     "metadata": {},
     "output_type": "execute_result"
    },
    {
     "data": {
      "text/plain": [
       "<Figure size 1200x600 with 0 Axes>"
      ]
     },
     "metadata": {},
     "output_type": "display_data"
    }
   ],
   "source": [
    "plt.figure(figsize=(12, 6))"
   ]
  },
  {
   "cell_type": "code",
   "execution_count": 53,
   "id": "6b3dda34-70f3-4efb-b2ef-10dfbd63f31f",
   "metadata": {},
   "outputs": [
    {
     "data": {
      "text/plain": [
       "<Axes: xlabel='Height', ylabel='Density'>"
      ]
     },
     "execution_count": 53,
     "metadata": {},
     "output_type": "execute_result"
    },
    {
     "data": {
      "image/png": "[encoded data removed]",
      "text/plain": [
       "<Figure size 640x480 with 1 Axes>"
      ]
     },
     "metadata": {},
     "output_type": "display_data"
    }
   ],
   "source": [
    "sns.kdeplot(ideal_sample, label='Ideal Sample', color='blue', fill=True, alpha=0.3)\n",
    "sns.kdeplot(heights, label='Heights', color='red', fill=True, alpha=0.3)"
   ]
  },
  {
   "cell_type": "code",
   "execution_count": 49,
   "id": "e42b36fd-ffd2-4ab9-9895-0e252494f6b0",
   "metadata": {},
   "outputs": [
    {
     "data": {
      "text/plain": [
       "<Axes: xlabel='Height', ylabel='Proportion'>"
      ]
     },
     "execution_count": 49,
     "metadata": {},
     "output_type": "execute_result"
    },
    {
     "data": {
      "image/png": "[encoded data removed]",
      "text/plain": [
       "<Figure size 640x480 with 1 Axes>"
      ]
     },
     "metadata": {},
     "output_type": "display_data"
    }
   ],
   "source": [
    "# Plot the empirical distribution functions (ECDFs)\n",
    "sns.ecdfplot(ideal_sample, label='ECDF of Ideal Sample', color='blue', linestyle='--')\n",
    "sns.ecdfplot(heights, label='ECDF of Heights', color='red', linestyle='--')\n",
    "\n"
   ]
  },
  {
   "cell_type": "code",
   "execution_count": null,
   "id": "e1359b4e-eb98-40fa-be89-bb022bc6cc08",
   "metadata": {},
   "outputs": [],
   "source": []
  },
  {
   "cell_type": "code",
   "execution_count": null,
   "id": "ac4da0b1-4359-40c5-8807-d507bf755e41",
   "metadata": {},
   "outputs": [],
   "source": []
  }
 ],
 "metadata": {
  "kernelspec": {
   "display_name": "Python 3 (ipykernel)",
   "language": "python",
   "name": "python3"
  },
  "language_info": {
   "codemirror_mode": {
    "name": "ipython",
    "version": 3
   },
   "file_extension": ".py",
   "mimetype": "text/x-python",
   "name": "python",
   "nbconvert_exporter": "python",
   "pygments_lexer": "ipython3",
   "version": "3.12.4"
  }
 },
 "nbformat": 4,
 "nbformat_minor": 5
}
