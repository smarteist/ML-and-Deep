{
 "cells": [
  {
   "cell_type": "code",
   "execution_count": 1,
   "id": "4796bdc6-88ee-4640-94dd-ed7e2f9afb6b",
   "metadata": {},
   "outputs": [],
   "source": [
    "import numpy as np\n",
    "from scipy import stats"
   ]
  },
  {
   "cell_type": "code",
   "execution_count": 2,
   "id": "ca69cfa3-41c5-42d9-8b18-300bea758c35",
   "metadata": {},
   "outputs": [],
   "source": [
    "# Simulate random data for A/B test\n",
    "np.random.seed(42)  # For reproducibility"
   ]
  },
  {
   "cell_type": "code",
   "execution_count": 3,
   "id": "16f8436f-d2ab-4e66-9866-c3142306945b",
   "metadata": {},
   "outputs": [],
   "source": [
    "# Assuming 1000 users in each group with binary outcomes (0 or 1)\n",
    "n_A = 1000\n",
    "n_B = 1000"
   ]
  },
  {
   "cell_type": "code",
   "execution_count": 4,
   "id": "3a8c2c44-53da-4e02-8499-ff51c9310e82",
   "metadata": {},
   "outputs": [],
   "source": [
    "# Randomly generating conversion rates for group A and group B\n",
    "# Group A: mean conversion rate of 10%\n",
    "# Group B: mean conversion rate of 13%\n",
    "x_A = np.random.binomial(1, 0.10, n_A)\n",
    "x_B = np.random.binomial(1, 0.13, n_B)"
   ]
  },
  {
   "cell_type": "code",
   "execution_count": 5,
   "id": "738bcba5-0b63-491d-b274-df386a4c0270",
   "metadata": {},
   "outputs": [
    {
     "data": {
      "text/plain": [
       "(1000,)"
      ]
     },
     "execution_count": 5,
     "metadata": {},
     "output_type": "execute_result"
    }
   ],
   "source": [
    "x_A.shape"
   ]
  },
  {
   "cell_type": "markdown",
   "id": "395522da-87e4-4294-86e5-6ca84df36fa4",
   "metadata": {},
   "source": [
    "### Conversion Rates\n",
    "For group A:\n",
    "$$\n",
    "\\hat{p}_a = \\frac{X_a}{n_a}\n",
    "$$\n",
    "\n",
    "For group B:\n",
    "$$\n",
    "\\hat{p}_b = \\frac{X_b}{n_b}\n",
    "$$"
   ]
  },
  {
   "cell_type": "code",
   "execution_count": 6,
   "id": "3bcd095f-51e6-429f-86b7-041cbb227dde",
   "metadata": {},
   "outputs": [],
   "source": [
    "# Calculate conversion rates\n",
    "p_A = np.count_nonzero(x_A == 1) / n_A\n",
    "p_B = np.count_nonzero(x_B == 1) / n_B"
   ]
  },
  {
   "cell_type": "code",
   "execution_count": 7,
   "id": "1c5fe331-79df-4338-94eb-72c9044acf22",
   "metadata": {},
   "outputs": [
    {
     "data": {
      "text/plain": [
       "0.1"
      ]
     },
     "execution_count": 7,
     "metadata": {},
     "output_type": "execute_result"
    }
   ],
   "source": [
    "p_A"
   ]
  },
  {
   "cell_type": "code",
   "execution_count": 8,
   "id": "c33dd8f2-8489-4280-a7d4-0a6db0cb2b3a",
   "metadata": {},
   "outputs": [
    {
     "data": {
      "text/plain": [
       "0.131"
      ]
     },
     "execution_count": 8,
     "metadata": {},
     "output_type": "execute_result"
    }
   ],
   "source": [
    "p_B"
   ]
  },
  {
   "cell_type": "markdown",
   "id": "cc3628f2-a152-4f45-b147-49abc9efe830",
   "metadata": {},
   "source": [
    "### Pooled Probability\n",
    "\n",
    "$$\n",
    "\\hat{p} = \\frac{n_a \\cdot \\hat{p}_a + n_b \\cdot \\hat{p}_b}{n_a + n_b}\n",
    "$$"
   ]
  },
  {
   "cell_type": "code",
   "execution_count": 9,
   "id": "cb01469a-3f35-437a-a579-3d06d46563d1",
   "metadata": {},
   "outputs": [],
   "source": [
    "p = ((n_A * p_A) + (n_B * p_B)) / (n_A + n_B)"
   ]
  },
  {
   "cell_type": "code",
   "execution_count": 10,
   "id": "6551bf72-3790-4e10-ade9-c242d9c0f57d",
   "metadata": {},
   "outputs": [
    {
     "data": {
      "text/plain": [
       "0.1155"
      ]
     },
     "execution_count": 10,
     "metadata": {},
     "output_type": "execute_result"
    }
   ],
   "source": [
    "p"
   ]
  },
  {
   "cell_type": "markdown",
   "id": "46160167-b1bb-4741-895f-c206480e49ea",
   "metadata": {},
   "source": [
    "$$\n",
    "\\text{Standard Error} = \\sqrt{\\hat{p} \\cdot (1 - \\hat{p}) \\cdot \\left(\\frac{1}{n_a} + \\frac{1}{n_b}\\right)}\n",
    "$$"
   ]
  },
  {
   "cell_type": "code",
   "execution_count": 11,
   "id": "861cb805-70cd-4965-b3f9-c4d82dbe79c4",
   "metadata": {},
   "outputs": [],
   "source": [
    "# Calculate Standard Error (SE)\n",
    "SE = np.sqrt(\n",
    "    p * (1-p) * (1/n_A + 1/n_B)\n",
    ")"
   ]
  },
  {
   "cell_type": "code",
   "execution_count": 12,
   "id": "265cfe0e-66c2-4d5d-9cf1-5b628a89704e",
   "metadata": {},
   "outputs": [
    {
     "data": {
      "text/plain": [
       "np.float64(0.014294037218364865)"
      ]
     },
     "execution_count": 12,
     "metadata": {},
     "output_type": "execute_result"
    }
   ],
   "source": [
    "SE"
   ]
  },
  {
   "cell_type": "markdown",
   "id": "6116a90d-ac17-42d8-9756-a94bcb55be5e",
   "metadata": {},
   "source": [
    "### Z-Score\n",
    "\n",
    "$$ z = \\frac{\\hat{p}_a - \\hat{p}_b}{SE} $$"
   ]
  },
  {
   "cell_type": "code",
   "execution_count": 13,
   "id": "322747c5-bb6b-4ab2-b6be-a8419ac5aafc",
   "metadata": {},
   "outputs": [],
   "source": [
    "# Calculate Z-score\n",
    "z_score = (p_A - p_B) / SE"
   ]
  },
  {
   "cell_type": "code",
   "execution_count": 14,
   "id": "f9228a9b-f345-44af-be37-5b9d3b080e00",
   "metadata": {},
   "outputs": [
    {
     "data": {
      "text/plain": [
       "np.float64(-2.1687364826622564)"
      ]
     },
     "execution_count": 14,
     "metadata": {},
     "output_type": "execute_result"
    }
   ],
   "source": [
    "z_score"
   ]
  },
  {
   "cell_type": "markdown",
   "id": "1de9206b-2e8d-42b3-8c8c-bbc48d504cf8",
   "metadata": {},
   "source": [
    "### P-Value\n",
    "\n",
    "For a **one-tailed test**:\n",
    "$$ p = (1 - \\Phi(|z|)) $$\n",
    "\n",
    "For a **two-tailed test**:\n",
    "$$ p = 2 \\times (1 - \\Phi(|z|)) $$"
   ]
  },
  {
   "cell_type": "code",
   "execution_count": 15,
   "id": "2a20e358-efdf-4382-8ee2-e119d818a61f",
   "metadata": {},
   "outputs": [],
   "source": [
    "# Calculate p-value from Z-score (two-tailed test)\n",
    "p_value = 2 * (1 - stats.norm.cdf(abs(z_score)))"
   ]
  },
  {
   "cell_type": "code",
   "execution_count": 16,
   "id": "a7be31b8-27d9-4dac-a991-8a4432f1ba61",
   "metadata": {},
   "outputs": [
    {
     "data": {
      "text/plain": [
       "np.float64(0.030102695927324508)"
      ]
     },
     "execution_count": 16,
     "metadata": {},
     "output_type": "execute_result"
    }
   ],
   "source": [
    "p_value"
   ]
  },
  {
   "cell_type": "code",
   "execution_count": 17,
   "id": "3c09ac29-62e7-43b3-98ca-ebdec31e756b",
   "metadata": {},
   "outputs": [
    {
     "name": "stdout",
     "output_type": "stream",
     "text": [
      "Conversion Rate A: 0.1000\n",
      "Conversion Rate B: 0.1310\n",
      "Standard Error (SE): 0.0143\n",
      "Z-score: -2.1687\n",
      "P-value: 0.0301\n"
     ]
    }
   ],
   "source": [
    "# Output the results\n",
    "print(f\"Conversion Rate A: {p_A:.4f}\")\n",
    "print(f\"Conversion Rate B: {p_B:.4f}\")\n",
    "print(f\"Standard Error (SE): {SE:.4f}\")\n",
    "print(f\"Z-score: {z_score:.4f}\")\n",
    "print(f\"P-value: {p_value:.4f}\")"
   ]
  },
  {
   "cell_type": "code",
   "execution_count": 18,
   "id": "9dc947e2-7337-44f3-8fd6-e714906db149",
   "metadata": {},
   "outputs": [
    {
     "name": "stdout",
     "output_type": "stream",
     "text": [
      "Reject the null hypothesis. The difference is statistically significant.\n"
     ]
    }
   ],
   "source": [
    "# Interpretation\n",
    "alpha = 0.05\n",
    "if p_value < alpha:\n",
    "    print(\"Reject the null hypothesis. The difference is statistically significant.\")\n",
    "else:\n",
    "    print(\"Fail to reject the null hypothesis. The difference is not statistically significant.\")"
   ]
  },
  {
   "cell_type": "code",
   "execution_count": 19,
   "id": "1c7ec459-4241-4c53-bf51-5bda65937fcf",
   "metadata": {},
   "outputs": [
    {
     "name": "stdout",
     "output_type": "stream",
     "text": [
      "Z-score: -2.1702\n",
      "P-value: 0.0301\n"
     ]
    }
   ],
   "source": [
    "# Do the same thing via scipy library\n",
    "t_stat, p_value = stats.ttest_ind(x_A, x_B)\n",
    "print(f\"Z-score: {t_stat:.4f}\")\n",
    "print(f\"P-value: {p_value:.4f}\")"
   ]
  },
  {
   "cell_type": "code",
   "execution_count": null,
   "id": "1701271a-8d16-4421-9f24-87a80976cb96",
   "metadata": {},
   "outputs": [],
   "source": []
  }
 ],
 "metadata": {
  "kernelspec": {
   "display_name": "Python 3 (ipykernel)",
   "language": "python",
   "name": "python3"
  },
  "language_info": {
   "codemirror_mode": {
    "name": "ipython",
    "version": 3
   },
   "file_extension": ".py",
   "mimetype": "text/x-python",
   "name": "python",
   "nbconvert_exporter": "python",
   "pygments_lexer": "ipython3",
   "version": "3.12.6"
  }
 },
 "nbformat": 4,
 "nbformat_minor": 5
}
