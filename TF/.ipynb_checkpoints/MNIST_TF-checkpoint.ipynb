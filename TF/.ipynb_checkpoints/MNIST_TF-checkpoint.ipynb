{
 "cells": [
  {
   "cell_type": "code",
   "execution_count": 103,
   "id": "f646c9b6-b2de-4e72-900b-3edea2fb3c1c",
   "metadata": {},
   "outputs": [],
   "source": [
    "import tensorflow as tf\n",
    "from numpy import argmax\n",
    "import tensorflow_datasets"
   ]
  },
  {
   "cell_type": "code",
   "execution_count": 104,
   "id": "57dfbdfc-5853-48e2-ade2-0b34d9a65874",
   "metadata": {},
   "outputs": [],
   "source": [
    "# Load the MNIST dataset and split it into train and test sets\n",
    "(train, test), info = tensorflow_datasets.load('mnist', split=['train', 'test'], as_supervised=True, with_info=True)"
   ]
  },
  {
   "cell_type": "code",
   "execution_count": 105,
   "id": "7648eed8-af3a-4f68-ad55-2a0dfc792df4",
   "metadata": {},
   "outputs": [
    {
     "data": {
      "text/plain": [
       "<_PrefetchDataset element_spec=(TensorSpec(shape=(28, 28, 1), dtype=tf.uint8, name=None), TensorSpec(shape=(), dtype=tf.int64, name=None))>"
      ]
     },
     "execution_count": 105,
     "metadata": {},
     "output_type": "execute_result"
    }
   ],
   "source": [
    "train"
   ]
  },
  {
   "cell_type": "code",
   "execution_count": 106,
   "id": "b16aefb4-944d-4afd-a965-3278d747873d",
   "metadata": {},
   "outputs": [],
   "source": [
    "# Max Normalize the pixel values in the train set\n",
    "train = train.map(lambda image, label: (tf.cast(image, tf.float32) / 256, label))"
   ]
  },
  {
   "cell_type": "code",
   "execution_count": 107,
   "id": "a8aceb81-50d1-4e96-acba-636a306c5e43",
   "metadata": {},
   "outputs": [],
   "source": [
    "# Normalize the pixel values in the test set\n",
    "test = test.map(lambda image, label: (tf.cast(image, tf.float32) / 256, label))"
   ]
  },
  {
   "cell_type": "code",
   "execution_count": 108,
   "id": "7e9ae65f-b9c7-4a36-8396-2ea3e3a09934",
   "metadata": {},
   "outputs": [],
   "source": [
    "# Shuffle the train dataset\n",
    "#train = train.shuffle(info.splits['train'].num_examples)"
   ]
  },
  {
   "cell_type": "code",
   "execution_count": 109,
   "id": "d3269631-b00b-48f1-8e3b-a4c46d8975c0",
   "metadata": {},
   "outputs": [],
   "source": [
    "# Cache the train dataset for better performance\n",
    "train = train.cache()"
   ]
  },
  {
   "cell_type": "code",
   "execution_count": 110,
   "id": "6df3c21d-1c74-4e48-9929-c5b0d9ee4516",
   "metadata": {},
   "outputs": [],
   "source": [
    "# Batch the train dataset\n",
    "train = train.batch(256)"
   ]
  },
  {
   "cell_type": "code",
   "execution_count": 111,
   "id": "32b8d045-4eba-4b76-8c73-770fed20ed07",
   "metadata": {},
   "outputs": [],
   "source": [
    "# Cache the test dataset for better performance\n",
    "test = test.cache()"
   ]
  },
  {
   "cell_type": "code",
   "execution_count": 112,
   "id": "3e953e6c-5dc0-4a34-b5d7-fec9dce8bece",
   "metadata": {},
   "outputs": [],
   "source": [
    "# Batch the test dataset\n",
    "test = test.batch(256)"
   ]
  },
  {
   "cell_type": "code",
   "execution_count": 113,
   "id": "12e62ef3-0076-47fd-a8a9-77b2afd8bd9e",
   "metadata": {},
   "outputs": [],
   "source": [
    "# Prefetch the train dataset to overlap data preprocessing and model execution\n",
    "train = train.prefetch(tf.data.experimental.AUTOTUNE)"
   ]
  },
  {
   "cell_type": "code",
   "execution_count": 114,
   "id": "1ae63f99-0d26-4953-a167-6e5b28d8c4af",
   "metadata": {},
   "outputs": [],
   "source": [
    "# Prefetch the test dataset\n",
    "test = test.prefetch(tf.data.experimental.AUTOTUNE)"
   ]
  },
  {
   "cell_type": "code",
   "execution_count": 115,
   "id": "a51e8a0f-018c-43d5-939b-f8523d4c5c22",
   "metadata": {},
   "outputs": [],
   "source": [
    "# Define the model architecture\n",
    "model = tf.keras.models.Sequential([\n",
    "    tf.keras.layers.Flatten(input_shape=(28, 28)),\n",
    "    tf.keras.layers.Dense(100, activation='relu'),\n",
    "    tf.keras.layers.Dense(10, activation='softmax')\n",
    "])"
   ]
  },
  {
   "cell_type": "code",
   "execution_count": 116,
   "id": "12782b14-d60e-414f-b760-2256cc921e55",
   "metadata": {},
   "outputs": [],
   "source": [
    "# Compile the model with optimizer, loss function, and metrics\n",
    "model.compile(\n",
    "    optimizer=tf.keras.optimizers.Adam(0.001),\n",
    "    loss=tf.keras.losses.SparseCategoricalCrossentropy(from_logits=True),\n",
    "    metrics=[tf.keras.metrics.SparseCategoricalAccuracy()]\n",
    ")"
   ]
  },
  {
   "cell_type": "code",
   "execution_count": 117,
   "id": "80366b0a-11c1-4ad4-b810-fe6d2f43fa8e",
   "metadata": {},
   "outputs": [
    {
     "name": "stdout",
     "output_type": "stream",
     "text": [
      "Epoch 1/10\n",
      "235/235 [==============================] - 4s 15ms/step - loss: 0.4700 - sparse_categorical_accuracy: 0.8731 - val_loss: 0.2507 - val_sparse_categorical_accuracy: 0.9296\n",
      "Epoch 2/10\n",
      "235/235 [==============================] - 1s 3ms/step - loss: 0.2233 - sparse_categorical_accuracy: 0.9376 - val_loss: 0.1888 - val_sparse_categorical_accuracy: 0.9453\n",
      "Epoch 3/10\n",
      "235/235 [==============================] - 1s 3ms/step - loss: 0.1707 - sparse_categorical_accuracy: 0.9521 - val_loss: 0.1551 - val_sparse_categorical_accuracy: 0.9548\n",
      "Epoch 4/10\n",
      "235/235 [==============================] - 1s 3ms/step - loss: 0.1391 - sparse_categorical_accuracy: 0.9606 - val_loss: 0.1340 - val_sparse_categorical_accuracy: 0.9601\n",
      "Epoch 5/10\n",
      "235/235 [==============================] - 1s 3ms/step - loss: 0.1170 - sparse_categorical_accuracy: 0.9671 - val_loss: 0.1200 - val_sparse_categorical_accuracy: 0.9636\n",
      "Epoch 6/10\n",
      "235/235 [==============================] - 1s 3ms/step - loss: 0.1003 - sparse_categorical_accuracy: 0.9724 - val_loss: 0.1091 - val_sparse_categorical_accuracy: 0.9672\n",
      "Epoch 7/10\n",
      "235/235 [==============================] - 1s 3ms/step - loss: 0.0872 - sparse_categorical_accuracy: 0.9759 - val_loss: 0.1020 - val_sparse_categorical_accuracy: 0.9692\n",
      "Epoch 8/10\n",
      "235/235 [==============================] - 1s 3ms/step - loss: 0.0767 - sparse_categorical_accuracy: 0.9788 - val_loss: 0.0963 - val_sparse_categorical_accuracy: 0.9717\n",
      "Epoch 9/10\n",
      "235/235 [==============================] - 1s 3ms/step - loss: 0.0680 - sparse_categorical_accuracy: 0.9815 - val_loss: 0.0924 - val_sparse_categorical_accuracy: 0.9727\n",
      "Epoch 10/10\n",
      "235/235 [==============================] - 1s 3ms/step - loss: 0.0605 - sparse_categorical_accuracy: 0.9836 - val_loss: 0.0895 - val_sparse_categorical_accuracy: 0.9727\n"
     ]
    },
    {
     "data": {
      "text/plain": [
       "<keras.src.callbacks.History at 0x7fb5b85b7610>"
      ]
     },
     "execution_count": 117,
     "metadata": {},
     "output_type": "execute_result"
    }
   ],
   "source": [
    "# Train the model on the train dataset\n",
    "model.fit(train, epochs=10, validation_data=test)"
   ]
  },
  {
   "cell_type": "code",
   "execution_count": 98,
   "id": "aa568914-94fc-4012-b590-c104026975b7",
   "metadata": {},
   "outputs": [
    {
     "name": "stdout",
     "output_type": "stream",
     "text": [
      "40/40 [==============================] - 0s 2ms/step\n",
      "Prediction: 2\n"
     ]
    }
   ],
   "source": [
    "# Make predictions on the test dataset and get the argmax of the first prediction\n",
    "prediction = argmax(model.predict(test)[0])\n",
    "print(\"Prediction:\", prediction)"
   ]
  },
  {
   "cell_type": "code",
   "execution_count": 100,
   "id": "04315596-29b8-43ae-b9cc-80fb2210d570",
   "metadata": {},
   "outputs": [
    {
     "name": "stdout",
     "output_type": "stream",
     "text": [
      "40/40 [==============================] - 0s 2ms/step\n",
      "Prediction: 4\n"
     ]
    }
   ],
   "source": [
    "# Make predictions on the test dataset and get the argmax of the first prediction\n",
    "prediction = argmax(model.predict(test)[2])\n",
    "print(\"Prediction:\", prediction)"
   ]
  },
  {
   "cell_type": "code",
   "execution_count": null,
   "id": "b551dc89-1e2e-474c-b24e-626e990c4bc5",
   "metadata": {},
   "outputs": [],
   "source": []
  },
  {
   "cell_type": "code",
   "execution_count": null,
   "id": "3064085f-20a0-4abc-9d2f-c0108b6d2adf",
   "metadata": {},
   "outputs": [],
   "source": []
  }
 ],
 "metadata": {
  "kernelspec": {
   "display_name": "condakernel",
   "language": "python",
   "name": "condakernel"
  },
  "language_info": {
   "codemirror_mode": {
    "name": "ipython",
    "version": 3
   },
   "file_extension": ".py",
   "mimetype": "text/x-python",
   "name": "python",
   "nbconvert_exporter": "python",
   "pygments_lexer": "ipython3",
   "version": "3.11.4"
  }
 },
 "nbformat": 4,
 "nbformat_minor": 5
}
