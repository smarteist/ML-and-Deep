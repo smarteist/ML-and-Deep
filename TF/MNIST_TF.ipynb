{
 "cells": [
  {
   "cell_type": "code",
   "execution_count": 181,
   "id": "f646c9b6-b2de-4e72-900b-3edea2fb3c1c",
   "metadata": {},
   "outputs": [],
   "source": [
    "import tensorflow as tf\n",
    "from numpy import argmax\n",
    "import tensorflow_datasets"
   ]
  },
  {
   "cell_type": "code",
   "execution_count": 182,
   "id": "57dfbdfc-5853-48e2-ade2-0b34d9a65874",
   "metadata": {},
   "outputs": [],
   "source": [
    "# Load the MNIST dataset and split it into train and test sets\n",
    "(train, test), info = tensorflow_datasets.load('mnist', split=['train', 'test'], as_supervised=True, with_info=True)"
   ]
  },
  {
   "cell_type": "code",
   "execution_count": 183,
   "id": "7648eed8-af3a-4f68-ad55-2a0dfc792df4",
   "metadata": {},
   "outputs": [
    {
     "data": {
      "text/plain": [
       "<_PrefetchDataset element_spec=(TensorSpec(shape=(28, 28, 1), dtype=tf.uint8, name=None), TensorSpec(shape=(), dtype=tf.int64, name=None))>"
      ]
     },
     "execution_count": 183,
     "metadata": {},
     "output_type": "execute_result"
    }
   ],
   "source": [
    "train"
   ]
  },
  {
   "cell_type": "code",
   "execution_count": 184,
   "id": "b16aefb4-944d-4afd-a965-3278d747873d",
   "metadata": {},
   "outputs": [],
   "source": [
    "# Max Normalize the pixel values in the train set\n",
    "train = train.map(lambda image, label: (tf.cast(image, tf.float32) / 256, label))"
   ]
  },
  {
   "cell_type": "code",
   "execution_count": 185,
   "id": "a8aceb81-50d1-4e96-acba-636a306c5e43",
   "metadata": {},
   "outputs": [],
   "source": [
    "# Normalize the pixel values in the test set\n",
    "test = test.map(lambda image, label: (tf.cast(image, tf.float32) / 256, label))"
   ]
  },
  {
   "cell_type": "code",
   "execution_count": 186,
   "id": "7e9ae65f-b9c7-4a36-8396-2ea3e3a09934",
   "metadata": {},
   "outputs": [],
   "source": [
    "# Shuffle the train dataset\n",
    "#train = train.shuffle(info.splits['train'].num_examples)"
   ]
  },
  {
   "cell_type": "code",
   "execution_count": 187,
   "id": "d3269631-b00b-48f1-8e3b-a4c46d8975c0",
   "metadata": {},
   "outputs": [],
   "source": [
    "# Cache the train dataset for better performance\n",
    "train = train.cache()"
   ]
  },
  {
   "cell_type": "code",
   "execution_count": 188,
   "id": "6df3c21d-1c74-4e48-9929-c5b0d9ee4516",
   "metadata": {},
   "outputs": [],
   "source": [
    "# Batch the train dataset\n",
    "train = train.batch(256)"
   ]
  },
  {
   "cell_type": "code",
   "execution_count": 189,
   "id": "32b8d045-4eba-4b76-8c73-770fed20ed07",
   "metadata": {},
   "outputs": [],
   "source": [
    "# Cache the test dataset for better performance\n",
    "test = test.cache()"
   ]
  },
  {
   "cell_type": "code",
   "execution_count": 190,
   "id": "3e953e6c-5dc0-4a34-b5d7-fec9dce8bece",
   "metadata": {},
   "outputs": [],
   "source": [
    "# Batch the test dataset\n",
    "test = test.batch(256)"
   ]
  },
  {
   "cell_type": "code",
   "execution_count": 191,
   "id": "12e62ef3-0076-47fd-a8a9-77b2afd8bd9e",
   "metadata": {},
   "outputs": [],
   "source": [
    "# Prefetch the train dataset to overlap data preprocessing and model execution\n",
    "train = train.prefetch(tf.data.experimental.AUTOTUNE)"
   ]
  },
  {
   "cell_type": "code",
   "execution_count": 192,
   "id": "1ae63f99-0d26-4953-a167-6e5b28d8c4af",
   "metadata": {},
   "outputs": [],
   "source": [
    "# Prefetch the test dataset\n",
    "test = test.prefetch(tf.data.experimental.AUTOTUNE)"
   ]
  },
  {
   "cell_type": "code",
   "execution_count": 193,
   "id": "a51e8a0f-018c-43d5-939b-f8523d4c5c22",
   "metadata": {},
   "outputs": [],
   "source": [
    "# Define the model architecture\n",
    "model = tf.keras.models.Sequential([\n",
    "    tf.keras.layers.Flatten(input_shape=(28, 28)),\n",
    "    tf.keras.layers.Dense(100, activation='relu'),\n",
    "    tf.keras.layers.Dense(10, activation='softmax')\n",
    "])"
   ]
  },
  {
   "cell_type": "code",
   "execution_count": 194,
   "id": "12782b14-d60e-414f-b760-2256cc921e55",
   "metadata": {},
   "outputs": [],
   "source": [
    "# Compile the model with optimizer, loss function, and metrics\n",
    "model.compile(\n",
    "    optimizer=tf.keras.optimizers.Adam(0.001),\n",
    "    loss=tf.keras.losses.SparseCategoricalCrossentropy(from_logits=True),\n",
    "    metrics=[tf.keras.metrics.SparseCategoricalAccuracy()]\n",
    ")"
   ]
  },
  {
   "cell_type": "code",
   "execution_count": 195,
   "id": "80366b0a-11c1-4ad4-b810-fe6d2f43fa8e",
   "metadata": {},
   "outputs": [
    {
     "name": "stdout",
     "output_type": "stream",
     "text": [
      "Epoch 1/50\n"
     ]
    },
    {
     "name": "stderr",
     "output_type": "stream",
     "text": [
      "/home/ali/anaconda3/lib/python3.11/site-packages/keras/src/backend.py:5714: UserWarning: \"`sparse_categorical_crossentropy` received `from_logits=True`, but the `output` argument was produced by a Softmax activation and thus does not represent logits. Was this intended?\n",
      "  output, from_logits = _get_logits(\n"
     ]
    },
    {
     "name": "stdout",
     "output_type": "stream",
     "text": [
      "235/235 [==============================] - 4s 16ms/step - loss: 0.4766 - sparse_categorical_accuracy: 0.8717 - val_loss: 0.2505 - val_sparse_categorical_accuracy: 0.9290\n",
      "Epoch 2/50\n",
      "235/235 [==============================] - 1s 3ms/step - loss: 0.2224 - sparse_categorical_accuracy: 0.9377 - val_loss: 0.1903 - val_sparse_categorical_accuracy: 0.9453\n",
      "Epoch 3/50\n",
      "235/235 [==============================] - 1s 3ms/step - loss: 0.1702 - sparse_categorical_accuracy: 0.9520 - val_loss: 0.1559 - val_sparse_categorical_accuracy: 0.9541\n",
      "Epoch 4/50\n",
      "235/235 [==============================] - 1s 3ms/step - loss: 0.1376 - sparse_categorical_accuracy: 0.9611 - val_loss: 0.1345 - val_sparse_categorical_accuracy: 0.9608\n",
      "Epoch 5/50\n",
      "235/235 [==============================] - 1s 3ms/step - loss: 0.1153 - sparse_categorical_accuracy: 0.9677 - val_loss: 0.1198 - val_sparse_categorical_accuracy: 0.9633\n",
      "Epoch 6/50\n",
      "235/235 [==============================] - 1s 3ms/step - loss: 0.0988 - sparse_categorical_accuracy: 0.9725 - val_loss: 0.1091 - val_sparse_categorical_accuracy: 0.9680\n",
      "Epoch 7/50\n",
      "235/235 [==============================] - 1s 3ms/step - loss: 0.0860 - sparse_categorical_accuracy: 0.9759 - val_loss: 0.1019 - val_sparse_categorical_accuracy: 0.9693\n",
      "Epoch 8/50\n",
      "235/235 [==============================] - 1s 3ms/step - loss: 0.0756 - sparse_categorical_accuracy: 0.9789 - val_loss: 0.0964 - val_sparse_categorical_accuracy: 0.9699\n",
      "Epoch 9/50\n",
      "235/235 [==============================] - 1s 3ms/step - loss: 0.0669 - sparse_categorical_accuracy: 0.9814 - val_loss: 0.0924 - val_sparse_categorical_accuracy: 0.9708\n",
      "Epoch 10/50\n",
      "235/235 [==============================] - 1s 3ms/step - loss: 0.0596 - sparse_categorical_accuracy: 0.9834 - val_loss: 0.0895 - val_sparse_categorical_accuracy: 0.9718\n",
      "Epoch 11/50\n",
      "235/235 [==============================] - 1s 3ms/step - loss: 0.0533 - sparse_categorical_accuracy: 0.9854 - val_loss: 0.0874 - val_sparse_categorical_accuracy: 0.9723\n",
      "Epoch 12/50\n",
      "235/235 [==============================] - 1s 3ms/step - loss: 0.0479 - sparse_categorical_accuracy: 0.9869 - val_loss: 0.0858 - val_sparse_categorical_accuracy: 0.9723\n",
      "Epoch 13/50\n",
      "235/235 [==============================] - 1s 3ms/step - loss: 0.0430 - sparse_categorical_accuracy: 0.9888 - val_loss: 0.0843 - val_sparse_categorical_accuracy: 0.9731\n",
      "Epoch 14/50\n",
      "235/235 [==============================] - 1s 3ms/step - loss: 0.0387 - sparse_categorical_accuracy: 0.9899 - val_loss: 0.0836 - val_sparse_categorical_accuracy: 0.9727\n",
      "Epoch 15/50\n",
      "235/235 [==============================] - 1s 3ms/step - loss: 0.0350 - sparse_categorical_accuracy: 0.9913 - val_loss: 0.0826 - val_sparse_categorical_accuracy: 0.9731\n",
      "Epoch 16/50\n",
      "235/235 [==============================] - 1s 3ms/step - loss: 0.0316 - sparse_categorical_accuracy: 0.9923 - val_loss: 0.0821 - val_sparse_categorical_accuracy: 0.9735\n",
      "Epoch 17/50\n",
      "235/235 [==============================] - 1s 3ms/step - loss: 0.0285 - sparse_categorical_accuracy: 0.9935 - val_loss: 0.0822 - val_sparse_categorical_accuracy: 0.9734\n",
      "Epoch 18/50\n",
      "235/235 [==============================] - 1s 3ms/step - loss: 0.0258 - sparse_categorical_accuracy: 0.9942 - val_loss: 0.0825 - val_sparse_categorical_accuracy: 0.9728\n",
      "Epoch 19/50\n",
      "235/235 [==============================] - 1s 3ms/step - loss: 0.0233 - sparse_categorical_accuracy: 0.9952 - val_loss: 0.0822 - val_sparse_categorical_accuracy: 0.9734\n",
      "Epoch 20/50\n",
      "235/235 [==============================] - 1s 3ms/step - loss: 0.0210 - sparse_categorical_accuracy: 0.9960 - val_loss: 0.0822 - val_sparse_categorical_accuracy: 0.9736\n",
      "Epoch 21/50\n",
      "235/235 [==============================] - 1s 3ms/step - loss: 0.0190 - sparse_categorical_accuracy: 0.9966 - val_loss: 0.0823 - val_sparse_categorical_accuracy: 0.9738\n",
      "Epoch 22/50\n",
      "235/235 [==============================] - 1s 3ms/step - loss: 0.0171 - sparse_categorical_accuracy: 0.9972 - val_loss: 0.0828 - val_sparse_categorical_accuracy: 0.9739\n",
      "Epoch 23/50\n",
      "235/235 [==============================] - 1s 3ms/step - loss: 0.0155 - sparse_categorical_accuracy: 0.9976 - val_loss: 0.0830 - val_sparse_categorical_accuracy: 0.9742\n",
      "Epoch 24/50\n",
      "235/235 [==============================] - 1s 3ms/step - loss: 0.0139 - sparse_categorical_accuracy: 0.9981 - val_loss: 0.0837 - val_sparse_categorical_accuracy: 0.9746\n",
      "Epoch 25/50\n",
      "235/235 [==============================] - 1s 3ms/step - loss: 0.0125 - sparse_categorical_accuracy: 0.9984 - val_loss: 0.0842 - val_sparse_categorical_accuracy: 0.9752\n",
      "Epoch 26/50\n",
      "235/235 [==============================] - 1s 3ms/step - loss: 0.0112 - sparse_categorical_accuracy: 0.9987 - val_loss: 0.0852 - val_sparse_categorical_accuracy: 0.9753\n",
      "Epoch 27/50\n",
      "235/235 [==============================] - 1s 3ms/step - loss: 0.0101 - sparse_categorical_accuracy: 0.9990 - val_loss: 0.0870 - val_sparse_categorical_accuracy: 0.9753\n",
      "Epoch 28/50\n",
      "235/235 [==============================] - 1s 3ms/step - loss: 0.0090 - sparse_categorical_accuracy: 0.9991 - val_loss: 0.0873 - val_sparse_categorical_accuracy: 0.9753\n",
      "Epoch 29/50\n",
      "235/235 [==============================] - 1s 3ms/step - loss: 0.0082 - sparse_categorical_accuracy: 0.9993 - val_loss: 0.0884 - val_sparse_categorical_accuracy: 0.9754\n",
      "Epoch 30/50\n",
      "235/235 [==============================] - 1s 3ms/step - loss: 0.0073 - sparse_categorical_accuracy: 0.9995 - val_loss: 0.0891 - val_sparse_categorical_accuracy: 0.9756\n",
      "Epoch 31/50\n",
      "235/235 [==============================] - 1s 3ms/step - loss: 0.0066 - sparse_categorical_accuracy: 0.9996 - val_loss: 0.0896 - val_sparse_categorical_accuracy: 0.9755\n",
      "Epoch 32/50\n",
      "235/235 [==============================] - 1s 3ms/step - loss: 0.0059 - sparse_categorical_accuracy: 0.9997 - val_loss: 0.0899 - val_sparse_categorical_accuracy: 0.9762\n",
      "Epoch 33/50\n",
      "235/235 [==============================] - 1s 3ms/step - loss: 0.0053 - sparse_categorical_accuracy: 0.9997 - val_loss: 0.0907 - val_sparse_categorical_accuracy: 0.9767\n",
      "Epoch 34/50\n",
      "235/235 [==============================] - 1s 3ms/step - loss: 0.0048 - sparse_categorical_accuracy: 0.9998 - val_loss: 0.0914 - val_sparse_categorical_accuracy: 0.9769\n",
      "Epoch 35/50\n",
      "235/235 [==============================] - 1s 3ms/step - loss: 0.0043 - sparse_categorical_accuracy: 0.9998 - val_loss: 0.0915 - val_sparse_categorical_accuracy: 0.9775\n",
      "Epoch 36/50\n",
      "235/235 [==============================] - 1s 3ms/step - loss: 0.0039 - sparse_categorical_accuracy: 0.9999 - val_loss: 0.0923 - val_sparse_categorical_accuracy: 0.9777\n",
      "Epoch 37/50\n",
      "235/235 [==============================] - 1s 3ms/step - loss: 0.0035 - sparse_categorical_accuracy: 0.9999 - val_loss: 0.0932 - val_sparse_categorical_accuracy: 0.9776\n",
      "Epoch 38/50\n",
      "235/235 [==============================] - 1s 3ms/step - loss: 0.0031 - sparse_categorical_accuracy: 0.9999 - val_loss: 0.0947 - val_sparse_categorical_accuracy: 0.9772\n",
      "Epoch 39/50\n",
      "235/235 [==============================] - 1s 3ms/step - loss: 0.0027 - sparse_categorical_accuracy: 1.0000 - val_loss: 0.0965 - val_sparse_categorical_accuracy: 0.9771\n",
      "Epoch 40/50\n",
      "235/235 [==============================] - 1s 3ms/step - loss: 0.0024 - sparse_categorical_accuracy: 1.0000 - val_loss: 0.0983 - val_sparse_categorical_accuracy: 0.9770\n",
      "Epoch 41/50\n",
      "235/235 [==============================] - 1s 3ms/step - loss: 0.0021 - sparse_categorical_accuracy: 1.0000 - val_loss: 0.1000 - val_sparse_categorical_accuracy: 0.9770\n",
      "Epoch 42/50\n",
      "235/235 [==============================] - 1s 3ms/step - loss: 0.0019 - sparse_categorical_accuracy: 1.0000 - val_loss: 0.1012 - val_sparse_categorical_accuracy: 0.9770\n",
      "Epoch 43/50\n",
      "235/235 [==============================] - 1s 3ms/step - loss: 0.0018 - sparse_categorical_accuracy: 1.0000 - val_loss: 0.1034 - val_sparse_categorical_accuracy: 0.9770\n",
      "Epoch 44/50\n",
      "235/235 [==============================] - 1s 3ms/step - loss: 0.0016 - sparse_categorical_accuracy: 1.0000 - val_loss: 0.1040 - val_sparse_categorical_accuracy: 0.9778\n",
      "Epoch 45/50\n",
      "235/235 [==============================] - 1s 3ms/step - loss: 0.0053 - sparse_categorical_accuracy: 0.9987 - val_loss: 0.1288 - val_sparse_categorical_accuracy: 0.9738\n",
      "Epoch 46/50\n",
      "235/235 [==============================] - 1s 3ms/step - loss: 0.0070 - sparse_categorical_accuracy: 0.9981 - val_loss: 0.1101 - val_sparse_categorical_accuracy: 0.9757\n",
      "Epoch 47/50\n",
      "235/235 [==============================] - 1s 3ms/step - loss: 0.0025 - sparse_categorical_accuracy: 0.9997 - val_loss: 0.1111 - val_sparse_categorical_accuracy: 0.9759\n",
      "Epoch 48/50\n",
      "235/235 [==============================] - 1s 3ms/step - loss: 0.0018 - sparse_categorical_accuracy: 0.9999 - val_loss: 0.1116 - val_sparse_categorical_accuracy: 0.9759\n",
      "Epoch 49/50\n",
      "235/235 [==============================] - 1s 3ms/step - loss: 0.0014 - sparse_categorical_accuracy: 1.0000 - val_loss: 0.1088 - val_sparse_categorical_accuracy: 0.9765\n",
      "Epoch 50/50\n",
      "235/235 [==============================] - 1s 3ms/step - loss: 0.0012 - sparse_categorical_accuracy: 0.9999 - val_loss: 0.1088 - val_sparse_categorical_accuracy: 0.9770\n"
     ]
    },
    {
     "data": {
      "text/plain": [
       "<keras.src.callbacks.History at 0x7fb633e95490>"
      ]
     },
     "execution_count": 195,
     "metadata": {},
     "output_type": "execute_result"
    }
   ],
   "source": [
    "# Train the model on the train dataset\n",
    "model.fit(train, epochs=50, validation_data=test)"
   ]
  },
  {
   "cell_type": "code",
   "execution_count": 196,
   "id": "aa568914-94fc-4012-b590-c104026975b7",
   "metadata": {},
   "outputs": [
    {
     "name": "stdout",
     "output_type": "stream",
     "text": [
      "40/40 [==============================] - 0s 3ms/step\n",
      "Prediction: 3\n"
     ]
    }
   ],
   "source": [
    "# Make predictions on the test dataset and get the argmax of the first prediction\n",
    "prediction = argmax(model.predict(test)[0])\n",
    "print(\"Prediction:\", prediction + 1)"
   ]
  },
  {
   "cell_type": "code",
   "execution_count": 197,
   "id": "04315596-29b8-43ae-b9cc-80fb2210d570",
   "metadata": {},
   "outputs": [
    {
     "name": "stdout",
     "output_type": "stream",
     "text": [
      "40/40 [==============================] - 0s 3ms/step\n",
      "Prediction: 5\n"
     ]
    }
   ],
   "source": [
    "# Make predictions on the test dataset and get the argmax of the first prediction\n",
    "prediction = argmax(model.predict(test)[2]) \n",
    "print(\"Prediction:\", prediction + 1)"
   ]
  },
  {
   "cell_type": "code",
   "execution_count": 198,
   "id": "3064085f-20a0-4abc-9d2f-c0108b6d2adf",
   "metadata": {},
   "outputs": [
    {
     "name": "stdout",
     "output_type": "stream",
     "text": [
      "40/40 [==============================] - 0s 3ms/step\n",
      "0.00\n",
      "0.00\n",
      "0.00\n",
      "0.00\n",
      "1.00\n",
      "0.00\n",
      "0.00\n",
      "0.00\n",
      "0.00\n",
      "0.00\n"
     ]
    }
   ],
   "source": [
    "for i in model.predict(test)[2]:\n",
    "    print(\"%.2f\" % i)"
   ]
  },
  {
   "cell_type": "code",
   "execution_count": null,
   "id": "b53f36b9-da43-4d33-963b-f0bc2d97e4c2",
   "metadata": {},
   "outputs": [],
   "source": []
  }
 ],
 "metadata": {
  "kernelspec": {
   "display_name": "condakernel",
   "language": "python",
   "name": "condakernel"
  },
  "language_info": {
   "codemirror_mode": {
    "name": "ipython",
    "version": 3
   },
   "file_extension": ".py",
   "mimetype": "text/x-python",
   "name": "python",
   "nbconvert_exporter": "python",
   "pygments_lexer": "ipython3",
   "version": "3.11.4"
  }
 },
 "nbformat": 4,
 "nbformat_minor": 5
}
