{
 "cells": [
  {
   "cell_type": "code",
   "execution_count": 64,
   "id": "f2f83e2f-f076-461d-842b-ddeaa1fb292a",
   "metadata": {},
   "outputs": [],
   "source": [
    "from sklearn.preprocessing import LabelEncoder,OneHotEncoder,StandardScaler\n",
    "from sklearn.compose import ColumnTransformer\n",
    "from sklearn.impute import SimpleImputer\n",
    "import pandas as pd\n",
    "import numpy as np\n"
   ]
  },
  {
   "cell_type": "code",
   "execution_count": 65,
   "id": "7be9c6e8-a5a5-4afc-9e7b-bbb05d779e3d",
   "metadata": {},
   "outputs": [
    {
     "data": {
      "text/html": [
       "<div>\n",
       "<style scoped>\n",
       "    .dataframe tbody tr th:only-of-type {\n",
       "        vertical-align: middle;\n",
       "    }\n",
       "\n",
       "    .dataframe tbody tr th {\n",
       "        vertical-align: top;\n",
       "    }\n",
       "\n",
       "    .dataframe thead th {\n",
       "        text-align: right;\n",
       "    }\n",
       "</style>\n",
       "<table border=\"1\" class=\"dataframe\">\n",
       "  <thead>\n",
       "    <tr style=\"text-align: right;\">\n",
       "      <th></th>\n",
       "      <th>Campain</th>\n",
       "      <th>Sell</th>\n",
       "    </tr>\n",
       "  </thead>\n",
       "  <tbody>\n",
       "    <tr>\n",
       "      <th>0</th>\n",
       "      <td>A</td>\n",
       "      <td>12.6</td>\n",
       "    </tr>\n",
       "    <tr>\n",
       "      <th>1</th>\n",
       "      <td>A</td>\n",
       "      <td>12.0</td>\n",
       "    </tr>\n",
       "    <tr>\n",
       "      <th>2</th>\n",
       "      <td>A</td>\n",
       "      <td>11.8</td>\n",
       "    </tr>\n",
       "    <tr>\n",
       "      <th>3</th>\n",
       "      <td>A</td>\n",
       "      <td>11.9</td>\n",
       "    </tr>\n",
       "    <tr>\n",
       "      <th>4</th>\n",
       "      <td>A</td>\n",
       "      <td>13.0</td>\n",
       "    </tr>\n",
       "  </tbody>\n",
       "</table>\n",
       "</div>"
      ],
      "text/plain": [
       "  Campain  Sell\n",
       "0       A  12.6\n",
       "1       A  12.0\n",
       "2       A  11.8\n",
       "3       A  11.9\n",
       "4       A  13.0"
      ]
     },
     "execution_count": 65,
     "metadata": {},
     "output_type": "execute_result"
    }
   ],
   "source": [
    "data = pd.read_csv(\"3campain.csv\")\n",
    "data.head()"
   ]
  },
  {
   "cell_type": "code",
   "execution_count": 66,
   "id": "f6f15f7d-8f74-4126-895c-b86a00a6c2a7",
   "metadata": {},
   "outputs": [],
   "source": [
    "x = data.iloc[::,::].values"
   ]
  },
  {
   "cell_type": "code",
   "execution_count": 67,
   "id": "19443934-cfd7-4409-9856-aa308aa8a6eb",
   "metadata": {},
   "outputs": [
    {
     "data": {
      "text/plain": [
       "array([['A', 12.6],\n",
       "       ['A', 12.0],\n",
       "       ['A', 11.8],\n",
       "       ['A', 11.9],\n",
       "       ['A', 13.0],\n",
       "       ['A', 12.5],\n",
       "       ['A', 14.0],\n",
       "       ['B', 10.0],\n",
       "       ['B', 10.2],\n",
       "       ['B', 10.0],\n",
       "       ['B', 12.0],\n",
       "       ['B', 14.0],\n",
       "       ['B', 13.0],\n",
       "       ['C', 10.1],\n",
       "       ['C', 13.0],\n",
       "       ['C', 13.4],\n",
       "       ['C', 12.9],\n",
       "       ['C', 8.9],\n",
       "       ['C', 10.7],\n",
       "       ['C', 13.6],\n",
       "       ['C', 12.0]], dtype=object)"
      ]
     },
     "execution_count": 67,
     "metadata": {},
     "output_type": "execute_result"
    }
   ],
   "source": [
    "si = SimpleImputer(missing_values=np.nan, strategy='mean')\n",
    "x[::,1::] = si.fit_transform(x[::,1::])\n",
    "x"
   ]
  },
  {
   "cell_type": "code",
   "execution_count": 87,
   "id": "e248296f-6c61-4965-8f64-9c1214dff559",
   "metadata": {},
   "outputs": [
    {
     "data": {
      "text/plain": [
       "array([1, 1, 1, 1, 1, 1, 1, 0, 0, 0, 0, 0, 0, 0, 0, 0, 0, 0, 0, 0, 0])"
      ]
     },
     "execution_count": 87,
     "metadata": {},
     "output_type": "execute_result"
    }
   ],
   "source": [
    "le = LabelEncoder()\n",
    "#x[::,0] = le.fit_transform(x[::,0])\n",
    "\n",
    "le.fit_transform(x[::,0])"
   ]
  },
  {
   "cell_type": "code",
   "execution_count": 69,
   "id": "59d15830-2fbc-461e-8e11-77a90892ea06",
   "metadata": {},
   "outputs": [
    {
     "data": {
      "text/plain": [
       "array([[1.0, 0.0, 0.0, 12.6],\n",
       "       [1.0, 0.0, 0.0, 12.0],\n",
       "       [1.0, 0.0, 0.0, 11.8],\n",
       "       [1.0, 0.0, 0.0, 11.9],\n",
       "       [1.0, 0.0, 0.0, 13.0],\n",
       "       [1.0, 0.0, 0.0, 12.5],\n",
       "       [1.0, 0.0, 0.0, 14.0],\n",
       "       [0.0, 1.0, 0.0, 10.0],\n",
       "       [0.0, 1.0, 0.0, 10.2],\n",
       "       [0.0, 1.0, 0.0, 10.0],\n",
       "       [0.0, 1.0, 0.0, 12.0],\n",
       "       [0.0, 1.0, 0.0, 14.0],\n",
       "       [0.0, 1.0, 0.0, 13.0],\n",
       "       [0.0, 0.0, 1.0, 10.1],\n",
       "       [0.0, 0.0, 1.0, 13.0],\n",
       "       [0.0, 0.0, 1.0, 13.4],\n",
       "       [0.0, 0.0, 1.0, 12.9],\n",
       "       [0.0, 0.0, 1.0, 8.9],\n",
       "       [0.0, 0.0, 1.0, 10.7],\n",
       "       [0.0, 0.0, 1.0, 13.6],\n",
       "       [0.0, 0.0, 1.0, 12.0]], dtype=object)"
      ]
     },
     "execution_count": 69,
     "metadata": {},
     "output_type": "execute_result"
    }
   ],
   "source": [
    "ct = ColumnTransformer([\n",
    "    ('Campain', OneHotEncoder(), [0])\n",
    "                       ],remainder='passthrough')\n",
    "x = ct.fit_transform(x)\n",
    "x"
   ]
  },
  {
   "cell_type": "code",
   "execution_count": 70,
   "id": "5db5ee95-20d3-4e73-9ec9-6eb5cf4896e1",
   "metadata": {},
   "outputs": [
    {
     "data": {
      "text/plain": [
       "array([[ 1.41421356, -0.63245553, -0.78446454,  0.43194852],\n",
       "       [ 1.41421356, -0.63245553, -0.78446454,  0.01329072],\n",
       "       [ 1.41421356, -0.63245553, -0.78446454, -0.12626187],\n",
       "       [ 1.41421356, -0.63245553, -0.78446454, -0.05648558],\n",
       "       [ 1.41421356, -0.63245553, -0.78446454,  0.71105372],\n",
       "       [ 1.41421356, -0.63245553, -0.78446454,  0.36217222],\n",
       "       [ 1.41421356, -0.63245553, -0.78446454,  1.40881671],\n",
       "       [-0.70710678,  1.58113883, -0.78446454, -1.38223526],\n",
       "       [-0.70710678,  1.58113883, -0.78446454, -1.24268266],\n",
       "       [-0.70710678,  1.58113883, -0.78446454, -1.38223526],\n",
       "       [-0.70710678,  1.58113883, -0.78446454,  0.01329072],\n",
       "       [-0.70710678,  1.58113883, -0.78446454,  1.40881671],\n",
       "       [-0.70710678,  1.58113883, -0.78446454,  0.71105372],\n",
       "       [-0.70710678, -0.63245553,  1.27475488, -1.31245896],\n",
       "       [-0.70710678, -0.63245553,  1.27475488,  0.71105372],\n",
       "       [-0.70710678, -0.63245553,  1.27475488,  0.99015891],\n",
       "       [-0.70710678, -0.63245553,  1.27475488,  0.64127742],\n",
       "       [-0.70710678, -0.63245553,  1.27475488, -2.14977455],\n",
       "       [-0.70710678, -0.63245553,  1.27475488, -0.89380117],\n",
       "       [-0.70710678, -0.63245553,  1.27475488,  1.12971151],\n",
       "       [-0.70710678, -0.63245553,  1.27475488,  0.01329072]])"
      ]
     },
     "execution_count": 70,
     "metadata": {},
     "output_type": "execute_result"
    }
   ],
   "source": [
    "ss = StandardScaler()\n",
    "x = ss.fit_transform(x)\n",
    "x"
   ]
  },
  {
   "cell_type": "code",
   "execution_count": 91,
   "id": "fe8e2f18-a5da-4944-b636-96844bb81443",
   "metadata": {},
   "outputs": [
    {
     "data": {
      "text/plain": [
       "26"
      ]
     },
     "execution_count": 91,
     "metadata": {},
     "output_type": "execute_result"
    }
   ],
   "source": [
    "53//2\n"
   ]
  },
  {
   "cell_type": "code",
   "execution_count": 96,
   "id": "b9fb9c74-645a-4f60-9e21-5309242dfb22",
   "metadata": {},
   "outputs": [
    {
     "data": {
      "text/plain": [
       "27"
      ]
     },
     "execution_count": 96,
     "metadata": {},
     "output_type": "execute_result"
    }
   ],
   "source": [
    "-(53 // -2)"
   ]
  },
  {
   "cell_type": "code",
   "execution_count": null,
   "id": "699f29ea-3630-4362-9f23-10d99e5cdb6b",
   "metadata": {},
   "outputs": [],
   "source": []
  }
 ],
 "metadata": {
  "kernelspec": {
   "display_name": "condakernel",
   "language": "python",
   "name": "condakernel"
  },
  "language_info": {
   "codemirror_mode": {
    "name": "ipython",
    "version": 3
   },
   "file_extension": ".py",
   "mimetype": "text/x-python",
   "name": "python",
   "nbconvert_exporter": "python",
   "pygments_lexer": "ipython3",
   "version": "3.11.4"
  }
 },
 "nbformat": 4,
 "nbformat_minor": 5
}
