{
 "cells": [
  {
   "cell_type": "code",
   "execution_count": 2,
   "id": "602e8b2d-a30b-44bc-a943-c3126def6527",
   "metadata": {},
   "outputs": [],
   "source": [
    "import pandas as pd\n",
    "import numpy as np\n",
    "import hazm"
   ]
  },
  {
   "cell_type": "code",
   "execution_count": 4,
   "id": "ebe97e2d-f271-4550-9eb2-66c35cff8670",
   "metadata": {},
   "outputs": [],
   "source": [
    "data = pd.read_csv('per.csv')\n",
    "stop_words = []\n",
    "with open('stopwords.txt') as fopen:\n",
    "    for line in fopen:\n",
    "        stop_words.append(line.strip())\n",
    "    "
   ]
  },
  {
   "cell_type": "code",
   "execution_count": 14,
   "id": "8f289118-cc8d-4feb-ba79-230c09a2a09f",
   "metadata": {},
   "outputs": [
    {
     "data": {
      "text/plain": [
       "'مرد'"
      ]
     },
     "execution_count": 14,
     "metadata": {},
     "output_type": "execute_result"
    }
   ],
   "source": [
    "data.head()\n",
    "hzlm = hazm.Lemmatizer()\n",
    "hzlm.lemmatize(\"مردان\")"
   ]
  },
  {
   "cell_type": "code",
   "execution_count": 17,
   "id": "1b82c284-1cc0-4e8c-89b7-8163a0494169",
   "metadata": {},
   "outputs": [
    {
     "data": {
      "text/plain": [
       "'کتاب'"
      ]
     },
     "execution_count": 17,
     "metadata": {},
     "output_type": "execute_result"
    }
   ],
   "source": [
    "hzlm.lemmatize(\"کتاب‌ها\")"
   ]
  },
  {
   "cell_type": "code",
   "execution_count": 22,
   "id": "e788eaf9-94d6-4721-95ff-9bf08327c414",
   "metadata": {},
   "outputs": [],
   "source": [
    "hzsm = hazm.Stemmer()"
   ]
  },
  {
   "cell_type": "code",
   "execution_count": 23,
   "id": "5dd21cff-0595-4622-a97c-abf502e1f2f6",
   "metadata": {},
   "outputs": [
    {
     "data": {
      "text/plain": [
       "'کتاب'"
      ]
     },
     "execution_count": 23,
     "metadata": {},
     "output_type": "execute_result"
    }
   ],
   "source": [
    "hzsm.stem(\"کتاب‌ها\")"
   ]
  }
 ],
 "metadata": {
  "kernelspec": {
   "display_name": "condakernel",
   "language": "python",
   "name": "condakernel"
  },
  "language_info": {
   "codemirror_mode": {
    "name": "ipython",
    "version": 3
   },
   "file_extension": ".py",
   "mimetype": "text/x-python",
   "name": "python",
   "nbconvert_exporter": "python",
   "pygments_lexer": "ipython3",
   "version": "3.11.4"
  }
 },
 "nbformat": 4,
 "nbformat_minor": 5
}
