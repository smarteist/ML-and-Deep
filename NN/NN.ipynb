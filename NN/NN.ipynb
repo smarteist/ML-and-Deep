{
 "cells": [
  {
   "cell_type": "code",
   "metadata": {
    "ExecuteTime": {
     "end_time": "2024-09-21T14:29:36.443881Z",
     "start_time": "2024-09-21T14:29:36.436963Z"
    }
   },
   "source": [
    "import numpy as np\n",
    "from graphviz import Digraph\n",
    "from IPython.display import display, SVG\n"
   ],
   "outputs": [],
   "execution_count": 7
  },
  {
   "cell_type": "code",
   "metadata": {
    "ExecuteTime": {
     "end_time": "2024-09-21T14:29:36.530403Z",
     "start_time": "2024-09-21T14:29:36.491529Z"
    }
   },
   "source": [
    "# Define the XOR dataset\n",
    "X = np.array([\n",
    "    [0, 0],\n",
    "    [0, 1],\n",
    "    [1, 0],\n",
    "    [1, 1]\n",
    "])\n",
    "y = np.array([\n",
    "    [0],\n",
    "    [1],\n",
    "    [1],\n",
    "    [0]\n",
    "])\n",
    "\n",
    "# Define the neural network architecture\n",
    "input_size = 2\n",
    "hidden_size = 3\n",
    "output_size = 1\n",
    "\n",
    "# Initialize the weights\n",
    "np.random.seed(1234)\n",
    "W1 = np.random.randn(input_size, hidden_size)\n",
    "W2 = np.random.randn(hidden_size, output_size)\n",
    "\n",
    "\n",
    "# Create a directed graph\n",
    "dot = Digraph()\n",
    "\n",
    "# Set the graph direction to left-to-right\n",
    "dot.attr(rankdir='LR')\n",
    "\n",
    "# Add input layer nodes\n",
    "for i in range(input_size):\n",
    "    dot.node(f'Input {i+1}', shape='circle')\n",
    "\n",
    "# Add hidden layer nodes\n",
    "for i in range(hidden_size):\n",
    "    dot.node(f'Hidden {i+1}', shape='circle')\n",
    "\n",
    "# Add output layer node\n",
    "dot.node('Output', shape='circle')\n",
    "\n",
    "# Connect input layer to hidden layer with weight indexes\n",
    "for i in range(input_size):\n",
    "    for j in range(hidden_size):\n",
    "        dot.edge(f'Input {i+1}', f'Hidden {j+1}', label=f'W1[{i},{j}]')\n",
    "\n",
    "# Connect hidden layer to output layer with weight indexes\n",
    "for i in range(hidden_size):\n",
    "    dot.edge(f'Hidden {i+1}', 'Output', label=f'W2[{i}]')\n",
    "\n",
    "\n",
    "# Render the graph as SVG and display it\n",
    "svg = dot.pipe(format='svg')\n",
    "display(SVG(svg))"
   ],
   "outputs": [
    {
     "data": {
      "text/plain": [
       "<IPython.core.display.SVG object>"
      ],
      "image/svg+xml": "<svg xmlns=\"http://www.w3.org/2000/svg\" xmlns:xlink=\"http://www.w3.org/1999/xlink\" width=\"401pt\" height=\"314pt\" viewBox=\"0.00 0.00 401.00 314.42\">\n<g id=\"graph0\" class=\"graph\" transform=\"scale(1 1) rotate(0) translate(4 310.42)\">\n<polygon fill=\"white\" stroke=\"none\" points=\"-4,4 -4,-310.42 397,-310.42 397,4 -4,4\"/>\n<!-- Input 1 -->\n<g id=\"node1\" class=\"node\">\n<title>Input 1</title>\n<ellipse fill=\"none\" stroke=\"black\" cx=\"37.53\" cy=\"-217.21\" rx=\"37.53\" ry=\"37.53\"/>\n<text text-anchor=\"middle\" x=\"37.53\" y=\"-212.16\" font-family=\"Times,serif\" font-size=\"14.00\">Input 1</text>\n</g>\n<!-- Hidden 1 -->\n<g id=\"node3\" class=\"node\">\n<title>Hidden 1</title>\n<ellipse fill=\"none\" stroke=\"black\" cx=\"202.77\" cy=\"-153.21\" rx=\"45.21\" ry=\"45.21\"/>\n<text text-anchor=\"middle\" x=\"202.77\" y=\"-148.16\" font-family=\"Times,serif\" font-size=\"14.00\">Hidden 1</text>\n</g>\n<!-- Input 1&#45;&gt;Hidden 1 -->\n<g id=\"edge1\" class=\"edge\">\n<title>Input 1-&gt;Hidden 1</title>\n<path fill=\"none\" stroke=\"black\" d=\"M75.09,-212.68C94.75,-209.4 119.1,-203.96 139.57,-195.21 145.26,-192.78 150.98,-189.8 156.52,-186.56\"/>\n<polygon fill=\"black\" stroke=\"black\" points=\"158.32,-189.57 164.98,-181.32 154.63,-183.62 158.32,-189.57\"/>\n<text text-anchor=\"middle\" x=\"116.32\" y=\"-212.34\" font-family=\"Times,serif\" font-size=\"14.00\">W1[0,0]</text>\n</g>\n<!-- Hidden 2 -->\n<g id=\"node4\" class=\"node\">\n<title>Hidden 2</title>\n<ellipse fill=\"none\" stroke=\"black\" cx=\"202.77\" cy=\"-261.21\" rx=\"45.21\" ry=\"45.21\"/>\n<text text-anchor=\"middle\" x=\"202.77\" y=\"-256.16\" font-family=\"Times,serif\" font-size=\"14.00\">Hidden 2</text>\n</g>\n<!-- Input 1&#45;&gt;Hidden 2 -->\n<g id=\"edge2\" class=\"edge\">\n<title>Input 1-&gt;Hidden 2</title>\n<path fill=\"none\" stroke=\"black\" d=\"M72.92,-230.61C79.55,-232.97 86.48,-235.29 93.07,-237.21 110.41,-242.28 129.59,-246.85 146.95,-250.61\"/>\n<polygon fill=\"black\" stroke=\"black\" points=\"146.07,-254 156.58,-252.64 147.52,-247.15 146.07,-254\"/>\n<text text-anchor=\"middle\" x=\"116.32\" y=\"-251.72\" font-family=\"Times,serif\" font-size=\"14.00\">W1[0,1]</text>\n</g>\n<!-- Hidden 3 -->\n<g id=\"node5\" class=\"node\">\n<title>Hidden 3</title>\n<ellipse fill=\"none\" stroke=\"black\" cx=\"202.77\" cy=\"-45.21\" rx=\"45.21\" ry=\"45.21\"/>\n<text text-anchor=\"middle\" x=\"202.77\" y=\"-40.16\" font-family=\"Times,serif\" font-size=\"14.00\">Hidden 3</text>\n</g>\n<!-- Input 1&#45;&gt;Hidden 3 -->\n<g id=\"edge3\" class=\"edge\">\n<title>Input 1-&gt;Hidden 3</title>\n<path fill=\"none\" stroke=\"black\" d=\"M54.69,-183.64C64.01,-167.12 77.07,-147.96 93.07,-134.71 110.32,-120.41 121.33,-128.24 139.57,-115.21 145.79,-110.76 155.85,-100.11 166.08,-88.43\"/>\n<polygon fill=\"black\" stroke=\"black\" points=\"168.64,-90.82 172.53,-80.96 163.34,-86.25 168.64,-90.82\"/>\n<text text-anchor=\"middle\" x=\"116.32\" y=\"-137.91\" font-family=\"Times,serif\" font-size=\"14.00\">W1[0,2]</text>\n</g>\n<!-- Input 2 -->\n<g id=\"node2\" class=\"node\">\n<title>Input 2</title>\n<ellipse fill=\"none\" stroke=\"black\" cx=\"37.53\" cy=\"-97.21\" rx=\"37.53\" ry=\"37.53\"/>\n<text text-anchor=\"middle\" x=\"37.53\" y=\"-92.16\" font-family=\"Times,serif\" font-size=\"14.00\">Input 2</text>\n</g>\n<!-- Input 2&#45;&gt;Hidden 1 -->\n<g id=\"edge4\" class=\"edge\">\n<title>Input 2-&gt;Hidden 1</title>\n<path fill=\"none\" stroke=\"black\" d=\"M74.75,-91.8C94.53,-90.3 119.1,-90.84 139.57,-98.71 147.95,-101.94 155.96,-106.84 163.26,-112.41\"/>\n<polygon fill=\"black\" stroke=\"black\" points=\"161.02,-115.1 170.96,-118.78 165.49,-109.71 161.02,-115.1\"/>\n<text text-anchor=\"middle\" x=\"116.32\" y=\"-101.91\" font-family=\"Times,serif\" font-size=\"14.00\">W1[1,0]</text>\n</g>\n<!-- Input 2&#45;&gt;Hidden 2 -->\n<g id=\"edge5\" class=\"edge\">\n<title>Input 2-&gt;Hidden 2</title>\n<path fill=\"none\" stroke=\"black\" d=\"M61.69,-126.5C70.69,-136.54 81.6,-147.25 93.07,-155.21 111.48,-167.99 122.88,-159.75 139.57,-174.71 151.86,-185.73 148.3,-193.54 157.57,-207.21 160.06,-210.88 162.74,-214.61 165.51,-218.3\"/>\n<polygon fill=\"black\" stroke=\"black\" points=\"162.7,-220.39 171.59,-226.16 168.24,-216.11 162.7,-220.39\"/>\n<text text-anchor=\"middle\" x=\"116.32\" y=\"-177.91\" font-family=\"Times,serif\" font-size=\"14.00\">W1[1,1]</text>\n</g>\n<!-- Input 2&#45;&gt;Hidden 3 -->\n<g id=\"edge6\" class=\"edge\">\n<title>Input 2-&gt;Hidden 3</title>\n<path fill=\"none\" stroke=\"black\" d=\"M67.01,-73.18C74.99,-67.57 83.99,-62.22 93.07,-58.71 109.65,-52.29 128.63,-48.76 146.03,-46.87\"/>\n<polygon fill=\"black\" stroke=\"black\" points=\"146.06,-50.38 155.69,-45.98 145.42,-43.41 146.06,-50.38\"/>\n<text text-anchor=\"middle\" x=\"116.32\" y=\"-61.91\" font-family=\"Times,serif\" font-size=\"14.00\">W1[1,2]</text>\n</g>\n<!-- Output -->\n<g id=\"node6\" class=\"node\">\n<title>Output</title>\n<ellipse fill=\"none\" stroke=\"black\" cx=\"356.49\" cy=\"-153.21\" rx=\"36.51\" ry=\"36.51\"/>\n<text text-anchor=\"middle\" x=\"356.49\" y=\"-148.16\" font-family=\"Times,serif\" font-size=\"14.00\">Output</text>\n</g>\n<!-- Hidden 1&#45;&gt;Output -->\n<g id=\"edge7\" class=\"edge\">\n<title>Hidden 1-&gt;Output</title>\n<path fill=\"none\" stroke=\"black\" d=\"M248.47,-153.21C267.3,-153.21 289.21,-153.21 308.29,-153.21\"/>\n<polygon fill=\"black\" stroke=\"black\" points=\"308.24,-156.71 318.24,-153.21 308.24,-149.71 308.24,-156.71\"/>\n<text text-anchor=\"middle\" x=\"283.98\" y=\"-156.41\" font-family=\"Times,serif\" font-size=\"14.00\">W2[0]</text>\n</g>\n<!-- Hidden 2&#45;&gt;Output -->\n<g id=\"edge8\" class=\"edge\">\n<title>Hidden 2-&gt;Output</title>\n<path fill=\"none\" stroke=\"black\" d=\"M240.12,-235.34C263.23,-218.89 293.14,-197.6 316.71,-180.82\"/>\n<polygon fill=\"black\" stroke=\"black\" points=\"318.71,-183.69 324.82,-175.04 314.65,-177.99 318.71,-183.69\"/>\n<text text-anchor=\"middle\" x=\"283.98\" y=\"-220.08\" font-family=\"Times,serif\" font-size=\"14.00\">W2[1]</text>\n</g>\n<!-- Hidden 3&#45;&gt;Output -->\n<g id=\"edge9\" class=\"edge\">\n<title>Hidden 3-&gt;Output</title>\n<path fill=\"none\" stroke=\"black\" d=\"M240.12,-71.08C263.23,-87.53 293.14,-108.82 316.71,-125.6\"/>\n<polygon fill=\"black\" stroke=\"black\" points=\"314.65,-128.43 324.82,-131.38 318.71,-122.73 314.65,-128.43\"/>\n<text text-anchor=\"middle\" x=\"283.98\" y=\"-115.26\" font-family=\"Times,serif\" font-size=\"14.00\">W2[2]</text>\n</g>\n</g>\n</svg>"
     },
     "metadata": {},
     "output_type": "display_data"
    }
   ],
   "execution_count": 8
  },
  {
   "cell_type": "code",
   "metadata": {
    "ExecuteTime": {
     "end_time": "2024-09-21T14:30:07.206092Z",
     "start_time": "2024-09-21T14:29:36.570301Z"
    }
   },
   "source": [
    "# Define the sigmoid activation function\n",
    "def sigmoid(x):\n",
    "    return 1 / (1 + np.exp(-x))\n",
    "\n",
    "# Define the derivative of the sigmoid function\n",
    "def sigmoid_derivative(x):\n",
    "    return x * (1 - x)\n",
    "\n",
    "# Training the neural network\n",
    "learning_rate = 0.2\n",
    "epochs = 1000000\n",
    "\n",
    "for epoch in range(epochs):\n",
    "    # Forward propagation\n",
    "    # Step 1: Calculate the input to the hidden layer\n",
    "    hidden_input = np.dot(X, W1)\n",
    "    # Step 2: Apply the activation function (sigmoid) to the hidden layer input\n",
    "    layer1 = sigmoid(hidden_input)\n",
    "    \n",
    "    # Step 3: Calculate the input to the output layer\n",
    "    output_input = np.dot(layer1, W2)\n",
    "    # Step 4: Apply the activation function (sigmoid) to the output layer input\n",
    "    output = sigmoid(output_input)\n",
    "\n",
    "    # Back propagation\n",
    "    # Step 5: Calculate the error at the output layer\n",
    "    output_error = y - output\n",
    "    # Step 6: Calculate the gradient of the error with respect to the output (delta)\n",
    "    output_delta = output_error * sigmoid_derivative(output)\n",
    "\n",
    "    # Step 7: Calculate the error at the hidden layer\n",
    "    layer1_error = output_delta.dot(W2.T)\n",
    "    # Step 8: Calculate the gradient of the error with respect to the hidden layer (delta)\n",
    "    layer1_delta = layer1_error * sigmoid_derivative(layer1)\n",
    "\n",
    "    # Update the weights\n",
    "    # Step 9: Update the weights between the hidden layer and the output layer\n",
    "    W2 += layer1.T.dot(output_delta) * learning_rate\n",
    "    # Step 10: Update the weights between the input layer and the hidden layer\n",
    "    W1 += X.T.dot(layer1_delta) * learning_rate\n"
   ],
   "outputs": [],
   "execution_count": 9
  },
  {
   "cell_type": "code",
   "metadata": {
    "ExecuteTime": {
     "end_time": "2024-09-21T14:30:07.233250Z",
     "start_time": "2024-09-21T14:30:07.227561Z"
    }
   },
   "source": [
    "# Testing the trained model\n",
    "test_input = np.array([\n",
    "    [0, 0],\n",
    "    [0, 1],\n",
    "    [1, 0],\n",
    "    [1, 1]\n",
    "])\n",
    "\n",
    "# Step-by-step feedforward process\n",
    "# Layer 1\n",
    "layer1_input = np.dot(test_input, W1)\n",
    "layer1_output = sigmoid(layer1_input)\n",
    "\n",
    "# Layer 2 (Output Layer)\n",
    "layer2_input = np.dot(layer1_output, W2)\n",
    "predicted_output = sigmoid(layer2_input)\n",
    "\n",
    "# Convert predictions to percentages\n",
    "percented_output = predicted_output * 100\n",
    "\n",
    "for i, prediction in enumerate(percented_output):\n",
    "    rounded_output = round(predicted_output[i][0])\n",
    "    print(f\"Test: {test_input[i]} -> Predicted: {prediction[0]:.2f}% one (Rounded: {rounded_output})\")\n"
   ],
   "outputs": [
    {
     "name": "stdout",
     "output_type": "stream",
     "text": [
      "Test: [0 0] -> Predicted: 0.48% one (Rounded: 0)\n",
      "Test: [0 1] -> Predicted: 99.25% one (Rounded: 1)\n",
      "Test: [1 0] -> Predicted: 99.37% one (Rounded: 1)\n",
      "Test: [1 1] -> Predicted: 0.60% one (Rounded: 0)\n"
     ]
    }
   ],
   "execution_count": 10
  },
  {
   "metadata": {
    "ExecuteTime": {
     "end_time": "2024-09-21T14:30:07.374394Z",
     "start_time": "2024-09-21T14:30:07.363497Z"
    }
   },
   "cell_type": "code",
   "source": "",
   "outputs": [],
   "execution_count": null
  }
 ],
 "metadata": {
  "kernelspec": {
   "display_name": "Python 3 (ipykernel)",
   "language": "python",
   "name": "python3"
  },
  "language_info": {
   "codemirror_mode": {
    "name": "ipython",
    "version": 3
   },
   "file_extension": ".py",
   "mimetype": "text/x-python",
   "name": "python",
   "nbconvert_exporter": "python",
   "pygments_lexer": "ipython3",
   "version": "3.12.5"
  }
 },
 "nbformat": 4,
 "nbformat_minor": 4
}
