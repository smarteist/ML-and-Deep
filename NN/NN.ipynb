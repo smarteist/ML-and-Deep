{
 "cells": [
  {
   "cell_type": "code",
   "execution_count": 1,
   "metadata": {},
   "outputs": [],
   "source": [
    "import numpy as np\n"
   ]
  },
  {
   "cell_type": "code",
   "execution_count": 77,
   "metadata": {},
   "outputs": [],
   "source": [
    "# Define the XOR dataset\n",
    "X = np.array([\n",
    "    [0, 0],\n",
    "    [0, 1],\n",
    "    [1, 0],\n",
    "    [1, 1]\n",
    "])\n",
    "y = np.array([\n",
    "    [0],\n",
    "    [1],\n",
    "    [1],\n",
    "    [0]\n",
    "])\n",
    "\n",
    "# Define the neural network architecture\n",
    "input_size = 2\n",
    "hidden_size = 3\n",
    "output_size = 1\n",
    "\n",
    "# Initialize the weights\n",
    "np.random.seed(1234)\n",
    "W1 = np.random.randn(input_size, hidden_size)\n",
    "W2 = np.random.randn(hidden_size, output_size)\n",
    "\n",
    "# Define the sigmoid activation function\n",
    "def sigmoid(x):\n",
    "    return 1 / (1 + np.exp(-x))\n",
    "\n",
    "# Define the derivative of the sigmoid function\n",
    "def sigmoid_derivative(x):\n",
    "    return x * (1 - x)\n",
    "\n",
    "# Training the neural network\n",
    "learning_rate = 0.8\n",
    "epochs = 100000\n",
    "\n",
    "for epoch in range(epochs):\n",
    "    # Forward propagation\n",
    "    # Step 1: Calculate the input to the hidden layer\n",
    "    hidden_input = np.dot(X, W1)\n",
    "    # Step 2: Apply the activation function (sigmoid) to the hidden layer input\n",
    "    layer1 = sigmoid(hidden_input)\n",
    "    \n",
    "    # Step 3: Calculate the input to the output layer\n",
    "    output_input = np.dot(layer1, W2)\n",
    "    # Step 4: Apply the activation function (sigmoid) to the output layer input\n",
    "    output = sigmoid(output_input)\n",
    "\n",
    "    # Back propagation\n",
    "    # Step 5: Calculate the error at the output layer\n",
    "    output_error = y - output\n",
    "    # Step 6: Calculate the gradient of the error with respect to the output (delta)\n",
    "    output_delta = output_error * sigmoid_derivative(output)\n",
    "\n",
    "    # Step 7: Calculate the error at the hidden layer\n",
    "    layer1_error = output_delta.dot(W2.T)\n",
    "    # Step 8: Calculate the gradient of the error with respect to the hidden layer (delta)\n",
    "    layer1_delta = layer1_error * sigmoid_derivative(layer1)\n",
    "\n",
    "    # Update the weights\n",
    "    # Step 9: Update the weights between the hidden layer and the output layer\n",
    "    W2 += layer1.T.dot(output_delta) * learning_rate\n",
    "    # Step 10: Update the weights between the input layer and the hidden layer\n",
    "    W1 += X.T.dot(layer1_delta) * learning_rate\n"
   ]
  },
  {
   "cell_type": "code",
   "execution_count": 78,
   "metadata": {},
   "outputs": [
    {
     "name": "stdout",
     "output_type": "stream",
     "text": [
      "Test: [0 0] -> Predicted: 0.77% one (Rounded: 0)\n",
      "Test: [0 1] -> Predicted: 98.80% one (Rounded: 1)\n",
      "Test: [1 0] -> Predicted: 98.99% one (Rounded: 1)\n",
      "Test: [1 1] -> Predicted: 0.96% one (Rounded: 0)\n"
     ]
    }
   ],
   "source": [
    "# Testing the trained model\n",
    "test_input = np.array([\n",
    "    [0, 0],\n",
    "    [0, 1],\n",
    "    [1, 0],\n",
    "    [1, 1]\n",
    "])\n",
    "\n",
    "# Step-by-step feedforward process\n",
    "# Layer 1\n",
    "layer1_input = np.dot(test_input, W1)\n",
    "layer1_output = sigmoid(layer1_input)\n",
    "\n",
    "# Layer 2 (Output Layer)\n",
    "layer2_input = np.dot(layer1_output, W2)\n",
    "predicted_output = sigmoid(layer2_input)\n",
    "\n",
    "# Convert predictions to percentages\n",
    "percented_output = predicted_output * 100\n",
    "\n",
    "for i, prediction in enumerate(percented_output):\n",
    "    rounded_output = round(predicted_output[i][0])\n",
    "    print(f\"Test: {test_input[i]} -> Predicted: {prediction[0]:.2f}% one (Rounded: {rounded_output})\")\n"
   ]
  }
 ],
 "metadata": {
  "kernelspec": {
   "display_name": "Python 3 (ipykernel)",
   "language": "python",
   "name": "python3"
  },
  "language_info": {
   "codemirror_mode": {
    "name": "ipython",
    "version": 3
   },
   "file_extension": ".py",
   "mimetype": "text/x-python",
   "name": "python",
   "nbconvert_exporter": "python",
   "pygments_lexer": "ipython3",
   "version": "3.12.5"
  }
 },
 "nbformat": 4,
 "nbformat_minor": 4
}
