{
 "cells": [
  {
   "cell_type": "code",
   "execution_count": 3,
   "metadata": {},
   "outputs": [],
   "source": [
    "import numpy as np\n"
   ]
  },
  {
   "cell_type": "code",
   "execution_count": 4,
   "metadata": {},
   "outputs": [
    {
     "ename": "NameError",
     "evalue": "name 'output_delta' is not defined",
     "output_type": "error",
     "traceback": [
      "\u001b[0;31m---------------------------------------------------------------------------\u001b[0m",
      "\u001b[0;31mNameError\u001b[0m                                 Traceback (most recent call last)",
      "Cell \u001b[0;32mIn[4], line 43\u001b[0m\n\u001b[1;32m     40\u001b[0m output \u001b[38;5;241m=\u001b[39m sigmoid(np\u001b[38;5;241m.\u001b[39mdot(layer1, W2))\n\u001b[1;32m     42\u001b[0m \u001b[38;5;66;03m# Back propagation\u001b[39;00m\n\u001b[0;32m---> 43\u001b[0m layer1_error \u001b[38;5;241m=\u001b[39m output_delta\u001b[38;5;241m.\u001b[39mdot(W2\u001b[38;5;241m.\u001b[39mT)\n\u001b[1;32m     44\u001b[0m layer1_delta \u001b[38;5;241m=\u001b[39m layer1_error \u001b[38;5;241m*\u001b[39m sigmoid_derivative(layer1)\n\u001b[1;32m     46\u001b[0m output_error \u001b[38;5;241m=\u001b[39m y \u001b[38;5;241m-\u001b[39m output\n",
      "\u001b[0;31mNameError\u001b[0m: name 'output_delta' is not defined"
     ]
    }
   ],
   "source": [
    "\n",
    "# Define the XOR dataset\n",
    "X = np.array([\n",
    "    [0, 0],\n",
    "    [0, 1],\n",
    "    [1, 0],\n",
    "    [1, 1]\n",
    "])\n",
    "y = np.array([\n",
    "    [0],\n",
    "    [1],\n",
    "    [1],\n",
    "    [0]\n",
    "])\n",
    "\n",
    "# Define the neural network architecture\n",
    "input_size = 2\n",
    "hidden_size = 3\n",
    "output_size = 1\n",
    "\n",
    "# Initialize the weights\n",
    "np.random.seed(1234)\n",
    "W1 = np.random.randn(input_size, hidden_size)\n",
    "W2 = np.random.randn(hidden_size, output_size)\n",
    "\n",
    "# Define the sigmoid activation function\n",
    "def sigmoid(x):\n",
    "    return 1 / (1 + np.exp(-x))\n",
    "\n",
    "# Define the derivative of the sigmoid function\n",
    "def sigmoid_derivative(x):\n",
    "    return x * (1 - x)\n",
    "\n",
    "# Training the neural network\n",
    "learning_rate = 0.1\n",
    "epochs = 100000\n",
    "\n",
    "for epoch in range(epochs):\n",
    "    # Forward propagation\n",
    "    layer1 = sigmoid(np.dot(X, W1))\n",
    "    output = sigmoid(np.dot(layer1, W2))\n",
    "\n",
    "    # Back propagation\n",
    "    output_error = y - output\n",
    "    output_delta = output_error * sigmoid_derivative(output)\n",
    "\n",
    "    layer1_error = output_delta.dot(W2.T)\n",
    "    layer1_delta = layer1_error * sigmoid_derivative(layer1)\n",
    "\n",
    "    # Update the weights\n",
    "    W2 += layer1.T.dot(output_delta) * learning_rate\n",
    "    W1 += X.T.dot(layer1_delta) * learning_rate\n"
   ]
  },
  {
   "cell_type": "code",
   "execution_count": 201,
   "metadata": {},
   "outputs": [
    {
     "name": "stdout",
     "output_type": "stream",
     "text": [
      "[[0.02257808]\n",
      " [0.96411084]\n",
      " [0.97014513]\n",
      " [0.02877767]]\n",
      "Predicted Output:\n",
      "0\n",
      "1\n",
      "1\n",
      "0\n"
     ]
    }
   ],
   "source": [
    "\n",
    "# Testing the trained model\n",
    "test_input = np.array([\n",
    "    [0, 0],\n",
    "    [0, 1],\n",
    "    [1, 0],\n",
    "    [1, 1]\n",
    "])\n",
    "predicted_output = sigmoid(np.dot(sigmoid(np.dot(test_input, W1)),W2))\n",
    "print(predicted_output)\n",
    "\n",
    "print(\"Predicted Output:\")\n",
    "for i in predicted_output:\n",
    "    print(round(i[0]))"
   ]
  },
  {
   "cell_type": "code",
   "execution_count": null,
   "metadata": {},
   "outputs": [],
   "source": []
  },
  {
   "cell_type": "code",
   "execution_count": null,
   "metadata": {},
   "outputs": [],
   "source": []
  }
 ],
 "metadata": {
  "kernelspec": {
   "display_name": "condakernel",
   "language": "python",
   "name": "condakernel"
  },
  "language_info": {
   "codemirror_mode": {
    "name": "ipython",
    "version": 3
   },
   "file_extension": ".py",
   "mimetype": "text/x-python",
   "name": "python",
   "nbconvert_exporter": "python",
   "pygments_lexer": "ipython3",
   "version": "3.11.4"
  }
 },
 "nbformat": 4,
 "nbformat_minor": 4
}
